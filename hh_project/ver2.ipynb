{
 "cells": [
  {
   "cell_type": "code",
   "execution_count": 1,
   "id": "c47f7b37",
   "metadata": {},
   "outputs": [],
   "source": [
    "import requests\n",
    "from time import sleep\n",
    "import json\n",
    "\n",
    "import numpy as np\n",
    "import pandas as pd\n",
    "import matplotlib.pyplot as plt\n",
    "import seaborn as sns\n",
    "\n",
    "sns.set(style='whitegrid', font_scale=1.3, palette='Set2')"
   ]
  },
  {
   "cell_type": "code",
   "execution_count": 2,
   "id": "d4fcaeb5",
   "metadata": {},
   "outputs": [],
   "source": [
    "URL = 'https://api.hh.ru/vacancies'\n",
    "\n",
    "params = {\n",
    "    'text': \"Data Scientist\",\n",
    "    'area': 1,\n",
    "    'page': 0,\n",
    "    'per_page': 10\n",
    "}\n",
    "\n",
    "req = requests.get(URL, params)\n",
    "data = json.loads(req.content.decode())"
   ]
  },
  {
   "cell_type": "code",
   "execution_count": 3,
   "id": "6f2cf8dc",
   "metadata": {},
   "outputs": [
    {
     "data": {
      "text/plain": [
       "dict_keys(['items', 'found', 'pages', 'per_page', 'page', 'clusters', 'arguments', 'alternate_url'])"
      ]
     },
     "execution_count": 3,
     "metadata": {},
     "output_type": "execute_result"
    }
   ],
   "source": [
    "data.keys()"
   ]
  },
  {
   "cell_type": "code",
   "execution_count": 4,
   "id": "a8e1a286",
   "metadata": {},
   "outputs": [
    {
     "data": {
      "text/plain": [
       "{'id': '78876532',\n",
       " 'premium': False,\n",
       " 'name': 'Эконометрист/Data scientist (Junior/Middle) в консалтинг',\n",
       " 'department': None,\n",
       " 'has_test': False,\n",
       " 'response_letter_required': False,\n",
       " 'area': {'id': '1', 'name': 'Москва', 'url': 'https://api.hh.ru/areas/1'},\n",
       " 'salary': {'from': 40000, 'to': None, 'currency': 'RUR', 'gross': False},\n",
       " 'type': {'id': 'open', 'name': 'Открытая'},\n",
       " 'address': {'city': 'Москва',\n",
       "  'street': 'Замоскворецкая линия',\n",
       "  'building': 'метро Маяковская',\n",
       "  'lat': 55.769808,\n",
       "  'lng': 37.596192,\n",
       "  'description': None,\n",
       "  'raw': 'Москва, Замоскворецкая линия, метро Маяковская',\n",
       "  'metro': None,\n",
       "  'metro_stations': [],\n",
       "  'id': '1000883'},\n",
       " 'response_url': None,\n",
       " 'sort_point_distance': None,\n",
       " 'published_at': '2023-04-10T10:13:48+0300',\n",
       " 'created_at': '2023-04-10T10:13:48+0300',\n",
       " 'archived': False,\n",
       " 'apply_alternate_url': 'https://hh.ru/applicant/vacancy_response?vacancyId=78876532',\n",
       " 'insider_interview': None,\n",
       " 'url': 'https://api.hh.ru/vacancies/78876532?host=hh.ru',\n",
       " 'adv_response_url': None,\n",
       " 'alternate_url': 'https://hh.ru/vacancy/78876532',\n",
       " 'relations': [],\n",
       " 'employer': {'id': '2724615',\n",
       "  'name': 'БСТ Менеджмент-Консалтинг',\n",
       "  'url': 'https://api.hh.ru/employers/2724615',\n",
       "  'alternate_url': 'https://hh.ru/employer/2724615',\n",
       "  'logo_urls': {'240': 'https://hhcdn.ru/employer-logo/2030643.jpeg',\n",
       "   'original': 'https://hhcdn.ru/employer-logo-original/397097.jpg',\n",
       "   '90': 'https://hhcdn.ru/employer-logo/2030642.jpeg'},\n",
       "  'vacancies_url': 'https://api.hh.ru/vacancies?employer_id=2724615',\n",
       "  'trusted': True},\n",
       " 'snippet': {'requirement': 'Экономическое или техническое образование. (предпочтительно: ВШЭ, РЭШ, МГУ, МФТИ и др. технические вузы, но главное - желание). Знания эконометрики, математической статистики...',\n",
       "  'responsibility': 'Построение моделей эластичности спроса на банковские продукты и моделей прогнозирования в ритейле в т.ч. с учётом гео-аналитических данных. '},\n",
       " 'contacts': None,\n",
       " 'schedule': None,\n",
       " 'working_days': [],\n",
       " 'working_time_intervals': [],\n",
       " 'working_time_modes': [],\n",
       " 'accept_temporary': True,\n",
       " 'professional_roles': [{'id': '10', 'name': 'Аналитик'}],\n",
       " 'accept_incomplete_resumes': False}"
      ]
     },
     "execution_count": 4,
     "metadata": {},
     "output_type": "execute_result"
    }
   ],
   "source": [
    "#посмотрим описание первой вакансии\n",
    "data['items'][0]"
   ]
  },
  {
   "cell_type": "code",
   "execution_count": 5,
   "id": "5be1e2e7",
   "metadata": {},
   "outputs": [
    {
     "data": {
      "text/plain": [
       "297"
      ]
     },
     "execution_count": 5,
     "metadata": {},
     "output_type": "execute_result"
    }
   ],
   "source": [
    "# сколько найдено вакансий\n",
    "data['found']"
   ]
  },
  {
   "cell_type": "code",
   "execution_count": 6,
   "id": "620566dc",
   "metadata": {},
   "outputs": [
    {
     "data": {
      "text/plain": [
       "30"
      ]
     },
     "execution_count": 6,
     "metadata": {},
     "output_type": "execute_result"
    }
   ],
   "source": [
    "# страниц в результатах поиска\n",
    "data['pages']"
   ]
  },
  {
   "cell_type": "code",
   "execution_count": 7,
   "id": "e7ac93bf",
   "metadata": {},
   "outputs": [
    {
     "data": {
      "text/html": [
       "<div>\n",
       "<style scoped>\n",
       "    .dataframe tbody tr th:only-of-type {\n",
       "        vertical-align: middle;\n",
       "    }\n",
       "\n",
       "    .dataframe tbody tr th {\n",
       "        vertical-align: top;\n",
       "    }\n",
       "\n",
       "    .dataframe thead th {\n",
       "        text-align: right;\n",
       "    }\n",
       "</style>\n",
       "<table border=\"1\" class=\"dataframe\">\n",
       "  <thead>\n",
       "    <tr style=\"text-align: right;\">\n",
       "      <th></th>\n",
       "      <th>id</th>\n",
       "      <th>premium</th>\n",
       "      <th>name</th>\n",
       "      <th>department</th>\n",
       "      <th>has_test</th>\n",
       "      <th>response_letter_required</th>\n",
       "      <th>response_url</th>\n",
       "      <th>sort_point_distance</th>\n",
       "      <th>published_at</th>\n",
       "      <th>created_at</th>\n",
       "      <th>...</th>\n",
       "      <th>address.metro.station_name</th>\n",
       "      <th>address.metro.line_name</th>\n",
       "      <th>address.metro.station_id</th>\n",
       "      <th>address.metro.line_id</th>\n",
       "      <th>address.metro.lat</th>\n",
       "      <th>address.metro.lng</th>\n",
       "      <th>department.id</th>\n",
       "      <th>department.name</th>\n",
       "      <th>insider_interview.id</th>\n",
       "      <th>insider_interview.url</th>\n",
       "    </tr>\n",
       "  </thead>\n",
       "  <tbody>\n",
       "    <tr>\n",
       "      <th>0</th>\n",
       "      <td>78876532</td>\n",
       "      <td>False</td>\n",
       "      <td>Эконометрист/Data scientist (Junior/Middle) в ...</td>\n",
       "      <td>NaN</td>\n",
       "      <td>False</td>\n",
       "      <td>False</td>\n",
       "      <td>None</td>\n",
       "      <td>None</td>\n",
       "      <td>2023-04-10T10:13:48+0300</td>\n",
       "      <td>2023-04-10T10:13:48+0300</td>\n",
       "      <td>...</td>\n",
       "      <td>NaN</td>\n",
       "      <td>NaN</td>\n",
       "      <td>NaN</td>\n",
       "      <td>NaN</td>\n",
       "      <td>NaN</td>\n",
       "      <td>NaN</td>\n",
       "      <td>NaN</td>\n",
       "      <td>NaN</td>\n",
       "      <td>NaN</td>\n",
       "      <td>NaN</td>\n",
       "    </tr>\n",
       "    <tr>\n",
       "      <th>1</th>\n",
       "      <td>79110745</td>\n",
       "      <td>False</td>\n",
       "      <td>Data Engineer</td>\n",
       "      <td>NaN</td>\n",
       "      <td>False</td>\n",
       "      <td>False</td>\n",
       "      <td>None</td>\n",
       "      <td>None</td>\n",
       "      <td>2023-04-10T14:42:13+0300</td>\n",
       "      <td>2023-04-10T14:42:13+0300</td>\n",
       "      <td>...</td>\n",
       "      <td>NaN</td>\n",
       "      <td>NaN</td>\n",
       "      <td>NaN</td>\n",
       "      <td>NaN</td>\n",
       "      <td>NaN</td>\n",
       "      <td>NaN</td>\n",
       "      <td>NaN</td>\n",
       "      <td>NaN</td>\n",
       "      <td>NaN</td>\n",
       "      <td>NaN</td>\n",
       "    </tr>\n",
       "    <tr>\n",
       "      <th>2</th>\n",
       "      <td>78764927</td>\n",
       "      <td>False</td>\n",
       "      <td>Разработчик в области машинного обучения и бол...</td>\n",
       "      <td>NaN</td>\n",
       "      <td>False</td>\n",
       "      <td>False</td>\n",
       "      <td>None</td>\n",
       "      <td>None</td>\n",
       "      <td>2023-04-09T12:40:25+0300</td>\n",
       "      <td>2023-04-09T12:40:25+0300</td>\n",
       "      <td>...</td>\n",
       "      <td>NaN</td>\n",
       "      <td>NaN</td>\n",
       "      <td>NaN</td>\n",
       "      <td>NaN</td>\n",
       "      <td>NaN</td>\n",
       "      <td>NaN</td>\n",
       "      <td>NaN</td>\n",
       "      <td>NaN</td>\n",
       "      <td>NaN</td>\n",
       "      <td>NaN</td>\n",
       "    </tr>\n",
       "    <tr>\n",
       "      <th>3</th>\n",
       "      <td>78448054</td>\n",
       "      <td>False</td>\n",
       "      <td>Специалист/Инженер (AI, Data Scientist, Big Da...</td>\n",
       "      <td>NaN</td>\n",
       "      <td>False</td>\n",
       "      <td>False</td>\n",
       "      <td>None</td>\n",
       "      <td>None</td>\n",
       "      <td>2023-04-10T12:16:52+0300</td>\n",
       "      <td>2023-04-10T12:16:52+0300</td>\n",
       "      <td>...</td>\n",
       "      <td>NaN</td>\n",
       "      <td>NaN</td>\n",
       "      <td>NaN</td>\n",
       "      <td>NaN</td>\n",
       "      <td>NaN</td>\n",
       "      <td>NaN</td>\n",
       "      <td>NaN</td>\n",
       "      <td>NaN</td>\n",
       "      <td>NaN</td>\n",
       "      <td>NaN</td>\n",
       "    </tr>\n",
       "    <tr>\n",
       "      <th>4</th>\n",
       "      <td>77954455</td>\n",
       "      <td>False</td>\n",
       "      <td>Data Scientist (Middle+)</td>\n",
       "      <td>NaN</td>\n",
       "      <td>False</td>\n",
       "      <td>False</td>\n",
       "      <td>None</td>\n",
       "      <td>None</td>\n",
       "      <td>2023-04-09T10:06:46+0300</td>\n",
       "      <td>2023-04-09T10:06:46+0300</td>\n",
       "      <td>...</td>\n",
       "      <td>NaN</td>\n",
       "      <td>NaN</td>\n",
       "      <td>NaN</td>\n",
       "      <td>NaN</td>\n",
       "      <td>NaN</td>\n",
       "      <td>NaN</td>\n",
       "      <td>NaN</td>\n",
       "      <td>NaN</td>\n",
       "      <td>NaN</td>\n",
       "      <td>NaN</td>\n",
       "    </tr>\n",
       "  </tbody>\n",
       "</table>\n",
       "<p>5 rows × 68 columns</p>\n",
       "</div>"
      ],
      "text/plain": [
       "         id  premium                                               name  \\\n",
       "0  78876532    False  Эконометрист/Data scientist (Junior/Middle) в ...   \n",
       "1  79110745    False                                      Data Engineer   \n",
       "2  78764927    False  Разработчик в области машинного обучения и бол...   \n",
       "3  78448054    False  Специалист/Инженер (AI, Data Scientist, Big Da...   \n",
       "4  77954455    False                           Data Scientist (Middle+)   \n",
       "\n",
       "   department  has_test  response_letter_required response_url  \\\n",
       "0         NaN     False                     False         None   \n",
       "1         NaN     False                     False         None   \n",
       "2         NaN     False                     False         None   \n",
       "3         NaN     False                     False         None   \n",
       "4         NaN     False                     False         None   \n",
       "\n",
       "  sort_point_distance              published_at                created_at  \\\n",
       "0                None  2023-04-10T10:13:48+0300  2023-04-10T10:13:48+0300   \n",
       "1                None  2023-04-10T14:42:13+0300  2023-04-10T14:42:13+0300   \n",
       "2                None  2023-04-09T12:40:25+0300  2023-04-09T12:40:25+0300   \n",
       "3                None  2023-04-10T12:16:52+0300  2023-04-10T12:16:52+0300   \n",
       "4                None  2023-04-09T10:06:46+0300  2023-04-09T10:06:46+0300   \n",
       "\n",
       "   ...  address.metro.station_name address.metro.line_name  \\\n",
       "0  ...                         NaN                     NaN   \n",
       "1  ...                         NaN                     NaN   \n",
       "2  ...                         NaN                     NaN   \n",
       "3  ...                         NaN                     NaN   \n",
       "4  ...                         NaN                     NaN   \n",
       "\n",
       "   address.metro.station_id address.metro.line_id address.metro.lat  \\\n",
       "0                       NaN                   NaN               NaN   \n",
       "1                       NaN                   NaN               NaN   \n",
       "2                       NaN                   NaN               NaN   \n",
       "3                       NaN                   NaN               NaN   \n",
       "4                       NaN                   NaN               NaN   \n",
       "\n",
       "  address.metro.lng department.id department.name insider_interview.id  \\\n",
       "0               NaN           NaN             NaN                  NaN   \n",
       "1               NaN           NaN             NaN                  NaN   \n",
       "2               NaN           NaN             NaN                  NaN   \n",
       "3               NaN           NaN             NaN                  NaN   \n",
       "4               NaN           NaN             NaN                  NaN   \n",
       "\n",
       "  insider_interview.url  \n",
       "0                   NaN  \n",
       "1                   NaN  \n",
       "2                   NaN  \n",
       "3                   NaN  \n",
       "4                   NaN  \n",
       "\n",
       "[5 rows x 68 columns]"
      ]
     },
     "execution_count": 7,
     "metadata": {},
     "output_type": "execute_result"
    }
   ],
   "source": [
    "df = pd.json_normalize(data['items'])\n",
    "df.head()"
   ]
  },
  {
   "cell_type": "markdown",
   "id": "d7eeb06b",
   "metadata": {},
   "source": [
    "Для получения полного описания вакансии потребуется задать отдельный запрос, используя ее id."
   ]
  },
  {
   "cell_type": "code",
   "execution_count": null,
   "id": "dc39f513",
   "metadata": {},
   "outputs": [],
   "source": [
    "df['snippet.requirement'].iloc[0]"
   ]
  },
  {
   "cell_type": "code",
   "execution_count": null,
   "id": "a7ac88ae",
   "metadata": {},
   "outputs": [],
   "source": [
    "df['snippet.responsibility'].iloc[0]"
   ]
  },
  {
   "cell_type": "code",
   "execution_count": null,
   "id": "9ca33cf0",
   "metadata": {},
   "outputs": [],
   "source": []
  },
  {
   "cell_type": "code",
   "execution_count": null,
   "id": "ad93f1bb",
   "metadata": {},
   "outputs": [],
   "source": [
    "vacancy = df['id'].iloc[0]\n",
    "vacancy_url = f'https://api.hh.ru/vacancies/{vacancy}'\n",
    "\n",
    "req = requests.get(vacancy_url)\n",
    "vacancy_info = json.loads(req.content.decode())\n",
    "vacancy_info"
   ]
  }
 ],
 "metadata": {
  "kernelspec": {
   "display_name": "Python 3 (ipykernel)",
   "language": "python",
   "name": "python3"
  },
  "language_info": {
   "codemirror_mode": {
    "name": "ipython",
    "version": 3
   },
   "file_extension": ".py",
   "mimetype": "text/x-python",
   "name": "python",
   "nbconvert_exporter": "python",
   "pygments_lexer": "ipython3",
   "version": "3.9.16"
  }
 },
 "nbformat": 4,
 "nbformat_minor": 5
}
