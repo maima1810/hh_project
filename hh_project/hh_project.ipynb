{
 "cells": [
  {
   "cell_type": "code",
   "execution_count": 1,
   "id": "768190bd",
   "metadata": {},
   "outputs": [],
   "source": [
    "import requests      # Библиотека работы с HTTP-запросами по API\n",
    "import json          # Для обработки полученных результатов\n",
    "import time          # Для задержки между запросами\n",
    "import os            # Для работы с файлами\n",
    "import pandas as pd  # Для формирования датафрейма с результатами"
   ]
  },
  {
   "cell_type": "code",
   "execution_count": null,
   "id": "14fadd5e",
   "metadata": {},
   "outputs": [],
   "source": [
    "# \n",
    "import requests \n",
    "\n",
    "# Пакет для работы с JSON-файлами\n",
    "import json\n",
    "\n",
    "# Модуль для работы со значением времени\n",
    "import time\n",
    "\n",
    "# Модуль для работы с операционной системой\n",
    "import os"
   ]
  },
  {
   "cell_type": "code",
   "execution_count": 9,
   "id": "2faa686e",
   "metadata": {},
   "outputs": [
    {
     "ename": "SyntaxError",
     "evalue": "invalid syntax (1840522944.py, line 14)",
     "output_type": "error",
     "traceback": [
      "\u001b[0;36m  Cell \u001b[0;32mIn[9], line 14\u001b[0;36m\u001b[0m\n\u001b[0;31m    'area': 1,\u001b[0m\n\u001b[0m    ^\u001b[0m\n\u001b[0;31mSyntaxError\u001b[0m\u001b[0;31m:\u001b[0m invalid syntax\n"
     ]
    }
   ],
   "source": [
    "def getPages(page = 0):\n",
    "    '''Функция запроса страницы.\n",
    "       page - Индекс страницы\n",
    "       (по умолчанию начинается с первой страницы)'''\n",
    "\n",
    "       # Справочник для переменной GET-запроса\n",
    "       # Значения для указания значений в справочнике \n",
    "       # указаны в документации к API hh.ru по ссылке: \n",
    "       # https://github.com/hhru/api\n",
    "    job_title = ['data engineer' and 'data analyst' and 'аналитик данных' \n",
    "                 and 'аналитик' and 'инженер данных' and 'аналитик']\n",
    "    params = {\n",
    "                'text': job_title\n",
    "                'area': 1,\n",
    "                'page': page,\n",
    "                'per_page': 100\n",
    "             }\n",
    "\n",
    "    req = requests.get('https://api.hh.ru/vacancies', params)\n",
    "    data = req.content.decode()\n",
    "    req.close()\n",
    "    return data\n",
    "\n",
    "        \n",
    "\n",
    "# Считаем первые Х вакансий\n",
    "for page in range(0,20):\n",
    "    jsObj = json.loads(getPages(page))\n",
    "\n",
    "    # Сохраняем файлы в папку {путь до текущего документа со скриптом}\\установить\\ваш\\путь\n",
    "    # Определяем количество файлов в папке для сохранения документа с ответом запроса\n",
    "    # Полученное значение используем для формирования имени документа\n",
    "    nextFileName = 'vacancies_parsing/{}.json'.format(len(os.listdir('vacancies_parsing')))\n",
    "\n",
    "    # Создаем новый документ, записываем в него ответ запроса, после закрываем\n",
    "    f = open(nextFileName, mode='w', encoding='utf8')\n",
    "    f.write(json.dumps(jsObj, ensure_ascii=False, indent=3))\n",
    "\n",
    "    # Проверка на последнюю страницу, если вакансий меньше 2000\n",
    "    if (jsObj['pages'] - page) <= 1:\n",
    "        break\n",
    "\n",
    "    time.sleep(0.25)\n",
    "\n",
    "\n",
    "print('Вакансии по запросу собраны')"
   ]
  },
  {
   "cell_type": "code",
   "execution_count": null,
   "id": "8e0fc9d1",
   "metadata": {},
   "outputs": [],
   "source": [
    "number_of_pages = 1000\n",
    "#number_of_ads = number_of_pages * per_page\n",
    "\n",
    "job_title = [\"'Data Analyst' and 'data scientist'\"]\n",
    "for job in job_title:\n",
    "\tdata=[]\n",
    "\tfor i in range(number_of_pages):\n",
    "\t\turl = 'https://api.hh.ru/vacancies'\n",
    "\t\tpar = {'text': job, 'area':'113','per_page':'10', 'page':i}\n",
    "\t\tr = requests.get(url, params=par)\n",
    "\t\te=r.json()\n",
    "\t\tdata.append(e)\n",
    "        vacancy_details = data[0]['items'][0].keys()\n",
    "\t\tdf = pd.DataFrame(columns= list(vacancy_details))\n",
    "\t\tind = 0\n",
    "\t\tfor i in range(len(data)):\n",
    "\t\t\tfor j in range(len(data[i]['items'])):\n",
    "\t\t\t\tdf.loc[ind] = data[i]['items'][j]\n",
    "\t\t\t\tind+=1\n",
    "\tcsv_name = job+\".csv\"\n",
    "\tdf.to_csv(csv_name)"
   ]
  },
  {
   "cell_type": "code",
   "execution_count": null,
   "id": "51915c23",
   "metadata": {},
   "outputs": [],
   "source": []
  },
  {
   "cell_type": "code",
   "execution_count": null,
   "id": "afe2a196",
   "metadata": {},
   "outputs": [],
   "source": [
    "# импортируем библиотеку request для работы с данными в сети\n",
    "import requests\n",
    "x=[]\n",
    "all_zp = 0\n",
    "all_n = 0\n",
    "#цикл, который скачивает вакансии\n",
    "for i in range(200):\n",
    "    # запрос\n",
    "    url = 'https://api.hh.ru/vacancies'\n",
    "    #параметры, которые будут добавлены к запросу\n",
    "    par = {'text': 'Data Analyst' and 'Data Scientist' and 'Аналитик данных', 'area':'113','per_page':'10', 'page':i}\n",
    "    r = requests.get(url, params=par)\n",
    "    e=r.json()\n",
    "    x.append(e)\n",
    "for j in x:\n",
    "    y = j['items']\n",
    "    #объявляем переменную n для подсчета, количества итераций цикла перебирающего зарплаты в вакансиях\n",
    "    n=0\n",
    "    #объявляем переменную sum_zp для подсчета, суммы зарплат в вакансиях\n",
    "    sum_zp=0\n",
    "    #цикл, переберает объекты, т.е перебирает вакансии\n",
    "    for i in y:\n",
    "        # проверяем есть ли значения в словаре по ключу salary. Т.е проверяем есть ли в вакансии данные по зарплате\n",
    "        if i['salary'] !=None:\n",
    "            #записываем значение в переменную s\n",
    "            s=i['salary']\n",
    "            # проверяем есть ли значения по ключу from. Т.е проверяем есть ли в вакансии данные по минимальной зп\n",
    "            if s['from'] !=None:\n",
    "                # считаем количество обработанных вакансий в которых указана минимальная ЗП\n",
    "                n+=1\n",
    "                #получаем минимальную ЗП по ключу from\n",
    "                s['from']\n",
    "                #считаем сумму ЗП по вакансиям\n",
    "                sum_zp +=s['from']\n",
    "    #добавляем сумму зп по итерации цикла\n",
    "    all_zp +=sum_zp\n",
    "    #добавляем сумму n по итерации цикла\n",
    "    all_n +=n\n",
    "    #считаем среднюю ЗП\n",
    "av_zp=all_zp/all_n\n",
    "print(av_zp)"
   ]
  },
  {
   "cell_type": "code",
   "execution_count": null,
   "id": "0beb780f",
   "metadata": {},
   "outputs": [],
   "source": [
    "def getPages(page = 0):\n",
    "    '''Функция запроса страницы.\n",
    "       page - Индекс страницы\n",
    "       (по умолчанию начинается с первой страницы)'''\n",
    "\n",
    "       # Справочник для переменной GET-запроса\n",
    "       # Значения для указания значений в справочнике \n",
    "       # указаны в документации к API hh.ru по ссылке: \n",
    "       # https://github.com/hhru/api\n",
    "    params = {\n",
    "                'text': 'data engineer',\n",
    "                'area': 1,\n",
    "                'page': page,\n",
    "                'per_page': 100}\n",
    "\n",
    "    req = requests.get('https://api.hh.ru/vacancies', params)\n",
    "    data = req.content.decode()\n",
    "    req.close()\n",
    "    return data"
   ]
  },
  {
   "cell_type": "code",
   "execution_count": null,
   "id": "76b037b4",
   "metadata": {},
   "outputs": [],
   "source": []
  },
  {
   "cell_type": "code",
   "execution_count": null,
   "id": "1f07cb9b",
   "metadata": {},
   "outputs": [],
   "source": []
  },
  {
   "cell_type": "code",
   "execution_count": null,
   "id": "c794a4ad",
   "metadata": {},
   "outputs": [],
   "source": [
    "df = pd.read_json('data/0.json')"
   ]
  },
  {
   "cell_type": "code",
   "execution_count": null,
   "id": "dc7fbe66",
   "metadata": {},
   "outputs": [],
   "source": [
    "df.head(10)"
   ]
  },
  {
   "cell_type": "code",
   "execution_count": null,
   "id": "3bdae3c0",
   "metadata": {},
   "outputs": [],
   "source": [
    "df['items'].values[4]"
   ]
  },
  {
   "cell_type": "code",
   "execution_count": null,
   "id": "905cc2eb",
   "metadata": {},
   "outputs": [],
   "source": [
    "import json\n",
    "# load data using Python JSON module\n",
    "with open('data/0.json','r') as f:\n",
    "    data = json.loads(f.read())\n",
    "    \n",
    "# Normalizing data\n",
    "df = pd.json_normalize(data, record_path =['items'])\n",
    "df"
   ]
  },
  {
   "cell_type": "code",
   "execution_count": null,
   "id": "e7a01d78",
   "metadata": {},
   "outputs": [],
   "source": [
    "requirement = df.at[4, 'snippet.requirement']"
   ]
  },
  {
   "cell_type": "code",
   "execution_count": null,
   "id": "7711690b",
   "metadata": {},
   "outputs": [],
   "source": [
    "requirement"
   ]
  },
  {
   "cell_type": "code",
   "execution_count": null,
   "id": "e9696a71",
   "metadata": {},
   "outputs": [],
   "source": [
    "len(requirement)"
   ]
  },
  {
   "cell_type": "code",
   "execution_count": null,
   "id": "70a8ac72",
   "metadata": {},
   "outputs": [],
   "source": [
    "pd.set_option('display.max_columns', None)"
   ]
  },
  {
   "cell_type": "code",
   "execution_count": null,
   "id": "61b031b5",
   "metadata": {},
   "outputs": [],
   "source": [
    "df"
   ]
  },
  {
   "cell_type": "code",
   "execution_count": null,
   "id": "6fc9ee2b",
   "metadata": {},
   "outputs": [],
   "source": [
    "dt = []\n",
    "for files in os.listdir('data/'):\n",
    "    f = open('data/{}'.format(files), encoding='utf8')\n",
    "    jsonText = f.read()\n",
    "    f.close()\n",
    "    jsonObj = json.loads(jsonText)\n",
    "    if jsonObj['found'] != 0:\n",
    "        for js in jsonObj['items']:\n",
    "            if js['salary'] != None:\n",
    "                salary_from = js['salary']['from']\n",
    "                salaty_to = js['salary']['to']\n",
    "            else:\n",
    "                salary_from = None\n",
    "                salaty_to = None\n",
    "            if js['address'] != None:\n",
    "                address_raw = js['address']['raw']\n",
    "            else:\n",
    "                address_raw = None\n",
    "            if js['schedule'] != None:\n",
    "                schedule_name = js['schedule']['name']\n",
    "            else:\n",
    "                schedule_name = None\n",
    "            if js['department'] != None:\n",
    "                department_name = js['department']['name']\n",
    "            else:\n",
    "                department_name = None\n",
    "            dt.append([\n",
    "                js['id'],\n",
    "                js['premium'],\n",
    "                js['name'],\n",
    "                js['department']['name'],\n",
    "                js['has_test'],\n",
    "                js['response_letter_required'],\n",
    "                js['area']['id'],\n",
    "                js['area']['name'],\n",
    "                salary_from, \n",
    "                salaty_to,\n",
    "                js['type']['name'],\n",
    "                address_raw,\n",
    "                js['response_url'],\n",
    "                js['sort_point_distance'],\n",
    "                js['published_at'],\n",
    "                js['created_at'],\n",
    "                js['archived'],\n",
    "                js['apply_alternate_url'],\n",
    "                js['insider_interview'],\n",
    "                js['url'],\n",
    "                js['alternate_url'],\n",
    "                js['relations'],\n",
    "                #js['employer']['id'],\n",
    "                js['employer']['name'],\n",
    "                js['snippet']['requirement'],\n",
    "                js['snippet']['responsibility'],\n",
    "                js['contacts'],\n",
    "                #js['schedule']['name'],\n",
    "                js['working_days'],\n",
    "                js['working_time_intervals'],\n",
    "                js['working_time_modes'],\n",
    "                js['accept_temporary']\n",
    "                ])"
   ]
  },
  {
   "cell_type": "code",
   "execution_count": null,
   "id": "4f7126d5",
   "metadata": {},
   "outputs": [],
   "source": [
    "df = pd.DataFrame(dt, columns = [\n",
    "                                'id',\n",
    "                                'premium',\n",
    "                                'name',\n",
    "                                #'department_name',\n",
    "                                'has_test',\n",
    "                                'response_letter_required',\n",
    "                                'area_id',\n",
    "                                'area_name',\n",
    "                                'salary_from', \n",
    "                                'salaty_to',\n",
    "                                'type_name',\n",
    "                                'address_raw',\n",
    "                                'response_url',\n",
    "                                'sort_point_distance',\n",
    "                                'published_at',\n",
    "                                'created_at',\n",
    "                                'archived',\n",
    "                                'apply_alternate_url',\n",
    "                                'insider_interview',\n",
    "                                'url',\n",
    "                                'alternate_url',\n",
    "                                'relations',\n",
    "                                'employer_id',\n",
    "                                #'employer_name',\n",
    "                                'snippet_requirement',\n",
    "                                'snippet_responsibility',\n",
    "                                'contacts',\n",
    "                                #'schedule_name',\n",
    "                                'working_days',\n",
    "                                'working_time_intervals',\n",
    "                                'working_time_modes',\n",
    "                                'accept_temporary'\n",
    "                                ])   "
   ]
  },
  {
   "cell_type": "code",
   "execution_count": null,
   "id": "1a753195",
   "metadata": {},
   "outputs": [],
   "source": [
    "import requests\n",
    "import json\n",
    "\n",
    "url = 'https://api.hh.ru/vacancies'\n",
    "# headers = {'User-Agent': 'Mozilla/5.0 (Windows NT 10.0; Win64; x64) AppleWebKit/537.36 (KHTML, like Gecko) Chrome/58.0.3029.110 Safari/537.36',\n",
    "#            'Authorization': 'Bearer YOUR_API_KEY'}\n",
    "\n",
    "params = {\n",
    "    'text': 'data engineer',\n",
    "    'area': 1, # Код региона (Москва)\n",
    "    'per_page': 100 # Количество вакансий на страницу\n",
    "}\n",
    "\n",
    "response = requests.get(url, params=params)#headers=headers, params=params)\n",
    "\n",
    "# Обработка ответа\n",
    "if response.ok:\n",
    "    data = json.loads(response.text)\n",
    "    vacancies = data['items']\n",
    "    df = pd.DataFrame(vacancies)\n",
    "    #print(df[['name', 'salary']])\n",
    "else:\n",
    "    print(response.status_code, response.text)\n"
   ]
  },
  {
   "cell_type": "code",
   "execution_count": null,
   "id": "1a8ef236",
   "metadata": {},
   "outputs": [],
   "source": [
    "df.info()"
   ]
  },
  {
   "cell_type": "code",
   "execution_count": null,
   "id": "5165d7d2",
   "metadata": {},
   "outputs": [],
   "source": [
    "df.at[1, 'snippet']"
   ]
  },
  {
   "cell_type": "code",
   "execution_count": null,
   "id": "44882bfd",
   "metadata": {},
   "outputs": [],
   "source": [
    "df.head(10)"
   ]
  },
  {
   "cell_type": "code",
   "execution_count": null,
   "id": "cd692a13",
   "metadata": {},
   "outputs": [],
   "source": [
    "import pandas as pd\n",
    "import requests\n",
    "\n",
    "# Создаем пустой DataFrame\n",
    "vacanciesdf = pd.DataFrame(columns=['Name', 'Currency', 'From', 'Area', 'Requirement'])\n",
    "\n",
    "# Параметры запроса\n",
    "params = {\n",
    "    'text': 'data engineer',\n",
    "    'area': 1, # Код региона (Москва)\n",
    "    'per_page': 100 # Количество вакансий на страницу\n",
    "}\n",
    "\n",
    "# Получаем данные со всех страниц\n",
    "for pageNum in range(21):\n",
    "    response = requests.get('https://api.hh.ru/vacancies', params=params)\n",
    "    if response.ok:\n",
    "        data = response.json()\n",
    "        if data['items']:\n",
    "            items = data['items']\n",
    "            for item in items:\n",
    "                # Добавляем строку в DataFrame\n",
    "                vacanciesdf = vacanciesdf.append({\n",
    "                    'Name': item['employer']['name'],\n",
    "                    'Currency': item['salary']['currency'] if item['salary'] else None,\n",
    "                    'From': item['salary']['from'] if item['salary'] else None,\n",
    "                    'Area': item['area']['name'] if item['area'] else None,\n",
    "                    'Requirement': item['snippet']['requirement'] if item['snippet'] else None\n",
    "                }, ignore_index=True)\n",
    "            params['page'] = pageNum + 1\n",
    "            print(f\"Upload pages: {pageNum + 1}\")\n",
    "        else:\n",
    "            break\n",
    "    else:\n",
    "        print(f\"Error {response.status_code}: {response.text}\")\n",
    "    # Задержка в 3 секунды между запросами\n",
    "    time.sleep(3)\n"
   ]
  },
  {
   "cell_type": "code",
   "execution_count": null,
   "id": "7468d99b",
   "metadata": {},
   "outputs": [],
   "source": [
    "vacanciesdf.head(10)"
   ]
  },
  {
   "cell_type": "code",
   "execution_count": null,
   "id": "20bff6bb",
   "metadata": {},
   "outputs": [],
   "source": [
    "vacanciesdf.at[0, 'Requirement']"
   ]
  }
 ],
 "metadata": {
  "kernelspec": {
   "display_name": "Python 3 (ipykernel)",
   "language": "python",
   "name": "python3"
  },
  "language_info": {
   "codemirror_mode": {
    "name": "ipython",
    "version": 3
   },
   "file_extension": ".py",
   "mimetype": "text/x-python",
   "name": "python",
   "nbconvert_exporter": "python",
   "pygments_lexer": "ipython3",
   "version": "3.9.16"
  }
 },
 "nbformat": 4,
 "nbformat_minor": 5
}
