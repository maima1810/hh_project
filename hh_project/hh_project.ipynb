{
 "cells": [
  {
   "cell_type": "code",
   "execution_count": 1,
   "id": "768190bd",
   "metadata": {},
   "outputs": [],
   "source": [
    "import requests                 # Библиотека работы с HTTP-запросами по API\n",
    "import json                     # Для обработки полученных результатов запросов\n",
    "import time                     # Для задержки между запросами\n",
    "import os                       # Для работы с файлами\n",
    "import pandas as pd             # Для формирования датафрейма с результатами\n",
    "import re                       # Для работы с регулярными выражениями\n",
    "import numpy as np              # Библиотека работы с массивами\n",
    "import seaborn as sns           # Статистическая визуализация данных\n",
    "import matplotlib.pyplot as plt # Визуализация данных"
   ]
  },
  {
   "cell_type": "code",
   "execution_count": null,
   "id": "c6b2848b",
   "metadata": {},
   "outputs": [],
   "source": [
    "def get_vacancies(job_title, page=0, retries=5):\n",
    "    '''Функция запроса страницы.\n",
    "       job_title - наименование вакансии\n",
    "       page - Индекс страницы\n",
    "       retries - количество попыток повторения запроса\n",
    "       (по умолчанию начинается с первой страницы)'''\n",
    "\n",
    "    # Справочник для переменной GET-запроса\n",
    "    # Значения для указания значений в справочнике \n",
    "    # указаны в документации к API hh.ru по ссылке: \n",
    "    # https://github.com/hhru/api\n",
    "    params = {\n",
    "        'text': job_title,\n",
    "        'area': 113,\n",
    "        'page': page,\n",
    "        'per_page': 100\n",
    "    }\n",
    "\n",
    "    for i in range(retries):\n",
    "        try:\n",
    "            req = requests.get('https://api.hh.ru/vacancies', params, timeout=20)\n",
    "            data = req.content.decode()\n",
    "            req.close()\n",
    "            return data\n",
    "        except requests.exceptions.RequestException as e:\n",
    "            print(f\"Ошибка при запросе страницы {page}: {e}\")\n",
    "            print(f\"Попытка {i+1}/{retries}...\")\n",
    "            time.sleep(0.25)\n",
    "\n",
    "    print(f\"Не удалось получить данные для страницы {page}\")\n",
    "    return None\n",
    "\n",
    "# Сделаем запрос к API hh.ru по вакансиям\n",
    "\n",
    "vacancies = []\n",
    "vacancies_ids = set()\n",
    "job_titles = [\n",
    "    \"data engineer\",\n",
    "    \"data analyst\",\n",
    "    \"data scientist\",\n",
    "    \"аналитик данных\",\n",
    "    \"аналитик\",\n",
    "    \"analyst\",\n",
    "    \"инженер данных\",\n",
    "    \"BI\",\n",
    "    \"data\",\n",
    "    \"дата\",\n",
    "    \"ETL\",\n",
    "]\n",
    "\n",
    "for job_title in job_titles:\n",
    "    for page in range(0, 100):\n",
    "        # Запрашиваем страницу с вакансиями\n",
    "        response = json.loads(get_vacancies(job_title, page))\n",
    "        # Получаем список вакансий на странице\n",
    "        items = response['items']\n",
    "        for item in items:\n",
    "            # Проверяем, что вакансия не была уже добавлена в список\n",
    "            if item['id'] not in vacancies_ids:\n",
    "                # Проверяем, что в названии вакансии есть искомое слово\n",
    "                if any(title in item['name'].lower() for title in job_titles):\n",
    "                    # Добавляем вакансию в список\n",
    "                    vacancies.append(item)\n",
    "                    # Добавляем id вакансии во множество уже просмотренных id\n",
    "                    vacancies_ids.add(item['id'])\n",
    "        # Проверяем, является ли страница последней\n",
    "        if response['pages'] - page <= 1:\n",
    "            break\n",
    "        # Делаем задержку между запросами\n",
    "        time.sleep(0.25)\n",
    "\n",
    "# Сохраняем полученные вакансии в файле\n",
    "with open('data/vacancies.json', 'w', encoding='utf-8') as f:\n",
    "    json.dump(vacancies, f, ensure_ascii=False, indent=4)\n",
    "\n",
    "print('Вакансии по запросу собраны и сохранены в файл vacancies.json')\n",
    "# Количество вакансий\n",
    "print(f\"Количество собранных вакансий: {len(vacancies)}\")\n",
    "\n",
    "# Количество уникальных значений ключа 'name'\n",
    "unique_names = set([v['name'] for v in vacancies])\n",
    "names_count = len(unique_names)\n",
    "\n",
    "print(f\"Количество уникальных названий вакансий: {names_count}\")\n"
   ]
  },
  {
   "cell_type": "code",
   "execution_count": null,
   "id": "62614519",
   "metadata": {},
   "outputs": [],
   "source": [
    "# Теперь получим полные описания для всех собранных вакансий\n",
    "\n",
    "def get_description(vacancy_id):\n",
    "    url = f'https://api.hh.ru/vacancies/{vacancy_id}'\n",
    "    headers = {'User-Agent': 'Mozilla/5.0'}\n",
    "    description = \"\"\n",
    "    while True:\n",
    "        try:\n",
    "            response = requests.get(url, headers=headers)\n",
    "            if response.ok:\n",
    "                data = response.json()\n",
    "                description = data['description']\n",
    "            break\n",
    "        except requests.exceptions.RequestException:\n",
    "            print(f\"Ошибка получения описания вакансии {vacancy_id}. Повтор запроса через 2 секунды.\")\n",
    "            time.sleep(2)\n",
    "            continue\n",
    "    return description"
   ]
  },
  {
   "cell_type": "code",
   "execution_count": null,
   "id": "c3bcc6ff",
   "metadata": {},
   "outputs": [],
   "source": [
    "# Чтение файла vacancies.json и создание словаря vacancies_dict\n",
    "with open('data/vacancies.json', 'r', encoding='utf-8') as f:\n",
    "    vacancies = json.load(f)\n",
    "vacancies_dict = {vacancy[\"id\"]: \"\" for vacancy in vacancies}\n",
    "\n",
    "# Обход словаря vacancies_dict и заполнение значениями ключа \"description\"\n",
    "for vacancy_id in vacancies_dict:\n",
    "    vacancies_dict[vacancy_id] = get_description(vacancy_id)\n",
    "\n",
    "# Сохранение результата в файл descriptions.json\n",
    "with open('data/descriptions.json', 'w', encoding='utf-8') as f:\n",
    "    json.dump(vacancies_dict, f, ensure_ascii=False, indent=4)"
   ]
  },
  {
   "cell_type": "code",
   "execution_count": null,
   "id": "83562f05",
   "metadata": {},
   "outputs": [],
   "source": [
    "# Получим незагруженные описания вакансий\n",
    "\n",
    "# Обход словаря vacancies_dict и заполнение значениями ключа \"description\"\n",
    "def fill_vacancy_descriptions(vacancies_dict):\n",
    "    for vacancy_id in vacancies_dict:\n",
    "        if not vacancies_dict[vacancy_id]:\n",
    "            description = get_description(vacancy_id)\n",
    "            vacancies_dict[vacancy_id] = description\n",
    "    return vacancies_dict\n",
    "\n",
    "filled_dict = fill_vacancy_descriptions(vacancies_dict)\n"
   ]
  },
  {
   "cell_type": "code",
   "execution_count": null,
   "id": "fdffa85a",
   "metadata": {},
   "outputs": [],
   "source": [
    "vacancy_id = '79110745' # заменить на нужный номер вакансии\n",
    "\n",
    "get_description(vacancy_id)\n",
    "description"
   ]
  },
  {
   "cell_type": "code",
   "execution_count": null,
   "id": "b0360986",
   "metadata": {},
   "outputs": [],
   "source": [
    "def get_description(vacancy_id):\n",
    "    url = f'https://api.hh.ru/vacancies/{vacancy_id}'\n",
    "    response = requests.get(url)\n",
    "    if response.status_code == 200:\n",
    "        data = response.json()\n",
    "        return data['description']\n",
    "    else:\n",
    "        return None"
   ]
  },
  {
   "cell_type": "code",
   "execution_count": null,
   "id": "83d77c17",
   "metadata": {},
   "outputs": [],
   "source": []
  },
  {
   "cell_type": "code",
   "execution_count": null,
   "id": "1c5a74e4",
   "metadata": {},
   "outputs": [],
   "source": [
    "vacancies\n"
   ]
  },
  {
   "cell_type": "code",
   "execution_count": null,
   "id": "20b03bcf",
   "metadata": {},
   "outputs": [],
   "source": [
    "vacancies_dict"
   ]
  },
  {
   "cell_type": "code",
   "execution_count": null,
   "id": "7607f40f",
   "metadata": {},
   "outputs": [],
   "source": [
    "filled_dict"
   ]
  },
  {
   "cell_type": "code",
   "execution_count": null,
   "id": "825baa98",
   "metadata": {},
   "outputs": [],
   "source": [
    "total_vacancies = len(filled_dict)\n",
    "empty_vacancies = sum(1 for desc in filled_dict.values() if not desc)\n",
    "print(f'total: {total_vacancies}')\n",
    "print(f'empty: {empty_vacancies}')\n"
   ]
  },
  {
   "cell_type": "code",
   "execution_count": null,
   "id": "bc6df5d4",
   "metadata": {},
   "outputs": [],
   "source": [
    "# счетчики в переменной vacancies_dict\n",
    "\n",
    "total_vacancies = len(vacancies_dict)\n",
    "empty_vacancies = sum(1 for desc in vacancies_dict.values() if not desc)\n",
    "filled_vacancies = sum(1 for desc in vacancies_dict.values() if desc)\n",
    "print(f'total: {total_vacancies}')\n",
    "print(f'filled: {filled_vacancies}')\n",
    "print(f'empty: {empty_vacancies}')"
   ]
  },
  {
   "cell_type": "code",
   "execution_count": null,
   "id": "2a7a97bf",
   "metadata": {},
   "outputs": [],
   "source": [
    "# счетчики в переменной filled_dict\n",
    "\n",
    "total_vacancies = len(filled_dict)\n",
    "empty_vacancies = sum(1 for desc in filled_dict.values() if not desc)\n",
    "filled_in_filled = sum(1 for desc in filled_dict.values() if desc)\n",
    "print(f'total: {total_vacancies}')\n",
    "print(f'filled: {filled_in_filled}')\n",
    "print(f'empty: {empty_vacancies}')"
   ]
  },
  {
   "cell_type": "code",
   "execution_count": null,
   "id": "774acc11",
   "metadata": {},
   "outputs": [],
   "source": [
    "# счетчики в переменной vacancies\n",
    "\n",
    "total_in_vacancies = sum(1 for vacancy in vacancies if 'id' in vacancy)\n",
    "count_empty_description = len([vacancy for vacancy in vacancies if not vacancy['description']])\n",
    "count_filled_description = len([vacancy for vacancy in vacancies if vacancy['description']])\n",
    "print(f'total in vacancies: {total_in_vacancies}')\n",
    "print(f'empty in vacancies: {count_empty_description}')\n",
    "print(f'filled in vacancies: {count_filled_description}')"
   ]
  },
  {
   "cell_type": "code",
   "execution_count": null,
   "id": "9a7930b2",
   "metadata": {},
   "outputs": [],
   "source": [
    "# заполнение пустых описаний в vacancies c vacancies_dict\n",
    "\n",
    "for vacancy in vacancies:\n",
    "    if not vacancy['description']:\n",
    "        description = vacancies_dict.get(str(vacancy['id']), '').strip()\n",
    "        if description:\n",
    "            vacancy['description'] = description\n",
    "\n"
   ]
  },
  {
   "cell_type": "code",
   "execution_count": null,
   "id": "2c3bc73b",
   "metadata": {},
   "outputs": [],
   "source": [
    "# заполнение пустых описаний в vacancies c filled_dict\n",
    "\n",
    "for vacancy in vacancies:\n",
    "    if not vacancy['description']:\n",
    "        description = filled_dict.get(str(vacancy['id']), '').strip()\n",
    "        if description:\n",
    "            vacancy['description'] = description\n"
   ]
  },
  {
   "cell_type": "code",
   "execution_count": null,
   "id": "5a8ad8bb",
   "metadata": {},
   "outputs": [],
   "source": [
    "vacancies"
   ]
  },
  {
   "cell_type": "code",
   "execution_count": null,
   "id": "494b9740",
   "metadata": {},
   "outputs": [],
   "source": [
    "def fill_vacancy_descriptions(vacancies_dict, filled_dict=None):\n",
    "    if filled_dict is None:\n",
    "        filled_dict = {}\n",
    "    empty_vacancies = sum([1 for v in vacancies_dict.values() if not v])\n",
    "    total_vacancies = len(vacancies_dict)\n",
    "    for i, vacancy_id in enumerate(vacancies_dict):\n",
    "        try:\n",
    "            if not vacancies_dict[vacancy_id]:\n",
    "                description = get_description(vacancy_id)\n",
    "                vacancies_dict[vacancy_id] = description\n",
    "                empty_vacancies -= 1\n",
    "            filled_vacancies = i + 1 - empty_vacancies\n",
    "            percent_complete = filled_vacancies / total_vacancies * 100\n",
    "            percent_remaining = empty_vacancies / len(vacancies_dict) * 100\n",
    "            print(f'Filled {filled_vacancies}/{total_vacancies} '\n",
    "                  f'({percent_complete:.2f}% complete, {percent_remaining:.2f}% remaining), '\n",
    "                  f'Current vacancy: {vacancy_id}, '\n",
    "                  f'Empty vacancies: {empty_vacancies}')\n",
    "            filled_dict[vacancy_id] = vacancies_dict[vacancy_id]\n",
    "        except Exception as e:\n",
    "            print(f'Error occurred at vacancy {vacancy_id}: {e}')\n",
    "            break\n",
    "    return filled_dict\n"
   ]
  },
  {
   "cell_type": "code",
   "execution_count": null,
   "metadata": {},
   "outputs": [],
   "source": [
    "filled_dict = {}"
   ]
  },
  {
   "cell_type": "code",
   "execution_count": null,
   "id": "abecf7c3",
   "metadata": {},
   "outputs": [],
   "source": [
    "filled_dict"
   ]
  },
  {
   "cell_type": "code",
   "execution_count": null,
   "id": "74e1148c",
   "metadata": {},
   "outputs": [],
   "source": [
    "filled_dict = fill_vacancy_descriptions(vacancies_dict)\n",
    "# Здесь можно остановить выполнение функции в любой момент\n",
    "# и выполнить код ниже, чтобы продолжить выполнение функции\n"
   ]
  },
  {
   "cell_type": "code",
   "execution_count": null,
   "id": "1fdc827c",
   "metadata": {},
   "outputs": [],
   "source": [
    "filled_dict = fill_vacancy_descriptions(vacancies_dict, filled_dict=filled_dict)\n"
   ]
  },
  {
   "cell_type": "code",
   "execution_count": null,
   "id": "5dc8b1e9",
   "metadata": {},
   "outputs": [],
   "source": [
    "vacancies_dict"
   ]
  },
  {
   "cell_type": "code",
   "execution_count": null,
   "id": "a22af4d7",
   "metadata": {},
   "outputs": [],
   "source": [
    "# Далее добавим описания во все наши вакансии\n",
    "\n",
    "# Добавление ключа \"description\" для каждой вакансии\n",
    "for vacancy in vacancies:\n",
    "    vacancy[\"description\"] = \"\"\n",
    "\n",
    "# Запись описания вакансии в ключ \"description\"\n",
    "for vacancy in vacancies:\n",
    "    vacancy_id = vacancy[\"id\"]\n",
    "    description = vacancies_dict.get(vacancy_id, \"Описание вакансии не найдено\")\n",
    "    vacancy[\"description\"] = description"
   ]
  },
  {
   "cell_type": "code",
   "execution_count": null,
   "id": "b9bb4efb",
   "metadata": {},
   "outputs": [],
   "source": [
    "# Сохраняем полученные вакансии в файле\n",
    "with open('data/vacancies.json', 'w', encoding='utf-8') as f:\n",
    "    json.dump(vacancies, f, ensure_ascii=False, indent=4)"
   ]
  },
  {
   "cell_type": "code",
   "execution_count": null,
   "id": "dc226e0c",
   "metadata": {},
   "outputs": [],
   "source": [
    "# Проверим, попала ли в выборку вакансия, опубликованная на hh одной из последних:\n",
    "\n",
    "# Открываем файл с вакансиями и загружаем их в переменную vacancies\n",
    "with open('data/vacancies.json', 'r', encoding='utf-8') as f:\n",
    "    vacancies = json.load(f)\n",
    "\n",
    "# ID вакансии, которую нужно найти\n",
    "vacancy_id = '78641187'\n",
    "\n",
    "# Поиск вакансии по ID и вывод ее описания\n",
    "for vacancy in vacancies:\n",
    "    if vacancy['id'] == vacancy_id:\n",
    "        print(\"Вакансия:\\n\", vacancy['name'])\n",
    "        print(\"\\nОбязанности:\\n\", vacancy['snippet']['responsibility'])\n",
    "        print(\"\\nТребования:\\n\", vacancy['snippet']['requirement'])\n",
    "        break\n",
    "else:\n",
    "    print(f\"Вакансия с номером {vacancy_id} не найдена\")\n"
   ]
  },
  {
   "cell_type": "code",
   "execution_count": null,
   "id": "83c3341c",
   "metadata": {},
   "outputs": [],
   "source": [
    "\n"
   ]
  },
  {
   "cell_type": "code",
   "execution_count": null,
   "id": "c794a4ad",
   "metadata": {},
   "outputs": [],
   "source": [
    "# далее загрузим вакансии в пандас датафрейм\n",
    "\n",
    "# открываем json-файл и загружаем данные\n",
    "with open('data/vacancies.json', 'r', encoding='utf-8') as f:\n",
    "    data = json.load(f)\n",
    "\n",
    "# преобразуем json в pandas dataframe\n",
    "df = pd.json_normalize(data)"
   ]
  },
  {
   "cell_type": "code",
   "execution_count": null,
   "id": "515c81d0",
   "metadata": {},
   "outputs": [],
   "source": [
    "# Сделаем так, чтобы выводились все столбцы датафрейма\n",
    "pd.set_option('display.max_columns', None)"
   ]
  },
  {
   "cell_type": "code",
   "execution_count": null,
   "id": "dc7fbe66",
   "metadata": {},
   "outputs": [],
   "source": [
    "df.head(3)\n"
   ]
  },
  {
   "cell_type": "code",
   "execution_count": null,
   "id": "22851111",
   "metadata": {},
   "outputs": [],
   "source": [
    "df['description'].unique()"
   ]
  },
  {
   "attachments": {},
   "cell_type": "markdown",
   "id": "0227908a",
   "metadata": {},
   "source": [
    "Видим, что в столбце 'professional_roles' данные не нормализовались. Что бы разобрать вложенный список из professional_roles, применим к столбцу лямбда-функцию, разделим его на два новых столбца, старый удалим:"
   ]
  },
  {
   "cell_type": "code",
   "execution_count": null,
   "id": "7cd2f5d8",
   "metadata": {},
   "outputs": [],
   "source": [
    "df[[\"professional_roles_id\", \"professional_roles_name\"]] = df[\n",
    "    \"professional_roles\"\n",
    "].apply(\n",
    "    lambda x: pd.Series(\n",
    "        {\"professional_roles_id\": x[0][\"id\"], \"professional_roles_name\": x[0][\"name\"]}\n",
    "    )\n",
    ")\n",
    "df = df.drop(\"professional_roles\", axis=1)\n"
   ]
  },
  {
   "cell_type": "code",
   "execution_count": null,
   "id": "3513feef",
   "metadata": {},
   "outputs": [],
   "source": [
    "df.head(3)"
   ]
  },
  {
   "cell_type": "code",
   "execution_count": null,
   "id": "00bd61cd",
   "metadata": {},
   "outputs": [],
   "source": [
    "# Выведем названия столбцов\n",
    "print(df.columns)"
   ]
  },
  {
   "cell_type": "code",
   "execution_count": null,
   "id": "af2c890d",
   "metadata": {},
   "outputs": [],
   "source": [
    "# Проверим, какие столбцы не содержат данные\n",
    "\n",
    "missing_cols = df.columns[df.isna().all()].tolist()\n",
    "print(f'Столбцы без данных: {missing_cols}')"
   ]
  },
  {
   "cell_type": "code",
   "execution_count": null,
   "id": "216eaaff",
   "metadata": {},
   "outputs": [],
   "source": [
    "# Избавимся от них\n",
    "\n",
    "df = df.drop(missing_cols, axis=1)"
   ]
  },
  {
   "cell_type": "code",
   "execution_count": null,
   "id": "e7017197",
   "metadata": {},
   "outputs": [],
   "source": [
    "df.sample (n= 5 )"
   ]
  },
  {
   "cell_type": "code",
   "execution_count": null,
   "id": "9f86a669",
   "metadata": {},
   "outputs": [],
   "source": [
    "vacancy_id = '79190621' # заменить на нужный номер вакансии\n",
    "\n",
    "get_description(vacancy_id='79190621')\n",
    "description"
   ]
  },
  {
   "cell_type": "code",
   "execution_count": null,
   "id": "63a40d6e",
   "metadata": {},
   "outputs": [],
   "source": [
    "url = 'https://api.hh.ru/vacancies/79190621'\n",
    "headers = {'User-Agent': 'Mozilla/5.0'}\n",
    "\n",
    "response = requests.get(url, headers=headers)\n",
    "if response.ok:\n",
    "    data = response.json()\n",
    "    description = data['description']\n"
   ]
  },
  {
   "cell_type": "code",
   "execution_count": null,
   "id": "14303620",
   "metadata": {},
   "outputs": [],
   "source": [
    "description"
   ]
  },
  {
   "cell_type": "code",
   "execution_count": null,
   "id": "2aa26624",
   "metadata": {},
   "outputs": [],
   "source": [
    "# Избавимся от лишних (неинформативных) столбцов путем невключения их в \n",
    "# обновленный датафрейм (apply_alternate_url, url, area.url, type.id, employer.id,\n",
    "# employer.url, employer.logo_urls, employment.id, employer.logo_urls.original,\n",
    "# employer.logo_urls.90, employer.logo_urls.240, address.metro_stations, \n",
    "# address.id, department.id и другие)\n",
    "# )\n",
    "\n",
    "df = df[\n",
    "    [\n",
    "        \"id\",\n",
    "        \"name\",\n",
    "        \"snippet.requirement\",\n",
    "        \"snippet.responsibility\",\n",
    "        \"description\",\n",
    "        \"experience.name\",\n",
    "        \"published_at\",\n",
    "        \"created_at\",\n",
    "        \"alternate_url\",\n",
    "        \"working_days\",\n",
    "        \"working_time_intervals\",\n",
    "        \"working_time_modes\",\n",
    "        \"accept_temporary\",\n",
    "        \"professional_roles_name\",\n",
    "        \"accept_incomplete_resumes\",\n",
    "        \"department.name\",\n",
    "        \"area.name\",\n",
    "        \"salary.from\",\n",
    "        \"salary.to\",\n",
    "        \"salary.currency\",\n",
    "        \"salary.gross\",\n",
    "        \"type.name\",\n",
    "        \"employer.name\",\n",
    "        \"employer.alternate_url\",\n",
    "        \"employer.vacancies_url\",\n",
    "        \"employer.trusted\",\n",
    "        \"address.city\",\n",
    "        \"address.street\",\n",
    "        \"address.building\",\n",
    "        \"address.lat\",\n",
    "        \"address.lng\",\n",
    "        \"address.raw\",\n",
    "        \"address.metro.station_name\",\n",
    "        \"address.metro.line_name\",\n",
    "        \"address.metro.station_id\",\n",
    "        \"address.metro.line_id\",\n",
    "        \"address.metro.lat\",\n",
    "        \"address.metro.lng\",\n",
    "    ]\n",
    "]"
   ]
  },
  {
   "cell_type": "code",
   "execution_count": null,
   "id": "73989d76",
   "metadata": {},
   "outputs": [],
   "source": [
    "df.head(3)"
   ]
  },
  {
   "cell_type": "code",
   "execution_count": null,
   "id": "d16f9efd",
   "metadata": {},
   "outputs": [],
   "source": [
    "df['employer.trusted'].unique()"
   ]
  },
  {
   "attachments": {},
   "cell_type": "markdown",
   "id": "612cf829",
   "metadata": {},
   "source": [
    "<!-- Также видим, что в столбцах snippet.requirement\tи snippet.responsibility есть теги. Если в тексте снипета встретилась поисковая фраза (параметр text ), она будет подсвечена тегом highlighttext (из документации по API). Но нам эти теги ни к чему, избавимся от них: -->"
   ]
  },
  {
   "cell_type": "code",
   "execution_count": null,
   "id": "7eb0ec11",
   "metadata": {},
   "outputs": [],
   "source": [
    "# Функция удаления тегов из текста\n",
    "\n",
    "# def remove_tags(text):\n",
    "#     if isinstance(text, str):\n",
    "#         return re.sub(r'<.*?>', '', text)\n",
    "#     else:\n",
    "#         return text\n",
    "\n",
    "# df[['snippet.requirement', 'snippet.responsibility']] = \\\n",
    "#     df[['snippet.requirement', 'snippet.responsibility']].applymap(remove_tags)"
   ]
  },
  {
   "cell_type": "code",
   "execution_count": null,
   "id": "a95e3207",
   "metadata": {},
   "outputs": [],
   "source": [
    "# # Проверяем результат:\n",
    "\n",
    "# print(df['snippet.requirement'].iloc[0])\n",
    "# print(df['snippet.responsibility'].iloc[0])"
   ]
  },
  {
   "cell_type": "code",
   "execution_count": null,
   "id": "53d64a4d",
   "metadata": {},
   "outputs": [],
   "source": [
    "# # Далее необходимо очистить датасет от лишних вакансий. Для этого составим облако слов поля professional_roles_name\n",
    "\n",
    "# from wordcloud import WordCloud\n",
    "# import matplotlib.pyplot as plt\n",
    "\n",
    "# # Объединяем все строки в одну\n",
    "# text_roles = ' '.join(df['professional_roles_name'])\n",
    "\n",
    "# # Создаем объект WordCloud\n",
    "# wordcloud = WordCloud(width=800, height=800, background_color='white', min_font_size=10).generate(text_roles)\n",
    "\n",
    "# # Отображаем облако слов\n",
    "# plt.figure(figsize=(8, 8), facecolor=None)\n",
    "# plt.imshow(wordcloud)\n",
    "# plt.axis('off')\n",
    "# plt.tight_layout(pad=0)\n",
    "  \n",
    "# plt.show()\n"
   ]
  },
  {
   "cell_type": "code",
   "execution_count": null,
   "id": "470d7887",
   "metadata": {},
   "outputs": [],
   "source": [
    "# # Объединяем все строки в одну\n",
    "# text_name = ' '.join(df['name'])\n",
    "\n",
    "# # Создаем объект WordCloud\n",
    "# wordcloud = WordCloud(width=800, height=800, background_color='white', min_font_size=10).generate(text_name)\n",
    "\n",
    "# # Отображаем облако слов\n",
    "# plt.figure(figsize=(8, 8), facecolor=None)\n",
    "# plt.imshow(wordcloud)\n",
    "# plt.axis('off')\n",
    "# plt.tight_layout(pad=0)\n",
    "  \n",
    "# plt.show()"
   ]
  },
  {
   "cell_type": "code",
   "execution_count": null,
   "id": "44bcc4d5",
   "metadata": {},
   "outputs": [],
   "source": [
    "df['professional_roles_name'].unique()"
   ]
  },
  {
   "cell_type": "code",
   "execution_count": null,
   "id": "460770c5",
   "metadata": {},
   "outputs": [],
   "source": [
    "df.loc[df['professional_roles_name'] == 'Финансовый директор (CFO)']"
   ]
  },
  {
   "cell_type": "code",
   "execution_count": null,
   "id": "8f6bfcaf",
   "metadata": {},
   "outputs": [],
   "source": [
    "df.loc[df['professional_roles_name'] .str.contains('по качеству')]"
   ]
  },
  {
   "cell_type": "code",
   "execution_count": null,
   "id": "cba1e139",
   "metadata": {},
   "outputs": [],
   "source": [
    "df.to_csv('data/df.csv', sep=',', encoding='utf-8')"
   ]
  },
  {
   "cell_type": "code",
   "execution_count": null,
   "id": "f8102c07",
   "metadata": {},
   "outputs": [],
   "source": [
    "# Подсчитаем количество каждой ваакансии\n",
    "\n",
    "value_counts = df['name'].value_counts()\n",
    "result = pd.DataFrame({'name': value_counts.index, 'count':value_counts.values})\n",
    "result.sort_values(by='count', ascending=False, inplace=True)\n",
    "print(result)\n"
   ]
  },
  {
   "cell_type": "code",
   "execution_count": null,
   "id": "4e0cefa1",
   "metadata": {},
   "outputs": [],
   "source": [
    "# Посмотрим топ-50 названий вакансий\n",
    "\n",
    "counts = df['name'].value_counts()\n",
    "top_50 = counts.head(50)\n",
    "print(top_50)"
   ]
  },
  {
   "cell_type": "code",
   "execution_count": null,
   "id": "fe9f9c8b",
   "metadata": {},
   "outputs": [],
   "source": [
    "pd.options.display.max_rows = 20"
   ]
  },
  {
   "cell_type": "code",
   "execution_count": null,
   "id": "820075ab",
   "metadata": {},
   "outputs": [],
   "source": [
    "df.loc[df['name'] .str.contains('УПЗ')]"
   ]
  },
  {
   "cell_type": "code",
   "execution_count": null,
   "id": "aa21a951",
   "metadata": {},
   "outputs": [],
   "source": [
    "# Посмотрим строки датафрейма, название вакансии которых содержат нехарактерные для DA, DE, DS слова\n",
    "\n",
    "mask = df['name'].str.contains('1С|УПЗ|Сухум')\n",
    "df.loc[mask, ['id', 'name', 'alternate_url', 'professional_roles_name']]"
   ]
  },
  {
   "attachments": {},
   "cell_type": "markdown",
   "id": "35ebf28e",
   "metadata": {},
   "source": [
    "Избавимся от нерелевантных вакансий, таких как Java Developer, Разработчик C#, Инженер DevOps и даже Инженер-геодезист, непонятно каким образом попавшей в выборку."
   ]
  },
  {
   "cell_type": "code",
   "execution_count": null,
   "id": "25b875aa",
   "metadata": {},
   "outputs": [],
   "source": [
    "# Удаляем строки из датафрейма по маске\n",
    "df.drop(df.loc[mask].index, inplace=True)\n"
   ]
  },
  {
   "cell_type": "code",
   "execution_count": null,
   "id": "451e3bd2",
   "metadata": {},
   "outputs": [],
   "source": [
    "# Переиндексируем даатфрейм\n",
    "df = df.reset_index(drop=True)"
   ]
  },
  {
   "cell_type": "code",
   "execution_count": null,
   "id": "4bd4c74c",
   "metadata": {},
   "outputs": [],
   "source": [
    "df.head()"
   ]
  },
  {
   "cell_type": "code",
   "execution_count": null,
   "id": "83a530ea",
   "metadata": {},
   "outputs": [],
   "source": [
    "# Для каждой вакансии по запросу, включающему ее номер, можно получить полное описание\n",
    "\n",
    "# ID вакансии, которую нужно получить\n",
    "vacancy_id = '79110745'\n",
    "\n",
    "# Справочник для переменной GET-запроса\n",
    "params = {\n",
    "    'id': vacancy_id\n",
    "}\n",
    "\n",
    "req = requests.get('https://api.hh.ru/vacancies/{}'.format(vacancy_id), params=params, timeout=20)\n",
    "data = req.content.decode()\n",
    "req.close()\n",
    "\n",
    "# Преобразуем ответ сервера в словарь\n",
    "response = json.loads(data)\n",
    "\n",
    "# Получаем полное описание вакансии\n",
    "description = response['description']"
   ]
  },
  {
   "cell_type": "code",
   "execution_count": null,
   "id": "9ab7b0ae",
   "metadata": {},
   "outputs": [],
   "source": [
    "description"
   ]
  },
  {
   "cell_type": "code",
   "execution_count": null,
   "id": "7ee544fd",
   "metadata": {},
   "outputs": [],
   "source": [
    "df.loc[df['id'] == '78954091']"
   ]
  },
  {
   "cell_type": "code",
   "execution_count": null,
   "id": "4fb95a51",
   "metadata": {},
   "outputs": [],
   "source": [
    "# def get_description_from_api(vacancy_id):\n",
    "#     \"\"\"\n",
    "#     Получает описание вакансии по её id через API hh.ru.\n",
    "    \n",
    "#     :param vacancy_id: id вакансии.\n",
    "#     :return: Описание вакансии.\n",
    "#     \"\"\"\n",
    "#     # Задаем параметры запроса.\n",
    "#     params = {\n",
    "#         'host': 'https://api.hh.ru',\n",
    "#         'user_agent': 'api-test-agent/1.0',\n",
    "#         'headers': {\n",
    "#             'User-Agent': 'api-test-agent/1.0'\n",
    "#         }\n",
    "#     }\n",
    "    \n",
    "#     # Формируем URL запроса.\n",
    "#     url = f\"{params['host']}/vacancies/{vacancy_id}\"\n",
    "    \n",
    "#     # Отправляем запрос к API.\n",
    "#     response = requests.get(url, headers=params['headers'])\n",
    "    \n",
    "#     # Обрабатываем результат запроса.\n",
    "#     if response.status_code == 200:\n",
    "#         vacancy_data = response.json()\n",
    "#         description = vacancy_data['description']\n",
    "#         return description\n",
    "#     else:\n",
    "#         return None\n",
    "\n",
    "\n",
    "# def add_description_to_dataframe(df):\n",
    "#     \"\"\"\n",
    "#     Добавляет описание вакансии в датафрейм.\n",
    "    \n",
    "#     :param df: Датафрейм с вакансиями.\n",
    "#     :return: Датафрейм с добавленными описаниями вакансий.\n",
    "#     \"\"\"\n",
    "#     # Создаем новый столбец для описаний вакансий.\n",
    "#     df['description'] = None\n",
    "    \n",
    "#     # Проходим по всем вакансиям в датафрейме.\n",
    "#     for index, row in df.iterrows():\n",
    "#         # Получаем id вакансии.\n",
    "#         vacancy_id = row['id']\n",
    "        \n",
    "#         # Получаем описание вакансии.\n",
    "#         description = get_description_from_api(vacancy_id)\n",
    "        \n",
    "#         # Записываем описание вакансии в датафрейм.\n",
    "#         df.at[index, 'description'] = description\n",
    "    \n",
    "#     return df"
   ]
  },
  {
   "cell_type": "code",
   "execution_count": null,
   "id": "2a8d601b",
   "metadata": {},
   "outputs": [],
   "source": [
    "# Получаем описания для каждой вакансии датафрейма, записываем результат\n",
    "\n",
    "def get_description(vacancy_id):\n",
    "    url = f'https://api.hh.ru/vacancies/{vacancy_id}'\n",
    "    headers = {'User-Agent': 'Mozilla/5.0'}\n",
    "    description = \"\"\n",
    "    while True:\n",
    "        try:\n",
    "            response = requests.get(url, headers=headers)\n",
    "            if response.ok:\n",
    "                data = response.json()\n",
    "                description = data['description']\n",
    "            break\n",
    "        except requests.exceptions.RequestException:\n",
    "            print(f\"Ошибка получения описания вакансии {vacancy_id}. Повтор запроса через 5 секунд.\")\n",
    "            time.sleep(5)\n",
    "            continue\n",
    "    return description\n",
    "\n",
    "# Применяем функцию для каждой вакансии в датафрейме и записываем результат в новый столбец\n",
    "df['description'] = df['id'].apply(get_description)\n"
   ]
  },
  {
   "cell_type": "code",
   "execution_count": null,
   "id": "a75d032f",
   "metadata": {},
   "outputs": [],
   "source": [
    "# Проверяем, что все значения в столбце id являются строками\n",
    "print(df['id'].apply(type).value_counts())\n",
    "\n",
    "# Преобразуем все значения в столбце id в строковый тип\n",
    "df['id'] = df['id'].astype(str)\n",
    "\n",
    "# Выбираем только уникальные идентификаторы вакансий\n",
    "unique_ids = df['id'].unique()\n",
    "print(len(unique_ids))\n",
    "\n",
    "# Проверяем, что количество уникальных идентификаторов вакансий совпадает с общим количеством вакансий в датафрейме\n",
    "print(len(unique_ids) == len(df))\n"
   ]
  },
  {
   "cell_type": "code",
   "execution_count": null,
   "id": "1193e105",
   "metadata": {},
   "outputs": [],
   "source": [
    "# Выбираем первые 10 вакансий и выводим их описание\n",
    "for index, row in df.head(10).iterrows():\n",
    "    print(get_description(row['id']))\n"
   ]
  },
  {
   "cell_type": "code",
   "execution_count": null,
   "metadata": {},
   "outputs": [],
   "source": [
    "get_description(79110745)"
   ]
  },
  {
   "cell_type": "code",
   "execution_count": null,
   "id": "ae5c2f72",
   "metadata": {},
   "outputs": [],
   "source": [
    "def get_description(vacancy_id):\n",
    "    url = f'https://api.hh.ru/vacancies/{vacancy_id}'\n",
    "    headers = {'User-Agent': 'Mozilla/5.0'}\n",
    "    description = \"\"\n",
    "    while True:\n",
    "        try:\n",
    "            response = requests.get(url, headers=headers)\n",
    "            if response.ok:\n",
    "                data = response.json()\n",
    "                description = data['description']\n",
    "                break\n",
    "        except requests.exceptions.RequestException:\n",
    "            print(f\"Ошибка получения описания вакансии {vacancy_id}. Повтор запроса через 5 секунд.\")\n",
    "            time.sleep(5)\n",
    "            continue\n",
    "    return description\n"
   ]
  },
  {
   "cell_type": "code",
   "execution_count": null,
   "id": "356a2777",
   "metadata": {},
   "outputs": [],
   "source": [
    "df.description.unique()"
   ]
  },
  {
   "cell_type": "code",
   "execution_count": null,
   "id": "af94724b",
   "metadata": {},
   "outputs": [],
   "source": [
    "# df['description']\n",
    "df"
   ]
  },
  {
   "cell_type": "code",
   "execution_count": null,
   "id": "8f6dbb77",
   "metadata": {},
   "outputs": [],
   "source": [
    "get_description_from_api(78298565)"
   ]
  },
  {
   "cell_type": "code",
   "execution_count": null,
   "id": "6540a936",
   "metadata": {},
   "outputs": [],
   "source": [
    "df['type.name'].unique()"
   ]
  },
  {
   "cell_type": "code",
   "execution_count": null,
   "id": "368f6cfb",
   "metadata": {},
   "outputs": [],
   "source": [
    "df.loc[df['type.name'] == 'Рекламная']"
   ]
  },
  {
   "cell_type": "code",
   "execution_count": null,
   "id": "2521d6ae",
   "metadata": {},
   "outputs": [],
   "source": [
    "df.to_csv ('data/data.csv', index= False )"
   ]
  },
  {
   "cell_type": "code",
   "execution_count": null,
   "id": "1b7311c1",
   "metadata": {},
   "outputs": [],
   "source": [
    "df['description'].isna().sum()"
   ]
  },
  {
   "cell_type": "code",
   "execution_count": null,
   "id": "3bc74b1f",
   "metadata": {},
   "outputs": [],
   "source": [
    "df = pd.read_csv('data/data.csv')"
   ]
  },
  {
   "cell_type": "code",
   "execution_count": null,
   "id": "b6b6a963",
   "metadata": {},
   "outputs": [],
   "source": [
    "df"
   ]
  },
  {
   "cell_type": "code",
   "execution_count": null,
   "id": "154fb731",
   "metadata": {},
   "outputs": [],
   "source": [
    "df.info()"
   ]
  },
  {
   "cell_type": "code",
   "execution_count": null,
   "id": "26b32588",
   "metadata": {},
   "outputs": [],
   "source": [
    "df = df[\n",
    "    [\n",
    "        \"id\",\n",
    "        \"premium\",\n",
    "        \"name\",\n",
    "        \"has_test\",\n",
    "        \"response_letter_required\",\n",
    "        \"published_at\",\n",
    "        \"created_at\",\n",
    "        \"archived\",\n",
    "        \"alternate_url\",\n",
    "        \"relations\",\n",
    "        \"working_days\",\n",
    "        \"working_time_intervals\",\n",
    "        \"working_time_modes\",\n",
    "        \"accept_temporary\",\n",
    "        \"professional_roles_id\",\n",
    "        \"professional_roles_name\",\n",
    "        \"accept_incomplete_resumes\",\n",
    "        \"department.name\",\n",
    "        \"area.name\",\n",
    "        \"salary.from\",\n",
    "        \"salary.to\",\n",
    "        \"salary.currency\",\n",
    "        \"salary.gross\",\n",
    "        \"type.name\",\n",
    "        \"employer.name\",\n",
    "        \"employer.alternate_url\",\n",
    "        \"employer.vacancies_url\",\n",
    "        \"employer.trusted\",\n",
    "        \"address.city\",\n",
    "        \"address.street\",\n",
    "        \"address.building\",\n",
    "        \"address.lat\",\n",
    "        \"address.lng\",\n",
    "        \"address.raw\",\n",
    "        \"address.metro.station_name\",\n",
    "        \"address.metro.line_name\",\n",
    "        \"address.metro.station_id\",\n",
    "        \"address.metro.line_id\",\n",
    "        \"address.metro.lat\",\n",
    "        \"address.metro.lng\",\n",
    "    ]\n",
    "]"
   ]
  },
  {
   "cell_type": "code",
   "execution_count": null,
   "id": "e6c4ba8e",
   "metadata": {},
   "outputs": [],
   "source": [
    "df['response_letter_required'].unique()"
   ]
  },
  {
   "cell_type": "code",
   "execution_count": null,
   "id": "fcf7bebe",
   "metadata": {},
   "outputs": [],
   "source": [
    "# Напишем функцию, которая переведет все столбцы датасета в numeric\n",
    "# Если это столбец с датой, переводим в формат datetime\n",
    "\n",
    "def convert_columns(df):\n",
    "    for col in df.columns:\n",
    "        if 'date' in col.lower():\n",
    "            try:\n",
    "                df[col] = pd.to_datetime(df[col])\n",
    "            except:\n",
    "                pass\n",
    "        else:\n",
    "            try:\n",
    "                df[col] = df[col].astype(float)\n",
    "            except:\n",
    "                pass\n",
    "    return df"
   ]
  },
  {
   "cell_type": "code",
   "execution_count": null,
   "id": "97a00ad6",
   "metadata": {},
   "outputs": [],
   "source": [
    "df = convert_columns(df)"
   ]
  },
  {
   "cell_type": "code",
   "execution_count": null,
   "id": "31a3487d",
   "metadata": {},
   "outputs": [],
   "source": [
    "df.info()"
   ]
  },
  {
   "cell_type": "code",
   "execution_count": null,
   "id": "b0213600",
   "metadata": {},
   "outputs": [],
   "source": [
    "# Уберем теги из описаний вакансий при помощи ранее созданной функции\n",
    "\n",
    "df[['description']] = df[['description']].applymap(remove_tags)"
   ]
  },
  {
   "cell_type": "code",
   "execution_count": null,
   "id": "62b3c93b",
   "metadata": {},
   "outputs": [],
   "source": [
    "numeric_cols = df.select_dtypes(include=[np.number]).columns.tolist()\n",
    "categorical_cols = df.select_dtypes(include=['object']).columns.tolist()\n",
    "print(f'Количество цифровых признаков -- {len(numeric_cols)}')\n",
    "print(f'Цифровые признаки: {numeric_cols}')\n",
    "print(f'Количество строковых признаков -- {len(categorical_cols)}')\n",
    "print(f'Строковые признаки: {categorical_cols}')"
   ]
  },
  {
   "cell_type": "code",
   "execution_count": null,
   "id": "bd4f2596",
   "metadata": {},
   "outputs": [],
   "source": [
    "fig, ax = plt.subplots(figsize=(10, 8))\n",
    "colours = ['#993366', '#FFFF00']\n",
    "sns.heatmap(df.isnull(), cmap=sns.color_palette(colours), ax=ax)\n",
    "# Decorations\n",
    "plt.title('Матрица пропущенных значений набора данных', fontsize=12)\n",
    "plt.xticks(fontsize=10)\n",
    "plt.yticks(fontsize=10)\n",
    "plt.show()\n"
   ]
  },
  {
   "cell_type": "code",
   "execution_count": null,
   "id": "645c378d",
   "metadata": {},
   "outputs": [],
   "source": [
    "df.describe()\n"
   ]
  },
  {
   "attachments": {},
   "cell_type": "markdown",
   "id": "03c67687",
   "metadata": {},
   "source": [
    "Кластеризация текстовых данных - это сложная задача машинного обучения, но можно использовать различные методы для ее решения. Вот несколько подходов:\n",
    "\n",
    "1.Кластеризация на основе слов: вы можете использовать методы машинного обучения, такие как K-средних или DBSCAN, чтобы кластеризовать описания вакансий на основе слов в тексте. В этом случае вам нужно будет создать матрицу признаков, используя методы векторизации, такие как TF-IDF или Word2Vec, чтобы преобразовать текст в числовые значения. Затем можно использовать эти числа в качестве входных данных для алгоритма кластеризации.\n",
    "\n",
    "2.Кластеризация на основе тем: другой подход - использовать тематическое моделирование для кластеризации описаний вакансий на основе тем, которые встречаются в тексте. Например, можно использовать методы LDA (Latent Dirichlet Allocation) или NMF (Non-Negative Matrix Factorization), чтобы найти темы, связанные с определенными профессиональными навыками или областями. Затем можно кластеризовать описания вакансий на основе этих тем.\n",
    "\n",
    "3.Кластеризация на основе эмбеддингов: еще один подход - использовать предварительно обученные модели эмбеддингов (например, Word2Vec или GloVe), чтобы преобразовать текст в числовые векторы, представляющие значения слов. Затем можно использовать алгоритмы кластеризации, такие как DBSCAN или AgglomerativeClustering, чтобы кластеризовать описания вакансий на основе этих эмбеддингов.\n",
    "\n",
    "Какой из этих подходов выбрать зависит от вашей задачи и доступных ресурсов. В любом случае, для успешной кластеризации необходимо иметь достаточно большой и разнообразный набор данных.\n",
    "\n",
    "Воспользуемся Word2Vec:"
   ]
  },
  {
   "cell_type": "code",
   "execution_count": null,
   "id": "ca20aeb8",
   "metadata": {},
   "outputs": [],
   "source": [
    "import gensim\n",
    "from gensim.models import Word2Vec"
   ]
  },
  {
   "cell_type": "code",
   "execution_count": null,
   "id": "49e825d0",
   "metadata": {},
   "outputs": [],
   "source": [
    "# Создадим список списков слов для обучения модели Word2Vec. Для этого необходимо разбить каждое предложение \n",
    "# на список отдельных слов и добавить каждый список в основной список.\n",
    "\n",
    "sentences = df[\"snippet.requirement\"].apply(lambda x: x.split() if x else [])"
   ]
  },
  {
   "cell_type": "code",
   "execution_count": null,
   "id": "afd4830b",
   "metadata": {},
   "outputs": [],
   "source": [
    "model = Word2Vec(sentences, vector_size=300, window=5, min_count=1, workers=4)\n"
   ]
  },
  {
   "cell_type": "code",
   "execution_count": null,
   "id": "39753730",
   "metadata": {},
   "outputs": [],
   "source": [
    "vectors = df['snippet.requirement'].apply(lambda x: model.wv[x.split()]).tolist()"
   ]
  },
  {
   "cell_type": "code",
   "execution_count": null,
   "id": "21b01f37",
   "metadata": {},
   "outputs": [],
   "source": [
    "df['snippet.requirement'].isna().sum()"
   ]
  },
  {
   "cell_type": "code",
   "execution_count": null,
   "id": "6c120973",
   "metadata": {},
   "outputs": [],
   "source": [
    "df.shape"
   ]
  },
  {
   "cell_type": "code",
   "execution_count": null,
   "id": "6c4732f9",
   "metadata": {},
   "outputs": [],
   "source": [
    "df = df.dropna(subset=['snippet.requirement'])"
   ]
  },
  {
   "cell_type": "code",
   "execution_count": null,
   "id": "926fd3c9",
   "metadata": {},
   "outputs": [],
   "source": [
    "df.shape"
   ]
  },
  {
   "cell_type": "code",
   "execution_count": null,
   "id": "04a3bd9a",
   "metadata": {},
   "outputs": [],
   "source": [
    "import numpy as np\n",
    "vectors = np.array(df['snippet.requirement'].apply(lambda x: model.wv[x.split()]).tolist())\n"
   ]
  },
  {
   "attachments": {},
   "cell_type": "markdown",
   "id": "92db1af2",
   "metadata": {},
   "source": [
    "Для кластеризации векторов описаний вакансий можно использовать алгоритм кластеризации KMeans, который является одним из наиболее распространенных методов машинного обучения для кластеризации данных."
   ]
  },
  {
   "cell_type": "code",
   "execution_count": null,
   "id": "5084f744",
   "metadata": {},
   "outputs": [],
   "source": [
    "from sklearn.cluster import KMeans\n",
    "\n",
    "# Выберем количество кластеров\n",
    "num_clusters = 10\n",
    "\n",
    "# Инициализируем kmeans\n",
    "kmeans = KMeans(n_clusters=num_clusters, init='k-means++', max_iter=100)\n",
    "\n",
    "# Обучаем kmeans на наших векторах\n",
    "X = vectors\n",
    "kmeans.fit(X)\n",
    "\n",
    "# Получаем метки кластеров для наших векторов\n",
    "cluster_labels = kmeans.labels_\n"
   ]
  },
  {
   "cell_type": "code",
   "execution_count": null,
   "id": "4e8fad8a",
   "metadata": {},
   "outputs": [],
   "source": [
    "# Ошибка выше происходит из-за того, что массив содержит векторы разной длины\n",
    "# Определим максимальную длину вектора среди всех векторов в списке:\n",
    "max_len = max(len(v) for v in vectors)\n",
    "\n",
    "# Добавим недостающие элементы в конец каждого вектора, заполнив их нулями:\n",
    "for i, v in enumerate(vectors):\n",
    "    vectors[i] = np.pad(v, (0, max_len - len(v)), 'constant')"
   ]
  }
 ],
 "metadata": {
  "kernelspec": {
   "display_name": "Python 3 (ipykernel)",
   "language": "python",
   "name": "python3"
  },
  "language_info": {
   "codemirror_mode": {
    "name": "ipython",
    "version": 3
   },
   "file_extension": ".py",
   "mimetype": "text/x-python",
   "name": "python",
   "nbconvert_exporter": "python",
   "pygments_lexer": "ipython3",
   "version": "3.9.16"
  }
 },
 "nbformat": 4,
 "nbformat_minor": 5
}
