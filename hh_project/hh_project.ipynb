{
 "cells": [
  {
   "attachments": {},
   "cell_type": "markdown",
   "id": "c3b1c3b7",
   "metadata": {},
   "source": [
    "Существует множество специальностей в области работы с данными, так как это достаточно широкая область. Некоторые из них:\n",
    "\n",
    "1. Data Analyst (аналитик данных)\n",
    "2. Data Scientist (ученый по данным)\n",
    "3. Data Engineer (инженер данных)\n",
    "4. Business Intelligence Analyst (аналитик бизнес-интеллекта)\n",
    "5. Machine Learning Engineer (инженер машинного обучения)\n",
    "6. Big Data Engineer (инженер больших данных)\n",
    "7. Database Administrator (администратор баз данных)\n",
    "8. Data Visualization Specialist (специалист по визуализации данных)\n",
    "9. Data Architect (архитектор данных)\n",
    "10. Quantitative Analyst (квантитативный аналитик)\n",
    "11. Data Mining Engineer (инженер по добыче данных)\n",
    "12. Predictive Analyst (аналитик прогнозирования)\n",
    "13. Data Governance Analyst (аналитик управления данными)\n",
    "14. Data Quality Analyst (аналитик качества данных)\n",
    "15. Data Security Analyst (аналитик безопасности данных)\n",
    "16. Data Warehousing Analyst (аналитик хранилища данных)\n",
    "\n",
    "И другие.\n",
    "\n",
    "Их можно разделить на следующие группы:\n",
    "\n",
    "1. Аналитики данных - специалисты, которые занимаются анализом данных и построением статистических моделей для выявления закономерностей, трендов и прогнозирования будущих событий.\n",
    "\n",
    "2. Инженеры данных - специалисты, которые отвечают за создание и поддержку инфраструктуры для хранения, обработки и передачи данных, в том числе баз данных, ETL-процессов и инструментов автоматизации.\n",
    "\n",
    "3. Data-сайентисты - специалисты, которые обладают широкими знаниями в области анализа данных, статистики и машинного обучения, и могут решать сложные задачи в области предиктивной аналитики и машинного обучения.\n",
    "\n",
    "4. Специалисты по визуализации данных - специалисты, которые занимаются созданием визуализаций для представления данных в понятном и наглядном виде.\n",
    "\n",
    "5. Бизнес-аналитики - специалисты, которые занимаются анализом данных с целью оптимизации бизнес-процессов и принятия решений на основе данных.\n",
    "\n",
    "6. Big Data-специалисты - специалисты, которые занимаются обработкой и анализом больших объемов данных, включая работу с распределенными системами хранения и обработки данных."
   ]
  },
  {
   "cell_type": "code",
   "execution_count": 102,
   "id": "768190bd",
   "metadata": {},
   "outputs": [],
   "source": [
    "import requests                 # Библиотека работы с HTTP-запросами по API\n",
    "import json                     # Для обработки полученных результатов запросов\n",
    "import time                     # Для задержки между запросами\n",
    "import os                       # Для работы с файлами\n",
    "import pandas as pd             # Для формирования датафрейма с результатами\n",
    "import re                       # Для работы с регулярными выражениями\n",
    "import numpy as np              # Библиотека работы с массивами\n",
    "import seaborn as sns           # Статистическая визуализация данных\n",
    "import matplotlib.pyplot as plt # Визуализация данных\n",
    "import plotly.graph_objs as go\n",
    "from bs4 import BeautifulSoup\n",
    "from sklearn.cluster import KMeans, DBSCAN\n",
    "from sklearn.metrics import silhouette_score\n",
    "import plotly.express as px\n",
    "import warnings\n",
    "warnings.filterwarnings('ignore')\n",
    "from nltk.corpus import stopwords\n"
   ]
  },
  {
   "cell_type": "code",
   "execution_count": null,
   "id": "c6b2848b",
   "metadata": {},
   "outputs": [],
   "source": [
    "###\n",
    "# Получили ошибку BAD GATEWAY, надо переписать код\n",
    "###\n",
    "\n",
    "# def get_vacancies(job_title, page=0, retries=5):\n",
    "#     '''Функция запроса страницы.\n",
    "#        job_title - наименование вакансии\n",
    "#        page - Индекс страницы\n",
    "#        retries - количество попыток повторения запроса\n",
    "#        (по умолчанию начинается с первой страницы)'''\n",
    "\n",
    "#     # Справочник для переменной GET-запроса\n",
    "#     # Значения для указания значений в справочнике \n",
    "#     # указаны в документации к API hh.ru по ссылке: \n",
    "#     # https://github.com/hhru/api\n",
    "#     params = {\n",
    "#         'text': job_title,\n",
    "#         'area': 113,\n",
    "#         'page': page,\n",
    "#         'per_page': 100\n",
    "#     }\n",
    "\n",
    "#     for i in range(retries):\n",
    "#         try:\n",
    "#             req = requests.get('https://api.hh.ru/vacancies', params, timeout=20)\n",
    "#             data = req.content.decode()\n",
    "#             req.close()\n",
    "#             return data\n",
    "#         except requests.exceptions.RequestException as e:\n",
    "#             print(f\"Ошибка при запросе страницы {page}: {e}\")\n",
    "#             print(f\"Попытка {i+1}/{retries}...\")\n",
    "#             time.sleep(0.25)\n",
    "\n",
    "#     print(f\"Не удалось получить данные для страницы {page}\")\n",
    "#     return None\n",
    "\n",
    "# # Сделаем запрос к API hh.ru по вакансиям\n",
    "\n",
    "# vacancies = []\n",
    "# vacancies_ids = set()\n",
    "# job_titles = [\n",
    "#     \"data engineer\",\n",
    "#     \"data analyst\",\n",
    "#     \"data scientist\",\n",
    "#     \"аналитик данных\",\n",
    "#     \"аналитик\",\n",
    "#     \"analyst\",\n",
    "#     \"инженер данных\",\n",
    "#     \"BI\",\n",
    "#     \"data\",\n",
    "#     \"дата\",\n",
    "#     \"ETL\",\n",
    "# ]\n",
    "\n",
    "# for job_title in job_titles:\n",
    "#     for page in range(0, 100):\n",
    "#         # Запрашиваем страницу с вакансиями\n",
    "#         response = json.loads(get_vacancies(job_title, page))\n",
    "#         # Получаем список вакансий на странице\n",
    "#         items = response['items']\n",
    "#         for item in items:\n",
    "#             # Проверяем, что вакансия не была уже добавлена в список\n",
    "#             if item['id'] not in vacancies_ids:\n",
    "#                 # Проверяем, что в названии вакансии есть искомое слово\n",
    "#                 if any(title in item['name'].lower() for title in job_titles):\n",
    "#                     # Добавляем вакансию в список\n",
    "#                     vacancies.append(item)\n",
    "#                     # Добавляем id вакансии во множество уже просмотренных id\n",
    "#                     vacancies_ids.add(item['id'])\n",
    "#         # Проверяем, является ли страница последней\n",
    "#         if response['pages'] - page <= 1:\n",
    "#             break\n",
    "#         # Делаем задержку между запросами\n",
    "#         time.sleep(0.25)\n",
    "\n",
    "# # Сохраняем полученные вакансии в файле\n",
    "# with open('data/vacancies.json', 'w', encoding='utf-8') as f:\n",
    "#     json.dump(vacancies, f, ensure_ascii=False, indent=4)\n",
    "\n",
    "# print('Вакансии по запросу собраны и сохранены в файл vacancies.json')\n",
    "# # Количество вакансий\n",
    "# print(f\"Количество собранных вакансий: {len(vacancies)}\")\n",
    "\n",
    "# # Количество уникальных значений ключа 'name'\n",
    "# unique_names = set([v['name'] for v in vacancies])\n",
    "# names_count = len(unique_names)\n",
    "\n",
    "# print(f\"Количество уникальных названий вакансий: {names_count}\")\n"
   ]
  },
  {
   "cell_type": "code",
   "execution_count": null,
   "id": "462ea7b3",
   "metadata": {},
   "outputs": [],
   "source": [
    "def get_vacancies(job_title, page=0, retries=5):\n",
    "    '''Функция запроса страницы.\n",
    "       job_title - наименование вакансии\n",
    "       page - Индекс страницы\n",
    "       retries - количество попыток повторения запроса\n",
    "       (по умолчанию начинается с первой страницы)'''\n",
    "\n",
    "    # Справочник для переменной GET-запроса\n",
    "    # Значения для указания значений в справочнике \n",
    "    # указаны в документации к API hh.ru по ссылке: \n",
    "    # https://github.com/hhru/api\n",
    "    params = {\n",
    "        'text': job_title,\n",
    "        'area': 113,\n",
    "        'page': page,\n",
    "        'per_page': 100\n",
    "    }\n",
    "\n",
    "    for i in range(retries):\n",
    "        try:\n",
    "            req = requests.get('https://api.hh.ru/vacancies', params, timeout=20)\n",
    "            data = req.content.decode()\n",
    "            req.close()\n",
    "            response = json.loads(data)\n",
    "            # Проверяем, что в ответе нет ошибки Bad Gateway\n",
    "            if 'errors' in response and any(error['type'] == 'bad_gateway' for error in response['errors']):\n",
    "                print('Получена ошибка Bad Gateway. Повторяем через {retry_time} сек.')\n",
    "                if i == retries - 1:\n",
    "                    print('Не удалось выполнить запрос. Проверьте соединение.')\n",
    "                    return None\n",
    "                time.sleep(3 * (2 ** i))\n",
    "                continue\n",
    "            return data\n",
    "        except requests.exceptions.RequestException as e:\n",
    "            print(f\"Ошибка при запросе страницы {page}: {e}\")\n",
    "            print(f\"Попытка {i+1}/{retries}...\")\n",
    "            time.sleep(0.25)\n",
    "\n",
    "    print(f\"Не удалось получить данные для страницы {page}\")\n",
    "    return None\n",
    "\n",
    "\n",
    "# Сделаем запрос к API hh.ru по вакансиям\n",
    "\n",
    "vacancies = []\n",
    "vacancies_ids = set()\n",
    "job_titles = [\n",
    "    \"data engineer\",\n",
    "    \"инженер данных\",\n",
    "    \"data analyst\",\n",
    "    \"аналитик данных\",\n",
    "    \"аналитик\",\n",
    "    \"analyst\",\n",
    "    \"data\",\n",
    "    \"дата\",\n",
    "    \"data scientist\",\n",
    "    \"сайнтист\",\n",
    "    \"сайнс\"\n",
    "    \"BI\",\n",
    "    \"ETL\"\n",
    "]\n",
    "\n",
    "for job_title in job_titles:\n",
    "    for page in range(0, 100):\n",
    "        # Запрашиваем страницу с вакансиями\n",
    "        response = json.loads(get_vacancies(job_title, page))\n",
    "        # Получаем список вакансий на странице\n",
    "        items = response['items']\n",
    "        for item in items:\n",
    "            # Проверяем, что вакансия не была уже добавлена в список\n",
    "            if item['id'] not in vacancies_ids:\n",
    "                # Проверяем, что в названии вакансии есть искомое слово\n",
    "                if any(title in item['name'].lower() for title in job_titles):\n",
    "                    # Добавляем вакансию в список\n",
    "                    vacancies.append(item)\n",
    "                    # Добавляем id вакансии во множество уже просмотренных id\n",
    "                    vacancies_ids.add(item['id'])\n",
    "        # Проверяем, является ли страница последней\n",
    "        if response['pages'] - page <= 1:\n",
    "            break\n",
    "        # Делаем задержку между запросами\n",
    "        time.sleep(0.25)\n",
    "\n",
    "# Сохраняем полученные вакансии в файле\n",
    "with open('data/vacancies.json', 'w', encoding='utf-8') as f:\n",
    "    json.dump(vacancies, f, ensure_ascii=False, indent=4)\n",
    "\n",
    "print('Вакансии по запросу собраны и сохранены в файл vacancies.json')\n",
    "# Количество вакансий\n",
    "print(f\"Количество собранных вакансий: {len(vacancies)}\")\n",
    "\n",
    "# Количество уникальных значений ключа 'name'\n",
    "unique_names = set([v['name'] for v in vacancies])\n",
    "names_count = len(unique_names)\n",
    "\n",
    "print(f\"Количество уникальных названий вакансий: {names_count}\")"
   ]
  },
  {
   "cell_type": "code",
   "execution_count": null,
   "id": "8ce6081d",
   "metadata": {},
   "outputs": [],
   "source": [
    "# Теперь получим полные описания для всех собранных вакансий\n",
    "\n",
    "def get_description(vacancy_id):\n",
    "    url = f'https://api.hh.ru/vacancies/{vacancy_id}'\n",
    "    headers = {'User-Agent': 'Mozilla/5.0'}\n",
    "    description = \"\"\n",
    "\n",
    "    while True:\n",
    "        try:\n",
    "            response = requests.get(url, headers=headers)\n",
    "            if response.status_code == 200:\n",
    "                data = response.json()\n",
    "                description = data['description']\n",
    "                time.sleep(0.5)\n",
    "                break\n",
    "            elif response.status_code == 403:\n",
    "                raise ValueError(\"Требуется решить капчу. Прекращение выполнения функции.\")\n",
    "        except requests.exceptions.RequestException:\n",
    "            print(f\"Ошибка получения описания вакансии {vacancy_id}. Повтор запроса через 0.2 секунды.\")\n",
    "            time.sleep(0.2)\n",
    "            continue\n",
    "    \n",
    "    return description"
   ]
  },
  {
   "cell_type": "code",
   "execution_count": null,
   "id": "6d751f97",
   "metadata": {},
   "outputs": [],
   "source": [
    "description"
   ]
  },
  {
   "cell_type": "code",
   "execution_count": null,
   "id": "c3bcc6ff",
   "metadata": {},
   "outputs": [],
   "source": [
    "# Чтение файла vacancies.json и создание словаря vacancies_dict\n",
    "with open('data/vacancies.json', 'r', encoding='utf-8') as f:\n",
    "    vacancies = json.load(f)\n",
    "vacancies_dict = {vacancy[\"id\"]: \"\" for vacancy in vacancies}"
   ]
  },
  {
   "cell_type": "code",
   "execution_count": null,
   "id": "15cca4b8",
   "metadata": {},
   "outputs": [],
   "source": [
    "# Получим незагруженные описания вакансий\n",
    "\n",
    "# Обход словаря vacancies_dict и заполнение значениями ключа \"description\"\n",
    "# делаем это для вакансий, описание которых еще не получили \n",
    "\n",
    "def fill_vacancy_descriptions(vacancies_dict):\n",
    "    for vacancy_id in vacancies_dict:\n",
    "        if not vacancies_dict[vacancy_id]:\n",
    "            try:\n",
    "                vacancies_dict[vacancy_id] = get_description(vacancy_id)\n",
    "                time.sleep(0.2)\n",
    "            except ValueError as e:\n",
    "                print(e)\n",
    "                break\n",
    "    return vacancies_dict\n",
    "\n",
    "filled_dict = fill_vacancy_descriptions(vacancies_dict)"
   ]
  },
  {
   "cell_type": "code",
   "execution_count": null,
   "id": "4bea02ec",
   "metadata": {},
   "outputs": [],
   "source": [
    "new_description"
   ]
  },
  {
   "cell_type": "code",
   "execution_count": null,
   "id": "8d1bace4",
   "metadata": {},
   "outputs": [],
   "source": [
    "# МОДУЛЬ ДОЗАПОЛНЕНИЯ\n",
    "\n",
    "# Чтение файла vacancies_with_descriptions.json и создание словаря vacancies_dict\n",
    "with open('data/vacancies_with_descriptions.json', 'r', encoding='utf-8') as f:\n",
    "    vacancies = json.load(f)\n",
    "vacancies_dict = {vacancy[\"id\"]: vacancy[\"description\"] for vacancy in vacancies}\n",
    "\n",
    "# заполняем описание вакансий, у которых в ключе дескрипшн пусто \n",
    "def fill_vacancy_descriptions(vacancies_dict):\n",
    "    for id, description in vacancies_dict.items():\n",
    "        if not description:\n",
    "            try:\n",
    "                new_description = get_description(id)\n",
    "                if new_description:\n",
    "                    vacancies_dict[id] = new_description\n",
    "                    time.sleep(0.2)\n",
    "            except ValueError as e:\n",
    "                print(e)\n",
    "                break\n",
    "    return vacancies_dict\n",
    "\n",
    "filled_dict = fill_vacancy_descriptions(vacancies_dict)\n"
   ]
  },
  {
   "cell_type": "code",
   "execution_count": null,
   "id": "9fe2ccc4",
   "metadata": {},
   "outputs": [],
   "source": [
    "vacancies_dict"
   ]
  },
  {
   "cell_type": "code",
   "execution_count": null,
   "id": "c02d0946",
   "metadata": {},
   "outputs": [],
   "source": [
    "# Добавление ключа \"description\" для каждой вакансии, если его нет\n",
    "for vacancy in vacancies:\n",
    "    if \"description\" not in vacancy:\n",
    "        vacancy[\"description\"] = \"\"\n",
    "\n",
    "# Запись описания вакансии в ключ \"description\", если его нет или он пустой\n",
    "for vacancy in vacancies:\n",
    "    if not vacancy[\"description\"]:\n",
    "        vacancy_id = vacancy[\"id\"]\n",
    "        description = vacancies_dict.get(vacancy_id, \"\")\n",
    "        if description:\n",
    "            vacancy[\"description\"] = description\n"
   ]
  },
  {
   "cell_type": "code",
   "execution_count": null,
   "id": "d6131289",
   "metadata": {},
   "outputs": [],
   "source": [
    "# Сохранение результата в файл descriptions.json\n",
    "with open('data/descriptions.json', 'w', encoding='utf-8') as f:\n",
    "    json.dump(vacancies_dict, f, ensure_ascii=False, indent=4)"
   ]
  },
  {
   "cell_type": "code",
   "execution_count": null,
   "id": "c12f7738",
   "metadata": {},
   "outputs": [],
   "source": [
    "# Здесь загрузим ранее собранные вакансии, добавим в них описание из \n",
    "# vacancies_dict  \n",
    "\n",
    "\n",
    "#  Чтение файла vacancies.json и создание словаря vacancies\n",
    "with open('data/vacancies.json', 'r', encoding='utf-8') as f:\n",
    "    vacancies = json.load(f)\n",
    "\n",
    "# Добавление ключа \"description\" для каждой вакансии\n",
    "for vacancy in vacancies:\n",
    "    vacancy[\"description\"] = \"\"\n",
    "\n",
    "# Запись описания вакансии в ключ \"description\"\n",
    "for vacancy in vacancies:\n",
    "    vacancy_id = vacancy[\"id\"]\n",
    "    description = vacancies_dict.get(vacancy_id, \"Описание вакансии не найдено\")\n",
    "    vacancy[\"description\"] = description"
   ]
  },
  {
   "cell_type": "code",
   "execution_count": null,
   "id": "2a737421",
   "metadata": {},
   "outputs": [],
   "source": [
    "# Сохранение результат в файл vacancies_with_descriptions.json\n",
    "with open('data/vacancies_with_descriptions.json', 'w', encoding='utf-8') as f:\n",
    "    json.dump(vacancies, f, ensure_ascii=False, indent=4)"
   ]
  },
  {
   "cell_type": "code",
   "execution_count": null,
   "id": "68fde8fc",
   "metadata": {},
   "outputs": [],
   "source": [
    "# # Сохраняем полученные вакансии в файле\n",
    "# with open('data/vacancies.json', 'w', encoding='utf-8') as f:\n",
    "#     json.dump(vacancies, f, ensure_ascii=False, indent=4)"
   ]
  },
  {
   "cell_type": "code",
   "execution_count": null,
   "id": "ddf47da3",
   "metadata": {},
   "outputs": [],
   "source": [
    "# 79117910"
   ]
  },
  {
   "cell_type": "code",
   "execution_count": null,
   "id": "78c842c4",
   "metadata": {},
   "outputs": [],
   "source": [
    "# import requests\n",
    "# import webbrowser\n",
    "\n",
    "# def get_description(vacancy_id):\n",
    "#     url = f'https://api.hh.ru/vacancies/{vacancy_id}?host=hh.ru'\n",
    "#     response = requests.get(url)\n",
    "#     if response.status_code == 200:\n",
    "#         data = response.json()\n",
    "#         return data['description']\n",
    "#     elif response.status_code == 403 and \"captcha_required\" in response.json()[\"errors\"][0].values():\n",
    "#         captcha_url = response.json()[\"errors\"][0][\"captcha_url\"]\n",
    "#         webbrowser.open(captcha_url)\n",
    "#         input(\"Введите текст с картинки: \")\n",
    "#         return get_description(vacancy_id)\n",
    "#     else:\n",
    "#         response.raise_for_status()\n",
    "\n",
    "# vacancy_id = '79117910' # заменить на нужный номер вакансии\n",
    "\n",
    "# get_description(vacancy_id)\n"
   ]
  },
  {
   "cell_type": "code",
   "execution_count": null,
   "id": "0bc3eae1",
   "metadata": {},
   "outputs": [],
   "source": [
    "# import requests\n",
    "# import webbrowser\n",
    "\n",
    "# def get_description(vacancy_id):\n",
    "#     url = f'https://api.hh.ru/vacancies/{vacancy_id}?host=hh.ru'\n",
    "#     response = requests.get(url)\n",
    "#     if response.status_code == 200:\n",
    "#         data = response.json()\n",
    "#         return data['description']\n",
    "#     else:\n",
    "#         webbrowser.open(response.url)\n",
    "#         response.raise_for_status()\n",
    "\n",
    "# vacancy_id = '79117910' # заменить на нужный номер вакансии\n",
    "\n",
    "# get_description(vacancy_id)\n",
    "\n"
   ]
  },
  {
   "cell_type": "code",
   "execution_count": null,
   "id": "fdffa85a",
   "metadata": {},
   "outputs": [],
   "source": [
    "# vacancy_id = '79117910' # заменить на нужный номер вакансии\n",
    "\n",
    "# get_description(vacancy_id)"
   ]
  },
  {
   "cell_type": "code",
   "execution_count": null,
   "id": "20b03bcf",
   "metadata": {},
   "outputs": [],
   "source": [
    "vacancies_dict = filled_dict"
   ]
  },
  {
   "cell_type": "code",
   "execution_count": null,
   "id": "bc6df5d4",
   "metadata": {},
   "outputs": [],
   "source": [
    "# счетчики в переменной vacancies_dict\n",
    "\n",
    "total_vacancies = len(vacancies_dict)\n",
    "empty_vacancies = sum(1 for desc in vacancies_dict.values() if not desc)\n",
    "filled_vacancies = sum(1 for desc in vacancies_dict.values() if desc)\n",
    "print(f'total: {total_vacancies}')\n",
    "print(f'filled: {filled_vacancies}')\n",
    "print(f'empty: {empty_vacancies}')"
   ]
  },
  {
   "cell_type": "code",
   "execution_count": null,
   "id": "2a7a97bf",
   "metadata": {},
   "outputs": [],
   "source": [
    "# счетчики в переменной filled_dict\n",
    "\n",
    "total_vacancies = len(filled_dict)\n",
    "empty_vacancies = sum(1 for desc in filled_dict.values() if not desc)\n",
    "filled_in_filled = sum(1 for desc in filled_dict.values() if desc)\n",
    "print(f'total: {total_vacancies}')\n",
    "print(f'filled: {filled_in_filled}')\n",
    "print(f'empty: {empty_vacancies}')"
   ]
  },
  {
   "cell_type": "code",
   "execution_count": null,
   "id": "774acc11",
   "metadata": {},
   "outputs": [],
   "source": [
    "# счетчики в переменной vacancies\n",
    "\n",
    "total_in_vacancies = sum(1 for vacancy in vacancies if 'id' in vacancy)\n",
    "count_empty_description = len([vacancy for vacancy in vacancies if not vacancy['description']])\n",
    "count_filled_description = len([vacancy for vacancy in vacancies if vacancy['description']])\n",
    "print(f'total in vacancies: {total_in_vacancies}')\n",
    "print(f'empty in vacancies: {count_empty_description}')\n",
    "print(f'filled in vacancies: {count_filled_description}')"
   ]
  },
  {
   "cell_type": "code",
   "execution_count": null,
   "id": "9a7930b2",
   "metadata": {},
   "outputs": [],
   "source": [
    "filled_dict\n",
    "\n"
   ]
  },
  {
   "cell_type": "code",
   "execution_count": null,
   "id": "5a8ad8bb",
   "metadata": {},
   "outputs": [],
   "source": [
    "vacancies"
   ]
  },
  {
   "cell_type": "code",
   "execution_count": null,
   "id": "494b9740",
   "metadata": {},
   "outputs": [],
   "source": [
    "# def fill_vacancy_descriptions(vacancies_dict, filled_dict=None):\n",
    "#     if filled_dict is None:\n",
    "#         filled_dict = {}\n",
    "#     empty_vacancies = sum([1 for v in vacancies_dict.values() if not v])\n",
    "#     total_vacancies = len(vacancies_dict)\n",
    "#     for i, vacancy_id in enumerate(vacancies_dict):\n",
    "#         try:\n",
    "#             if not vacancies_dict[vacancy_id]:\n",
    "#                 description = get_description(vacancy_id)\n",
    "#                 vacancies_dict[vacancy_id] = description\n",
    "#                 empty_vacancies -= 1\n",
    "#             filled_vacancies = i + 1 - empty_vacancies\n",
    "#             percent_complete = filled_vacancies / total_vacancies * 100\n",
    "#             percent_remaining = empty_vacancies / len(vacancies_dict) * 100\n",
    "#             print(f'Filled {filled_vacancies}/{total_vacancies} '\n",
    "#                   f'({percent_complete:.2f}% complete, {percent_remaining:.2f}% remaining), '\n",
    "#                   f'Current vacancy: {vacancy_id}, '\n",
    "#                   f'Empty vacancies: {empty_vacancies}')\n",
    "#             filled_dict[vacancy_id] = vacancies_dict[vacancy_id]\n",
    "#         except Exception as e:\n",
    "#             print(f'Error occurred at vacancy {vacancy_id}: {e}')\n",
    "#             break\n",
    "#     return filled_dict\n"
   ]
  },
  {
   "cell_type": "code",
   "execution_count": null,
   "id": "74e1148c",
   "metadata": {},
   "outputs": [],
   "source": [
    "# filled_dict = fill_vacancy_descriptions(vacancies_dict)\n",
    "# # Здесь можно остановить выполнение функции в любой момент\n",
    "# # и выполнить код ниже, чтобы продолжить выполнение функции\n"
   ]
  },
  {
   "cell_type": "code",
   "execution_count": null,
   "id": "1fdc827c",
   "metadata": {},
   "outputs": [],
   "source": [
    "# filled_dict = fill_vacancy_descriptions(vacancies_dict, filled_dict=filled_dict)\n"
   ]
  },
  {
   "cell_type": "code",
   "execution_count": 133,
   "id": "dc226e0c",
   "metadata": {},
   "outputs": [
    {
     "name": "stdout",
     "output_type": "stream",
     "text": [
      "Вакансия:\n",
      " Data Engineer / Дата-инженер (Middle)\n",
      "\n",
      "Обязанности:\n",
      " Мероприятия для поддержания хорошего настроения (корпоративы, презентации новых IT-продуктов, сюрпризы). ∙ Разработка архитектуры решений по загрузке данных в кластер. ∙ \n",
      "\n",
      "Требования:\n",
      " Понимание и интерес к области больших данных. Понимание и интерес к <highlighttext>data</highlighttext> science решениям и ML. Желателен опыт работы с...\n"
     ]
    }
   ],
   "source": [
    "# Проверим, попала ли в выборку вакансия, опубликованная на hh одной из последних:\n",
    "\n",
    "# Открываем файл с вакансиями и загружаем их в переменную vacancies\n",
    "with open('data/vacancies.json', 'r', encoding='utf-8') as f:\n",
    "    vacancies = json.load(f)\n",
    "\n",
    "# ID вакансии, которую нужно найти\n",
    "vacancy_id = '78954091'\n",
    "\n",
    "# Поиск вакансии по ID и вывод ее описания\n",
    "for vacancy in vacancies:\n",
    "    if vacancy['id'] == vacancy_id:\n",
    "        print(\"Вакансия:\\n\", vacancy['name'])\n",
    "        print(\"\\nОбязанности:\\n\", vacancy['snippet']['responsibility'])\n",
    "        print(\"\\nТребования:\\n\", vacancy['snippet']['requirement'])\n",
    "        break\n",
    "else:\n",
    "    print(f\"Вакансия с номером {vacancy_id} не найдена\")\n"
   ]
  },
  {
   "cell_type": "code",
   "execution_count": null,
   "id": "83c3341c",
   "metadata": {},
   "outputs": [],
   "source": [
    "\n"
   ]
  },
  {
   "cell_type": "code",
   "execution_count": 2,
   "id": "c794a4ad",
   "metadata": {},
   "outputs": [],
   "source": [
    "# далее загрузим вакансии в пандас датафрейм\n",
    "\n",
    "# открываем json-файл и загружаем данные\n",
    "with open('data/vacancies_with_descriptions.json', 'r', encoding='utf-8') as f:\n",
    "    data = json.load(f)\n",
    "\n",
    "# преобразуем json в pandas dataframe\n",
    "df = pd.json_normalize(data)"
   ]
  },
  {
   "cell_type": "code",
   "execution_count": 3,
   "id": "515c81d0",
   "metadata": {},
   "outputs": [],
   "source": [
    "# Сделаем так, чтобы выводились все столбцы датафрейма\n",
    "pd.set_option('display.max_columns', None)"
   ]
  },
  {
   "cell_type": "code",
   "execution_count": 4,
   "id": "dc7fbe66",
   "metadata": {},
   "outputs": [
    {
     "data": {
      "text/html": [
       "<div>\n",
       "<style scoped>\n",
       "    .dataframe tbody tr th:only-of-type {\n",
       "        vertical-align: middle;\n",
       "    }\n",
       "\n",
       "    .dataframe tbody tr th {\n",
       "        vertical-align: top;\n",
       "    }\n",
       "\n",
       "    .dataframe thead th {\n",
       "        text-align: right;\n",
       "    }\n",
       "</style>\n",
       "<table border=\"1\" class=\"dataframe\">\n",
       "  <thead>\n",
       "    <tr style=\"text-align: right;\">\n",
       "      <th></th>\n",
       "      <th>id</th>\n",
       "      <th>premium</th>\n",
       "      <th>name</th>\n",
       "      <th>department</th>\n",
       "      <th>has_test</th>\n",
       "      <th>response_letter_required</th>\n",
       "      <th>address</th>\n",
       "      <th>response_url</th>\n",
       "      <th>sort_point_distance</th>\n",
       "      <th>published_at</th>\n",
       "      <th>created_at</th>\n",
       "      <th>archived</th>\n",
       "      <th>apply_alternate_url</th>\n",
       "      <th>insider_interview</th>\n",
       "      <th>url</th>\n",
       "      <th>adv_response_url</th>\n",
       "      <th>alternate_url</th>\n",
       "      <th>relations</th>\n",
       "      <th>contacts</th>\n",
       "      <th>schedule</th>\n",
       "      <th>working_days</th>\n",
       "      <th>working_time_intervals</th>\n",
       "      <th>working_time_modes</th>\n",
       "      <th>accept_temporary</th>\n",
       "      <th>professional_roles</th>\n",
       "      <th>accept_incomplete_resumes</th>\n",
       "      <th>description</th>\n",
       "      <th>area.id</th>\n",
       "      <th>area.name</th>\n",
       "      <th>area.url</th>\n",
       "      <th>salary.from</th>\n",
       "      <th>salary.to</th>\n",
       "      <th>salary.currency</th>\n",
       "      <th>salary.gross</th>\n",
       "      <th>type.id</th>\n",
       "      <th>type.name</th>\n",
       "      <th>employer.id</th>\n",
       "      <th>employer.name</th>\n",
       "      <th>employer.url</th>\n",
       "      <th>employer.alternate_url</th>\n",
       "      <th>employer.logo_urls</th>\n",
       "      <th>employer.vacancies_url</th>\n",
       "      <th>employer.trusted</th>\n",
       "      <th>snippet.requirement</th>\n",
       "      <th>snippet.responsibility</th>\n",
       "      <th>experience.id</th>\n",
       "      <th>experience.name</th>\n",
       "      <th>employment.id</th>\n",
       "      <th>employment.name</th>\n",
       "      <th>employer.logo_urls.original</th>\n",
       "      <th>employer.logo_urls.90</th>\n",
       "      <th>employer.logo_urls.240</th>\n",
       "      <th>salary</th>\n",
       "      <th>address.city</th>\n",
       "      <th>address.street</th>\n",
       "      <th>address.building</th>\n",
       "      <th>address.lat</th>\n",
       "      <th>address.lng</th>\n",
       "      <th>address.description</th>\n",
       "      <th>address.raw</th>\n",
       "      <th>address.metro.station_name</th>\n",
       "      <th>address.metro.line_name</th>\n",
       "      <th>address.metro.station_id</th>\n",
       "      <th>address.metro.line_id</th>\n",
       "      <th>address.metro.lat</th>\n",
       "      <th>address.metro.lng</th>\n",
       "      <th>address.metro_stations</th>\n",
       "      <th>address.id</th>\n",
       "      <th>department.id</th>\n",
       "      <th>department.name</th>\n",
       "      <th>address.metro</th>\n",
       "      <th>insider_interview.id</th>\n",
       "      <th>insider_interview.url</th>\n",
       "      <th>immediate_redirect_url</th>\n",
       "    </tr>\n",
       "  </thead>\n",
       "  <tbody>\n",
       "    <tr>\n",
       "      <th>0</th>\n",
       "      <td>79110745</td>\n",
       "      <td>False</td>\n",
       "      <td>Data Engineer</td>\n",
       "      <td>NaN</td>\n",
       "      <td>False</td>\n",
       "      <td>False</td>\n",
       "      <td>NaN</td>\n",
       "      <td>None</td>\n",
       "      <td>None</td>\n",
       "      <td>2023-04-16T14:42:13+0300</td>\n",
       "      <td>2023-04-16T14:42:13+0300</td>\n",
       "      <td>False</td>\n",
       "      <td>https://hh.ru/applicant/vacancy_response?vacan...</td>\n",
       "      <td>NaN</td>\n",
       "      <td>https://api.hh.ru/vacancies/79110745?host=hh.ru</td>\n",
       "      <td>None</td>\n",
       "      <td>https://hh.ru/vacancy/79110745</td>\n",
       "      <td>[]</td>\n",
       "      <td>None</td>\n",
       "      <td>None</td>\n",
       "      <td>[]</td>\n",
       "      <td>[]</td>\n",
       "      <td>[]</td>\n",
       "      <td>True</td>\n",
       "      <td>[{'id': '96', 'name': 'Программист, разработчи...</td>\n",
       "      <td>False</td>\n",
       "      <td>&lt;p&gt;Ищу &lt;strong&gt;Data Engineer&lt;/strong&gt; в SportT...</td>\n",
       "      <td>1</td>\n",
       "      <td>Москва</td>\n",
       "      <td>https://api.hh.ru/areas/1</td>\n",
       "      <td>4000.0</td>\n",
       "      <td>6000.0</td>\n",
       "      <td>EUR</td>\n",
       "      <td>True</td>\n",
       "      <td>open</td>\n",
       "      <td>Открытая</td>\n",
       "      <td>5231648</td>\n",
       "      <td>4CV Recruitment Services</td>\n",
       "      <td>https://api.hh.ru/employers/5231648</td>\n",
       "      <td>https://hh.ru/employer/5231648</td>\n",
       "      <td>NaN</td>\n",
       "      <td>https://api.hh.ru/vacancies?employer_id=5231648</td>\n",
       "      <td>True</td>\n",
       "      <td>Разговорный английский. Опыт работы &lt;highlight...</td>\n",
       "      <td>Взаимодействие с &lt;highlighttext&gt;data&lt;/highligh...</td>\n",
       "      <td>between3And6</td>\n",
       "      <td>От 3 до 6 лет</td>\n",
       "      <td>full</td>\n",
       "      <td>Полная занятость</td>\n",
       "      <td>NaN</td>\n",
       "      <td>NaN</td>\n",
       "      <td>NaN</td>\n",
       "      <td>NaN</td>\n",
       "      <td>NaN</td>\n",
       "      <td>NaN</td>\n",
       "      <td>NaN</td>\n",
       "      <td>NaN</td>\n",
       "      <td>NaN</td>\n",
       "      <td>NaN</td>\n",
       "      <td>NaN</td>\n",
       "      <td>NaN</td>\n",
       "      <td>NaN</td>\n",
       "      <td>NaN</td>\n",
       "      <td>NaN</td>\n",
       "      <td>NaN</td>\n",
       "      <td>NaN</td>\n",
       "      <td>NaN</td>\n",
       "      <td>NaN</td>\n",
       "      <td>NaN</td>\n",
       "      <td>NaN</td>\n",
       "      <td>NaN</td>\n",
       "      <td>NaN</td>\n",
       "      <td>NaN</td>\n",
       "      <td>NaN</td>\n",
       "    </tr>\n",
       "    <tr>\n",
       "      <th>1</th>\n",
       "      <td>79120615</td>\n",
       "      <td>False</td>\n",
       "      <td>Data engineer</td>\n",
       "      <td>NaN</td>\n",
       "      <td>False</td>\n",
       "      <td>True</td>\n",
       "      <td>NaN</td>\n",
       "      <td>None</td>\n",
       "      <td>None</td>\n",
       "      <td>2023-04-16T17:13:22+0300</td>\n",
       "      <td>2023-04-16T17:13:22+0300</td>\n",
       "      <td>False</td>\n",
       "      <td>https://hh.ru/applicant/vacancy_response?vacan...</td>\n",
       "      <td>NaN</td>\n",
       "      <td>https://api.hh.ru/vacancies/79120615?host=hh.ru</td>\n",
       "      <td>None</td>\n",
       "      <td>https://hh.ru/vacancy/79120615</td>\n",
       "      <td>[]</td>\n",
       "      <td>None</td>\n",
       "      <td>None</td>\n",
       "      <td>[]</td>\n",
       "      <td>[]</td>\n",
       "      <td>[]</td>\n",
       "      <td>False</td>\n",
       "      <td>[{'id': '96', 'name': 'Программист, разработчи...</td>\n",
       "      <td>False</td>\n",
       "      <td>&lt;p&gt;В крупную исследовательскую компанию, специ...</td>\n",
       "      <td>1</td>\n",
       "      <td>Москва</td>\n",
       "      <td>https://api.hh.ru/areas/1</td>\n",
       "      <td>180000.0</td>\n",
       "      <td>250000.0</td>\n",
       "      <td>RUR</td>\n",
       "      <td>False</td>\n",
       "      <td>open</td>\n",
       "      <td>Открытая</td>\n",
       "      <td>30486</td>\n",
       "      <td>РВИ</td>\n",
       "      <td>https://api.hh.ru/employers/30486</td>\n",
       "      <td>https://hh.ru/employer/30486</td>\n",
       "      <td>NaN</td>\n",
       "      <td>https://api.hh.ru/vacancies?employer_id=30486</td>\n",
       "      <td>True</td>\n",
       "      <td>Высшее техническое образование, предпочтительн...</td>\n",
       "      <td>Системный анализ, инженерная аналитика. Разраб...</td>\n",
       "      <td>between1And3</td>\n",
       "      <td>От 1 года до 3 лет</td>\n",
       "      <td>full</td>\n",
       "      <td>Полная занятость</td>\n",
       "      <td>https://hhcdn.ru/employer-logo-original/225674...</td>\n",
       "      <td>https://hhcdn.ru/employer-logo/315944.png</td>\n",
       "      <td>https://hhcdn.ru/employer-logo/388801.png</td>\n",
       "      <td>NaN</td>\n",
       "      <td>NaN</td>\n",
       "      <td>NaN</td>\n",
       "      <td>NaN</td>\n",
       "      <td>NaN</td>\n",
       "      <td>NaN</td>\n",
       "      <td>NaN</td>\n",
       "      <td>NaN</td>\n",
       "      <td>NaN</td>\n",
       "      <td>NaN</td>\n",
       "      <td>NaN</td>\n",
       "      <td>NaN</td>\n",
       "      <td>NaN</td>\n",
       "      <td>NaN</td>\n",
       "      <td>NaN</td>\n",
       "      <td>NaN</td>\n",
       "      <td>NaN</td>\n",
       "      <td>NaN</td>\n",
       "      <td>NaN</td>\n",
       "      <td>NaN</td>\n",
       "      <td>NaN</td>\n",
       "      <td>NaN</td>\n",
       "    </tr>\n",
       "    <tr>\n",
       "      <th>2</th>\n",
       "      <td>78934984</td>\n",
       "      <td>False</td>\n",
       "      <td>Data engineer (Стажер)</td>\n",
       "      <td>NaN</td>\n",
       "      <td>False</td>\n",
       "      <td>False</td>\n",
       "      <td>NaN</td>\n",
       "      <td>None</td>\n",
       "      <td>None</td>\n",
       "      <td>2023-04-14T11:13:27+0300</td>\n",
       "      <td>2023-04-14T11:13:27+0300</td>\n",
       "      <td>False</td>\n",
       "      <td>https://hh.ru/applicant/vacancy_response?vacan...</td>\n",
       "      <td>NaN</td>\n",
       "      <td>https://api.hh.ru/vacancies/78934984?host=hh.ru</td>\n",
       "      <td>None</td>\n",
       "      <td>https://hh.ru/vacancy/78934984</td>\n",
       "      <td>[]</td>\n",
       "      <td>None</td>\n",
       "      <td>None</td>\n",
       "      <td>[]</td>\n",
       "      <td>[]</td>\n",
       "      <td>[]</td>\n",
       "      <td>False</td>\n",
       "      <td>[{'id': '156', 'name': 'BI-аналитик, аналитик ...</td>\n",
       "      <td>False</td>\n",
       "      <td>&lt;p&gt;&lt;strong&gt;НЕ НУЖНО ОТКЛИКАТЬСЯ НА ВАКАНСИЮ! Ч...</td>\n",
       "      <td>1</td>\n",
       "      <td>Москва</td>\n",
       "      <td>https://api.hh.ru/areas/1</td>\n",
       "      <td>NaN</td>\n",
       "      <td>NaN</td>\n",
       "      <td>NaN</td>\n",
       "      <td>NaN</td>\n",
       "      <td>open</td>\n",
       "      <td>Открытая</td>\n",
       "      <td>1789341</td>\n",
       "      <td>Sapiens solutions</td>\n",
       "      <td>https://api.hh.ru/employers/1789341</td>\n",
       "      <td>https://hh.ru/employer/1789341</td>\n",
       "      <td>NaN</td>\n",
       "      <td>https://api.hh.ru/vacancies?employer_id=1789341</td>\n",
       "      <td>True</td>\n",
       "      <td>Имеете высшее образование или заканчиваете учи...</td>\n",
       "      <td>По результатам обучения – обязательная защита ...</td>\n",
       "      <td>noExperience</td>\n",
       "      <td>Нет опыта</td>\n",
       "      <td>probation</td>\n",
       "      <td>Стажировка</td>\n",
       "      <td>https://hhcdn.ru/employer-logo-original/909827...</td>\n",
       "      <td>https://hhcdn.ru/employer-logo/4079995.png</td>\n",
       "      <td>https://hhcdn.ru/employer-logo/4079996.png</td>\n",
       "      <td>NaN</td>\n",
       "      <td>Москва</td>\n",
       "      <td>Нижняя Красносельская улица</td>\n",
       "      <td>40/12к2</td>\n",
       "      <td>55.774284</td>\n",
       "      <td>37.669145</td>\n",
       "      <td>NaN</td>\n",
       "      <td>Москва, Нижняя Красносельская улица, 40/12к2</td>\n",
       "      <td>Бауманская</td>\n",
       "      <td>Арбатско-Покровская</td>\n",
       "      <td>3.17</td>\n",
       "      <td>3</td>\n",
       "      <td>55.772405</td>\n",
       "      <td>37.67904</td>\n",
       "      <td>[{'station_name': 'Бауманская', 'line_name': '...</td>\n",
       "      <td>886614</td>\n",
       "      <td>NaN</td>\n",
       "      <td>NaN</td>\n",
       "      <td>NaN</td>\n",
       "      <td>NaN</td>\n",
       "      <td>NaN</td>\n",
       "      <td>NaN</td>\n",
       "    </tr>\n",
       "  </tbody>\n",
       "</table>\n",
       "</div>"
      ],
      "text/plain": [
       "         id  premium                    name  department  has_test  \\\n",
       "0  79110745    False           Data Engineer         NaN     False   \n",
       "1  79120615    False           Data engineer         NaN     False   \n",
       "2  78934984    False  Data engineer (Стажер)         NaN     False   \n",
       "\n",
       "   response_letter_required  address response_url sort_point_distance  \\\n",
       "0                     False      NaN         None                None   \n",
       "1                      True      NaN         None                None   \n",
       "2                     False      NaN         None                None   \n",
       "\n",
       "               published_at                created_at  archived  \\\n",
       "0  2023-04-16T14:42:13+0300  2023-04-16T14:42:13+0300     False   \n",
       "1  2023-04-16T17:13:22+0300  2023-04-16T17:13:22+0300     False   \n",
       "2  2023-04-14T11:13:27+0300  2023-04-14T11:13:27+0300     False   \n",
       "\n",
       "                                 apply_alternate_url  insider_interview  \\\n",
       "0  https://hh.ru/applicant/vacancy_response?vacan...                NaN   \n",
       "1  https://hh.ru/applicant/vacancy_response?vacan...                NaN   \n",
       "2  https://hh.ru/applicant/vacancy_response?vacan...                NaN   \n",
       "\n",
       "                                               url adv_response_url  \\\n",
       "0  https://api.hh.ru/vacancies/79110745?host=hh.ru             None   \n",
       "1  https://api.hh.ru/vacancies/79120615?host=hh.ru             None   \n",
       "2  https://api.hh.ru/vacancies/78934984?host=hh.ru             None   \n",
       "\n",
       "                    alternate_url relations contacts schedule working_days  \\\n",
       "0  https://hh.ru/vacancy/79110745        []     None     None           []   \n",
       "1  https://hh.ru/vacancy/79120615        []     None     None           []   \n",
       "2  https://hh.ru/vacancy/78934984        []     None     None           []   \n",
       "\n",
       "  working_time_intervals working_time_modes  accept_temporary  \\\n",
       "0                     []                 []              True   \n",
       "1                     []                 []             False   \n",
       "2                     []                 []             False   \n",
       "\n",
       "                                  professional_roles  \\\n",
       "0  [{'id': '96', 'name': 'Программист, разработчи...   \n",
       "1  [{'id': '96', 'name': 'Программист, разработчи...   \n",
       "2  [{'id': '156', 'name': 'BI-аналитик, аналитик ...   \n",
       "\n",
       "   accept_incomplete_resumes  \\\n",
       "0                      False   \n",
       "1                      False   \n",
       "2                      False   \n",
       "\n",
       "                                         description area.id area.name  \\\n",
       "0  <p>Ищу <strong>Data Engineer</strong> в SportT...       1    Москва   \n",
       "1  <p>В крупную исследовательскую компанию, специ...       1    Москва   \n",
       "2  <p><strong>НЕ НУЖНО ОТКЛИКАТЬСЯ НА ВАКАНСИЮ! Ч...       1    Москва   \n",
       "\n",
       "                    area.url  salary.from  salary.to salary.currency  \\\n",
       "0  https://api.hh.ru/areas/1       4000.0     6000.0             EUR   \n",
       "1  https://api.hh.ru/areas/1     180000.0   250000.0             RUR   \n",
       "2  https://api.hh.ru/areas/1          NaN        NaN             NaN   \n",
       "\n",
       "  salary.gross type.id type.name employer.id             employer.name  \\\n",
       "0         True    open  Открытая     5231648  4CV Recruitment Services   \n",
       "1        False    open  Открытая       30486                       РВИ   \n",
       "2          NaN    open  Открытая     1789341         Sapiens solutions   \n",
       "\n",
       "                          employer.url          employer.alternate_url  \\\n",
       "0  https://api.hh.ru/employers/5231648  https://hh.ru/employer/5231648   \n",
       "1    https://api.hh.ru/employers/30486    https://hh.ru/employer/30486   \n",
       "2  https://api.hh.ru/employers/1789341  https://hh.ru/employer/1789341   \n",
       "\n",
       "   employer.logo_urls                           employer.vacancies_url  \\\n",
       "0                 NaN  https://api.hh.ru/vacancies?employer_id=5231648   \n",
       "1                 NaN    https://api.hh.ru/vacancies?employer_id=30486   \n",
       "2                 NaN  https://api.hh.ru/vacancies?employer_id=1789341   \n",
       "\n",
       "   employer.trusted                                snippet.requirement  \\\n",
       "0              True  Разговорный английский. Опыт работы <highlight...   \n",
       "1              True  Высшее техническое образование, предпочтительн...   \n",
       "2              True  Имеете высшее образование или заканчиваете учи...   \n",
       "\n",
       "                              snippet.responsibility experience.id  \\\n",
       "0  Взаимодействие с <highlighttext>data</highligh...  between3And6   \n",
       "1  Системный анализ, инженерная аналитика. Разраб...  between1And3   \n",
       "2  По результатам обучения – обязательная защита ...  noExperience   \n",
       "\n",
       "      experience.name employment.id   employment.name  \\\n",
       "0       От 3 до 6 лет          full  Полная занятость   \n",
       "1  От 1 года до 3 лет          full  Полная занятость   \n",
       "2           Нет опыта     probation        Стажировка   \n",
       "\n",
       "                         employer.logo_urls.original  \\\n",
       "0                                                NaN   \n",
       "1  https://hhcdn.ru/employer-logo-original/225674...   \n",
       "2  https://hhcdn.ru/employer-logo-original/909827...   \n",
       "\n",
       "                        employer.logo_urls.90  \\\n",
       "0                                         NaN   \n",
       "1   https://hhcdn.ru/employer-logo/315944.png   \n",
       "2  https://hhcdn.ru/employer-logo/4079995.png   \n",
       "\n",
       "                       employer.logo_urls.240  salary address.city  \\\n",
       "0                                         NaN     NaN          NaN   \n",
       "1   https://hhcdn.ru/employer-logo/388801.png     NaN          NaN   \n",
       "2  https://hhcdn.ru/employer-logo/4079996.png     NaN       Москва   \n",
       "\n",
       "                address.street address.building  address.lat  address.lng  \\\n",
       "0                          NaN              NaN          NaN          NaN   \n",
       "1                          NaN              NaN          NaN          NaN   \n",
       "2  Нижняя Красносельская улица          40/12к2    55.774284    37.669145   \n",
       "\n",
       "   address.description                                   address.raw  \\\n",
       "0                  NaN                                           NaN   \n",
       "1                  NaN                                           NaN   \n",
       "2                  NaN  Москва, Нижняя Красносельская улица, 40/12к2   \n",
       "\n",
       "  address.metro.station_name address.metro.line_name address.metro.station_id  \\\n",
       "0                        NaN                     NaN                      NaN   \n",
       "1                        NaN                     NaN                      NaN   \n",
       "2                 Бауманская     Арбатско-Покровская                     3.17   \n",
       "\n",
       "  address.metro.line_id  address.metro.lat  address.metro.lng  \\\n",
       "0                   NaN                NaN                NaN   \n",
       "1                   NaN                NaN                NaN   \n",
       "2                     3          55.772405           37.67904   \n",
       "\n",
       "                              address.metro_stations address.id department.id  \\\n",
       "0                                                NaN        NaN           NaN   \n",
       "1                                                NaN        NaN           NaN   \n",
       "2  [{'station_name': 'Бауманская', 'line_name': '...     886614           NaN   \n",
       "\n",
       "  department.name  address.metro insider_interview.id insider_interview.url  \\\n",
       "0             NaN            NaN                  NaN                   NaN   \n",
       "1             NaN            NaN                  NaN                   NaN   \n",
       "2             NaN            NaN                  NaN                   NaN   \n",
       "\n",
       "  immediate_redirect_url  \n",
       "0                    NaN  \n",
       "1                    NaN  \n",
       "2                    NaN  "
      ]
     },
     "execution_count": 4,
     "metadata": {},
     "output_type": "execute_result"
    }
   ],
   "source": [
    "df.head(3)\n"
   ]
  },
  {
   "attachments": {},
   "cell_type": "markdown",
   "id": "0227908a",
   "metadata": {},
   "source": [
    "Видим, что в столбце 'professional_roles' данные не нормализовались. Что бы разобрать вложенный список из professional_roles, применим к столбцу лямбда-функцию, разделим его на два новых столбца, старый удалим:"
   ]
  },
  {
   "cell_type": "code",
   "execution_count": 5,
   "id": "7cd2f5d8",
   "metadata": {},
   "outputs": [],
   "source": [
    "df[[\"professional_roles_id\", \"professional_roles_name\"]] = df[\n",
    "    \"professional_roles\"\n",
    "].apply(\n",
    "    lambda x: pd.Series(\n",
    "        {\"professional_roles_id\": x[0][\"id\"], \"professional_roles_name\": x[0][\"name\"]}\n",
    "    )\n",
    ")\n",
    "df = df.drop(\"professional_roles\", axis=1)\n"
   ]
  },
  {
   "cell_type": "code",
   "execution_count": 6,
   "id": "00bd61cd",
   "metadata": {},
   "outputs": [
    {
     "name": "stdout",
     "output_type": "stream",
     "text": [
      "Index(['id', 'premium', 'name', 'department', 'has_test',\n",
      "       'response_letter_required', 'address', 'response_url',\n",
      "       'sort_point_distance', 'published_at', 'created_at', 'archived',\n",
      "       'apply_alternate_url', 'insider_interview', 'url', 'adv_response_url',\n",
      "       'alternate_url', 'relations', 'contacts', 'schedule', 'working_days',\n",
      "       'working_time_intervals', 'working_time_modes', 'accept_temporary',\n",
      "       'accept_incomplete_resumes', 'description', 'area.id', 'area.name',\n",
      "       'area.url', 'salary.from', 'salary.to', 'salary.currency',\n",
      "       'salary.gross', 'type.id', 'type.name', 'employer.id', 'employer.name',\n",
      "       'employer.url', 'employer.alternate_url', 'employer.logo_urls',\n",
      "       'employer.vacancies_url', 'employer.trusted', 'snippet.requirement',\n",
      "       'snippet.responsibility', 'experience.id', 'experience.name',\n",
      "       'employment.id', 'employment.name', 'employer.logo_urls.original',\n",
      "       'employer.logo_urls.90', 'employer.logo_urls.240', 'salary',\n",
      "       'address.city', 'address.street', 'address.building', 'address.lat',\n",
      "       'address.lng', 'address.description', 'address.raw',\n",
      "       'address.metro.station_name', 'address.metro.line_name',\n",
      "       'address.metro.station_id', 'address.metro.line_id',\n",
      "       'address.metro.lat', 'address.metro.lng', 'address.metro_stations',\n",
      "       'address.id', 'department.id', 'department.name', 'address.metro',\n",
      "       'insider_interview.id', 'insider_interview.url',\n",
      "       'immediate_redirect_url', 'professional_roles_id',\n",
      "       'professional_roles_name'],\n",
      "      dtype='object')\n"
     ]
    }
   ],
   "source": [
    "# Выведем названия столбцов\n",
    "print(df.columns)"
   ]
  },
  {
   "cell_type": "code",
   "execution_count": 7,
   "id": "af2c890d",
   "metadata": {},
   "outputs": [
    {
     "name": "stdout",
     "output_type": "stream",
     "text": [
      "Столбцы без данных: ['department', 'address', 'sort_point_distance', 'insider_interview', 'adv_response_url', 'contacts', 'schedule', 'employer.logo_urls', 'salary', 'address.description', 'address.metro']\n"
     ]
    }
   ],
   "source": [
    "# Проверим, какие столбцы не содержат данные\n",
    "missing_cols = df.columns[df.isna().all()].tolist()\n",
    "print(f'Столбцы без данных: {missing_cols}')"
   ]
  },
  {
   "cell_type": "code",
   "execution_count": 8,
   "id": "216eaaff",
   "metadata": {},
   "outputs": [],
   "source": [
    "# Избавимся от них\n",
    "df = df.drop(missing_cols, axis=1)"
   ]
  },
  {
   "cell_type": "code",
   "execution_count": 9,
   "id": "e7017197",
   "metadata": {},
   "outputs": [
    {
     "data": {
      "text/html": [
       "<div>\n",
       "<style scoped>\n",
       "    .dataframe tbody tr th:only-of-type {\n",
       "        vertical-align: middle;\n",
       "    }\n",
       "\n",
       "    .dataframe tbody tr th {\n",
       "        vertical-align: top;\n",
       "    }\n",
       "\n",
       "    .dataframe thead th {\n",
       "        text-align: right;\n",
       "    }\n",
       "</style>\n",
       "<table border=\"1\" class=\"dataframe\">\n",
       "  <thead>\n",
       "    <tr style=\"text-align: right;\">\n",
       "      <th></th>\n",
       "      <th>id</th>\n",
       "      <th>premium</th>\n",
       "      <th>name</th>\n",
       "      <th>has_test</th>\n",
       "      <th>response_letter_required</th>\n",
       "      <th>response_url</th>\n",
       "      <th>published_at</th>\n",
       "      <th>created_at</th>\n",
       "      <th>archived</th>\n",
       "      <th>apply_alternate_url</th>\n",
       "      <th>url</th>\n",
       "      <th>alternate_url</th>\n",
       "      <th>relations</th>\n",
       "      <th>working_days</th>\n",
       "      <th>working_time_intervals</th>\n",
       "      <th>working_time_modes</th>\n",
       "      <th>accept_temporary</th>\n",
       "      <th>accept_incomplete_resumes</th>\n",
       "      <th>description</th>\n",
       "      <th>area.id</th>\n",
       "      <th>area.name</th>\n",
       "      <th>area.url</th>\n",
       "      <th>salary.from</th>\n",
       "      <th>salary.to</th>\n",
       "      <th>salary.currency</th>\n",
       "      <th>salary.gross</th>\n",
       "      <th>type.id</th>\n",
       "      <th>type.name</th>\n",
       "      <th>employer.id</th>\n",
       "      <th>employer.name</th>\n",
       "      <th>employer.url</th>\n",
       "      <th>employer.alternate_url</th>\n",
       "      <th>employer.vacancies_url</th>\n",
       "      <th>employer.trusted</th>\n",
       "      <th>snippet.requirement</th>\n",
       "      <th>snippet.responsibility</th>\n",
       "      <th>experience.id</th>\n",
       "      <th>experience.name</th>\n",
       "      <th>employment.id</th>\n",
       "      <th>employment.name</th>\n",
       "      <th>employer.logo_urls.original</th>\n",
       "      <th>employer.logo_urls.90</th>\n",
       "      <th>employer.logo_urls.240</th>\n",
       "      <th>address.city</th>\n",
       "      <th>address.street</th>\n",
       "      <th>address.building</th>\n",
       "      <th>address.lat</th>\n",
       "      <th>address.lng</th>\n",
       "      <th>address.raw</th>\n",
       "      <th>address.metro.station_name</th>\n",
       "      <th>address.metro.line_name</th>\n",
       "      <th>address.metro.station_id</th>\n",
       "      <th>address.metro.line_id</th>\n",
       "      <th>address.metro.lat</th>\n",
       "      <th>address.metro.lng</th>\n",
       "      <th>address.metro_stations</th>\n",
       "      <th>address.id</th>\n",
       "      <th>department.id</th>\n",
       "      <th>department.name</th>\n",
       "      <th>insider_interview.id</th>\n",
       "      <th>insider_interview.url</th>\n",
       "      <th>immediate_redirect_url</th>\n",
       "      <th>professional_roles_id</th>\n",
       "      <th>professional_roles_name</th>\n",
       "    </tr>\n",
       "  </thead>\n",
       "  <tbody>\n",
       "    <tr>\n",
       "      <th>3319</th>\n",
       "      <td>79246252</td>\n",
       "      <td>False</td>\n",
       "      <td>Аналитик</td>\n",
       "      <td>False</td>\n",
       "      <td>False</td>\n",
       "      <td>None</td>\n",
       "      <td>2023-04-13T10:58:19+0300</td>\n",
       "      <td>2023-04-13T10:58:19+0300</td>\n",
       "      <td>False</td>\n",
       "      <td>https://hh.ru/applicant/vacancy_response?vacan...</td>\n",
       "      <td>https://api.hh.ru/vacancies/79246252?host=hh.ru</td>\n",
       "      <td>https://hh.ru/vacancy/79246252</td>\n",
       "      <td>[]</td>\n",
       "      <td>[]</td>\n",
       "      <td>[]</td>\n",
       "      <td>[]</td>\n",
       "      <td>False</td>\n",
       "      <td>False</td>\n",
       "      <td>&lt;p&gt;&lt;strong&gt;&lt;em&gt;30 лет успеха на текстильном ры...</td>\n",
       "      <td>32</td>\n",
       "      <td>Иваново (Ивановская область)</td>\n",
       "      <td>https://api.hh.ru/areas/32</td>\n",
       "      <td>NaN</td>\n",
       "      <td>NaN</td>\n",
       "      <td>NaN</td>\n",
       "      <td>NaN</td>\n",
       "      <td>open</td>\n",
       "      <td>Открытая</td>\n",
       "      <td>2157</td>\n",
       "      <td>НОРДТЕКС, Корпорация</td>\n",
       "      <td>https://api.hh.ru/employers/2157</td>\n",
       "      <td>https://hh.ru/employer/2157</td>\n",
       "      <td>https://api.hh.ru/vacancies?employer_id=2157</td>\n",
       "      <td>True</td>\n",
       "      <td>Знание законодательства РФ в части хранения, о...</td>\n",
       "      <td>&lt;highlighttext&gt;Аналитика&lt;/highlighttext&gt; склад...</td>\n",
       "      <td>between1And3</td>\n",
       "      <td>От 1 года до 3 лет</td>\n",
       "      <td>full</td>\n",
       "      <td>Полная занятость</td>\n",
       "      <td>https://hhcdn.ru/employer-logo-original/866763...</td>\n",
       "      <td>https://hhcdn.ru/employer-logo/3907927.png</td>\n",
       "      <td>https://hhcdn.ru/employer-logo/3907928.png</td>\n",
       "      <td>Иваново</td>\n",
       "      <td>улица 3 Интернационала</td>\n",
       "      <td>28</td>\n",
       "      <td>56.998098</td>\n",
       "      <td>40.993468</td>\n",
       "      <td>Иваново, улица 3 Интернационала, 28</td>\n",
       "      <td>NaN</td>\n",
       "      <td>NaN</td>\n",
       "      <td>NaN</td>\n",
       "      <td>NaN</td>\n",
       "      <td>NaN</td>\n",
       "      <td>NaN</td>\n",
       "      <td>[]</td>\n",
       "      <td>474267</td>\n",
       "      <td>NaN</td>\n",
       "      <td>NaN</td>\n",
       "      <td>NaN</td>\n",
       "      <td>NaN</td>\n",
       "      <td>NaN</td>\n",
       "      <td>10</td>\n",
       "      <td>Аналитик</td>\n",
       "    </tr>\n",
       "    <tr>\n",
       "      <th>2928</th>\n",
       "      <td>79011104</td>\n",
       "      <td>False</td>\n",
       "      <td>Системный аналитик</td>\n",
       "      <td>False</td>\n",
       "      <td>False</td>\n",
       "      <td>None</td>\n",
       "      <td>2023-04-15T17:44:57+0300</td>\n",
       "      <td>2023-04-15T17:44:57+0300</td>\n",
       "      <td>False</td>\n",
       "      <td>https://hh.ru/applicant/vacancy_response?vacan...</td>\n",
       "      <td>https://api.hh.ru/vacancies/79011104?host=hh.ru</td>\n",
       "      <td>https://hh.ru/vacancy/79011104</td>\n",
       "      <td>[]</td>\n",
       "      <td>[]</td>\n",
       "      <td>[]</td>\n",
       "      <td>[]</td>\n",
       "      <td>True</td>\n",
       "      <td>False</td>\n",
       "      <td>&lt;p&gt;АО «ЦРИТ» (Центр развития информационных те...</td>\n",
       "      <td>1</td>\n",
       "      <td>Москва</td>\n",
       "      <td>https://api.hh.ru/areas/1</td>\n",
       "      <td>NaN</td>\n",
       "      <td>NaN</td>\n",
       "      <td>NaN</td>\n",
       "      <td>NaN</td>\n",
       "      <td>open</td>\n",
       "      <td>Открытая</td>\n",
       "      <td>5887219</td>\n",
       "      <td>ЦРИТ</td>\n",
       "      <td>https://api.hh.ru/employers/5887219</td>\n",
       "      <td>https://hh.ru/employer/5887219</td>\n",
       "      <td>https://api.hh.ru/vacancies?employer_id=5887219</td>\n",
       "      <td>True</td>\n",
       "      <td>Опыт анализа и составления программ и методик ...</td>\n",
       "      <td>Обследование объекта автоматизации, интервьюир...</td>\n",
       "      <td>between3And6</td>\n",
       "      <td>От 3 до 6 лет</td>\n",
       "      <td>full</td>\n",
       "      <td>Полная занятость</td>\n",
       "      <td>https://hhcdn.ru/employer-logo-original/916324...</td>\n",
       "      <td>https://hhcdn.ru/employer-logo/4105975.jpeg</td>\n",
       "      <td>https://hhcdn.ru/employer-logo/4105976.jpeg</td>\n",
       "      <td>Новомосковский административный округ</td>\n",
       "      <td>Киевское шоссе, 22-й километр</td>\n",
       "      <td>4Ас1</td>\n",
       "      <td>55.633912</td>\n",
       "      <td>37.442742</td>\n",
       "      <td>Новомосковский административный округ, Киевско...</td>\n",
       "      <td>Румянцево</td>\n",
       "      <td>Сокольническая</td>\n",
       "      <td>1.513</td>\n",
       "      <td>1</td>\n",
       "      <td>55.633000</td>\n",
       "      <td>37.441900</td>\n",
       "      <td>[{'station_name': 'Румянцево', 'line_name': 'С...</td>\n",
       "      <td>6903739</td>\n",
       "      <td>NaN</td>\n",
       "      <td>NaN</td>\n",
       "      <td>NaN</td>\n",
       "      <td>NaN</td>\n",
       "      <td>NaN</td>\n",
       "      <td>10</td>\n",
       "      <td>Аналитик</td>\n",
       "    </tr>\n",
       "    <tr>\n",
       "      <th>2293</th>\n",
       "      <td>78831525</td>\n",
       "      <td>False</td>\n",
       "      <td>Аналитик</td>\n",
       "      <td>False</td>\n",
       "      <td>False</td>\n",
       "      <td>None</td>\n",
       "      <td>2023-04-03T12:32:20+0300</td>\n",
       "      <td>2023-04-03T12:32:20+0300</td>\n",
       "      <td>False</td>\n",
       "      <td>https://hh.ru/applicant/vacancy_response?vacan...</td>\n",
       "      <td>https://api.hh.ru/vacancies/78831525?host=hh.ru</td>\n",
       "      <td>https://hh.ru/vacancy/78831525</td>\n",
       "      <td>[]</td>\n",
       "      <td>[]</td>\n",
       "      <td>[]</td>\n",
       "      <td>[]</td>\n",
       "      <td>False</td>\n",
       "      <td>False</td>\n",
       "      <td>&lt;p&gt;ООО МКК «Выручай-Деньги» - одна из крупнейш...</td>\n",
       "      <td>19</td>\n",
       "      <td>Брянск</td>\n",
       "      <td>https://api.hh.ru/areas/19</td>\n",
       "      <td>NaN</td>\n",
       "      <td>NaN</td>\n",
       "      <td>NaN</td>\n",
       "      <td>NaN</td>\n",
       "      <td>open</td>\n",
       "      <td>Открытая</td>\n",
       "      <td>1499587</td>\n",
       "      <td>МКК Выручай-Деньги</td>\n",
       "      <td>https://api.hh.ru/employers/1499587</td>\n",
       "      <td>https://hh.ru/employer/1499587</td>\n",
       "      <td>https://api.hh.ru/vacancies?employer_id=1499587</td>\n",
       "      <td>True</td>\n",
       "      <td>Уверенное знание Excel. Знание BI-систем. Жела...</td>\n",
       "      <td>Разработка моделей и витрин &lt;highlighttext&gt;дан...</td>\n",
       "      <td>between1And3</td>\n",
       "      <td>От 1 года до 3 лет</td>\n",
       "      <td>full</td>\n",
       "      <td>Полная занятость</td>\n",
       "      <td>https://hhcdn.ru/employer-logo-original/256159...</td>\n",
       "      <td>https://hhcdn.ru/employer-logo/1467166.png</td>\n",
       "      <td>https://hhcdn.ru/employer-logo/1467167.png</td>\n",
       "      <td>Брянск</td>\n",
       "      <td>улица Бурова</td>\n",
       "      <td>20</td>\n",
       "      <td>53.296203</td>\n",
       "      <td>34.320980</td>\n",
       "      <td>Брянск, улица Бурова, 20</td>\n",
       "      <td>NaN</td>\n",
       "      <td>NaN</td>\n",
       "      <td>NaN</td>\n",
       "      <td>NaN</td>\n",
       "      <td>NaN</td>\n",
       "      <td>NaN</td>\n",
       "      <td>[]</td>\n",
       "      <td>11590041</td>\n",
       "      <td>NaN</td>\n",
       "      <td>NaN</td>\n",
       "      <td>NaN</td>\n",
       "      <td>NaN</td>\n",
       "      <td>NaN</td>\n",
       "      <td>10</td>\n",
       "      <td>Аналитик</td>\n",
       "    </tr>\n",
       "    <tr>\n",
       "      <th>1974</th>\n",
       "      <td>77633102</td>\n",
       "      <td>False</td>\n",
       "      <td>Бизнес-аналитик</td>\n",
       "      <td>False</td>\n",
       "      <td>True</td>\n",
       "      <td>None</td>\n",
       "      <td>2023-04-11T16:18:29+0300</td>\n",
       "      <td>2023-04-11T16:18:29+0300</td>\n",
       "      <td>False</td>\n",
       "      <td>https://hh.ru/applicant/vacancy_response?vacan...</td>\n",
       "      <td>https://api.hh.ru/vacancies/77633102?host=hh.ru</td>\n",
       "      <td>https://hh.ru/vacancy/77633102</td>\n",
       "      <td>[]</td>\n",
       "      <td>[]</td>\n",
       "      <td>[]</td>\n",
       "      <td>[]</td>\n",
       "      <td>False</td>\n",
       "      <td>False</td>\n",
       "      <td>&lt;p&gt;&lt;strong&gt;Задачи на позиции:&lt;/strong&gt;&lt;/p&gt; &lt;ul...</td>\n",
       "      <td>1</td>\n",
       "      <td>Москва</td>\n",
       "      <td>https://api.hh.ru/areas/1</td>\n",
       "      <td>100000.0</td>\n",
       "      <td>NaN</td>\n",
       "      <td>RUR</td>\n",
       "      <td>False</td>\n",
       "      <td>open</td>\n",
       "      <td>Открытая</td>\n",
       "      <td>2391889</td>\n",
       "      <td>ФАУ Роскапстрой</td>\n",
       "      <td>https://api.hh.ru/employers/2391889</td>\n",
       "      <td>https://hh.ru/employer/2391889</td>\n",
       "      <td>https://api.hh.ru/vacancies?employer_id=2391889</td>\n",
       "      <td>True</td>\n",
       "      <td>Аналитический склад ума, системность, способно...</td>\n",
       "      <td>Выстроить аналитическую базу. Работа под руков...</td>\n",
       "      <td>between1And3</td>\n",
       "      <td>От 1 года до 3 лет</td>\n",
       "      <td>full</td>\n",
       "      <td>Полная занятость</td>\n",
       "      <td>https://hhcdn.ru/employer-logo-original/336404...</td>\n",
       "      <td>https://hhcdn.ru/employer-logo/1787882.png</td>\n",
       "      <td>https://hhcdn.ru/employer-logo/1787883.png</td>\n",
       "      <td>Москва</td>\n",
       "      <td>Игарский проезд</td>\n",
       "      <td>2с1</td>\n",
       "      <td>55.858276</td>\n",
       "      <td>37.640327</td>\n",
       "      <td>Москва, Игарский проезд, 2с1</td>\n",
       "      <td>Свиблово</td>\n",
       "      <td>Калужско-Рижская</td>\n",
       "      <td>6.129</td>\n",
       "      <td>6</td>\n",
       "      <td>55.855558</td>\n",
       "      <td>37.653379</td>\n",
       "      <td>[{'station_name': 'Свиблово', 'line_name': 'Ка...</td>\n",
       "      <td>663523</td>\n",
       "      <td>NaN</td>\n",
       "      <td>NaN</td>\n",
       "      <td>NaN</td>\n",
       "      <td>NaN</td>\n",
       "      <td>NaN</td>\n",
       "      <td>148</td>\n",
       "      <td>Системный аналитик</td>\n",
       "    </tr>\n",
       "    <tr>\n",
       "      <th>868</th>\n",
       "      <td>77412327</td>\n",
       "      <td>False</td>\n",
       "      <td>Web-аналитик</td>\n",
       "      <td>False</td>\n",
       "      <td>False</td>\n",
       "      <td>None</td>\n",
       "      <td>2023-04-16T11:16:09+0300</td>\n",
       "      <td>2023-04-16T11:16:09+0300</td>\n",
       "      <td>False</td>\n",
       "      <td>https://hh.ru/applicant/vacancy_response?vacan...</td>\n",
       "      <td>https://api.hh.ru/vacancies/77412327?host=hh.ru</td>\n",
       "      <td>https://hh.ru/vacancy/77412327</td>\n",
       "      <td>[]</td>\n",
       "      <td>[]</td>\n",
       "      <td>[]</td>\n",
       "      <td>[]</td>\n",
       "      <td>False</td>\n",
       "      <td>False</td>\n",
       "      <td>&lt;p&gt;&lt;strong&gt;Мир крепежа — &lt;/strong&gt;торговая ком...</td>\n",
       "      <td>1</td>\n",
       "      <td>Москва</td>\n",
       "      <td>https://api.hh.ru/areas/1</td>\n",
       "      <td>120000.0</td>\n",
       "      <td>NaN</td>\n",
       "      <td>RUR</td>\n",
       "      <td>False</td>\n",
       "      <td>open</td>\n",
       "      <td>Открытая</td>\n",
       "      <td>854270</td>\n",
       "      <td>Мир Крепежа ТД</td>\n",
       "      <td>https://api.hh.ru/employers/854270</td>\n",
       "      <td>https://hh.ru/employer/854270</td>\n",
       "      <td>https://api.hh.ru/vacancies?employer_id=854270</td>\n",
       "      <td>True</td>\n",
       "      <td>Экспертное знание инструментов визуализации ан...</td>\n",
       "      <td>Настройка и мониторинг корректного сбора данны...</td>\n",
       "      <td>between1And3</td>\n",
       "      <td>От 1 года до 3 лет</td>\n",
       "      <td>full</td>\n",
       "      <td>Полная занятость</td>\n",
       "      <td>https://hhcdn.ru/employer-logo-original/661259...</td>\n",
       "      <td>https://hhcdn.ru/employer-logo/3086168.jpeg</td>\n",
       "      <td>https://hhcdn.ru/employer-logo/3086169.jpeg</td>\n",
       "      <td>Москва</td>\n",
       "      <td>Головинское шоссе</td>\n",
       "      <td>5А</td>\n",
       "      <td>55.839855</td>\n",
       "      <td>37.490263</td>\n",
       "      <td>Москва, Головинское шоссе, 5А</td>\n",
       "      <td>Водный стадион</td>\n",
       "      <td>Замоскворецкая</td>\n",
       "      <td>2.29</td>\n",
       "      <td>2</td>\n",
       "      <td>55.838978</td>\n",
       "      <td>37.487515</td>\n",
       "      <td>[{'station_name': 'Водный стадион', 'line_name...</td>\n",
       "      <td>5325846</td>\n",
       "      <td>NaN</td>\n",
       "      <td>NaN</td>\n",
       "      <td>NaN</td>\n",
       "      <td>NaN</td>\n",
       "      <td>NaN</td>\n",
       "      <td>163</td>\n",
       "      <td>Маркетолог-аналитик</td>\n",
       "    </tr>\n",
       "  </tbody>\n",
       "</table>\n",
       "</div>"
      ],
      "text/plain": [
       "            id  premium                name  has_test  \\\n",
       "3319  79246252    False            Аналитик     False   \n",
       "2928  79011104    False  Системный аналитик     False   \n",
       "2293  78831525    False            Аналитик     False   \n",
       "1974  77633102    False     Бизнес-аналитик     False   \n",
       "868   77412327    False        Web-аналитик     False   \n",
       "\n",
       "      response_letter_required response_url              published_at  \\\n",
       "3319                     False         None  2023-04-13T10:58:19+0300   \n",
       "2928                     False         None  2023-04-15T17:44:57+0300   \n",
       "2293                     False         None  2023-04-03T12:32:20+0300   \n",
       "1974                      True         None  2023-04-11T16:18:29+0300   \n",
       "868                      False         None  2023-04-16T11:16:09+0300   \n",
       "\n",
       "                    created_at  archived  \\\n",
       "3319  2023-04-13T10:58:19+0300     False   \n",
       "2928  2023-04-15T17:44:57+0300     False   \n",
       "2293  2023-04-03T12:32:20+0300     False   \n",
       "1974  2023-04-11T16:18:29+0300     False   \n",
       "868   2023-04-16T11:16:09+0300     False   \n",
       "\n",
       "                                    apply_alternate_url  \\\n",
       "3319  https://hh.ru/applicant/vacancy_response?vacan...   \n",
       "2928  https://hh.ru/applicant/vacancy_response?vacan...   \n",
       "2293  https://hh.ru/applicant/vacancy_response?vacan...   \n",
       "1974  https://hh.ru/applicant/vacancy_response?vacan...   \n",
       "868   https://hh.ru/applicant/vacancy_response?vacan...   \n",
       "\n",
       "                                                  url  \\\n",
       "3319  https://api.hh.ru/vacancies/79246252?host=hh.ru   \n",
       "2928  https://api.hh.ru/vacancies/79011104?host=hh.ru   \n",
       "2293  https://api.hh.ru/vacancies/78831525?host=hh.ru   \n",
       "1974  https://api.hh.ru/vacancies/77633102?host=hh.ru   \n",
       "868   https://api.hh.ru/vacancies/77412327?host=hh.ru   \n",
       "\n",
       "                       alternate_url relations working_days  \\\n",
       "3319  https://hh.ru/vacancy/79246252        []           []   \n",
       "2928  https://hh.ru/vacancy/79011104        []           []   \n",
       "2293  https://hh.ru/vacancy/78831525        []           []   \n",
       "1974  https://hh.ru/vacancy/77633102        []           []   \n",
       "868   https://hh.ru/vacancy/77412327        []           []   \n",
       "\n",
       "     working_time_intervals working_time_modes  accept_temporary  \\\n",
       "3319                     []                 []             False   \n",
       "2928                     []                 []              True   \n",
       "2293                     []                 []             False   \n",
       "1974                     []                 []             False   \n",
       "868                      []                 []             False   \n",
       "\n",
       "      accept_incomplete_resumes  \\\n",
       "3319                      False   \n",
       "2928                      False   \n",
       "2293                      False   \n",
       "1974                      False   \n",
       "868                       False   \n",
       "\n",
       "                                            description area.id  \\\n",
       "3319  <p><strong><em>30 лет успеха на текстильном ры...      32   \n",
       "2928  <p>АО «ЦРИТ» (Центр развития информационных те...       1   \n",
       "2293  <p>ООО МКК «Выручай-Деньги» - одна из крупнейш...      19   \n",
       "1974  <p><strong>Задачи на позиции:</strong></p> <ul...       1   \n",
       "868   <p><strong>Мир крепежа — </strong>торговая ком...       1   \n",
       "\n",
       "                         area.name                    area.url  salary.from  \\\n",
       "3319  Иваново (Ивановская область)  https://api.hh.ru/areas/32          NaN   \n",
       "2928                        Москва   https://api.hh.ru/areas/1          NaN   \n",
       "2293                        Брянск  https://api.hh.ru/areas/19          NaN   \n",
       "1974                        Москва   https://api.hh.ru/areas/1     100000.0   \n",
       "868                         Москва   https://api.hh.ru/areas/1     120000.0   \n",
       "\n",
       "      salary.to salary.currency salary.gross type.id type.name employer.id  \\\n",
       "3319        NaN             NaN          NaN    open  Открытая        2157   \n",
       "2928        NaN             NaN          NaN    open  Открытая     5887219   \n",
       "2293        NaN             NaN          NaN    open  Открытая     1499587   \n",
       "1974        NaN             RUR        False    open  Открытая     2391889   \n",
       "868         NaN             RUR        False    open  Открытая      854270   \n",
       "\n",
       "             employer.name                         employer.url  \\\n",
       "3319  НОРДТЕКС, Корпорация     https://api.hh.ru/employers/2157   \n",
       "2928                  ЦРИТ  https://api.hh.ru/employers/5887219   \n",
       "2293    МКК Выручай-Деньги  https://api.hh.ru/employers/1499587   \n",
       "1974       ФАУ Роскапстрой  https://api.hh.ru/employers/2391889   \n",
       "868         Мир Крепежа ТД   https://api.hh.ru/employers/854270   \n",
       "\n",
       "              employer.alternate_url  \\\n",
       "3319     https://hh.ru/employer/2157   \n",
       "2928  https://hh.ru/employer/5887219   \n",
       "2293  https://hh.ru/employer/1499587   \n",
       "1974  https://hh.ru/employer/2391889   \n",
       "868    https://hh.ru/employer/854270   \n",
       "\n",
       "                               employer.vacancies_url  employer.trusted  \\\n",
       "3319     https://api.hh.ru/vacancies?employer_id=2157              True   \n",
       "2928  https://api.hh.ru/vacancies?employer_id=5887219              True   \n",
       "2293  https://api.hh.ru/vacancies?employer_id=1499587              True   \n",
       "1974  https://api.hh.ru/vacancies?employer_id=2391889              True   \n",
       "868    https://api.hh.ru/vacancies?employer_id=854270              True   \n",
       "\n",
       "                                    snippet.requirement  \\\n",
       "3319  Знание законодательства РФ в части хранения, о...   \n",
       "2928  Опыт анализа и составления программ и методик ...   \n",
       "2293  Уверенное знание Excel. Знание BI-систем. Жела...   \n",
       "1974  Аналитический склад ума, системность, способно...   \n",
       "868   Экспертное знание инструментов визуализации ан...   \n",
       "\n",
       "                                 snippet.responsibility experience.id  \\\n",
       "3319  <highlighttext>Аналитика</highlighttext> склад...  between1And3   \n",
       "2928  Обследование объекта автоматизации, интервьюир...  between3And6   \n",
       "2293  Разработка моделей и витрин <highlighttext>дан...  between1And3   \n",
       "1974  Выстроить аналитическую базу. Работа под руков...  between1And3   \n",
       "868   Настройка и мониторинг корректного сбора данны...  between1And3   \n",
       "\n",
       "         experience.name employment.id   employment.name  \\\n",
       "3319  От 1 года до 3 лет          full  Полная занятость   \n",
       "2928       От 3 до 6 лет          full  Полная занятость   \n",
       "2293  От 1 года до 3 лет          full  Полная занятость   \n",
       "1974  От 1 года до 3 лет          full  Полная занятость   \n",
       "868   От 1 года до 3 лет          full  Полная занятость   \n",
       "\n",
       "                            employer.logo_urls.original  \\\n",
       "3319  https://hhcdn.ru/employer-logo-original/866763...   \n",
       "2928  https://hhcdn.ru/employer-logo-original/916324...   \n",
       "2293  https://hhcdn.ru/employer-logo-original/256159...   \n",
       "1974  https://hhcdn.ru/employer-logo-original/336404...   \n",
       "868   https://hhcdn.ru/employer-logo-original/661259...   \n",
       "\n",
       "                            employer.logo_urls.90  \\\n",
       "3319   https://hhcdn.ru/employer-logo/3907927.png   \n",
       "2928  https://hhcdn.ru/employer-logo/4105975.jpeg   \n",
       "2293   https://hhcdn.ru/employer-logo/1467166.png   \n",
       "1974   https://hhcdn.ru/employer-logo/1787882.png   \n",
       "868   https://hhcdn.ru/employer-logo/3086168.jpeg   \n",
       "\n",
       "                           employer.logo_urls.240  \\\n",
       "3319   https://hhcdn.ru/employer-logo/3907928.png   \n",
       "2928  https://hhcdn.ru/employer-logo/4105976.jpeg   \n",
       "2293   https://hhcdn.ru/employer-logo/1467167.png   \n",
       "1974   https://hhcdn.ru/employer-logo/1787883.png   \n",
       "868   https://hhcdn.ru/employer-logo/3086169.jpeg   \n",
       "\n",
       "                               address.city                 address.street  \\\n",
       "3319                                Иваново         улица 3 Интернационала   \n",
       "2928  Новомосковский административный округ  Киевское шоссе, 22-й километр   \n",
       "2293                                 Брянск                   улица Бурова   \n",
       "1974                                 Москва                Игарский проезд   \n",
       "868                                  Москва              Головинское шоссе   \n",
       "\n",
       "     address.building  address.lat  address.lng  \\\n",
       "3319               28    56.998098    40.993468   \n",
       "2928             4Ас1    55.633912    37.442742   \n",
       "2293               20    53.296203    34.320980   \n",
       "1974              2с1    55.858276    37.640327   \n",
       "868                5А    55.839855    37.490263   \n",
       "\n",
       "                                            address.raw  \\\n",
       "3319                Иваново, улица 3 Интернационала, 28   \n",
       "2928  Новомосковский административный округ, Киевско...   \n",
       "2293                           Брянск, улица Бурова, 20   \n",
       "1974                       Москва, Игарский проезд, 2с1   \n",
       "868                       Москва, Головинское шоссе, 5А   \n",
       "\n",
       "     address.metro.station_name address.metro.line_name  \\\n",
       "3319                        NaN                     NaN   \n",
       "2928                  Румянцево          Сокольническая   \n",
       "2293                        NaN                     NaN   \n",
       "1974                   Свиблово        Калужско-Рижская   \n",
       "868              Водный стадион          Замоскворецкая   \n",
       "\n",
       "     address.metro.station_id address.metro.line_id  address.metro.lat  \\\n",
       "3319                      NaN                   NaN                NaN   \n",
       "2928                    1.513                     1          55.633000   \n",
       "2293                      NaN                   NaN                NaN   \n",
       "1974                    6.129                     6          55.855558   \n",
       "868                      2.29                     2          55.838978   \n",
       "\n",
       "      address.metro.lng                             address.metro_stations  \\\n",
       "3319                NaN                                                 []   \n",
       "2928          37.441900  [{'station_name': 'Румянцево', 'line_name': 'С...   \n",
       "2293                NaN                                                 []   \n",
       "1974          37.653379  [{'station_name': 'Свиблово', 'line_name': 'Ка...   \n",
       "868           37.487515  [{'station_name': 'Водный стадион', 'line_name...   \n",
       "\n",
       "     address.id department.id department.name insider_interview.id  \\\n",
       "3319     474267           NaN             NaN                  NaN   \n",
       "2928    6903739           NaN             NaN                  NaN   \n",
       "2293   11590041           NaN             NaN                  NaN   \n",
       "1974     663523           NaN             NaN                  NaN   \n",
       "868     5325846           NaN             NaN                  NaN   \n",
       "\n",
       "     insider_interview.url immediate_redirect_url professional_roles_id  \\\n",
       "3319                   NaN                    NaN                    10   \n",
       "2928                   NaN                    NaN                    10   \n",
       "2293                   NaN                    NaN                    10   \n",
       "1974                   NaN                    NaN                   148   \n",
       "868                    NaN                    NaN                   163   \n",
       "\n",
       "     professional_roles_name  \n",
       "3319                Аналитик  \n",
       "2928                Аналитик  \n",
       "2293                Аналитик  \n",
       "1974      Системный аналитик  \n",
       "868      Маркетолог-аналитик  "
      ]
     },
     "execution_count": 9,
     "metadata": {},
     "output_type": "execute_result"
    }
   ],
   "source": [
    "# Посмотрим 5 случайных вакансий набора\n",
    "df.sample (n= 5)"
   ]
  },
  {
   "cell_type": "code",
   "execution_count": 10,
   "id": "f9fa992f",
   "metadata": {},
   "outputs": [
    {
     "data": {
      "text/plain": [
       "array([ True, False])"
      ]
     },
     "execution_count": 10,
     "metadata": {},
     "output_type": "execute_result"
    }
   ],
   "source": [
    "df['employer.trusted'].unique()"
   ]
  },
  {
   "cell_type": "code",
   "execution_count": 11,
   "id": "d2347680",
   "metadata": {},
   "outputs": [
    {
     "data": {
      "text/plain": [
       "array(['Полная занятость', 'Стажировка', 'Частичная занятость',\n",
       "       'Проектная работа'], dtype=object)"
      ]
     },
     "execution_count": 11,
     "metadata": {},
     "output_type": "execute_result"
    }
   ],
   "source": [
    "df['employment.name'].unique()"
   ]
  },
  {
   "cell_type": "code",
   "execution_count": null,
   "id": "63a40d6e",
   "metadata": {},
   "outputs": [],
   "source": [
    "# url = 'https://api.hh.ru/vacancies/79190621'\n",
    "# headers = {'User-Agent': 'Mozilla/5.0'}\n",
    "\n",
    "# response = requests.get(url, headers=headers)\n",
    "# if response.ok:\n",
    "#     data = response.json()\n",
    "#     description = data['description']\n"
   ]
  },
  {
   "cell_type": "code",
   "execution_count": 12,
   "id": "2aa26624",
   "metadata": {},
   "outputs": [],
   "source": [
    "# Избавимся от лишних (неинформативных) столбцов путем невключения их в \n",
    "# обновленный датафрейм (apply_alternate_url, url, area.url, type.id, employer.id,\n",
    "# employer.url, employer.logo_urls, employment.id, employer.logo_urls.original,\n",
    "# employer.logo_urls.90, employer.logo_urls.240, address.metro_stations, \n",
    "# address.id, department.id и другие)\n",
    "# )\n",
    "\n",
    "df = df[\n",
    "    [\n",
    "        \"id\",\n",
    "        \"name\",\n",
    "        \"snippet.requirement\",\n",
    "        \"snippet.responsibility\",\n",
    "        \"description\",\n",
    "        \"experience.name\",\n",
    "        \"published_at\",\n",
    "        \"created_at\",\n",
    "        \"alternate_url\",\n",
    "        \"working_days\",\n",
    "        \"working_time_intervals\",\n",
    "        \"working_time_modes\",\n",
    "        \"accept_temporary\",\n",
    "        \"employment.name\",\n",
    "        \"professional_roles_name\",\n",
    "        \"accept_incomplete_resumes\",\n",
    "        \"department.name\",\n",
    "        \"area.name\",\n",
    "        \"salary.from\",\n",
    "        \"salary.to\",\n",
    "        \"salary.currency\",\n",
    "        \"salary.gross\",\n",
    "        \"type.name\",\n",
    "        \"employer.name\",\n",
    "        \"employer.alternate_url\",\n",
    "        \"employer.vacancies_url\",\n",
    "        \"employer.trusted\",\n",
    "        \"address.city\",\n",
    "        \"address.street\",\n",
    "        \"address.building\",\n",
    "        \"address.lat\",\n",
    "        \"address.lng\",\n",
    "        \"address.raw\",\n",
    "        \"address.metro.station_name\",\n",
    "        \"address.metro.line_name\",\n",
    "        \"address.metro.station_id\",\n",
    "        \"address.metro.line_id\",\n",
    "        \"address.metro.lat\",\n",
    "        \"address.metro.lng\",\n",
    "    ]\n",
    "]"
   ]
  },
  {
   "cell_type": "code",
   "execution_count": 13,
   "id": "73989d76",
   "metadata": {},
   "outputs": [
    {
     "data": {
      "text/html": [
       "<div>\n",
       "<style scoped>\n",
       "    .dataframe tbody tr th:only-of-type {\n",
       "        vertical-align: middle;\n",
       "    }\n",
       "\n",
       "    .dataframe tbody tr th {\n",
       "        vertical-align: top;\n",
       "    }\n",
       "\n",
       "    .dataframe thead th {\n",
       "        text-align: right;\n",
       "    }\n",
       "</style>\n",
       "<table border=\"1\" class=\"dataframe\">\n",
       "  <thead>\n",
       "    <tr style=\"text-align: right;\">\n",
       "      <th></th>\n",
       "      <th>id</th>\n",
       "      <th>name</th>\n",
       "      <th>snippet.requirement</th>\n",
       "      <th>snippet.responsibility</th>\n",
       "      <th>description</th>\n",
       "      <th>experience.name</th>\n",
       "      <th>published_at</th>\n",
       "      <th>created_at</th>\n",
       "      <th>alternate_url</th>\n",
       "      <th>working_days</th>\n",
       "      <th>working_time_intervals</th>\n",
       "      <th>working_time_modes</th>\n",
       "      <th>accept_temporary</th>\n",
       "      <th>employment.name</th>\n",
       "      <th>professional_roles_name</th>\n",
       "      <th>accept_incomplete_resumes</th>\n",
       "      <th>department.name</th>\n",
       "      <th>area.name</th>\n",
       "      <th>salary.from</th>\n",
       "      <th>salary.to</th>\n",
       "      <th>salary.currency</th>\n",
       "      <th>salary.gross</th>\n",
       "      <th>type.name</th>\n",
       "      <th>employer.name</th>\n",
       "      <th>employer.alternate_url</th>\n",
       "      <th>employer.vacancies_url</th>\n",
       "      <th>employer.trusted</th>\n",
       "      <th>address.city</th>\n",
       "      <th>address.street</th>\n",
       "      <th>address.building</th>\n",
       "      <th>address.lat</th>\n",
       "      <th>address.lng</th>\n",
       "      <th>address.raw</th>\n",
       "      <th>address.metro.station_name</th>\n",
       "      <th>address.metro.line_name</th>\n",
       "      <th>address.metro.station_id</th>\n",
       "      <th>address.metro.line_id</th>\n",
       "      <th>address.metro.lat</th>\n",
       "      <th>address.metro.lng</th>\n",
       "    </tr>\n",
       "  </thead>\n",
       "  <tbody>\n",
       "    <tr>\n",
       "      <th>0</th>\n",
       "      <td>79110745</td>\n",
       "      <td>Data Engineer</td>\n",
       "      <td>Разговорный английский. Опыт работы &lt;highlight...</td>\n",
       "      <td>Взаимодействие с &lt;highlighttext&gt;data&lt;/highligh...</td>\n",
       "      <td>&lt;p&gt;Ищу &lt;strong&gt;Data Engineer&lt;/strong&gt; в SportT...</td>\n",
       "      <td>От 3 до 6 лет</td>\n",
       "      <td>2023-04-16T14:42:13+0300</td>\n",
       "      <td>2023-04-16T14:42:13+0300</td>\n",
       "      <td>https://hh.ru/vacancy/79110745</td>\n",
       "      <td>[]</td>\n",
       "      <td>[]</td>\n",
       "      <td>[]</td>\n",
       "      <td>True</td>\n",
       "      <td>Полная занятость</td>\n",
       "      <td>Программист, разработчик</td>\n",
       "      <td>False</td>\n",
       "      <td>NaN</td>\n",
       "      <td>Москва</td>\n",
       "      <td>4000.0</td>\n",
       "      <td>6000.0</td>\n",
       "      <td>EUR</td>\n",
       "      <td>True</td>\n",
       "      <td>Открытая</td>\n",
       "      <td>4CV Recruitment Services</td>\n",
       "      <td>https://hh.ru/employer/5231648</td>\n",
       "      <td>https://api.hh.ru/vacancies?employer_id=5231648</td>\n",
       "      <td>True</td>\n",
       "      <td>NaN</td>\n",
       "      <td>NaN</td>\n",
       "      <td>NaN</td>\n",
       "      <td>NaN</td>\n",
       "      <td>NaN</td>\n",
       "      <td>NaN</td>\n",
       "      <td>NaN</td>\n",
       "      <td>NaN</td>\n",
       "      <td>NaN</td>\n",
       "      <td>NaN</td>\n",
       "      <td>NaN</td>\n",
       "      <td>NaN</td>\n",
       "    </tr>\n",
       "    <tr>\n",
       "      <th>1</th>\n",
       "      <td>79120615</td>\n",
       "      <td>Data engineer</td>\n",
       "      <td>Высшее техническое образование, предпочтительн...</td>\n",
       "      <td>Системный анализ, инженерная аналитика. Разраб...</td>\n",
       "      <td>&lt;p&gt;В крупную исследовательскую компанию, специ...</td>\n",
       "      <td>От 1 года до 3 лет</td>\n",
       "      <td>2023-04-16T17:13:22+0300</td>\n",
       "      <td>2023-04-16T17:13:22+0300</td>\n",
       "      <td>https://hh.ru/vacancy/79120615</td>\n",
       "      <td>[]</td>\n",
       "      <td>[]</td>\n",
       "      <td>[]</td>\n",
       "      <td>False</td>\n",
       "      <td>Полная занятость</td>\n",
       "      <td>Программист, разработчик</td>\n",
       "      <td>False</td>\n",
       "      <td>NaN</td>\n",
       "      <td>Москва</td>\n",
       "      <td>180000.0</td>\n",
       "      <td>250000.0</td>\n",
       "      <td>RUR</td>\n",
       "      <td>False</td>\n",
       "      <td>Открытая</td>\n",
       "      <td>РВИ</td>\n",
       "      <td>https://hh.ru/employer/30486</td>\n",
       "      <td>https://api.hh.ru/vacancies?employer_id=30486</td>\n",
       "      <td>True</td>\n",
       "      <td>NaN</td>\n",
       "      <td>NaN</td>\n",
       "      <td>NaN</td>\n",
       "      <td>NaN</td>\n",
       "      <td>NaN</td>\n",
       "      <td>NaN</td>\n",
       "      <td>NaN</td>\n",
       "      <td>NaN</td>\n",
       "      <td>NaN</td>\n",
       "      <td>NaN</td>\n",
       "      <td>NaN</td>\n",
       "      <td>NaN</td>\n",
       "    </tr>\n",
       "    <tr>\n",
       "      <th>2</th>\n",
       "      <td>78934984</td>\n",
       "      <td>Data engineer (Стажер)</td>\n",
       "      <td>Имеете высшее образование или заканчиваете учи...</td>\n",
       "      <td>По результатам обучения – обязательная защита ...</td>\n",
       "      <td>&lt;p&gt;&lt;strong&gt;НЕ НУЖНО ОТКЛИКАТЬСЯ НА ВАКАНСИЮ! Ч...</td>\n",
       "      <td>Нет опыта</td>\n",
       "      <td>2023-04-14T11:13:27+0300</td>\n",
       "      <td>2023-04-14T11:13:27+0300</td>\n",
       "      <td>https://hh.ru/vacancy/78934984</td>\n",
       "      <td>[]</td>\n",
       "      <td>[]</td>\n",
       "      <td>[]</td>\n",
       "      <td>False</td>\n",
       "      <td>Стажировка</td>\n",
       "      <td>BI-аналитик, аналитик данных</td>\n",
       "      <td>False</td>\n",
       "      <td>NaN</td>\n",
       "      <td>Москва</td>\n",
       "      <td>NaN</td>\n",
       "      <td>NaN</td>\n",
       "      <td>NaN</td>\n",
       "      <td>NaN</td>\n",
       "      <td>Открытая</td>\n",
       "      <td>Sapiens solutions</td>\n",
       "      <td>https://hh.ru/employer/1789341</td>\n",
       "      <td>https://api.hh.ru/vacancies?employer_id=1789341</td>\n",
       "      <td>True</td>\n",
       "      <td>Москва</td>\n",
       "      <td>Нижняя Красносельская улица</td>\n",
       "      <td>40/12к2</td>\n",
       "      <td>55.774284</td>\n",
       "      <td>37.669145</td>\n",
       "      <td>Москва, Нижняя Красносельская улица, 40/12к2</td>\n",
       "      <td>Бауманская</td>\n",
       "      <td>Арбатско-Покровская</td>\n",
       "      <td>3.17</td>\n",
       "      <td>3</td>\n",
       "      <td>55.772405</td>\n",
       "      <td>37.67904</td>\n",
       "    </tr>\n",
       "  </tbody>\n",
       "</table>\n",
       "</div>"
      ],
      "text/plain": [
       "         id                    name  \\\n",
       "0  79110745           Data Engineer   \n",
       "1  79120615           Data engineer   \n",
       "2  78934984  Data engineer (Стажер)   \n",
       "\n",
       "                                 snippet.requirement  \\\n",
       "0  Разговорный английский. Опыт работы <highlight...   \n",
       "1  Высшее техническое образование, предпочтительн...   \n",
       "2  Имеете высшее образование или заканчиваете учи...   \n",
       "\n",
       "                              snippet.responsibility  \\\n",
       "0  Взаимодействие с <highlighttext>data</highligh...   \n",
       "1  Системный анализ, инженерная аналитика. Разраб...   \n",
       "2  По результатам обучения – обязательная защита ...   \n",
       "\n",
       "                                         description     experience.name  \\\n",
       "0  <p>Ищу <strong>Data Engineer</strong> в SportT...       От 3 до 6 лет   \n",
       "1  <p>В крупную исследовательскую компанию, специ...  От 1 года до 3 лет   \n",
       "2  <p><strong>НЕ НУЖНО ОТКЛИКАТЬСЯ НА ВАКАНСИЮ! Ч...           Нет опыта   \n",
       "\n",
       "               published_at                created_at  \\\n",
       "0  2023-04-16T14:42:13+0300  2023-04-16T14:42:13+0300   \n",
       "1  2023-04-16T17:13:22+0300  2023-04-16T17:13:22+0300   \n",
       "2  2023-04-14T11:13:27+0300  2023-04-14T11:13:27+0300   \n",
       "\n",
       "                    alternate_url working_days working_time_intervals  \\\n",
       "0  https://hh.ru/vacancy/79110745           []                     []   \n",
       "1  https://hh.ru/vacancy/79120615           []                     []   \n",
       "2  https://hh.ru/vacancy/78934984           []                     []   \n",
       "\n",
       "  working_time_modes  accept_temporary   employment.name  \\\n",
       "0                 []              True  Полная занятость   \n",
       "1                 []             False  Полная занятость   \n",
       "2                 []             False        Стажировка   \n",
       "\n",
       "        professional_roles_name  accept_incomplete_resumes department.name  \\\n",
       "0      Программист, разработчик                      False             NaN   \n",
       "1      Программист, разработчик                      False             NaN   \n",
       "2  BI-аналитик, аналитик данных                      False             NaN   \n",
       "\n",
       "  area.name  salary.from  salary.to salary.currency salary.gross type.name  \\\n",
       "0    Москва       4000.0     6000.0             EUR         True  Открытая   \n",
       "1    Москва     180000.0   250000.0             RUR        False  Открытая   \n",
       "2    Москва          NaN        NaN             NaN          NaN  Открытая   \n",
       "\n",
       "              employer.name          employer.alternate_url  \\\n",
       "0  4CV Recruitment Services  https://hh.ru/employer/5231648   \n",
       "1                       РВИ    https://hh.ru/employer/30486   \n",
       "2         Sapiens solutions  https://hh.ru/employer/1789341   \n",
       "\n",
       "                            employer.vacancies_url  employer.trusted  \\\n",
       "0  https://api.hh.ru/vacancies?employer_id=5231648              True   \n",
       "1    https://api.hh.ru/vacancies?employer_id=30486              True   \n",
       "2  https://api.hh.ru/vacancies?employer_id=1789341              True   \n",
       "\n",
       "  address.city               address.street address.building  address.lat  \\\n",
       "0          NaN                          NaN              NaN          NaN   \n",
       "1          NaN                          NaN              NaN          NaN   \n",
       "2       Москва  Нижняя Красносельская улица          40/12к2    55.774284   \n",
       "\n",
       "   address.lng                                   address.raw  \\\n",
       "0          NaN                                           NaN   \n",
       "1          NaN                                           NaN   \n",
       "2    37.669145  Москва, Нижняя Красносельская улица, 40/12к2   \n",
       "\n",
       "  address.metro.station_name address.metro.line_name address.metro.station_id  \\\n",
       "0                        NaN                     NaN                      NaN   \n",
       "1                        NaN                     NaN                      NaN   \n",
       "2                 Бауманская     Арбатско-Покровская                     3.17   \n",
       "\n",
       "  address.metro.line_id  address.metro.lat  address.metro.lng  \n",
       "0                   NaN                NaN                NaN  \n",
       "1                   NaN                NaN                NaN  \n",
       "2                     3          55.772405           37.67904  "
      ]
     },
     "execution_count": 13,
     "metadata": {},
     "output_type": "execute_result"
    }
   ],
   "source": [
    "df.head(3)"
   ]
  },
  {
   "cell_type": "code",
   "execution_count": 14,
   "id": "2a18a65c",
   "metadata": {},
   "outputs": [
    {
     "name": "stdout",
     "output_type": "stream",
     "text": [
      "<class 'pandas.core.frame.DataFrame'>\n",
      "RangeIndex: 5310 entries, 0 to 5309\n",
      "Data columns (total 39 columns):\n",
      " #   Column                      Non-Null Count  Dtype  \n",
      "---  ------                      --------------  -----  \n",
      " 0   id                          5310 non-null   object \n",
      " 1   name                        5310 non-null   object \n",
      " 2   snippet.requirement         5281 non-null   object \n",
      " 3   snippet.responsibility      5282 non-null   object \n",
      " 4   description                 5310 non-null   object \n",
      " 5   experience.name             5310 non-null   object \n",
      " 6   published_at                5310 non-null   object \n",
      " 7   created_at                  5310 non-null   object \n",
      " 8   alternate_url               5310 non-null   object \n",
      " 9   working_days                5310 non-null   object \n",
      " 10  working_time_intervals      5310 non-null   object \n",
      " 11  working_time_modes          5310 non-null   object \n",
      " 12  accept_temporary            5310 non-null   bool   \n",
      " 13  employment.name             5310 non-null   object \n",
      " 14  professional_roles_name     5310 non-null   object \n",
      " 15  accept_incomplete_resumes   5310 non-null   bool   \n",
      " 16  department.name             778 non-null    object \n",
      " 17  area.name                   5310 non-null   object \n",
      " 18  salary.from                 1474 non-null   float64\n",
      " 19  salary.to                   1006 non-null   float64\n",
      " 20  salary.currency             1735 non-null   object \n",
      " 21  salary.gross                1734 non-null   object \n",
      " 22  type.name                   5310 non-null   object \n",
      " 23  employer.name               5310 non-null   object \n",
      " 24  employer.alternate_url      5299 non-null   object \n",
      " 25  employer.vacancies_url      5299 non-null   object \n",
      " 26  employer.trusted            5310 non-null   bool   \n",
      " 27  address.city                2690 non-null   object \n",
      " 28  address.street              2648 non-null   object \n",
      " 29  address.building            2564 non-null   object \n",
      " 30  address.lat                 2712 non-null   float64\n",
      " 31  address.lng                 2712 non-null   float64\n",
      " 32  address.raw                 2789 non-null   object \n",
      " 33  address.metro.station_name  1596 non-null   object \n",
      " 34  address.metro.line_name     1596 non-null   object \n",
      " 35  address.metro.station_id    1596 non-null   object \n",
      " 36  address.metro.line_id       1596 non-null   object \n",
      " 37  address.metro.lat           1596 non-null   float64\n",
      " 38  address.metro.lng           1596 non-null   float64\n",
      "dtypes: bool(3), float64(6), object(30)\n",
      "memory usage: 1.5+ MB\n",
      "None\n"
     ]
    }
   ],
   "source": [
    "print(df.info())"
   ]
  },
  {
   "cell_type": "code",
   "execution_count": 15,
   "id": "d16f9efd",
   "metadata": {},
   "outputs": [
    {
     "data": {
      "text/plain": [
       "array([ True, False])"
      ]
     },
     "execution_count": 15,
     "metadata": {},
     "output_type": "execute_result"
    }
   ],
   "source": [
    "# Непонятный столбец\n",
    "df['employer.trusted'].unique()"
   ]
  },
  {
   "cell_type": "code",
   "execution_count": 16,
   "id": "7c628c17",
   "metadata": {},
   "outputs": [
    {
     "data": {
      "text/html": [
       "<div>\n",
       "<style scoped>\n",
       "    .dataframe tbody tr th:only-of-type {\n",
       "        vertical-align: middle;\n",
       "    }\n",
       "\n",
       "    .dataframe tbody tr th {\n",
       "        vertical-align: top;\n",
       "    }\n",
       "\n",
       "    .dataframe thead th {\n",
       "        text-align: right;\n",
       "    }\n",
       "</style>\n",
       "<table border=\"1\" class=\"dataframe\">\n",
       "  <thead>\n",
       "    <tr style=\"text-align: right;\">\n",
       "      <th></th>\n",
       "      <th>id</th>\n",
       "      <th>name</th>\n",
       "      <th>snippet.requirement</th>\n",
       "      <th>snippet.responsibility</th>\n",
       "      <th>description</th>\n",
       "      <th>experience.name</th>\n",
       "      <th>published_at</th>\n",
       "      <th>created_at</th>\n",
       "      <th>alternate_url</th>\n",
       "      <th>working_days</th>\n",
       "      <th>working_time_intervals</th>\n",
       "      <th>working_time_modes</th>\n",
       "      <th>accept_temporary</th>\n",
       "      <th>employment.name</th>\n",
       "      <th>professional_roles_name</th>\n",
       "      <th>accept_incomplete_resumes</th>\n",
       "      <th>department.name</th>\n",
       "      <th>area.name</th>\n",
       "      <th>salary.from</th>\n",
       "      <th>salary.to</th>\n",
       "      <th>salary.currency</th>\n",
       "      <th>salary.gross</th>\n",
       "      <th>type.name</th>\n",
       "      <th>employer.name</th>\n",
       "      <th>employer.alternate_url</th>\n",
       "      <th>employer.vacancies_url</th>\n",
       "      <th>employer.trusted</th>\n",
       "      <th>address.city</th>\n",
       "      <th>address.street</th>\n",
       "      <th>address.building</th>\n",
       "      <th>address.lat</th>\n",
       "      <th>address.lng</th>\n",
       "      <th>address.raw</th>\n",
       "      <th>address.metro.station_name</th>\n",
       "      <th>address.metro.line_name</th>\n",
       "      <th>address.metro.station_id</th>\n",
       "      <th>address.metro.line_id</th>\n",
       "      <th>address.metro.lat</th>\n",
       "      <th>address.metro.lng</th>\n",
       "    </tr>\n",
       "  </thead>\n",
       "  <tbody>\n",
       "  </tbody>\n",
       "</table>\n",
       "</div>"
      ],
      "text/plain": [
       "Empty DataFrame\n",
       "Columns: [id, name, snippet.requirement, snippet.responsibility, description, experience.name, published_at, created_at, alternate_url, working_days, working_time_intervals, working_time_modes, accept_temporary, employment.name, professional_roles_name, accept_incomplete_resumes, department.name, area.name, salary.from, salary.to, salary.currency, salary.gross, type.name, employer.name, employer.alternate_url, employer.vacancies_url, employer.trusted, address.city, address.street, address.building, address.lat, address.lng, address.raw, address.metro.station_name, address.metro.line_name, address.metro.station_id, address.metro.line_id, address.metro.lat, address.metro.lng]\n",
       "Index: []"
      ]
     },
     "execution_count": 16,
     "metadata": {},
     "output_type": "execute_result"
    }
   ],
   "source": [
    "df.loc[df['employer.trusted'] == 'False']"
   ]
  },
  {
   "attachments": {},
   "cell_type": "markdown",
   "id": "49bc9b0e",
   "metadata": {},
   "source": [
    "Видим, что он содержит только одно значение, избавимся от него"
   ]
  },
  {
   "cell_type": "code",
   "execution_count": 17,
   "id": "ed4fde07",
   "metadata": {},
   "outputs": [],
   "source": [
    "df = df.drop('employer.trusted', axis=1)"
   ]
  },
  {
   "attachments": {},
   "cell_type": "markdown",
   "id": "612cf829",
   "metadata": {},
   "source": [
    "<!-- Также видим, что в столбцах snippet.requirement\tи snippet.responsibility есть теги. Если в тексте снипета встретилась поисковая фраза (параметр text ), она будет подсвечена тегом highlighttext (из документации по API). Но нам эти теги ни к чему, избавимся от них: -->"
   ]
  },
  {
   "cell_type": "code",
   "execution_count": null,
   "id": "53d64a4d",
   "metadata": {},
   "outputs": [],
   "source": [
    "# # Далее необходимо очистить датасет от лишних вакансий. Для этого составим облако слов поля professional_roles_name\n",
    "\n",
    "# from wordcloud import WordCloud\n",
    "# import matplotlib.pyplot as plt\n",
    "\n",
    "# # Объединяем все строки в одну\n",
    "# text_roles = ' '.join(df['professional_roles_name'])\n",
    "\n",
    "# # Создаем объект WordCloud\n",
    "# wordcloud = WordCloud(width=800, height=800, background_color='white', min_font_size=10).generate(text_roles)\n",
    "\n",
    "# # Отображаем облако слов\n",
    "# plt.figure(figsize=(8, 8), facecolor=None)\n",
    "# plt.imshow(wordcloud)\n",
    "# plt.axis('off')\n",
    "# plt.tight_layout(pad=0)\n",
    "  \n",
    "# plt.show()\n"
   ]
  },
  {
   "cell_type": "code",
   "execution_count": null,
   "id": "470d7887",
   "metadata": {},
   "outputs": [],
   "source": [
    "# # Объединяем все строки в одну\n",
    "# text_name = ' '.join(df['name'])\n",
    "\n",
    "# # Создаем объект WordCloud\n",
    "# wordcloud = WordCloud(width=800, height=800, background_color='white', min_font_size=10).generate(text_name)\n",
    "\n",
    "# # Отображаем облако слов\n",
    "# plt.figure(figsize=(8, 8), facecolor=None)\n",
    "# plt.imshow(wordcloud)\n",
    "# plt.axis('off')\n",
    "# plt.tight_layout(pad=0)\n",
    "  \n",
    "# plt.show()"
   ]
  },
  {
   "cell_type": "code",
   "execution_count": 18,
   "id": "44bcc4d5",
   "metadata": {},
   "outputs": [
    {
     "data": {
      "text/plain": [
       "array(['Программист, разработчик', 'BI-аналитик, аналитик данных',\n",
       "       'Системный инженер', 'Дата-сайентист', 'Аналитик', 'Другое',\n",
       "       'Системный аналитик', 'Администратор',\n",
       "       'Руководитель отдела аналитики', 'Руководитель группы разработки',\n",
       "       'DevOps-инженер', 'Инженер по качеству', 'Тестировщик',\n",
       "       'Сетевой инженер', 'Учитель, преподаватель, педагог', 'Архитектор',\n",
       "       'Менеджер продукта', 'Продуктовый аналитик',\n",
       "       'Инженер-конструктор, инженер-проектировщик',\n",
       "       'Специалист по информационной безопасности', 'Бизнес-аналитик',\n",
       "       'Системный администратор', 'Руководитель проектов',\n",
       "       'Оператор ПК, оператор базы данных',\n",
       "       'Финансовый аналитик, инвестиционный аналитик',\n",
       "       'Менеджер по продажам, менеджер по работе с клиентами',\n",
       "       'Менеджер по маркетингу, интернет-маркетолог',\n",
       "       'Маркетолог-аналитик', 'Экономист',\n",
       "       'Специалист службы безопасности',\n",
       "       'Научный специалист, исследователь',\n",
       "       'SMM-менеджер, контент-менеджер',\n",
       "       'Специалист технической поддержки',\n",
       "       'Менеджер по компенсациям и льготам', 'Методолог', 'Юрист',\n",
       "       'Финансовый контролер', 'Менеджер по работе с партнерами',\n",
       "       'Казначей', 'Копирайтер, редактор, корректор', 'Аудитор',\n",
       "       'Менеджер по персоналу', 'Комплаенс-менеджер',\n",
       "       'Менеджер/консультант по стратегии', 'Финансовый менеджер',\n",
       "       'Менеджер по закупкам', 'Бухгалтер', 'Координатор отдела продаж',\n",
       "       'Руководитель отдела продаж',\n",
       "       'Менеджер по логистике, менеджер по ВЭД',\n",
       "       'Секретарь, помощник руководителя, ассистент', 'Технолог',\n",
       "       'Технический директор (CTO)', 'Офис-менеджер',\n",
       "       'Технический писатель', 'Начальник склада', 'Товаровед',\n",
       "       'Продавец-консультант, продавец-кассир',\n",
       "       'Инженер-энергетик, инженер-электрик',\n",
       "       'Инженер ПТО, инженер-сметчик', 'Супервайзер', 'Юрисконсульт',\n",
       "       'Директор по маркетингу и PR (CMO)', 'PR-менеджер',\n",
       "       'Руководитель отдела маркетинга и рекламы',\n",
       "       'Финансовый директор (CFO)', 'Кредитный специалист',\n",
       "       'Начальник производства', 'Специалист по подбору персонала',\n",
       "       'Сервисный инженер, инженер-механик', 'Охранник',\n",
       "       'Руководитель строительного проекта', 'Инженер по эксплуатации'],\n",
       "      dtype=object)"
      ]
     },
     "execution_count": 18,
     "metadata": {},
     "output_type": "execute_result"
    }
   ],
   "source": [
    "# Уникальные значения в столбце рабочих ролей\n",
    "df['professional_roles_name'].unique()"
   ]
  },
  {
   "attachments": {},
   "cell_type": "markdown",
   "id": "b9df8a8b",
   "metadata": {},
   "source": [
    "В нем видим несколько нехарактерных для исследуемой области ролей"
   ]
  },
  {
   "cell_type": "code",
   "execution_count": 19,
   "id": "460770c5",
   "metadata": {},
   "outputs": [
    {
     "data": {
      "text/html": [
       "<div>\n",
       "<style scoped>\n",
       "    .dataframe tbody tr th:only-of-type {\n",
       "        vertical-align: middle;\n",
       "    }\n",
       "\n",
       "    .dataframe tbody tr th {\n",
       "        vertical-align: top;\n",
       "    }\n",
       "\n",
       "    .dataframe thead th {\n",
       "        text-align: right;\n",
       "    }\n",
       "</style>\n",
       "<table border=\"1\" class=\"dataframe\">\n",
       "  <thead>\n",
       "    <tr style=\"text-align: right;\">\n",
       "      <th></th>\n",
       "      <th>id</th>\n",
       "      <th>name</th>\n",
       "      <th>snippet.requirement</th>\n",
       "      <th>snippet.responsibility</th>\n",
       "      <th>description</th>\n",
       "      <th>experience.name</th>\n",
       "      <th>published_at</th>\n",
       "      <th>created_at</th>\n",
       "      <th>alternate_url</th>\n",
       "      <th>working_days</th>\n",
       "      <th>working_time_intervals</th>\n",
       "      <th>working_time_modes</th>\n",
       "      <th>accept_temporary</th>\n",
       "      <th>employment.name</th>\n",
       "      <th>professional_roles_name</th>\n",
       "      <th>accept_incomplete_resumes</th>\n",
       "      <th>department.name</th>\n",
       "      <th>area.name</th>\n",
       "      <th>salary.from</th>\n",
       "      <th>salary.to</th>\n",
       "      <th>salary.currency</th>\n",
       "      <th>salary.gross</th>\n",
       "      <th>type.name</th>\n",
       "      <th>employer.name</th>\n",
       "      <th>employer.alternate_url</th>\n",
       "      <th>employer.vacancies_url</th>\n",
       "      <th>address.city</th>\n",
       "      <th>address.street</th>\n",
       "      <th>address.building</th>\n",
       "      <th>address.lat</th>\n",
       "      <th>address.lng</th>\n",
       "      <th>address.raw</th>\n",
       "      <th>address.metro.station_name</th>\n",
       "      <th>address.metro.line_name</th>\n",
       "      <th>address.metro.station_id</th>\n",
       "      <th>address.metro.line_id</th>\n",
       "      <th>address.metro.lat</th>\n",
       "      <th>address.metro.lng</th>\n",
       "    </tr>\n",
       "  </thead>\n",
       "  <tbody>\n",
       "    <tr>\n",
       "      <th>3934</th>\n",
       "      <td>78795027</td>\n",
       "      <td>Финансовый аналитик/менеджер в г. Сухум (Абхазия)</td>\n",
       "      <td>11 лет на мебельном рынке. Уверенный пользоват...</td>\n",
       "      <td>Сбор и ведение управленческой отчётности. Подг...</td>\n",
       "      <td>&lt;p&gt;&lt;strong&gt;Компания Домино, лидер мебельного р...</td>\n",
       "      <td>От 1 года до 3 лет</td>\n",
       "      <td>2023-04-01T16:38:03+0300</td>\n",
       "      <td>2023-04-01T16:38:03+0300</td>\n",
       "      <td>https://hh.ru/vacancy/78795027</td>\n",
       "      <td>[]</td>\n",
       "      <td>[]</td>\n",
       "      <td>[]</td>\n",
       "      <td>False</td>\n",
       "      <td>Полная занятость</td>\n",
       "      <td>Финансовый директор (CFO)</td>\n",
       "      <td>False</td>\n",
       "      <td>NaN</td>\n",
       "      <td>Ульяновск</td>\n",
       "      <td>70000.0</td>\n",
       "      <td>110000.0</td>\n",
       "      <td>RUR</td>\n",
       "      <td>False</td>\n",
       "      <td>Открытая</td>\n",
       "      <td>Салоны мебели и интерьера Домино</td>\n",
       "      <td>https://hh.ru/employer/9149474</td>\n",
       "      <td>https://api.hh.ru/vacancies?employer_id=9149474</td>\n",
       "      <td>NaN</td>\n",
       "      <td>NaN</td>\n",
       "      <td>NaN</td>\n",
       "      <td>NaN</td>\n",
       "      <td>NaN</td>\n",
       "      <td>NaN</td>\n",
       "      <td>NaN</td>\n",
       "      <td>NaN</td>\n",
       "      <td>NaN</td>\n",
       "      <td>NaN</td>\n",
       "      <td>NaN</td>\n",
       "      <td>NaN</td>\n",
       "    </tr>\n",
       "    <tr>\n",
       "      <th>4296</th>\n",
       "      <td>78795025</td>\n",
       "      <td>Финансовый аналитик/менеджер в г. Сухум (Абхазия)</td>\n",
       "      <td>11 лет на мебельном рынке. Уверенный пользоват...</td>\n",
       "      <td>Сбор и ведение управленческой отчётности. Подг...</td>\n",
       "      <td>&lt;p&gt;&lt;strong&gt;Компания Домино, лидер мебельного р...</td>\n",
       "      <td>От 1 года до 3 лет</td>\n",
       "      <td>2023-04-01T16:38:03+0300</td>\n",
       "      <td>2023-04-01T16:38:03+0300</td>\n",
       "      <td>https://hh.ru/vacancy/78795025</td>\n",
       "      <td>[]</td>\n",
       "      <td>[]</td>\n",
       "      <td>[]</td>\n",
       "      <td>False</td>\n",
       "      <td>Полная занятость</td>\n",
       "      <td>Финансовый директор (CFO)</td>\n",
       "      <td>False</td>\n",
       "      <td>NaN</td>\n",
       "      <td>Воронеж</td>\n",
       "      <td>70000.0</td>\n",
       "      <td>110000.0</td>\n",
       "      <td>RUR</td>\n",
       "      <td>False</td>\n",
       "      <td>Открытая</td>\n",
       "      <td>Салоны мебели и интерьера Домино</td>\n",
       "      <td>https://hh.ru/employer/9149474</td>\n",
       "      <td>https://api.hh.ru/vacancies?employer_id=9149474</td>\n",
       "      <td>NaN</td>\n",
       "      <td>NaN</td>\n",
       "      <td>NaN</td>\n",
       "      <td>NaN</td>\n",
       "      <td>NaN</td>\n",
       "      <td>NaN</td>\n",
       "      <td>NaN</td>\n",
       "      <td>NaN</td>\n",
       "      <td>NaN</td>\n",
       "      <td>NaN</td>\n",
       "      <td>NaN</td>\n",
       "      <td>NaN</td>\n",
       "    </tr>\n",
       "  </tbody>\n",
       "</table>\n",
       "</div>"
      ],
      "text/plain": [
       "            id                                               name  \\\n",
       "3934  78795027  Финансовый аналитик/менеджер в г. Сухум (Абхазия)   \n",
       "4296  78795025  Финансовый аналитик/менеджер в г. Сухум (Абхазия)   \n",
       "\n",
       "                                    snippet.requirement  \\\n",
       "3934  11 лет на мебельном рынке. Уверенный пользоват...   \n",
       "4296  11 лет на мебельном рынке. Уверенный пользоват...   \n",
       "\n",
       "                                 snippet.responsibility  \\\n",
       "3934  Сбор и ведение управленческой отчётности. Подг...   \n",
       "4296  Сбор и ведение управленческой отчётности. Подг...   \n",
       "\n",
       "                                            description     experience.name  \\\n",
       "3934  <p><strong>Компания Домино, лидер мебельного р...  От 1 года до 3 лет   \n",
       "4296  <p><strong>Компания Домино, лидер мебельного р...  От 1 года до 3 лет   \n",
       "\n",
       "                  published_at                created_at  \\\n",
       "3934  2023-04-01T16:38:03+0300  2023-04-01T16:38:03+0300   \n",
       "4296  2023-04-01T16:38:03+0300  2023-04-01T16:38:03+0300   \n",
       "\n",
       "                       alternate_url working_days working_time_intervals  \\\n",
       "3934  https://hh.ru/vacancy/78795027           []                     []   \n",
       "4296  https://hh.ru/vacancy/78795025           []                     []   \n",
       "\n",
       "     working_time_modes  accept_temporary   employment.name  \\\n",
       "3934                 []             False  Полная занятость   \n",
       "4296                 []             False  Полная занятость   \n",
       "\n",
       "        professional_roles_name  accept_incomplete_resumes department.name  \\\n",
       "3934  Финансовый директор (CFO)                      False             NaN   \n",
       "4296  Финансовый директор (CFO)                      False             NaN   \n",
       "\n",
       "      area.name  salary.from  salary.to salary.currency salary.gross  \\\n",
       "3934  Ульяновск      70000.0   110000.0             RUR        False   \n",
       "4296    Воронеж      70000.0   110000.0             RUR        False   \n",
       "\n",
       "     type.name                     employer.name  \\\n",
       "3934  Открытая  Салоны мебели и интерьера Домино   \n",
       "4296  Открытая  Салоны мебели и интерьера Домино   \n",
       "\n",
       "              employer.alternate_url  \\\n",
       "3934  https://hh.ru/employer/9149474   \n",
       "4296  https://hh.ru/employer/9149474   \n",
       "\n",
       "                               employer.vacancies_url address.city  \\\n",
       "3934  https://api.hh.ru/vacancies?employer_id=9149474          NaN   \n",
       "4296  https://api.hh.ru/vacancies?employer_id=9149474          NaN   \n",
       "\n",
       "     address.street address.building  address.lat  address.lng address.raw  \\\n",
       "3934            NaN              NaN          NaN          NaN         NaN   \n",
       "4296            NaN              NaN          NaN          NaN         NaN   \n",
       "\n",
       "     address.metro.station_name address.metro.line_name  \\\n",
       "3934                        NaN                     NaN   \n",
       "4296                        NaN                     NaN   \n",
       "\n",
       "     address.metro.station_id address.metro.line_id  address.metro.lat  \\\n",
       "3934                      NaN                   NaN                NaN   \n",
       "4296                      NaN                   NaN                NaN   \n",
       "\n",
       "      address.metro.lng  \n",
       "3934                NaN  \n",
       "4296                NaN  "
      ]
     },
     "execution_count": 19,
     "metadata": {},
     "output_type": "execute_result"
    }
   ],
   "source": [
    "df.loc[df['professional_roles_name'] == 'Финансовый директор (CFO)']"
   ]
  },
  {
   "cell_type": "code",
   "execution_count": 20,
   "id": "c04d6415",
   "metadata": {},
   "outputs": [
    {
     "data": {
      "text/html": [
       "<div>\n",
       "<style scoped>\n",
       "    .dataframe tbody tr th:only-of-type {\n",
       "        vertical-align: middle;\n",
       "    }\n",
       "\n",
       "    .dataframe tbody tr th {\n",
       "        vertical-align: top;\n",
       "    }\n",
       "\n",
       "    .dataframe thead th {\n",
       "        text-align: right;\n",
       "    }\n",
       "</style>\n",
       "<table border=\"1\" class=\"dataframe\">\n",
       "  <thead>\n",
       "    <tr style=\"text-align: right;\">\n",
       "      <th></th>\n",
       "      <th>id</th>\n",
       "      <th>name</th>\n",
       "      <th>snippet.requirement</th>\n",
       "      <th>snippet.responsibility</th>\n",
       "    </tr>\n",
       "  </thead>\n",
       "  <tbody>\n",
       "    <tr>\n",
       "      <th>1455</th>\n",
       "      <td>78425735</td>\n",
       "      <td>Редактор в Data Science</td>\n",
       "      <td>Опыт работы на позиции редактора/технического ...</td>\n",
       "      <td>Отвечать за качество текстов, теоретических ма...</td>\n",
       "    </tr>\n",
       "    <tr>\n",
       "      <th>1456</th>\n",
       "      <td>78425736</td>\n",
       "      <td>Редактор в Data Science</td>\n",
       "      <td>Опыт работы на позиции редактора/технического ...</td>\n",
       "      <td>Отвечать за качество текстов, теоретических ма...</td>\n",
       "    </tr>\n",
       "    <tr>\n",
       "      <th>2454</th>\n",
       "      <td>78836271</td>\n",
       "      <td>Райтер с опытом в сфере аналитики данных</td>\n",
       "      <td>...сфере с IT, &lt;highlighttext&gt;аналитикой&lt;/high...</td>\n",
       "      <td>Написание текстовых материалов в разных жанрах...</td>\n",
       "    </tr>\n",
       "    <tr>\n",
       "      <th>4003</th>\n",
       "      <td>78299058</td>\n",
       "      <td>Редактор-аналитик (проект)</td>\n",
       "      <td>Опыт работы с текстами — 100% must. Желательно...</td>\n",
       "      <td>Писать аналитические материалы: это может быть...</td>\n",
       "    </tr>\n",
       "  </tbody>\n",
       "</table>\n",
       "</div>"
      ],
      "text/plain": [
       "            id                                      name  \\\n",
       "1455  78425735                   Редактор в Data Science   \n",
       "1456  78425736                   Редактор в Data Science   \n",
       "2454  78836271  Райтер с опытом в сфере аналитики данных   \n",
       "4003  78299058                Редактор-аналитик (проект)   \n",
       "\n",
       "                                    snippet.requirement  \\\n",
       "1455  Опыт работы на позиции редактора/технического ...   \n",
       "1456  Опыт работы на позиции редактора/технического ...   \n",
       "2454  ...сфере с IT, <highlighttext>аналитикой</high...   \n",
       "4003  Опыт работы с текстами — 100% must. Желательно...   \n",
       "\n",
       "                                 snippet.responsibility  \n",
       "1455  Отвечать за качество текстов, теоретических ма...  \n",
       "1456  Отвечать за качество текстов, теоретических ма...  \n",
       "2454  Написание текстовых материалов в разных жанрах...  \n",
       "4003  Писать аналитические материалы: это может быть...  "
      ]
     },
     "execution_count": 20,
     "metadata": {},
     "output_type": "execute_result"
    }
   ],
   "source": [
    "df.loc[\n",
    "    df[\"professional_roles_name\"].str.contains(\"Копирайтер, редактор, корректор\"),\n",
    "    [\"id\", \"name\", \"snippet.requirement\", \"snippet.responsibility\"],\n",
    "]\n"
   ]
  },
  {
   "cell_type": "code",
   "execution_count": 21,
   "id": "8f6bfcaf",
   "metadata": {},
   "outputs": [
    {
     "data": {
      "text/html": [
       "<div>\n",
       "<style scoped>\n",
       "    .dataframe tbody tr th:only-of-type {\n",
       "        vertical-align: middle;\n",
       "    }\n",
       "\n",
       "    .dataframe tbody tr th {\n",
       "        vertical-align: top;\n",
       "    }\n",
       "\n",
       "    .dataframe thead th {\n",
       "        text-align: right;\n",
       "    }\n",
       "</style>\n",
       "<table border=\"1\" class=\"dataframe\">\n",
       "  <thead>\n",
       "    <tr style=\"text-align: right;\">\n",
       "      <th></th>\n",
       "      <th>id</th>\n",
       "      <th>name</th>\n",
       "      <th>snippet.requirement</th>\n",
       "      <th>snippet.responsibility</th>\n",
       "    </tr>\n",
       "  </thead>\n",
       "  <tbody>\n",
       "    <tr>\n",
       "      <th>96</th>\n",
       "      <td>77291257</td>\n",
       "      <td>Quality Reporting and Data Engineer</td>\n",
       "      <td>University Degree. Advanced level in MS Word, ...</td>\n",
       "      <td>Develop and implement initiatives on automatio...</td>\n",
       "    </tr>\n",
       "    <tr>\n",
       "      <th>2888</th>\n",
       "      <td>78275725</td>\n",
       "      <td>Экономист / финансовый аналитик</td>\n",
       "      <td>Умение собирать, анализировать, структурироват...</td>\n",
       "      <td>...предложений по снижению затрат. Коммуникаци...</td>\n",
       "    </tr>\n",
       "    <tr>\n",
       "      <th>4777</th>\n",
       "      <td>77018962</td>\n",
       "      <td>Ведущий инженер УПЗ (отдел аналитики эксплуата...</td>\n",
       "      <td>Знания в области эксплуатации авиационных двиг...</td>\n",
       "      <td>Ведение базы &lt;highlighttext&gt;данных&lt;/highlightt...</td>\n",
       "    </tr>\n",
       "  </tbody>\n",
       "</table>\n",
       "</div>"
      ],
      "text/plain": [
       "            id                                               name  \\\n",
       "96    77291257                Quality Reporting and Data Engineer   \n",
       "2888  78275725                    Экономист / финансовый аналитик   \n",
       "4777  77018962  Ведущий инженер УПЗ (отдел аналитики эксплуата...   \n",
       "\n",
       "                                    snippet.requirement  \\\n",
       "96    University Degree. Advanced level in MS Word, ...   \n",
       "2888  Умение собирать, анализировать, структурироват...   \n",
       "4777  Знания в области эксплуатации авиационных двиг...   \n",
       "\n",
       "                                 snippet.responsibility  \n",
       "96    Develop and implement initiatives on automatio...  \n",
       "2888  ...предложений по снижению затрат. Коммуникаци...  \n",
       "4777  Ведение базы <highlighttext>данных</highlightt...  "
      ]
     },
     "execution_count": 21,
     "metadata": {},
     "output_type": "execute_result"
    }
   ],
   "source": [
    "df.loc[\n",
    "    df[\"professional_roles_name\"].str.contains(\"по качеству\"),\n",
    "    [\"id\", \"name\", \"snippet.requirement\", \"snippet.responsibility\"],\n",
    "]"
   ]
  },
  {
   "cell_type": "code",
   "execution_count": 22,
   "id": "6774e944",
   "metadata": {},
   "outputs": [
    {
     "data": {
      "text/html": [
       "<div>\n",
       "<style scoped>\n",
       "    .dataframe tbody tr th:only-of-type {\n",
       "        vertical-align: middle;\n",
       "    }\n",
       "\n",
       "    .dataframe tbody tr th {\n",
       "        vertical-align: top;\n",
       "    }\n",
       "\n",
       "    .dataframe thead th {\n",
       "        text-align: right;\n",
       "    }\n",
       "</style>\n",
       "<table border=\"1\" class=\"dataframe\">\n",
       "  <thead>\n",
       "    <tr style=\"text-align: right;\">\n",
       "      <th></th>\n",
       "      <th>id</th>\n",
       "      <th>name</th>\n",
       "      <th>snippet.requirement</th>\n",
       "      <th>snippet.responsibility</th>\n",
       "    </tr>\n",
       "  </thead>\n",
       "  <tbody>\n",
       "    <tr>\n",
       "      <th>4777</th>\n",
       "      <td>77018962</td>\n",
       "      <td>Ведущий инженер УПЗ (отдел аналитики эксплуата...</td>\n",
       "      <td>Знания в области эксплуатации авиационных двиг...</td>\n",
       "      <td>Ведение базы &lt;highlighttext&gt;данных&lt;/highlightt...</td>\n",
       "    </tr>\n",
       "  </tbody>\n",
       "</table>\n",
       "</div>"
      ],
      "text/plain": [
       "            id                                               name  \\\n",
       "4777  77018962  Ведущий инженер УПЗ (отдел аналитики эксплуата...   \n",
       "\n",
       "                                    snippet.requirement  \\\n",
       "4777  Знания в области эксплуатации авиационных двиг...   \n",
       "\n",
       "                                 snippet.responsibility  \n",
       "4777  Ведение базы <highlighttext>данных</highlightt...  "
      ]
     },
     "execution_count": 22,
     "metadata": {},
     "output_type": "execute_result"
    }
   ],
   "source": [
    "df.loc[\n",
    "    df[\"name\"].str.contains(\"УПЗ\"),\n",
    "    [\"id\", \"name\", \"snippet.requirement\", \"snippet.responsibility\"],\n",
    "]"
   ]
  },
  {
   "cell_type": "code",
   "execution_count": 23,
   "id": "cba1e139",
   "metadata": {},
   "outputs": [],
   "source": [
    "df.to_csv('data/df.csv', sep=',', encoding='utf-8')"
   ]
  },
  {
   "cell_type": "code",
   "execution_count": 24,
   "id": "f8102c07",
   "metadata": {},
   "outputs": [
    {
     "name": "stdout",
     "output_type": "stream",
     "text": [
      "                                                   name  count\n",
      "0                                              Аналитик    431\n",
      "1                                       Бизнес-аналитик    269\n",
      "2                                    Системный аналитик    188\n",
      "3                                       Аналитик данных    136\n",
      "4                                   Маркетолог-аналитик    110\n",
      "...                                                 ...    ...\n",
      "1139  Главный финансовый аналитик в дочернюю компани...      1\n",
      "1138                     Аналитик (складская логистика)      1\n",
      "1137  Старший Бизнес-Аналитик в Управленческом Конса...      1\n",
      "1136                             Data Steward (Finance)      1\n",
      "2675                Аналитик систем целевого маркетинга      1\n",
      "\n",
      "[2676 rows x 2 columns]\n"
     ]
    }
   ],
   "source": [
    "# Подсчитаем количество каждой ваакансии, выведем в порядке убывания\n",
    "\n",
    "value_counts = df['name'].value_counts()\n",
    "result = pd.DataFrame({'name': value_counts.index, 'count':value_counts.values})\n",
    "result.sort_values(by='count', ascending=False, inplace=True)\n",
    "print(result)\n"
   ]
  },
  {
   "cell_type": "code",
   "execution_count": 25,
   "id": "4e0cefa1",
   "metadata": {},
   "outputs": [
    {
     "name": "stdout",
     "output_type": "stream",
     "text": [
      "Аналитик                     431\n",
      "Бизнес-аналитик              269\n",
      "Системный аналитик           188\n",
      "Аналитик данных              136\n",
      "Маркетолог-аналитик          110\n",
      "Финансовый аналитик           94\n",
      "Экономист-аналитик            80\n",
      "Data Engineer                 79\n",
      "Data Scientist                45\n",
      "Аналитик отдела продаж        41\n",
      "Ведущий аналитик              39\n",
      "Продуктовый аналитик          34\n",
      "Data Analyst                  34\n",
      "Системный аналитик DWH        30\n",
      "Аналитик BI                   28\n",
      "Младший аналитик              28\n",
      "Data engineer                 25\n",
      "Аналитик 1С                   24\n",
      "Аналитик бизнес-процессов     21\n",
      "Старший аналитик              19\n",
      "Business Data Engineer        19\n",
      "Senior Data Scientist         18\n",
      "Аналитик DWH                  17\n",
      "Ведущий бизнес-аналитик       16\n",
      "Веб-аналитик                  16\n",
      "Name: name, dtype: int64\n"
     ]
    }
   ],
   "source": [
    "# Посмотрим топ-25 названий вакансий\n",
    "counts = df['name'].value_counts()\n",
    "top_25 = counts.head(25)\n",
    "print(top_25)"
   ]
  },
  {
   "cell_type": "code",
   "execution_count": 26,
   "id": "aa21a951",
   "metadata": {},
   "outputs": [
    {
     "data": {
      "text/html": [
       "<div>\n",
       "<style scoped>\n",
       "    .dataframe tbody tr th:only-of-type {\n",
       "        vertical-align: middle;\n",
       "    }\n",
       "\n",
       "    .dataframe tbody tr th {\n",
       "        vertical-align: top;\n",
       "    }\n",
       "\n",
       "    .dataframe thead th {\n",
       "        text-align: right;\n",
       "    }\n",
       "</style>\n",
       "<table border=\"1\" class=\"dataframe\">\n",
       "  <thead>\n",
       "    <tr style=\"text-align: right;\">\n",
       "      <th></th>\n",
       "      <th>id</th>\n",
       "      <th>name</th>\n",
       "      <th>alternate_url</th>\n",
       "      <th>professional_roles_name</th>\n",
       "    </tr>\n",
       "  </thead>\n",
       "  <tbody>\n",
       "    <tr>\n",
       "      <th>489</th>\n",
       "      <td>77999764</td>\n",
       "      <td>Senior Java Developer (CleverDATA/CDP-платформа)</td>\n",
       "      <td>https://hh.ru/vacancy/77999764</td>\n",
       "      <td>Программист, разработчик</td>\n",
       "    </tr>\n",
       "    <tr>\n",
       "      <th>491</th>\n",
       "      <td>79170579</td>\n",
       "      <td>QA инженер (C#) в команду Compliance Data Engi...</td>\n",
       "      <td>https://hh.ru/vacancy/79170579</td>\n",
       "      <td>Тестировщик</td>\n",
       "    </tr>\n",
       "    <tr>\n",
       "      <th>1077</th>\n",
       "      <td>76777161</td>\n",
       "      <td>Аналитик 1С</td>\n",
       "      <td>https://hh.ru/vacancy/76777161</td>\n",
       "      <td>Аналитик</td>\n",
       "    </tr>\n",
       "    <tr>\n",
       "      <th>1084</th>\n",
       "      <td>75521487</td>\n",
       "      <td>Бизнес-аналитик 1С</td>\n",
       "      <td>https://hh.ru/vacancy/75521487</td>\n",
       "      <td>Аналитик</td>\n",
       "    </tr>\n",
       "    <tr>\n",
       "      <th>1138</th>\n",
       "      <td>76855842</td>\n",
       "      <td>Системный аналитик 1С MDM</td>\n",
       "      <td>https://hh.ru/vacancy/76855842</td>\n",
       "      <td>Системный аналитик</td>\n",
       "    </tr>\n",
       "    <tr>\n",
       "      <th>...</th>\n",
       "      <td>...</td>\n",
       "      <td>...</td>\n",
       "      <td>...</td>\n",
       "      <td>...</td>\n",
       "    </tr>\n",
       "    <tr>\n",
       "      <th>5093</th>\n",
       "      <td>79050920</td>\n",
       "      <td>Аналитик 1С</td>\n",
       "      <td>https://hh.ru/vacancy/79050920</td>\n",
       "      <td>Аналитик</td>\n",
       "    </tr>\n",
       "    <tr>\n",
       "      <th>5159</th>\n",
       "      <td>68896030</td>\n",
       "      <td>Ведущий консультант-аналитик 1С</td>\n",
       "      <td>https://hh.ru/vacancy/68896030</td>\n",
       "      <td>Аналитик</td>\n",
       "    </tr>\n",
       "    <tr>\n",
       "      <th>5160</th>\n",
       "      <td>68896027</td>\n",
       "      <td>Ведущий консультант-аналитик 1С</td>\n",
       "      <td>https://hh.ru/vacancy/68896027</td>\n",
       "      <td>Аналитик</td>\n",
       "    </tr>\n",
       "    <tr>\n",
       "      <th>5184</th>\n",
       "      <td>68896028</td>\n",
       "      <td>Ведущий консультант-аналитик 1С</td>\n",
       "      <td>https://hh.ru/vacancy/68896028</td>\n",
       "      <td>Аналитик</td>\n",
       "    </tr>\n",
       "    <tr>\n",
       "      <th>5185</th>\n",
       "      <td>68896029</td>\n",
       "      <td>Ведущий консультант-аналитик 1С</td>\n",
       "      <td>https://hh.ru/vacancy/68896029</td>\n",
       "      <td>Аналитик</td>\n",
       "    </tr>\n",
       "  </tbody>\n",
       "</table>\n",
       "<p>105 rows × 4 columns</p>\n",
       "</div>"
      ],
      "text/plain": [
       "            id                                               name  \\\n",
       "489   77999764   Senior Java Developer (CleverDATA/CDP-платформа)   \n",
       "491   79170579  QA инженер (C#) в команду Compliance Data Engi...   \n",
       "1077  76777161                                        Аналитик 1С   \n",
       "1084  75521487                                 Бизнес-аналитик 1С   \n",
       "1138  76855842                          Системный аналитик 1С MDM   \n",
       "...        ...                                                ...   \n",
       "5093  79050920                                        Аналитик 1С   \n",
       "5159  68896030                    Ведущий консультант-аналитик 1С   \n",
       "5160  68896027                    Ведущий консультант-аналитик 1С   \n",
       "5184  68896028                    Ведущий консультант-аналитик 1С   \n",
       "5185  68896029                    Ведущий консультант-аналитик 1С   \n",
       "\n",
       "                       alternate_url   professional_roles_name  \n",
       "489   https://hh.ru/vacancy/77999764  Программист, разработчик  \n",
       "491   https://hh.ru/vacancy/79170579               Тестировщик  \n",
       "1077  https://hh.ru/vacancy/76777161                  Аналитик  \n",
       "1084  https://hh.ru/vacancy/75521487                  Аналитик  \n",
       "1138  https://hh.ru/vacancy/76855842        Системный аналитик  \n",
       "...                              ...                       ...  \n",
       "5093  https://hh.ru/vacancy/79050920                  Аналитик  \n",
       "5159  https://hh.ru/vacancy/68896030                  Аналитик  \n",
       "5160  https://hh.ru/vacancy/68896027                  Аналитик  \n",
       "5184  https://hh.ru/vacancy/68896028                  Аналитик  \n",
       "5185  https://hh.ru/vacancy/68896029                  Аналитик  \n",
       "\n",
       "[105 rows x 4 columns]"
      ]
     },
     "execution_count": 26,
     "metadata": {},
     "output_type": "execute_result"
    }
   ],
   "source": [
    "# Посмотрим строки датафрейма, название вакансии которых содержат нехарактерные для DA, DE, DS слова\n",
    "\n",
    "mask = df['name'].str.contains('1С|УПЗ|Сухум|Java Developer|C#|Инженер DevOps|Инженер-геодезист|редактор')\n",
    "df.loc[mask, ['id', 'name', 'alternate_url', 'professional_roles_name']]"
   ]
  },
  {
   "attachments": {},
   "cell_type": "markdown",
   "id": "35ebf28e",
   "metadata": {},
   "source": [
    "Избавимся от нерелевантных вакансий, таких как Java Developer, Разработчик C#, Инженер DevOps и даже Инженер-геодезист, непонятно каким образом попавшей в выборку."
   ]
  },
  {
   "cell_type": "code",
   "execution_count": 27,
   "id": "25b875aa",
   "metadata": {},
   "outputs": [],
   "source": [
    "# Удаляем строки из датафрейма по маске\n",
    "df.drop(df.loc[mask].index, inplace=True)\n"
   ]
  },
  {
   "cell_type": "code",
   "execution_count": 69,
   "id": "573f5150",
   "metadata": {},
   "outputs": [
    {
     "name": "stdout",
     "output_type": "stream",
     "text": [
      "Аналитик                               431\n",
      "Бизнес-аналитик                        269\n",
      "Системный аналитик                     188\n",
      "Аналитик данных                        136\n",
      "Маркетолог-аналитик                    110\n",
      "Финансовый аналитик                     94\n",
      "Экономист-аналитик                      80\n",
      "Data Engineer                           79\n",
      "Data Scientist                          45\n",
      "Аналитик отдела продаж                  41\n",
      "Ведущий аналитик                        39\n",
      "Data Analyst                            34\n",
      "Продуктовый аналитик                    34\n",
      "Системный аналитик DWH                  30\n",
      "Аналитик BI                             28\n",
      "Младший аналитик                        28\n",
      "Data engineer                           25\n",
      "Аналитик бизнес-процессов               21\n",
      "Business Data Engineer                  19\n",
      "Старший аналитик                        19\n",
      "Senior Data Scientist                   18\n",
      "Аналитик DWH                            17\n",
      "Senior Data Engineer                    16\n",
      "Веб-аналитик                            16\n",
      "Ведущий бизнес-аналитик                 16\n",
      "Product Analyst                         15\n",
      "System Analyst                          15\n",
      "System Analyst \\ Системный Аналитик     15\n",
      "Ведущий системный аналитик              13\n",
      "Инвестиционный аналитик                 12\n",
      "Name: name, dtype: int64\n"
     ]
    }
   ],
   "source": [
    "# Посмотрим топ-25 названий вакансий\n",
    "counts = df['name'].value_counts()\n",
    "top_30 = counts.head(30)\n",
    "print(top_30)"
   ]
  },
  {
   "cell_type": "code",
   "execution_count": 107,
   "id": "8fd56530",
   "metadata": {},
   "outputs": [
    {
     "data": {
      "text/html": [
       "<div>\n",
       "<style scoped>\n",
       "    .dataframe tbody tr th:only-of-type {\n",
       "        vertical-align: middle;\n",
       "    }\n",
       "\n",
       "    .dataframe tbody tr th {\n",
       "        vertical-align: top;\n",
       "    }\n",
       "\n",
       "    .dataframe thead th {\n",
       "        text-align: right;\n",
       "    }\n",
       "</style>\n",
       "<table border=\"1\" class=\"dataframe\">\n",
       "  <thead>\n",
       "    <tr style=\"text-align: right;\">\n",
       "      <th></th>\n",
       "      <th>id</th>\n",
       "      <th>name</th>\n",
       "      <th>snippet.requirement</th>\n",
       "      <th>snippet.responsibility</th>\n",
       "      <th>description</th>\n",
       "      <th>experience.name</th>\n",
       "      <th>published_at</th>\n",
       "      <th>created_at</th>\n",
       "      <th>alternate_url</th>\n",
       "      <th>working_days</th>\n",
       "      <th>working_time_intervals</th>\n",
       "      <th>working_time_modes</th>\n",
       "      <th>accept_temporary</th>\n",
       "      <th>employment.name</th>\n",
       "      <th>professional_roles_name</th>\n",
       "      <th>accept_incomplete_resumes</th>\n",
       "      <th>department.name</th>\n",
       "      <th>area.name</th>\n",
       "      <th>salary.from</th>\n",
       "      <th>salary.to</th>\n",
       "      <th>salary.currency</th>\n",
       "      <th>salary.gross</th>\n",
       "      <th>type.name</th>\n",
       "      <th>employer.name</th>\n",
       "      <th>employer.alternate_url</th>\n",
       "      <th>employer.vacancies_url</th>\n",
       "      <th>address.city</th>\n",
       "      <th>address.street</th>\n",
       "      <th>address.building</th>\n",
       "      <th>address.lat</th>\n",
       "      <th>address.lng</th>\n",
       "      <th>address.raw</th>\n",
       "      <th>address.metro.station_name</th>\n",
       "      <th>address.metro.line_name</th>\n",
       "      <th>address.metro.station_id</th>\n",
       "      <th>address.metro.line_id</th>\n",
       "      <th>address.metro.lat</th>\n",
       "      <th>address.metro.lng</th>\n",
       "      <th>remote</th>\n",
       "      <th>office</th>\n",
       "      <th>junior</th>\n",
       "      <th>middle</th>\n",
       "      <th>senior</th>\n",
       "      <th>lead</th>\n",
       "      <th>salary_median</th>\n",
       "      <th>salary_net</th>\n",
       "      <th>description_preprocessed</th>\n",
       "      <th>role_clusters</th>\n",
       "    </tr>\n",
       "  </thead>\n",
       "  <tbody>\n",
       "    <tr>\n",
       "      <th>200</th>\n",
       "      <td>78507209</td>\n",
       "      <td>Data scientist (math modeling)</td>\n",
       "      <td>Высшее образование (желательно наличие ученой ...</td>\n",
       "      <td>Построение алгоритмических математических моде...</td>\n",
       "      <td>О компании: разработка и внедрение финансовых ...</td>\n",
       "      <td>От 1 года до 3 лет</td>\n",
       "      <td>2023-03-24T13:11:29+0300</td>\n",
       "      <td>2023-03-24T13:11:29+0300</td>\n",
       "      <td>https://hh.ru/vacancy/78507209</td>\n",
       "      <td>[]</td>\n",
       "      <td>[]</td>\n",
       "      <td>[]</td>\n",
       "      <td>False</td>\n",
       "      <td>Полная занятость</td>\n",
       "      <td>Дата-сайентист</td>\n",
       "      <td>False</td>\n",
       "      <td>NaN</td>\n",
       "      <td>Москва</td>\n",
       "      <td>4000.0</td>\n",
       "      <td>10000.0</td>\n",
       "      <td>USD</td>\n",
       "      <td>True</td>\n",
       "      <td>Открытая</td>\n",
       "      <td>ITSS</td>\n",
       "      <td>https://hh.ru/employer/8883381</td>\n",
       "      <td>https://api.hh.ru/vacancies?employer_id=8883381</td>\n",
       "      <td>NaN</td>\n",
       "      <td>NaN</td>\n",
       "      <td>NaN</td>\n",
       "      <td>NaN</td>\n",
       "      <td>NaN</td>\n",
       "      <td>NaN</td>\n",
       "      <td>NaN</td>\n",
       "      <td>NaN</td>\n",
       "      <td>NaN</td>\n",
       "      <td>NaN</td>\n",
       "      <td>NaN</td>\n",
       "      <td>NaN</td>\n",
       "      <td>False</td>\n",
       "      <td>True</td>\n",
       "      <td>False</td>\n",
       "      <td>False</td>\n",
       "      <td>False</td>\n",
       "      <td>False</td>\n",
       "      <td>571200.0</td>\n",
       "      <td>496944.0</td>\n",
       "      <td>компания разработка внедрение финансовый страт...</td>\n",
       "      <td>8</td>\n",
       "    </tr>\n",
       "  </tbody>\n",
       "</table>\n",
       "</div>"
      ],
      "text/plain": [
       "           id                            name  \\\n",
       "200  78507209  Data scientist (math modeling)   \n",
       "\n",
       "                                   snippet.requirement  \\\n",
       "200  Высшее образование (желательно наличие ученой ...   \n",
       "\n",
       "                                snippet.responsibility  \\\n",
       "200  Построение алгоритмических математических моде...   \n",
       "\n",
       "                                           description     experience.name  \\\n",
       "200  О компании: разработка и внедрение финансовых ...  От 1 года до 3 лет   \n",
       "\n",
       "                 published_at                created_at  \\\n",
       "200  2023-03-24T13:11:29+0300  2023-03-24T13:11:29+0300   \n",
       "\n",
       "                      alternate_url working_days working_time_intervals  \\\n",
       "200  https://hh.ru/vacancy/78507209           []                     []   \n",
       "\n",
       "    working_time_modes  accept_temporary   employment.name  \\\n",
       "200                 []             False  Полная занятость   \n",
       "\n",
       "    professional_roles_name  accept_incomplete_resumes department.name  \\\n",
       "200          Дата-сайентист                      False             NaN   \n",
       "\n",
       "    area.name  salary.from  salary.to salary.currency salary.gross type.name  \\\n",
       "200    Москва       4000.0    10000.0             USD         True  Открытая   \n",
       "\n",
       "    employer.name          employer.alternate_url  \\\n",
       "200          ITSS  https://hh.ru/employer/8883381   \n",
       "\n",
       "                              employer.vacancies_url address.city  \\\n",
       "200  https://api.hh.ru/vacancies?employer_id=8883381          NaN   \n",
       "\n",
       "    address.street address.building  address.lat  address.lng address.raw  \\\n",
       "200            NaN              NaN          NaN          NaN         NaN   \n",
       "\n",
       "    address.metro.station_name address.metro.line_name  \\\n",
       "200                        NaN                     NaN   \n",
       "\n",
       "    address.metro.station_id address.metro.line_id  address.metro.lat  \\\n",
       "200                      NaN                   NaN                NaN   \n",
       "\n",
       "     address.metro.lng  remote  office  junior  middle  senior   lead  \\\n",
       "200                NaN   False    True   False   False   False  False   \n",
       "\n",
       "     salary_median  salary_net  \\\n",
       "200       571200.0    496944.0   \n",
       "\n",
       "                              description_preprocessed  role_clusters  \n",
       "200  компания разработка внедрение финансовый страт...              8  "
      ]
     },
     "execution_count": 107,
     "metadata": {},
     "output_type": "execute_result"
    }
   ],
   "source": [
    "# Вакансия с максимальной запрлатой\n",
    "df.iloc[df[['salary_net']].idxmax()]"
   ]
  },
  {
   "cell_type": "code",
   "execution_count": 106,
   "id": "92845474",
   "metadata": {},
   "outputs": [
    {
     "data": {
      "text/html": [
       "<div>\n",
       "<style scoped>\n",
       "    .dataframe tbody tr th:only-of-type {\n",
       "        vertical-align: middle;\n",
       "    }\n",
       "\n",
       "    .dataframe tbody tr th {\n",
       "        vertical-align: top;\n",
       "    }\n",
       "\n",
       "    .dataframe thead th {\n",
       "        text-align: right;\n",
       "    }\n",
       "</style>\n",
       "<table border=\"1\" class=\"dataframe\">\n",
       "  <thead>\n",
       "    <tr style=\"text-align: right;\">\n",
       "      <th></th>\n",
       "      <th>id</th>\n",
       "      <th>name</th>\n",
       "      <th>snippet.requirement</th>\n",
       "      <th>snippet.responsibility</th>\n",
       "      <th>description</th>\n",
       "      <th>experience.name</th>\n",
       "      <th>published_at</th>\n",
       "      <th>created_at</th>\n",
       "      <th>alternate_url</th>\n",
       "      <th>working_days</th>\n",
       "      <th>working_time_intervals</th>\n",
       "      <th>working_time_modes</th>\n",
       "      <th>accept_temporary</th>\n",
       "      <th>employment.name</th>\n",
       "      <th>professional_roles_name</th>\n",
       "      <th>accept_incomplete_resumes</th>\n",
       "      <th>department.name</th>\n",
       "      <th>area.name</th>\n",
       "      <th>salary.from</th>\n",
       "      <th>salary.to</th>\n",
       "      <th>salary.currency</th>\n",
       "      <th>salary.gross</th>\n",
       "      <th>type.name</th>\n",
       "      <th>employer.name</th>\n",
       "      <th>employer.alternate_url</th>\n",
       "      <th>employer.vacancies_url</th>\n",
       "      <th>address.city</th>\n",
       "      <th>address.street</th>\n",
       "      <th>address.building</th>\n",
       "      <th>address.lat</th>\n",
       "      <th>address.lng</th>\n",
       "      <th>address.raw</th>\n",
       "      <th>address.metro.station_name</th>\n",
       "      <th>address.metro.line_name</th>\n",
       "      <th>address.metro.station_id</th>\n",
       "      <th>address.metro.line_id</th>\n",
       "      <th>address.metro.lat</th>\n",
       "      <th>address.metro.lng</th>\n",
       "      <th>remote</th>\n",
       "      <th>office</th>\n",
       "      <th>junior</th>\n",
       "      <th>middle</th>\n",
       "      <th>senior</th>\n",
       "      <th>lead</th>\n",
       "      <th>salary_median</th>\n",
       "      <th>salary_net</th>\n",
       "      <th>description_preprocessed</th>\n",
       "      <th>role_clusters</th>\n",
       "    </tr>\n",
       "  </thead>\n",
       "  <tbody>\n",
       "    <tr>\n",
       "      <th>2179</th>\n",
       "      <td>79135204</td>\n",
       "      <td>Помощник Бизнес аналитика</td>\n",
       "      <td>Требования: Опыт анализа больших массивов &lt;hig...</td>\n",
       "      <td>Подготовка аналитических отчетов для руководст...</td>\n",
       "      <td>Обязанности:  Подготовка аналитических отчетов...</td>\n",
       "      <td>От 1 года до 3 лет</td>\n",
       "      <td>2023-04-11T08:43:43+0300</td>\n",
       "      <td>2023-04-11T08:43:43+0300</td>\n",
       "      <td>https://hh.ru/vacancy/79135204</td>\n",
       "      <td>[]</td>\n",
       "      <td>[]</td>\n",
       "      <td>[]</td>\n",
       "      <td>True</td>\n",
       "      <td>Полная занятость</td>\n",
       "      <td>Бизнес-аналитик</td>\n",
       "      <td>False</td>\n",
       "      <td>NaN</td>\n",
       "      <td>Барнаул</td>\n",
       "      <td>15000.0</td>\n",
       "      <td>25000.0</td>\n",
       "      <td>RUR</td>\n",
       "      <td>True</td>\n",
       "      <td>Открытая</td>\n",
       "      <td>Лысиков Вадим Викторович</td>\n",
       "      <td>https://hh.ru/employer/4523339</td>\n",
       "      <td>https://api.hh.ru/vacancies?employer_id=4523339</td>\n",
       "      <td>NaN</td>\n",
       "      <td>NaN</td>\n",
       "      <td>NaN</td>\n",
       "      <td>NaN</td>\n",
       "      <td>NaN</td>\n",
       "      <td>NaN</td>\n",
       "      <td>NaN</td>\n",
       "      <td>NaN</td>\n",
       "      <td>NaN</td>\n",
       "      <td>NaN</td>\n",
       "      <td>NaN</td>\n",
       "      <td>NaN</td>\n",
       "      <td>False</td>\n",
       "      <td>True</td>\n",
       "      <td>False</td>\n",
       "      <td>False</td>\n",
       "      <td>False</td>\n",
       "      <td>False</td>\n",
       "      <td>20000.0</td>\n",
       "      <td>17400.0</td>\n",
       "      <td>обязанность подготовка аналитический отчёт рук...</td>\n",
       "      <td>4</td>\n",
       "    </tr>\n",
       "  </tbody>\n",
       "</table>\n",
       "</div>"
      ],
      "text/plain": [
       "            id                       name  \\\n",
       "2179  79135204  Помощник Бизнес аналитика   \n",
       "\n",
       "                                    snippet.requirement  \\\n",
       "2179  Требования: Опыт анализа больших массивов <hig...   \n",
       "\n",
       "                                 snippet.responsibility  \\\n",
       "2179  Подготовка аналитических отчетов для руководст...   \n",
       "\n",
       "                                            description     experience.name  \\\n",
       "2179  Обязанности:  Подготовка аналитических отчетов...  От 1 года до 3 лет   \n",
       "\n",
       "                  published_at                created_at  \\\n",
       "2179  2023-04-11T08:43:43+0300  2023-04-11T08:43:43+0300   \n",
       "\n",
       "                       alternate_url working_days working_time_intervals  \\\n",
       "2179  https://hh.ru/vacancy/79135204           []                     []   \n",
       "\n",
       "     working_time_modes  accept_temporary   employment.name  \\\n",
       "2179                 []              True  Полная занятость   \n",
       "\n",
       "     professional_roles_name  accept_incomplete_resumes department.name  \\\n",
       "2179         Бизнес-аналитик                      False             NaN   \n",
       "\n",
       "     area.name  salary.from  salary.to salary.currency salary.gross type.name  \\\n",
       "2179   Барнаул      15000.0    25000.0             RUR         True  Открытая   \n",
       "\n",
       "                 employer.name          employer.alternate_url  \\\n",
       "2179  Лысиков Вадим Викторович  https://hh.ru/employer/4523339   \n",
       "\n",
       "                               employer.vacancies_url address.city  \\\n",
       "2179  https://api.hh.ru/vacancies?employer_id=4523339          NaN   \n",
       "\n",
       "     address.street address.building  address.lat  address.lng address.raw  \\\n",
       "2179            NaN              NaN          NaN          NaN         NaN   \n",
       "\n",
       "     address.metro.station_name address.metro.line_name  \\\n",
       "2179                        NaN                     NaN   \n",
       "\n",
       "     address.metro.station_id address.metro.line_id  address.metro.lat  \\\n",
       "2179                      NaN                   NaN                NaN   \n",
       "\n",
       "      address.metro.lng  remote  office  junior  middle  senior   lead  \\\n",
       "2179                NaN   False    True   False   False   False  False   \n",
       "\n",
       "      salary_median  salary_net  \\\n",
       "2179        20000.0     17400.0   \n",
       "\n",
       "                               description_preprocessed  role_clusters  \n",
       "2179  обязанность подготовка аналитический отчёт рук...              4  "
      ]
     },
     "execution_count": 106,
     "metadata": {},
     "output_type": "execute_result"
    }
   ],
   "source": [
    "# Вакансия с минимальной запрлатой\n",
    "df.iloc[df[['salary_net']].idxmin()]"
   ]
  },
  {
   "attachments": {},
   "cell_type": "markdown",
   "id": "ed81a983",
   "metadata": {},
   "source": [
    "Статистика по зарплатам"
   ]
  },
  {
   "cell_type": "code",
   "execution_count": 115,
   "id": "7c025851",
   "metadata": {},
   "outputs": [
    {
     "name": "stdout",
     "output_type": "stream",
     "text": [
      "Количество вакансий с указанной зарплатой: 706\n",
      "Средняя зарплата: 103 359\n",
      "Медиана зарплаты: 75 000\n",
      "Стандартное отклонение: 73 577\n",
      "Минимальная зарплата: 17 400\n",
      "Максимальная зарплата: 496 944\n"
     ]
    }
   ],
   "source": [
    "salary_count = df['salary_net'].count()\n",
    "salary_mean = df['salary_net'].mean()\n",
    "salary_median = df['salary_net'].median()\n",
    "salary_std = df['salary_net'].std()\n",
    "salary_min = df['salary_net'].min()\n",
    "salary_max = df['salary_net'].max()\n",
    "\n",
    "print(\"Количество вакансий с указанной зарплатой: {:,}\".format(salary_count).replace(',', ' '))\n",
    "print(\"Средняя зарплата: {:,.0f}\".format(salary_mean).replace(',', ' '))\n",
    "print(\"Медиана зарплаты: {:,.0f}\".format(salary_median).replace(',', ' '))\n",
    "print(\"Стандартное отклонение: {:,.0f}\".format(salary_std).replace(',', ' '))\n",
    "print(\"Минимальная зарплата: {:,.0f}\".format(salary_min).replace(',', ' '))\n",
    "print(\"Максимальная зарплата: {:,.0f}\".format(salary_max).replace(',', ' '))\n"
   ]
  },
  {
   "cell_type": "code",
   "execution_count": 128,
   "id": "2f239c0a",
   "metadata": {},
   "outputs": [
    {
     "data": {
      "image/png": "[encoded data removed]",
      "text/plain": [
       "<Figure size 640x480 with 1 Axes>"
      ]
     },
     "metadata": {},
     "output_type": "display_data"
    }
   ],
   "source": [
    "# Установка порядка отображения категориальной переменной\n",
    "category_order = ['Нет опыта', 'От 1 года до 3 лет', 'От 3 до 6 лет', 'Более 6 лет']\n",
    "df['experience.name'] = pd.Categorical(df['experience.name'], categories=category_order, ordered=True)\n",
    "\n",
    "# Создание графика с новой палитрой\n",
    "colors = ['#00BFFF', '#6495ED', '#FFDAB9', '#CD5C5C']\n",
    "sns.boxplot(x='experience.name', y='salary_net', data=df, palette=colors)\n",
    "plt.show()\n"
   ]
  },
  {
   "cell_type": "code",
   "execution_count": 28,
   "id": "451e3bd2",
   "metadata": {},
   "outputs": [],
   "source": [
    "# Переиндексируем даатфрейм\n",
    "df = df.reset_index(drop=True)"
   ]
  },
  {
   "cell_type": "code",
   "execution_count": 29,
   "id": "4bd4c74c",
   "metadata": {},
   "outputs": [
    {
     "data": {
      "text/html": [
       "<div>\n",
       "<style scoped>\n",
       "    .dataframe tbody tr th:only-of-type {\n",
       "        vertical-align: middle;\n",
       "    }\n",
       "\n",
       "    .dataframe tbody tr th {\n",
       "        vertical-align: top;\n",
       "    }\n",
       "\n",
       "    .dataframe thead th {\n",
       "        text-align: right;\n",
       "    }\n",
       "</style>\n",
       "<table border=\"1\" class=\"dataframe\">\n",
       "  <thead>\n",
       "    <tr style=\"text-align: right;\">\n",
       "      <th></th>\n",
       "      <th>id</th>\n",
       "      <th>name</th>\n",
       "      <th>snippet.requirement</th>\n",
       "      <th>snippet.responsibility</th>\n",
       "      <th>description</th>\n",
       "      <th>experience.name</th>\n",
       "      <th>published_at</th>\n",
       "      <th>created_at</th>\n",
       "      <th>alternate_url</th>\n",
       "      <th>working_days</th>\n",
       "      <th>working_time_intervals</th>\n",
       "      <th>working_time_modes</th>\n",
       "      <th>accept_temporary</th>\n",
       "      <th>employment.name</th>\n",
       "      <th>professional_roles_name</th>\n",
       "      <th>accept_incomplete_resumes</th>\n",
       "      <th>department.name</th>\n",
       "      <th>area.name</th>\n",
       "      <th>salary.from</th>\n",
       "      <th>salary.to</th>\n",
       "      <th>salary.currency</th>\n",
       "      <th>salary.gross</th>\n",
       "      <th>type.name</th>\n",
       "      <th>employer.name</th>\n",
       "      <th>employer.alternate_url</th>\n",
       "      <th>employer.vacancies_url</th>\n",
       "      <th>address.city</th>\n",
       "      <th>address.street</th>\n",
       "      <th>address.building</th>\n",
       "      <th>address.lat</th>\n",
       "      <th>address.lng</th>\n",
       "      <th>address.raw</th>\n",
       "      <th>address.metro.station_name</th>\n",
       "      <th>address.metro.line_name</th>\n",
       "      <th>address.metro.station_id</th>\n",
       "      <th>address.metro.line_id</th>\n",
       "      <th>address.metro.lat</th>\n",
       "      <th>address.metro.lng</th>\n",
       "    </tr>\n",
       "  </thead>\n",
       "  <tbody>\n",
       "    <tr>\n",
       "      <th>0</th>\n",
       "      <td>79110745</td>\n",
       "      <td>Data Engineer</td>\n",
       "      <td>Разговорный английский. Опыт работы &lt;highlight...</td>\n",
       "      <td>Взаимодействие с &lt;highlighttext&gt;data&lt;/highligh...</td>\n",
       "      <td>&lt;p&gt;Ищу &lt;strong&gt;Data Engineer&lt;/strong&gt; в SportT...</td>\n",
       "      <td>От 3 до 6 лет</td>\n",
       "      <td>2023-04-16T14:42:13+0300</td>\n",
       "      <td>2023-04-16T14:42:13+0300</td>\n",
       "      <td>https://hh.ru/vacancy/79110745</td>\n",
       "      <td>[]</td>\n",
       "      <td>[]</td>\n",
       "      <td>[]</td>\n",
       "      <td>True</td>\n",
       "      <td>Полная занятость</td>\n",
       "      <td>Программист, разработчик</td>\n",
       "      <td>False</td>\n",
       "      <td>NaN</td>\n",
       "      <td>Москва</td>\n",
       "      <td>4000.0</td>\n",
       "      <td>6000.0</td>\n",
       "      <td>EUR</td>\n",
       "      <td>True</td>\n",
       "      <td>Открытая</td>\n",
       "      <td>4CV Recruitment Services</td>\n",
       "      <td>https://hh.ru/employer/5231648</td>\n",
       "      <td>https://api.hh.ru/vacancies?employer_id=5231648</td>\n",
       "      <td>NaN</td>\n",
       "      <td>NaN</td>\n",
       "      <td>NaN</td>\n",
       "      <td>NaN</td>\n",
       "      <td>NaN</td>\n",
       "      <td>NaN</td>\n",
       "      <td>NaN</td>\n",
       "      <td>NaN</td>\n",
       "      <td>NaN</td>\n",
       "      <td>NaN</td>\n",
       "      <td>NaN</td>\n",
       "      <td>NaN</td>\n",
       "    </tr>\n",
       "    <tr>\n",
       "      <th>1</th>\n",
       "      <td>79120615</td>\n",
       "      <td>Data engineer</td>\n",
       "      <td>Высшее техническое образование, предпочтительн...</td>\n",
       "      <td>Системный анализ, инженерная аналитика. Разраб...</td>\n",
       "      <td>&lt;p&gt;В крупную исследовательскую компанию, специ...</td>\n",
       "      <td>От 1 года до 3 лет</td>\n",
       "      <td>2023-04-16T17:13:22+0300</td>\n",
       "      <td>2023-04-16T17:13:22+0300</td>\n",
       "      <td>https://hh.ru/vacancy/79120615</td>\n",
       "      <td>[]</td>\n",
       "      <td>[]</td>\n",
       "      <td>[]</td>\n",
       "      <td>False</td>\n",
       "      <td>Полная занятость</td>\n",
       "      <td>Программист, разработчик</td>\n",
       "      <td>False</td>\n",
       "      <td>NaN</td>\n",
       "      <td>Москва</td>\n",
       "      <td>180000.0</td>\n",
       "      <td>250000.0</td>\n",
       "      <td>RUR</td>\n",
       "      <td>False</td>\n",
       "      <td>Открытая</td>\n",
       "      <td>РВИ</td>\n",
       "      <td>https://hh.ru/employer/30486</td>\n",
       "      <td>https://api.hh.ru/vacancies?employer_id=30486</td>\n",
       "      <td>NaN</td>\n",
       "      <td>NaN</td>\n",
       "      <td>NaN</td>\n",
       "      <td>NaN</td>\n",
       "      <td>NaN</td>\n",
       "      <td>NaN</td>\n",
       "      <td>NaN</td>\n",
       "      <td>NaN</td>\n",
       "      <td>NaN</td>\n",
       "      <td>NaN</td>\n",
       "      <td>NaN</td>\n",
       "      <td>NaN</td>\n",
       "    </tr>\n",
       "    <tr>\n",
       "      <th>2</th>\n",
       "      <td>78934984</td>\n",
       "      <td>Data engineer (Стажер)</td>\n",
       "      <td>Имеете высшее образование или заканчиваете учи...</td>\n",
       "      <td>По результатам обучения – обязательная защита ...</td>\n",
       "      <td>&lt;p&gt;&lt;strong&gt;НЕ НУЖНО ОТКЛИКАТЬСЯ НА ВАКАНСИЮ! Ч...</td>\n",
       "      <td>Нет опыта</td>\n",
       "      <td>2023-04-14T11:13:27+0300</td>\n",
       "      <td>2023-04-14T11:13:27+0300</td>\n",
       "      <td>https://hh.ru/vacancy/78934984</td>\n",
       "      <td>[]</td>\n",
       "      <td>[]</td>\n",
       "      <td>[]</td>\n",
       "      <td>False</td>\n",
       "      <td>Стажировка</td>\n",
       "      <td>BI-аналитик, аналитик данных</td>\n",
       "      <td>False</td>\n",
       "      <td>NaN</td>\n",
       "      <td>Москва</td>\n",
       "      <td>NaN</td>\n",
       "      <td>NaN</td>\n",
       "      <td>NaN</td>\n",
       "      <td>NaN</td>\n",
       "      <td>Открытая</td>\n",
       "      <td>Sapiens solutions</td>\n",
       "      <td>https://hh.ru/employer/1789341</td>\n",
       "      <td>https://api.hh.ru/vacancies?employer_id=1789341</td>\n",
       "      <td>Москва</td>\n",
       "      <td>Нижняя Красносельская улица</td>\n",
       "      <td>40/12к2</td>\n",
       "      <td>55.774284</td>\n",
       "      <td>37.669145</td>\n",
       "      <td>Москва, Нижняя Красносельская улица, 40/12к2</td>\n",
       "      <td>Бауманская</td>\n",
       "      <td>Арбатско-Покровская</td>\n",
       "      <td>3.17</td>\n",
       "      <td>3</td>\n",
       "      <td>55.772405</td>\n",
       "      <td>37.679040</td>\n",
       "    </tr>\n",
       "    <tr>\n",
       "      <th>3</th>\n",
       "      <td>78954091</td>\n",
       "      <td>Data Engineer / Дата-инженер (Middle)</td>\n",
       "      <td>Понимание и интерес к области больших данных. ...</td>\n",
       "      <td>Мероприятия для поддержания хорошего настроени...</td>\n",
       "      <td>&lt;p&gt;&lt;strong&gt;&lt;em&gt;Приветствуем тебя, будущий учас...</td>\n",
       "      <td>От 1 года до 3 лет</td>\n",
       "      <td>2023-04-14T15:27:03+0300</td>\n",
       "      <td>2023-04-14T15:27:03+0300</td>\n",
       "      <td>https://hh.ru/vacancy/78954091</td>\n",
       "      <td>[]</td>\n",
       "      <td>[]</td>\n",
       "      <td>[]</td>\n",
       "      <td>False</td>\n",
       "      <td>Полная занятость</td>\n",
       "      <td>Системный инженер</td>\n",
       "      <td>False</td>\n",
       "      <td>NaN</td>\n",
       "      <td>Москва</td>\n",
       "      <td>250000.0</td>\n",
       "      <td>300000.0</td>\n",
       "      <td>RUR</td>\n",
       "      <td>True</td>\n",
       "      <td>Открытая</td>\n",
       "      <td>Платформа Больших Данных</td>\n",
       "      <td>https://hh.ru/employer/5202841</td>\n",
       "      <td>https://api.hh.ru/vacancies?employer_id=5202841</td>\n",
       "      <td>Москва</td>\n",
       "      <td>4-я Тверская-Ямская улица</td>\n",
       "      <td>14с1</td>\n",
       "      <td>55.773393</td>\n",
       "      <td>37.595995</td>\n",
       "      <td>Москва, 4-я Тверская-Ямская улица, 14с1</td>\n",
       "      <td>Белорусская</td>\n",
       "      <td>Кольцевая</td>\n",
       "      <td>5.20</td>\n",
       "      <td>5</td>\n",
       "      <td>55.775179</td>\n",
       "      <td>37.582303</td>\n",
       "    </tr>\n",
       "    <tr>\n",
       "      <th>4</th>\n",
       "      <td>79084256</td>\n",
       "      <td>Data Engineer (lead)</td>\n",
       "      <td>Хорошее знание технологий из стека: Python, SQ...</td>\n",
       "      <td>Готовить данные для моделей машинного обучения...</td>\n",
       "      <td>&lt;strong&gt;Что нужно будет делать:&lt;/strong&gt; &lt;ul&gt; ...</td>\n",
       "      <td>От 3 до 6 лет</td>\n",
       "      <td>2023-04-16T09:31:35+0300</td>\n",
       "      <td>2023-04-16T09:31:35+0300</td>\n",
       "      <td>https://hh.ru/vacancy/79084256</td>\n",
       "      <td>[]</td>\n",
       "      <td>[]</td>\n",
       "      <td>[]</td>\n",
       "      <td>False</td>\n",
       "      <td>Полная занятость</td>\n",
       "      <td>Программист, разработчик</td>\n",
       "      <td>False</td>\n",
       "      <td>NaN</td>\n",
       "      <td>Москва</td>\n",
       "      <td>300000.0</td>\n",
       "      <td>400000.0</td>\n",
       "      <td>RUR</td>\n",
       "      <td>False</td>\n",
       "      <td>Открытая</td>\n",
       "      <td>Predicto</td>\n",
       "      <td>https://hh.ru/employer/4976750</td>\n",
       "      <td>https://api.hh.ru/vacancies?employer_id=4976750</td>\n",
       "      <td>NaN</td>\n",
       "      <td>NaN</td>\n",
       "      <td>NaN</td>\n",
       "      <td>NaN</td>\n",
       "      <td>NaN</td>\n",
       "      <td>NaN</td>\n",
       "      <td>NaN</td>\n",
       "      <td>NaN</td>\n",
       "      <td>NaN</td>\n",
       "      <td>NaN</td>\n",
       "      <td>NaN</td>\n",
       "      <td>NaN</td>\n",
       "    </tr>\n",
       "  </tbody>\n",
       "</table>\n",
       "</div>"
      ],
      "text/plain": [
       "         id                                   name  \\\n",
       "0  79110745                          Data Engineer   \n",
       "1  79120615                          Data engineer   \n",
       "2  78934984                 Data engineer (Стажер)   \n",
       "3  78954091  Data Engineer / Дата-инженер (Middle)   \n",
       "4  79084256                   Data Engineer (lead)   \n",
       "\n",
       "                                 snippet.requirement  \\\n",
       "0  Разговорный английский. Опыт работы <highlight...   \n",
       "1  Высшее техническое образование, предпочтительн...   \n",
       "2  Имеете высшее образование или заканчиваете учи...   \n",
       "3  Понимание и интерес к области больших данных. ...   \n",
       "4  Хорошее знание технологий из стека: Python, SQ...   \n",
       "\n",
       "                              snippet.responsibility  \\\n",
       "0  Взаимодействие с <highlighttext>data</highligh...   \n",
       "1  Системный анализ, инженерная аналитика. Разраб...   \n",
       "2  По результатам обучения – обязательная защита ...   \n",
       "3  Мероприятия для поддержания хорошего настроени...   \n",
       "4  Готовить данные для моделей машинного обучения...   \n",
       "\n",
       "                                         description     experience.name  \\\n",
       "0  <p>Ищу <strong>Data Engineer</strong> в SportT...       От 3 до 6 лет   \n",
       "1  <p>В крупную исследовательскую компанию, специ...  От 1 года до 3 лет   \n",
       "2  <p><strong>НЕ НУЖНО ОТКЛИКАТЬСЯ НА ВАКАНСИЮ! Ч...           Нет опыта   \n",
       "3  <p><strong><em>Приветствуем тебя, будущий учас...  От 1 года до 3 лет   \n",
       "4  <strong>Что нужно будет делать:</strong> <ul> ...       От 3 до 6 лет   \n",
       "\n",
       "               published_at                created_at  \\\n",
       "0  2023-04-16T14:42:13+0300  2023-04-16T14:42:13+0300   \n",
       "1  2023-04-16T17:13:22+0300  2023-04-16T17:13:22+0300   \n",
       "2  2023-04-14T11:13:27+0300  2023-04-14T11:13:27+0300   \n",
       "3  2023-04-14T15:27:03+0300  2023-04-14T15:27:03+0300   \n",
       "4  2023-04-16T09:31:35+0300  2023-04-16T09:31:35+0300   \n",
       "\n",
       "                    alternate_url working_days working_time_intervals  \\\n",
       "0  https://hh.ru/vacancy/79110745           []                     []   \n",
       "1  https://hh.ru/vacancy/79120615           []                     []   \n",
       "2  https://hh.ru/vacancy/78934984           []                     []   \n",
       "3  https://hh.ru/vacancy/78954091           []                     []   \n",
       "4  https://hh.ru/vacancy/79084256           []                     []   \n",
       "\n",
       "  working_time_modes  accept_temporary   employment.name  \\\n",
       "0                 []              True  Полная занятость   \n",
       "1                 []             False  Полная занятость   \n",
       "2                 []             False        Стажировка   \n",
       "3                 []             False  Полная занятость   \n",
       "4                 []             False  Полная занятость   \n",
       "\n",
       "        professional_roles_name  accept_incomplete_resumes department.name  \\\n",
       "0      Программист, разработчик                      False             NaN   \n",
       "1      Программист, разработчик                      False             NaN   \n",
       "2  BI-аналитик, аналитик данных                      False             NaN   \n",
       "3             Системный инженер                      False             NaN   \n",
       "4      Программист, разработчик                      False             NaN   \n",
       "\n",
       "  area.name  salary.from  salary.to salary.currency salary.gross type.name  \\\n",
       "0    Москва       4000.0     6000.0             EUR         True  Открытая   \n",
       "1    Москва     180000.0   250000.0             RUR        False  Открытая   \n",
       "2    Москва          NaN        NaN             NaN          NaN  Открытая   \n",
       "3    Москва     250000.0   300000.0             RUR         True  Открытая   \n",
       "4    Москва     300000.0   400000.0             RUR        False  Открытая   \n",
       "\n",
       "              employer.name          employer.alternate_url  \\\n",
       "0  4CV Recruitment Services  https://hh.ru/employer/5231648   \n",
       "1                       РВИ    https://hh.ru/employer/30486   \n",
       "2         Sapiens solutions  https://hh.ru/employer/1789341   \n",
       "3  Платформа Больших Данных  https://hh.ru/employer/5202841   \n",
       "4                  Predicto  https://hh.ru/employer/4976750   \n",
       "\n",
       "                            employer.vacancies_url address.city  \\\n",
       "0  https://api.hh.ru/vacancies?employer_id=5231648          NaN   \n",
       "1    https://api.hh.ru/vacancies?employer_id=30486          NaN   \n",
       "2  https://api.hh.ru/vacancies?employer_id=1789341       Москва   \n",
       "3  https://api.hh.ru/vacancies?employer_id=5202841       Москва   \n",
       "4  https://api.hh.ru/vacancies?employer_id=4976750          NaN   \n",
       "\n",
       "                address.street address.building  address.lat  address.lng  \\\n",
       "0                          NaN              NaN          NaN          NaN   \n",
       "1                          NaN              NaN          NaN          NaN   \n",
       "2  Нижняя Красносельская улица          40/12к2    55.774284    37.669145   \n",
       "3    4-я Тверская-Ямская улица             14с1    55.773393    37.595995   \n",
       "4                          NaN              NaN          NaN          NaN   \n",
       "\n",
       "                                    address.raw address.metro.station_name  \\\n",
       "0                                           NaN                        NaN   \n",
       "1                                           NaN                        NaN   \n",
       "2  Москва, Нижняя Красносельская улица, 40/12к2                 Бауманская   \n",
       "3       Москва, 4-я Тверская-Ямская улица, 14с1                Белорусская   \n",
       "4                                           NaN                        NaN   \n",
       "\n",
       "  address.metro.line_name address.metro.station_id address.metro.line_id  \\\n",
       "0                     NaN                      NaN                   NaN   \n",
       "1                     NaN                      NaN                   NaN   \n",
       "2     Арбатско-Покровская                     3.17                     3   \n",
       "3               Кольцевая                     5.20                     5   \n",
       "4                     NaN                      NaN                   NaN   \n",
       "\n",
       "   address.metro.lat  address.metro.lng  \n",
       "0                NaN                NaN  \n",
       "1                NaN                NaN  \n",
       "2          55.772405          37.679040  \n",
       "3          55.775179          37.582303  \n",
       "4                NaN                NaN  "
      ]
     },
     "execution_count": 29,
     "metadata": {},
     "output_type": "execute_result"
    }
   ],
   "source": [
    "df.head()"
   ]
  },
  {
   "cell_type": "code",
   "execution_count": 30,
   "id": "b301da9e",
   "metadata": {},
   "outputs": [
    {
     "data": {
      "text/plain": [
       "array(['Программист, разработчик', 'BI-аналитик, аналитик данных',\n",
       "       'Системный инженер', 'Дата-сайентист', 'Аналитик', 'Другое',\n",
       "       'Системный аналитик', 'Администратор',\n",
       "       'Руководитель отдела аналитики', 'Руководитель группы разработки',\n",
       "       'DevOps-инженер', 'Инженер по качеству', 'Тестировщик',\n",
       "       'Сетевой инженер', 'Учитель, преподаватель, педагог', 'Архитектор',\n",
       "       'Менеджер продукта', 'Продуктовый аналитик',\n",
       "       'Инженер-конструктор, инженер-проектировщик',\n",
       "       'Специалист по информационной безопасности', 'Бизнес-аналитик',\n",
       "       'Системный администратор', 'Руководитель проектов',\n",
       "       'Оператор ПК, оператор базы данных',\n",
       "       'Финансовый аналитик, инвестиционный аналитик',\n",
       "       'Менеджер по продажам, менеджер по работе с клиентами',\n",
       "       'Менеджер по маркетингу, интернет-маркетолог',\n",
       "       'Маркетолог-аналитик', 'Экономист',\n",
       "       'Специалист службы безопасности',\n",
       "       'Научный специалист, исследователь',\n",
       "       'SMM-менеджер, контент-менеджер',\n",
       "       'Специалист технической поддержки',\n",
       "       'Менеджер по компенсациям и льготам', 'Методолог', 'Юрист',\n",
       "       'Финансовый контролер', 'Менеджер по работе с партнерами',\n",
       "       'Казначей', 'Копирайтер, редактор, корректор', 'Аудитор',\n",
       "       'Менеджер по персоналу', 'Комплаенс-менеджер',\n",
       "       'Менеджер/консультант по стратегии', 'Финансовый менеджер',\n",
       "       'Менеджер по закупкам', 'Бухгалтер', 'Координатор отдела продаж',\n",
       "       'Руководитель отдела продаж',\n",
       "       'Менеджер по логистике, менеджер по ВЭД',\n",
       "       'Секретарь, помощник руководителя, ассистент', 'Технолог',\n",
       "       'Технический директор (CTO)', 'Офис-менеджер',\n",
       "       'Технический писатель', 'Начальник склада', 'Товаровед',\n",
       "       'Продавец-консультант, продавец-кассир',\n",
       "       'Инженер-энергетик, инженер-электрик',\n",
       "       'Инженер ПТО, инженер-сметчик', 'Супервайзер', 'Юрисконсульт',\n",
       "       'Директор по маркетингу и PR (CMO)', 'PR-менеджер',\n",
       "       'Руководитель отдела маркетинга и рекламы', 'Кредитный специалист',\n",
       "       'Начальник производства', 'Специалист по подбору персонала',\n",
       "       'Сервисный инженер, инженер-механик', 'Охранник',\n",
       "       'Руководитель строительного проекта', 'Инженер по эксплуатации'],\n",
       "      dtype=object)"
      ]
     },
     "execution_count": 30,
     "metadata": {},
     "output_type": "execute_result"
    }
   ],
   "source": [
    "df['professional_roles_name'].unique()"
   ]
  },
  {
   "cell_type": "code",
   "execution_count": null,
   "id": "83a530ea",
   "metadata": {},
   "outputs": [],
   "source": [
    "# # Для каждой вакансии по запросу, включающему ее номер, можно получить полное описание\n",
    "\n",
    "# # ID вакансии, которую нужно получить\n",
    "# vacancy_id = '79110745'\n",
    "\n",
    "# # Справочник для переменной GET-запроса\n",
    "# params = {\n",
    "#     'id': vacancy_id\n",
    "# }\n",
    "\n",
    "# req = requests.get('https://api.hh.ru/vacancies/{}'.format(vacancy_id), params=params, timeout=20)\n",
    "# data = req.content.decode()\n",
    "# req.close()\n",
    "\n",
    "# # Преобразуем ответ сервера в словарь\n",
    "# response = json.loads(data)\n",
    "\n",
    "# # Получаем полное описание вакансии\n",
    "# description = response['description']"
   ]
  },
  {
   "cell_type": "code",
   "execution_count": 31,
   "id": "7ee544fd",
   "metadata": {},
   "outputs": [
    {
     "data": {
      "text/html": [
       "<div>\n",
       "<style scoped>\n",
       "    .dataframe tbody tr th:only-of-type {\n",
       "        vertical-align: middle;\n",
       "    }\n",
       "\n",
       "    .dataframe tbody tr th {\n",
       "        vertical-align: top;\n",
       "    }\n",
       "\n",
       "    .dataframe thead th {\n",
       "        text-align: right;\n",
       "    }\n",
       "</style>\n",
       "<table border=\"1\" class=\"dataframe\">\n",
       "  <thead>\n",
       "    <tr style=\"text-align: right;\">\n",
       "      <th></th>\n",
       "      <th>id</th>\n",
       "      <th>name</th>\n",
       "      <th>snippet.requirement</th>\n",
       "      <th>snippet.responsibility</th>\n",
       "      <th>description</th>\n",
       "      <th>experience.name</th>\n",
       "      <th>published_at</th>\n",
       "      <th>created_at</th>\n",
       "      <th>alternate_url</th>\n",
       "      <th>working_days</th>\n",
       "      <th>working_time_intervals</th>\n",
       "      <th>working_time_modes</th>\n",
       "      <th>accept_temporary</th>\n",
       "      <th>employment.name</th>\n",
       "      <th>professional_roles_name</th>\n",
       "      <th>accept_incomplete_resumes</th>\n",
       "      <th>department.name</th>\n",
       "      <th>area.name</th>\n",
       "      <th>salary.from</th>\n",
       "      <th>salary.to</th>\n",
       "      <th>salary.currency</th>\n",
       "      <th>salary.gross</th>\n",
       "      <th>type.name</th>\n",
       "      <th>employer.name</th>\n",
       "      <th>employer.alternate_url</th>\n",
       "      <th>employer.vacancies_url</th>\n",
       "      <th>address.city</th>\n",
       "      <th>address.street</th>\n",
       "      <th>address.building</th>\n",
       "      <th>address.lat</th>\n",
       "      <th>address.lng</th>\n",
       "      <th>address.raw</th>\n",
       "      <th>address.metro.station_name</th>\n",
       "      <th>address.metro.line_name</th>\n",
       "      <th>address.metro.station_id</th>\n",
       "      <th>address.metro.line_id</th>\n",
       "      <th>address.metro.lat</th>\n",
       "      <th>address.metro.lng</th>\n",
       "    </tr>\n",
       "  </thead>\n",
       "  <tbody>\n",
       "    <tr>\n",
       "      <th>2257</th>\n",
       "      <td>76826268</td>\n",
       "      <td>Аналитик (Junior)</td>\n",
       "      <td>Образование высшее техническое. Опыт работы от...</td>\n",
       "      <td>Участи в разработке информационных отчетов, гр...</td>\n",
       "      <td>&lt;p&gt;Обязанности:&lt;/p&gt; &lt;ul&gt; &lt;li&gt;Обработка больших...</td>\n",
       "      <td>От 3 до 6 лет</td>\n",
       "      <td>2023-03-30T10:26:10+0300</td>\n",
       "      <td>2023-03-30T10:26:10+0300</td>\n",
       "      <td>https://hh.ru/vacancy/76826268</td>\n",
       "      <td>[]</td>\n",
       "      <td>[]</td>\n",
       "      <td>[]</td>\n",
       "      <td>False</td>\n",
       "      <td>Полная занятость</td>\n",
       "      <td>Аналитик</td>\n",
       "      <td>False</td>\n",
       "      <td>NaN</td>\n",
       "      <td>Москва</td>\n",
       "      <td>120000.0</td>\n",
       "      <td>120000.0</td>\n",
       "      <td>RUR</td>\n",
       "      <td>True</td>\n",
       "      <td>Открытая</td>\n",
       "      <td>ГБУЗ Центр паллиативной помощи ДЗМ</td>\n",
       "      <td>https://hh.ru/employer/3059571</td>\n",
       "      <td>https://api.hh.ru/vacancies?employer_id=3059571</td>\n",
       "      <td>Москва</td>\n",
       "      <td>улица Академика Миллионщикова</td>\n",
       "      <td>1с2</td>\n",
       "      <td>55.672702</td>\n",
       "      <td>37.654781</td>\n",
       "      <td>Москва, улица Академика Миллионщикова, 1с2</td>\n",
       "      <td>Каширская</td>\n",
       "      <td>Замоскворецкая</td>\n",
       "      <td>2.45</td>\n",
       "      <td>2</td>\n",
       "      <td>55.655745</td>\n",
       "      <td>37.649683</td>\n",
       "    </tr>\n",
       "  </tbody>\n",
       "</table>\n",
       "</div>"
      ],
      "text/plain": [
       "            id               name  \\\n",
       "2257  76826268  Аналитик (Junior)   \n",
       "\n",
       "                                    snippet.requirement  \\\n",
       "2257  Образование высшее техническое. Опыт работы от...   \n",
       "\n",
       "                                 snippet.responsibility  \\\n",
       "2257  Участи в разработке информационных отчетов, гр...   \n",
       "\n",
       "                                            description experience.name  \\\n",
       "2257  <p>Обязанности:</p> <ul> <li>Обработка больших...   От 3 до 6 лет   \n",
       "\n",
       "                  published_at                created_at  \\\n",
       "2257  2023-03-30T10:26:10+0300  2023-03-30T10:26:10+0300   \n",
       "\n",
       "                       alternate_url working_days working_time_intervals  \\\n",
       "2257  https://hh.ru/vacancy/76826268           []                     []   \n",
       "\n",
       "     working_time_modes  accept_temporary   employment.name  \\\n",
       "2257                 []             False  Полная занятость   \n",
       "\n",
       "     professional_roles_name  accept_incomplete_resumes department.name  \\\n",
       "2257                Аналитик                      False             NaN   \n",
       "\n",
       "     area.name  salary.from  salary.to salary.currency salary.gross type.name  \\\n",
       "2257    Москва     120000.0   120000.0             RUR         True  Открытая   \n",
       "\n",
       "                           employer.name          employer.alternate_url  \\\n",
       "2257  ГБУЗ Центр паллиативной помощи ДЗМ  https://hh.ru/employer/3059571   \n",
       "\n",
       "                               employer.vacancies_url address.city  \\\n",
       "2257  https://api.hh.ru/vacancies?employer_id=3059571       Москва   \n",
       "\n",
       "                     address.street address.building  address.lat  \\\n",
       "2257  улица Академика Миллионщикова              1с2    55.672702   \n",
       "\n",
       "      address.lng                                 address.raw  \\\n",
       "2257    37.654781  Москва, улица Академика Миллионщикова, 1с2   \n",
       "\n",
       "     address.metro.station_name address.metro.line_name  \\\n",
       "2257                  Каширская          Замоскворецкая   \n",
       "\n",
       "     address.metro.station_id address.metro.line_id  address.metro.lat  \\\n",
       "2257                     2.45                     2          55.655745   \n",
       "\n",
       "      address.metro.lng  \n",
       "2257          37.649683  "
      ]
     },
     "execution_count": 31,
     "metadata": {},
     "output_type": "execute_result"
    }
   ],
   "source": [
    "df.loc[df['id'] == '76826268']"
   ]
  },
  {
   "attachments": {},
   "cell_type": "markdown",
   "id": "9ac1d1cc",
   "metadata": {},
   "source": [
    "Далее посмотрим различные статистические показатели выборки. Интереснее это будет делать, конечно же, на графиках"
   ]
  },
  {
   "cell_type": "code",
   "execution_count": 32,
   "id": "def458d1",
   "metadata": {},
   "outputs": [
    {
     "data": {
      "application/vnd.plotly.v1+json": {
       "config": {
        "plotlyServerURL": "https://plot.ly"
       },
       "data": [
        {
         "domain": {
          "x": [
           0,
           0.45
          ]
         },
         "hole": 0.7,
         "labels": [
          "RUB",
          "USD",
          "EUR"
         ],
         "marker": {
          "colors": [
           "#FFA07A",
           "#FFDAB9",
           "#CD5C5C"
          ],
          "line": {
           "width": 0
          }
         },
         "name": "Валюты",
         "type": "pie",
         "values": [
          1619,
          39,
          2
         ]
        },
        {
         "domain": {
          "x": [
           0.55,
           1
          ]
         },
         "hole": 0.7,
         "labels": [
          "Net",
          "Gross"
         ],
         "marker": {
          "colors": [
           "#6495ED",
           "#00BFFF"
          ],
          "line": {
           "width": 0
          }
         },
         "name": "Тип зарплаты",
         "type": "pie",
         "values": [
          1129,
          530
         ]
        }
       ],
       "layout": {
        "annotations": [
         {
          "font": {
           "size": 20
          },
          "showarrow": false,
          "text": "Валюты",
          "x": 0.15,
          "y": 0.5
         },
         {
          "font": {
           "size": 20
          },
          "showarrow": false,
          "text": "Налоги",
          "x": 0.84,
          "y": 0.5
         }
        ],
        "grid": {
         "columns": 2,
         "rows": 1
        },
        "height": 500,
        "legend": {
         "itemsizing": "constant",
         "itemwidth": 50,
         "title": {
          "text": "Тип зарплаты"
         },
         "traceorder": "normal"
        },
        "template": {
         "data": {
          "bar": [
           {
            "error_x": {
             "color": "#2a3f5f"
            },
            "error_y": {
             "color": "#2a3f5f"
            },
            "marker": {
             "line": {
              "color": "#E5ECF6",
              "width": 0.5
             },
             "pattern": {
              "fillmode": "overlay",
              "size": 10,
              "solidity": 0.2
             }
            },
            "type": "bar"
           }
          ],
          "barpolar": [
           {
            "marker": {
             "line": {
              "color": "#E5ECF6",
              "width": 0.5
             },
             "pattern": {
              "fillmode": "overlay",
              "size": 10,
              "solidity": 0.2
             }
            },
            "type": "barpolar"
           }
          ],
          "carpet": [
           {
            "aaxis": {
             "endlinecolor": "#2a3f5f",
             "gridcolor": "white",
             "linecolor": "white",
             "minorgridcolor": "white",
             "startlinecolor": "#2a3f5f"
            },
            "baxis": {
             "endlinecolor": "#2a3f5f",
             "gridcolor": "white",
             "linecolor": "white",
             "minorgridcolor": "white",
             "startlinecolor": "#2a3f5f"
            },
            "type": "carpet"
           }
          ],
          "choropleth": [
           {
            "colorbar": {
             "outlinewidth": 0,
             "ticks": ""
            },
            "type": "choropleth"
           }
          ],
          "contour": [
           {
            "colorbar": {
             "outlinewidth": 0,
             "ticks": ""
            },
            "colorscale": [
             [
              0,
              "#0d0887"
             ],
             [
              0.1111111111111111,
              "#46039f"
             ],
             [
              0.2222222222222222,
              "#7201a8"
             ],
             [
              0.3333333333333333,
              "#9c179e"
             ],
             [
              0.4444444444444444,
              "#bd3786"
             ],
             [
              0.5555555555555556,
              "#d8576b"
             ],
             [
              0.6666666666666666,
              "#ed7953"
             ],
             [
              0.7777777777777778,
              "#fb9f3a"
             ],
             [
              0.8888888888888888,
              "#fdca26"
             ],
             [
              1,
              "#f0f921"
             ]
            ],
            "type": "contour"
           }
          ],
          "contourcarpet": [
           {
            "colorbar": {
             "outlinewidth": 0,
             "ticks": ""
            },
            "type": "contourcarpet"
           }
          ],
          "heatmap": [
           {
            "colorbar": {
             "outlinewidth": 0,
             "ticks": ""
            },
            "colorscale": [
             [
              0,
              "#0d0887"
             ],
             [
              0.1111111111111111,
              "#46039f"
             ],
             [
              0.2222222222222222,
              "#7201a8"
             ],
             [
              0.3333333333333333,
              "#9c179e"
             ],
             [
              0.4444444444444444,
              "#bd3786"
             ],
             [
              0.5555555555555556,
              "#d8576b"
             ],
             [
              0.6666666666666666,
              "#ed7953"
             ],
             [
              0.7777777777777778,
              "#fb9f3a"
             ],
             [
              0.8888888888888888,
              "#fdca26"
             ],
             [
              1,
              "#f0f921"
             ]
            ],
            "type": "heatmap"
           }
          ],
          "heatmapgl": [
           {
            "colorbar": {
             "outlinewidth": 0,
             "ticks": ""
            },
            "colorscale": [
             [
              0,
              "#0d0887"
             ],
             [
              0.1111111111111111,
              "#46039f"
             ],
             [
              0.2222222222222222,
              "#7201a8"
             ],
             [
              0.3333333333333333,
              "#9c179e"
             ],
             [
              0.4444444444444444,
              "#bd3786"
             ],
             [
              0.5555555555555556,
              "#d8576b"
             ],
             [
              0.6666666666666666,
              "#ed7953"
             ],
             [
              0.7777777777777778,
              "#fb9f3a"
             ],
             [
              0.8888888888888888,
              "#fdca26"
             ],
             [
              1,
              "#f0f921"
             ]
            ],
            "type": "heatmapgl"
           }
          ],
          "histogram": [
           {
            "marker": {
             "pattern": {
              "fillmode": "overlay",
              "size": 10,
              "solidity": 0.2
             }
            },
            "type": "histogram"
           }
          ],
          "histogram2d": [
           {
            "colorbar": {
             "outlinewidth": 0,
             "ticks": ""
            },
            "colorscale": [
             [
              0,
              "#0d0887"
             ],
             [
              0.1111111111111111,
              "#46039f"
             ],
             [
              0.2222222222222222,
              "#7201a8"
             ],
             [
              0.3333333333333333,
              "#9c179e"
             ],
             [
              0.4444444444444444,
              "#bd3786"
             ],
             [
              0.5555555555555556,
              "#d8576b"
             ],
             [
              0.6666666666666666,
              "#ed7953"
             ],
             [
              0.7777777777777778,
              "#fb9f3a"
             ],
             [
              0.8888888888888888,
              "#fdca26"
             ],
             [
              1,
              "#f0f921"
             ]
            ],
            "type": "histogram2d"
           }
          ],
          "histogram2dcontour": [
           {
            "colorbar": {
             "outlinewidth": 0,
             "ticks": ""
            },
            "colorscale": [
             [
              0,
              "#0d0887"
             ],
             [
              0.1111111111111111,
              "#46039f"
             ],
             [
              0.2222222222222222,
              "#7201a8"
             ],
             [
              0.3333333333333333,
              "#9c179e"
             ],
             [
              0.4444444444444444,
              "#bd3786"
             ],
             [
              0.5555555555555556,
              "#d8576b"
             ],
             [
              0.6666666666666666,
              "#ed7953"
             ],
             [
              0.7777777777777778,
              "#fb9f3a"
             ],
             [
              0.8888888888888888,
              "#fdca26"
             ],
             [
              1,
              "#f0f921"
             ]
            ],
            "type": "histogram2dcontour"
           }
          ],
          "mesh3d": [
           {
            "colorbar": {
             "outlinewidth": 0,
             "ticks": ""
            },
            "type": "mesh3d"
           }
          ],
          "parcoords": [
           {
            "line": {
             "colorbar": {
              "outlinewidth": 0,
              "ticks": ""
             }
            },
            "type": "parcoords"
           }
          ],
          "pie": [
           {
            "automargin": true,
            "type": "pie"
           }
          ],
          "scatter": [
           {
            "fillpattern": {
             "fillmode": "overlay",
             "size": 10,
             "solidity": 0.2
            },
            "type": "scatter"
           }
          ],
          "scatter3d": [
           {
            "line": {
             "colorbar": {
              "outlinewidth": 0,
              "ticks": ""
             }
            },
            "marker": {
             "colorbar": {
              "outlinewidth": 0,
              "ticks": ""
             }
            },
            "type": "scatter3d"
           }
          ],
          "scattercarpet": [
           {
            "marker": {
             "colorbar": {
              "outlinewidth": 0,
              "ticks": ""
             }
            },
            "type": "scattercarpet"
           }
          ],
          "scattergeo": [
           {
            "marker": {
             "colorbar": {
              "outlinewidth": 0,
              "ticks": ""
             }
            },
            "type": "scattergeo"
           }
          ],
          "scattergl": [
           {
            "marker": {
             "colorbar": {
              "outlinewidth": 0,
              "ticks": ""
             }
            },
            "type": "scattergl"
           }
          ],
          "scattermapbox": [
           {
            "marker": {
             "colorbar": {
              "outlinewidth": 0,
              "ticks": ""
             }
            },
            "type": "scattermapbox"
           }
          ],
          "scatterpolar": [
           {
            "marker": {
             "colorbar": {
              "outlinewidth": 0,
              "ticks": ""
             }
            },
            "type": "scatterpolar"
           }
          ],
          "scatterpolargl": [
           {
            "marker": {
             "colorbar": {
              "outlinewidth": 0,
              "ticks": ""
             }
            },
            "type": "scatterpolargl"
           }
          ],
          "scatterternary": [
           {
            "marker": {
             "colorbar": {
              "outlinewidth": 0,
              "ticks": ""
             }
            },
            "type": "scatterternary"
           }
          ],
          "surface": [
           {
            "colorbar": {
             "outlinewidth": 0,
             "ticks": ""
            },
            "colorscale": [
             [
              0,
              "#0d0887"
             ],
             [
              0.1111111111111111,
              "#46039f"
             ],
             [
              0.2222222222222222,
              "#7201a8"
             ],
             [
              0.3333333333333333,
              "#9c179e"
             ],
             [
              0.4444444444444444,
              "#bd3786"
             ],
             [
              0.5555555555555556,
              "#d8576b"
             ],
             [
              0.6666666666666666,
              "#ed7953"
             ],
             [
              0.7777777777777778,
              "#fb9f3a"
             ],
             [
              0.8888888888888888,
              "#fdca26"
             ],
             [
              1,
              "#f0f921"
             ]
            ],
            "type": "surface"
           }
          ],
          "table": [
           {
            "cells": {
             "fill": {
              "color": "#EBF0F8"
             },
             "line": {
              "color": "white"
             }
            },
            "header": {
             "fill": {
              "color": "#C8D4E3"
             },
             "line": {
              "color": "white"
             }
            },
            "type": "table"
           }
          ]
         },
         "layout": {
          "annotationdefaults": {
           "arrowcolor": "#2a3f5f",
           "arrowhead": 0,
           "arrowwidth": 1
          },
          "autotypenumbers": "strict",
          "coloraxis": {
           "colorbar": {
            "outlinewidth": 0,
            "ticks": ""
           }
          },
          "colorscale": {
           "diverging": [
            [
             0,
             "#8e0152"
            ],
            [
             0.1,
             "#c51b7d"
            ],
            [
             0.2,
             "#de77ae"
            ],
            [
             0.3,
             "#f1b6da"
            ],
            [
             0.4,
             "#fde0ef"
            ],
            [
             0.5,
             "#f7f7f7"
            ],
            [
             0.6,
             "#e6f5d0"
            ],
            [
             0.7,
             "#b8e186"
            ],
            [
             0.8,
             "#7fbc41"
            ],
            [
             0.9,
             "#4d9221"
            ],
            [
             1,
             "#276419"
            ]
           ],
           "sequential": [
            [
             0,
             "#0d0887"
            ],
            [
             0.1111111111111111,
             "#46039f"
            ],
            [
             0.2222222222222222,
             "#7201a8"
            ],
            [
             0.3333333333333333,
             "#9c179e"
            ],
            [
             0.4444444444444444,
             "#bd3786"
            ],
            [
             0.5555555555555556,
             "#d8576b"
            ],
            [
             0.6666666666666666,
             "#ed7953"
            ],
            [
             0.7777777777777778,
             "#fb9f3a"
            ],
            [
             0.8888888888888888,
             "#fdca26"
            ],
            [
             1,
             "#f0f921"
            ]
           ],
           "sequentialminus": [
            [
             0,
             "#0d0887"
            ],
            [
             0.1111111111111111,
             "#46039f"
            ],
            [
             0.2222222222222222,
             "#7201a8"
            ],
            [
             0.3333333333333333,
             "#9c179e"
            ],
            [
             0.4444444444444444,
             "#bd3786"
            ],
            [
             0.5555555555555556,
             "#d8576b"
            ],
            [
             0.6666666666666666,
             "#ed7953"
            ],
            [
             0.7777777777777778,
             "#fb9f3a"
            ],
            [
             0.8888888888888888,
             "#fdca26"
            ],
            [
             1,
             "#f0f921"
            ]
           ]
          },
          "colorway": [
           "#636efa",
           "#EF553B",
           "#00cc96",
           "#ab63fa",
           "#FFA15A",
           "#19d3f3",
           "#FF6692",
           "#B6E880",
           "#FF97FF",
           "#FECB52"
          ],
          "font": {
           "color": "#2a3f5f"
          },
          "geo": {
           "bgcolor": "white",
           "lakecolor": "white",
           "landcolor": "#E5ECF6",
           "showlakes": true,
           "showland": true,
           "subunitcolor": "white"
          },
          "hoverlabel": {
           "align": "left"
          },
          "hovermode": "closest",
          "mapbox": {
           "style": "light"
          },
          "paper_bgcolor": "white",
          "plot_bgcolor": "#E5ECF6",
          "polar": {
           "angularaxis": {
            "gridcolor": "white",
            "linecolor": "white",
            "ticks": ""
           },
           "bgcolor": "#E5ECF6",
           "radialaxis": {
            "gridcolor": "white",
            "linecolor": "white",
            "ticks": ""
           }
          },
          "scene": {
           "xaxis": {
            "backgroundcolor": "#E5ECF6",
            "gridcolor": "white",
            "gridwidth": 2,
            "linecolor": "white",
            "showbackground": true,
            "ticks": "",
            "zerolinecolor": "white"
           },
           "yaxis": {
            "backgroundcolor": "#E5ECF6",
            "gridcolor": "white",
            "gridwidth": 2,
            "linecolor": "white",
            "showbackground": true,
            "ticks": "",
            "zerolinecolor": "white"
           },
           "zaxis": {
            "backgroundcolor": "#E5ECF6",
            "gridcolor": "white",
            "gridwidth": 2,
            "linecolor": "white",
            "showbackground": true,
            "ticks": "",
            "zerolinecolor": "white"
           }
          },
          "shapedefaults": {
           "line": {
            "color": "#2a3f5f"
           }
          },
          "ternary": {
           "aaxis": {
            "gridcolor": "white",
            "linecolor": "white",
            "ticks": ""
           },
           "baxis": {
            "gridcolor": "white",
            "linecolor": "white",
            "ticks": ""
           },
           "bgcolor": "#E5ECF6",
           "caxis": {
            "gridcolor": "white",
            "linecolor": "white",
            "ticks": ""
           }
          },
          "title": {
           "x": 0.05
          },
          "xaxis": {
           "automargin": true,
           "gridcolor": "white",
           "linecolor": "white",
           "ticks": "",
           "title": {
            "standoff": 15
           },
           "zerolinecolor": "white",
           "zerolinewidth": 2
          },
          "yaxis": {
           "automargin": true,
           "gridcolor": "white",
           "linecolor": "white",
           "ticks": "",
           "title": {
            "standoff": 15
           },
           "zerolinecolor": "white",
           "zerolinewidth": 2
          }
         }
        },
        "title": {
         "text": "Распределение вакансий по валютам и налогообложению"
        },
        "width": 800
       }
      }
     },
     "metadata": {},
     "output_type": "display_data"
    }
   ],
   "source": [
    "# Подсчет количества вакансий по валютам\n",
    "currency_count = df['salary.currency'].value_counts()\n",
    "\n",
    "# Подсчет количества вакансий по типу зарплаты\n",
    "gross_count = df['salary.gross'].value_counts()\n",
    "\n",
    "# Создание списка фигур для размещения двух диаграмм рядом\n",
    "fig = go.Figure()\n",
    "\n",
    "# Добавление первой круговой диаграммы (по валютам)\n",
    "fig.add_trace(go.Pie(\n",
    "    labels=['RUB', 'USD', 'EUR'],  # Метки для каждой валюты\n",
    "    values=currency_count.values,  # Количество вакансий для каждой валюты\n",
    "    hole=.7,  # Уменьшение размера отверстия внутри диаграммы\n",
    "    name='Валюты',\n",
    "    marker=dict(colors=['#FFA07A', '#FFDAB9', '#CD5C5C'], line=dict(width=0)),\n",
    "    domain=dict(x=[0, 0.45])  # Изменение размера и положения диаграммы на фигуре\n",
    "))\n",
    "\n",
    "# Добавление второй круговой диаграммы (по типу зарплаты)\n",
    "fig.add_trace(go.Pie(\n",
    "    labels=['Net', 'Gross'],  # Метки для типов зарплаты\n",
    "    values=gross_count.values,  # Количество вакансий для каждого типа зарплаты\n",
    "    hole=.7,  # Уменьшение размера отверстия внутри диаграммы\n",
    "    name='Тип зарплаты',\n",
    "    marker=dict(colors=['#6495ED', '#00BFFF'], line=dict(width=0)),\n",
    "    domain=dict(x=[0.55, 1])  # Изменение размера и положения диаграммы на фигуре\n",
    "))\n",
    "\n",
    "# Настройка параметров фигуры\n",
    "fig.update_layout(\n",
    "    title='Распределение вакансий по валютам и налогообложению',\n",
    "    width=800,  # Ширина фигуры\n",
    "    height=500,  # Высота фигуры\n",
    "    grid=dict(rows=1, columns=2),\n",
    "    legend=dict(title='Тип зарплаты', \n",
    "            traceorder='normal', \n",
    "            itemsizing='constant', \n",
    "            itemwidth=50),\n",
    "    annotations=[dict(text='Валюты', x=0.15, y=0.5, font_size=20, showarrow=False),\n",
    "                 dict(text='Налоги', x=0.84, y=0.5, font_size=20, showarrow=False)]\n",
    "\n",
    ")\n",
    "\n",
    "# Вывод фигуры\n",
    "fig.show()"
   ]
  },
  {
   "cell_type": "code",
   "execution_count": 33,
   "id": "af252e77",
   "metadata": {},
   "outputs": [
    {
     "data": {
      "application/vnd.plotly.v1+json": {
       "config": {
        "plotlyServerURL": "https://plot.ly"
       },
       "data": [
        {
         "marker": {
          "color": "#6495ED"
         },
         "orientation": "h",
         "type": "bar",
         "x": [
          35,
          59,
          60,
          73,
          77,
          299,
          1338
         ],
         "y": [
          "Владивосток",
          "Нижний Новгород",
          "Казань",
          "Екатеринбург",
          "Новосибирск",
          "Санкт-Петербург",
          "Москва"
         ]
        }
       ],
       "layout": {
        "template": {
         "data": {
          "bar": [
           {
            "error_x": {
             "color": "#2a3f5f"
            },
            "error_y": {
             "color": "#2a3f5f"
            },
            "marker": {
             "line": {
              "color": "#E5ECF6",
              "width": 0.5
             },
             "pattern": {
              "fillmode": "overlay",
              "size": 10,
              "solidity": 0.2
             }
            },
            "type": "bar"
           }
          ],
          "barpolar": [
           {
            "marker": {
             "line": {
              "color": "#E5ECF6",
              "width": 0.5
             },
             "pattern": {
              "fillmode": "overlay",
              "size": 10,
              "solidity": 0.2
             }
            },
            "type": "barpolar"
           }
          ],
          "carpet": [
           {
            "aaxis": {
             "endlinecolor": "#2a3f5f",
             "gridcolor": "white",
             "linecolor": "white",
             "minorgridcolor": "white",
             "startlinecolor": "#2a3f5f"
            },
            "baxis": {
             "endlinecolor": "#2a3f5f",
             "gridcolor": "white",
             "linecolor": "white",
             "minorgridcolor": "white",
             "startlinecolor": "#2a3f5f"
            },
            "type": "carpet"
           }
          ],
          "choropleth": [
           {
            "colorbar": {
             "outlinewidth": 0,
             "ticks": ""
            },
            "type": "choropleth"
           }
          ],
          "contour": [
           {
            "colorbar": {
             "outlinewidth": 0,
             "ticks": ""
            },
            "colorscale": [
             [
              0,
              "#0d0887"
             ],
             [
              0.1111111111111111,
              "#46039f"
             ],
             [
              0.2222222222222222,
              "#7201a8"
             ],
             [
              0.3333333333333333,
              "#9c179e"
             ],
             [
              0.4444444444444444,
              "#bd3786"
             ],
             [
              0.5555555555555556,
              "#d8576b"
             ],
             [
              0.6666666666666666,
              "#ed7953"
             ],
             [
              0.7777777777777778,
              "#fb9f3a"
             ],
             [
              0.8888888888888888,
              "#fdca26"
             ],
             [
              1,
              "#f0f921"
             ]
            ],
            "type": "contour"
           }
          ],
          "contourcarpet": [
           {
            "colorbar": {
             "outlinewidth": 0,
             "ticks": ""
            },
            "type": "contourcarpet"
           }
          ],
          "heatmap": [
           {
            "colorbar": {
             "outlinewidth": 0,
             "ticks": ""
            },
            "colorscale": [
             [
              0,
              "#0d0887"
             ],
             [
              0.1111111111111111,
              "#46039f"
             ],
             [
              0.2222222222222222,
              "#7201a8"
             ],
             [
              0.3333333333333333,
              "#9c179e"
             ],
             [
              0.4444444444444444,
              "#bd3786"
             ],
             [
              0.5555555555555556,
              "#d8576b"
             ],
             [
              0.6666666666666666,
              "#ed7953"
             ],
             [
              0.7777777777777778,
              "#fb9f3a"
             ],
             [
              0.8888888888888888,
              "#fdca26"
             ],
             [
              1,
              "#f0f921"
             ]
            ],
            "type": "heatmap"
           }
          ],
          "heatmapgl": [
           {
            "colorbar": {
             "outlinewidth": 0,
             "ticks": ""
            },
            "colorscale": [
             [
              0,
              "#0d0887"
             ],
             [
              0.1111111111111111,
              "#46039f"
             ],
             [
              0.2222222222222222,
              "#7201a8"
             ],
             [
              0.3333333333333333,
              "#9c179e"
             ],
             [
              0.4444444444444444,
              "#bd3786"
             ],
             [
              0.5555555555555556,
              "#d8576b"
             ],
             [
              0.6666666666666666,
              "#ed7953"
             ],
             [
              0.7777777777777778,
              "#fb9f3a"
             ],
             [
              0.8888888888888888,
              "#fdca26"
             ],
             [
              1,
              "#f0f921"
             ]
            ],
            "type": "heatmapgl"
           }
          ],
          "histogram": [
           {
            "marker": {
             "pattern": {
              "fillmode": "overlay",
              "size": 10,
              "solidity": 0.2
             }
            },
            "type": "histogram"
           }
          ],
          "histogram2d": [
           {
            "colorbar": {
             "outlinewidth": 0,
             "ticks": ""
            },
            "colorscale": [
             [
              0,
              "#0d0887"
             ],
             [
              0.1111111111111111,
              "#46039f"
             ],
             [
              0.2222222222222222,
              "#7201a8"
             ],
             [
              0.3333333333333333,
              "#9c179e"
             ],
             [
              0.4444444444444444,
              "#bd3786"
             ],
             [
              0.5555555555555556,
              "#d8576b"
             ],
             [
              0.6666666666666666,
              "#ed7953"
             ],
             [
              0.7777777777777778,
              "#fb9f3a"
             ],
             [
              0.8888888888888888,
              "#fdca26"
             ],
             [
              1,
              "#f0f921"
             ]
            ],
            "type": "histogram2d"
           }
          ],
          "histogram2dcontour": [
           {
            "colorbar": {
             "outlinewidth": 0,
             "ticks": ""
            },
            "colorscale": [
             [
              0,
              "#0d0887"
             ],
             [
              0.1111111111111111,
              "#46039f"
             ],
             [
              0.2222222222222222,
              "#7201a8"
             ],
             [
              0.3333333333333333,
              "#9c179e"
             ],
             [
              0.4444444444444444,
              "#bd3786"
             ],
             [
              0.5555555555555556,
              "#d8576b"
             ],
             [
              0.6666666666666666,
              "#ed7953"
             ],
             [
              0.7777777777777778,
              "#fb9f3a"
             ],
             [
              0.8888888888888888,
              "#fdca26"
             ],
             [
              1,
              "#f0f921"
             ]
            ],
            "type": "histogram2dcontour"
           }
          ],
          "mesh3d": [
           {
            "colorbar": {
             "outlinewidth": 0,
             "ticks": ""
            },
            "type": "mesh3d"
           }
          ],
          "parcoords": [
           {
            "line": {
             "colorbar": {
              "outlinewidth": 0,
              "ticks": ""
             }
            },
            "type": "parcoords"
           }
          ],
          "pie": [
           {
            "automargin": true,
            "type": "pie"
           }
          ],
          "scatter": [
           {
            "fillpattern": {
             "fillmode": "overlay",
             "size": 10,
             "solidity": 0.2
            },
            "type": "scatter"
           }
          ],
          "scatter3d": [
           {
            "line": {
             "colorbar": {
              "outlinewidth": 0,
              "ticks": ""
             }
            },
            "marker": {
             "colorbar": {
              "outlinewidth": 0,
              "ticks": ""
             }
            },
            "type": "scatter3d"
           }
          ],
          "scattercarpet": [
           {
            "marker": {
             "colorbar": {
              "outlinewidth": 0,
              "ticks": ""
             }
            },
            "type": "scattercarpet"
           }
          ],
          "scattergeo": [
           {
            "marker": {
             "colorbar": {
              "outlinewidth": 0,
              "ticks": ""
             }
            },
            "type": "scattergeo"
           }
          ],
          "scattergl": [
           {
            "marker": {
             "colorbar": {
              "outlinewidth": 0,
              "ticks": ""
             }
            },
            "type": "scattergl"
           }
          ],
          "scattermapbox": [
           {
            "marker": {
             "colorbar": {
              "outlinewidth": 0,
              "ticks": ""
             }
            },
            "type": "scattermapbox"
           }
          ],
          "scatterpolar": [
           {
            "marker": {
             "colorbar": {
              "outlinewidth": 0,
              "ticks": ""
             }
            },
            "type": "scatterpolar"
           }
          ],
          "scatterpolargl": [
           {
            "marker": {
             "colorbar": {
              "outlinewidth": 0,
              "ticks": ""
             }
            },
            "type": "scatterpolargl"
           }
          ],
          "scatterternary": [
           {
            "marker": {
             "colorbar": {
              "outlinewidth": 0,
              "ticks": ""
             }
            },
            "type": "scatterternary"
           }
          ],
          "surface": [
           {
            "colorbar": {
             "outlinewidth": 0,
             "ticks": ""
            },
            "colorscale": [
             [
              0,
              "#0d0887"
             ],
             [
              0.1111111111111111,
              "#46039f"
             ],
             [
              0.2222222222222222,
              "#7201a8"
             ],
             [
              0.3333333333333333,
              "#9c179e"
             ],
             [
              0.4444444444444444,
              "#bd3786"
             ],
             [
              0.5555555555555556,
              "#d8576b"
             ],
             [
              0.6666666666666666,
              "#ed7953"
             ],
             [
              0.7777777777777778,
              "#fb9f3a"
             ],
             [
              0.8888888888888888,
              "#fdca26"
             ],
             [
              1,
              "#f0f921"
             ]
            ],
            "type": "surface"
           }
          ],
          "table": [
           {
            "cells": {
             "fill": {
              "color": "#EBF0F8"
             },
             "line": {
              "color": "white"
             }
            },
            "header": {
             "fill": {
              "color": "#C8D4E3"
             },
             "line": {
              "color": "white"
             }
            },
            "type": "table"
           }
          ]
         },
         "layout": {
          "annotationdefaults": {
           "arrowcolor": "#2a3f5f",
           "arrowhead": 0,
           "arrowwidth": 1
          },
          "autotypenumbers": "strict",
          "coloraxis": {
           "colorbar": {
            "outlinewidth": 0,
            "ticks": ""
           }
          },
          "colorscale": {
           "diverging": [
            [
             0,
             "#8e0152"
            ],
            [
             0.1,
             "#c51b7d"
            ],
            [
             0.2,
             "#de77ae"
            ],
            [
             0.3,
             "#f1b6da"
            ],
            [
             0.4,
             "#fde0ef"
            ],
            [
             0.5,
             "#f7f7f7"
            ],
            [
             0.6,
             "#e6f5d0"
            ],
            [
             0.7,
             "#b8e186"
            ],
            [
             0.8,
             "#7fbc41"
            ],
            [
             0.9,
             "#4d9221"
            ],
            [
             1,
             "#276419"
            ]
           ],
           "sequential": [
            [
             0,
             "#0d0887"
            ],
            [
             0.1111111111111111,
             "#46039f"
            ],
            [
             0.2222222222222222,
             "#7201a8"
            ],
            [
             0.3333333333333333,
             "#9c179e"
            ],
            [
             0.4444444444444444,
             "#bd3786"
            ],
            [
             0.5555555555555556,
             "#d8576b"
            ],
            [
             0.6666666666666666,
             "#ed7953"
            ],
            [
             0.7777777777777778,
             "#fb9f3a"
            ],
            [
             0.8888888888888888,
             "#fdca26"
            ],
            [
             1,
             "#f0f921"
            ]
           ],
           "sequentialminus": [
            [
             0,
             "#0d0887"
            ],
            [
             0.1111111111111111,
             "#46039f"
            ],
            [
             0.2222222222222222,
             "#7201a8"
            ],
            [
             0.3333333333333333,
             "#9c179e"
            ],
            [
             0.4444444444444444,
             "#bd3786"
            ],
            [
             0.5555555555555556,
             "#d8576b"
            ],
            [
             0.6666666666666666,
             "#ed7953"
            ],
            [
             0.7777777777777778,
             "#fb9f3a"
            ],
            [
             0.8888888888888888,
             "#fdca26"
            ],
            [
             1,
             "#f0f921"
            ]
           ]
          },
          "colorway": [
           "#636efa",
           "#EF553B",
           "#00cc96",
           "#ab63fa",
           "#FFA15A",
           "#19d3f3",
           "#FF6692",
           "#B6E880",
           "#FF97FF",
           "#FECB52"
          ],
          "font": {
           "color": "#2a3f5f"
          },
          "geo": {
           "bgcolor": "white",
           "lakecolor": "white",
           "landcolor": "#E5ECF6",
           "showlakes": true,
           "showland": true,
           "subunitcolor": "white"
          },
          "hoverlabel": {
           "align": "left"
          },
          "hovermode": "closest",
          "mapbox": {
           "style": "light"
          },
          "paper_bgcolor": "white",
          "plot_bgcolor": "#E5ECF6",
          "polar": {
           "angularaxis": {
            "gridcolor": "white",
            "linecolor": "white",
            "ticks": ""
           },
           "bgcolor": "#E5ECF6",
           "radialaxis": {
            "gridcolor": "white",
            "linecolor": "white",
            "ticks": ""
           }
          },
          "scene": {
           "xaxis": {
            "backgroundcolor": "#E5ECF6",
            "gridcolor": "white",
            "gridwidth": 2,
            "linecolor": "white",
            "showbackground": true,
            "ticks": "",
            "zerolinecolor": "white"
           },
           "yaxis": {
            "backgroundcolor": "#E5ECF6",
            "gridcolor": "white",
            "gridwidth": 2,
            "linecolor": "white",
            "showbackground": true,
            "ticks": "",
            "zerolinecolor": "white"
           },
           "zaxis": {
            "backgroundcolor": "#E5ECF6",
            "gridcolor": "white",
            "gridwidth": 2,
            "linecolor": "white",
            "showbackground": true,
            "ticks": "",
            "zerolinecolor": "white"
           }
          },
          "shapedefaults": {
           "line": {
            "color": "#2a3f5f"
           }
          },
          "ternary": {
           "aaxis": {
            "gridcolor": "white",
            "linecolor": "white",
            "ticks": ""
           },
           "baxis": {
            "gridcolor": "white",
            "linecolor": "white",
            "ticks": ""
           },
           "bgcolor": "#E5ECF6",
           "caxis": {
            "gridcolor": "white",
            "linecolor": "white",
            "ticks": ""
           }
          },
          "title": {
           "x": 0.05
          },
          "xaxis": {
           "automargin": true,
           "gridcolor": "white",
           "linecolor": "white",
           "ticks": "",
           "title": {
            "standoff": 15
           },
           "zerolinecolor": "white",
           "zerolinewidth": 2
          },
          "yaxis": {
           "automargin": true,
           "gridcolor": "white",
           "linecolor": "white",
           "ticks": "",
           "title": {
            "standoff": 15
           },
           "zerolinecolor": "white",
           "zerolinewidth": 2
          }
         }
        },
        "title": {
         "text": "Количество вакансий по городам России"
        },
        "xaxis": {
         "title": {
          "text": "Количество вакансий"
         }
        },
        "yaxis": {
         "title": {
          "text": "Город"
         }
        }
       }
      }
     },
     "metadata": {},
     "output_type": "display_data"
    }
   ],
   "source": [
    "d_grouped = df.groupby(['address.city']).count().sort_values(by='id', ascending=False)[:7]\n",
    "\n",
    "labels = d_grouped.index[::-1]\n",
    "values = d_grouped['id'].values[::-1]\n",
    "\n",
    "fig = go.Figure(data=[go.Bar(x=values, y=labels, orientation='h', marker_color='#6495ED')])\n",
    "\n",
    "fig.update_xaxes(title_text='Количество вакансий')\n",
    "fig.update_yaxes(title_text='Город')\n",
    "fig.update_layout(title='Количество вакансий по городам России')\n",
    "\n",
    "fig.show()"
   ]
  },
  {
   "cell_type": "code",
   "execution_count": 34,
   "id": "1a544c45",
   "metadata": {},
   "outputs": [],
   "source": [
    "population = pd.DataFrame(\n",
    "    {\n",
    "        \"Город\": [\n",
    "            \"Москва\",\n",
    "            \"Санкт-Петербург\",\n",
    "            \"Новосибирск\",\n",
    "            \"Екатеринбург\",\n",
    "            \"Казань\",\n",
    "            \"Нижний Новгород\",\n",
    "            \"Челябинск\",\n",
    "            \"Красноярск\",\n",
    "            \"Самара\",\n",
    "            \"Уфа\",\n",
    "            \"Ростов-на-Дону\",\n",
    "            \"Омск\",\n",
    "            \"Краснодар\",\n",
    "            \"Воронеж\",\n",
    "            \"Пермь\",\n",
    "            \"Волгоград\",\n",
    "        ],\n",
    "        \"Население\": [\n",
    "            \"13 010 112\",\n",
    "            \"5 601 911\",\n",
    "            \"1 633 595\",\n",
    "            \"1 544 376\",\n",
    "            \"1 308 660\",\n",
    "            \"1 226 076\",\n",
    "            \"1 189 525\",\n",
    "            \"1 187 771\",\n",
    "            \"1 173 299\",\n",
    "            \"1 144 809\",\n",
    "            \"1 142 162\",\n",
    "            \"1 125 695\",\n",
    "            \"1 099 344\",\n",
    "            \"1 057 681\",\n",
    "            \"1 034 002\",\n",
    "            \"1 028 036\",\n",
    "        ],\n",
    "    }\n",
    ")\n"
   ]
  },
  {
   "cell_type": "code",
   "execution_count": 35,
   "id": "adc46b00",
   "metadata": {},
   "outputs": [
    {
     "data": {
      "application/vnd.plotly.v1+json": {
       "config": {
        "plotlyServerURL": "https://plot.ly"
       },
       "data": [
        {
         "marker": {
          "color": "#6495ED"
         },
         "name": "Количество вакансий",
         "orientation": "h",
         "type": "bar",
         "x": [
          59,
          60,
          73,
          77,
          299,
          1338
         ],
         "y": [
          "Нижний Новгород",
          "Казань",
          "Екатеринбург",
          "Новосибирск",
          "Санкт-Петербург",
          "Москва"
         ]
        },
        {
         "marker": {
          "color": "#FFA07A"
         },
         "name": "Население",
         "orientation": "h",
         "type": "bar",
         "x": [
          126.09343316952229,
          134.58662615663877,
          158.82838579713996,
          168.00394262555156,
          576.1177857654108,
          1338
         ],
         "y": [
          "Нижний Новгород",
          "Казань",
          "Екатеринбург",
          "Новосибирск",
          "Санкт-Петербург",
          "Москва"
         ]
        }
       ],
       "layout": {
        "legend": {
         "title": {
          "text": "Данные"
         }
        },
        "template": {
         "data": {
          "bar": [
           {
            "error_x": {
             "color": "#2a3f5f"
            },
            "error_y": {
             "color": "#2a3f5f"
            },
            "marker": {
             "line": {
              "color": "#E5ECF6",
              "width": 0.5
             },
             "pattern": {
              "fillmode": "overlay",
              "size": 10,
              "solidity": 0.2
             }
            },
            "type": "bar"
           }
          ],
          "barpolar": [
           {
            "marker": {
             "line": {
              "color": "#E5ECF6",
              "width": 0.5
             },
             "pattern": {
              "fillmode": "overlay",
              "size": 10,
              "solidity": 0.2
             }
            },
            "type": "barpolar"
           }
          ],
          "carpet": [
           {
            "aaxis": {
             "endlinecolor": "#2a3f5f",
             "gridcolor": "white",
             "linecolor": "white",
             "minorgridcolor": "white",
             "startlinecolor": "#2a3f5f"
            },
            "baxis": {
             "endlinecolor": "#2a3f5f",
             "gridcolor": "white",
             "linecolor": "white",
             "minorgridcolor": "white",
             "startlinecolor": "#2a3f5f"
            },
            "type": "carpet"
           }
          ],
          "choropleth": [
           {
            "colorbar": {
             "outlinewidth": 0,
             "ticks": ""
            },
            "type": "choropleth"
           }
          ],
          "contour": [
           {
            "colorbar": {
             "outlinewidth": 0,
             "ticks": ""
            },
            "colorscale": [
             [
              0,
              "#0d0887"
             ],
             [
              0.1111111111111111,
              "#46039f"
             ],
             [
              0.2222222222222222,
              "#7201a8"
             ],
             [
              0.3333333333333333,
              "#9c179e"
             ],
             [
              0.4444444444444444,
              "#bd3786"
             ],
             [
              0.5555555555555556,
              "#d8576b"
             ],
             [
              0.6666666666666666,
              "#ed7953"
             ],
             [
              0.7777777777777778,
              "#fb9f3a"
             ],
             [
              0.8888888888888888,
              "#fdca26"
             ],
             [
              1,
              "#f0f921"
             ]
            ],
            "type": "contour"
           }
          ],
          "contourcarpet": [
           {
            "colorbar": {
             "outlinewidth": 0,
             "ticks": ""
            },
            "type": "contourcarpet"
           }
          ],
          "heatmap": [
           {
            "colorbar": {
             "outlinewidth": 0,
             "ticks": ""
            },
            "colorscale": [
             [
              0,
              "#0d0887"
             ],
             [
              0.1111111111111111,
              "#46039f"
             ],
             [
              0.2222222222222222,
              "#7201a8"
             ],
             [
              0.3333333333333333,
              "#9c179e"
             ],
             [
              0.4444444444444444,
              "#bd3786"
             ],
             [
              0.5555555555555556,
              "#d8576b"
             ],
             [
              0.6666666666666666,
              "#ed7953"
             ],
             [
              0.7777777777777778,
              "#fb9f3a"
             ],
             [
              0.8888888888888888,
              "#fdca26"
             ],
             [
              1,
              "#f0f921"
             ]
            ],
            "type": "heatmap"
           }
          ],
          "heatmapgl": [
           {
            "colorbar": {
             "outlinewidth": 0,
             "ticks": ""
            },
            "colorscale": [
             [
              0,
              "#0d0887"
             ],
             [
              0.1111111111111111,
              "#46039f"
             ],
             [
              0.2222222222222222,
              "#7201a8"
             ],
             [
              0.3333333333333333,
              "#9c179e"
             ],
             [
              0.4444444444444444,
              "#bd3786"
             ],
             [
              0.5555555555555556,
              "#d8576b"
             ],
             [
              0.6666666666666666,
              "#ed7953"
             ],
             [
              0.7777777777777778,
              "#fb9f3a"
             ],
             [
              0.8888888888888888,
              "#fdca26"
             ],
             [
              1,
              "#f0f921"
             ]
            ],
            "type": "heatmapgl"
           }
          ],
          "histogram": [
           {
            "marker": {
             "pattern": {
              "fillmode": "overlay",
              "size": 10,
              "solidity": 0.2
             }
            },
            "type": "histogram"
           }
          ],
          "histogram2d": [
           {
            "colorbar": {
             "outlinewidth": 0,
             "ticks": ""
            },
            "colorscale": [
             [
              0,
              "#0d0887"
             ],
             [
              0.1111111111111111,
              "#46039f"
             ],
             [
              0.2222222222222222,
              "#7201a8"
             ],
             [
              0.3333333333333333,
              "#9c179e"
             ],
             [
              0.4444444444444444,
              "#bd3786"
             ],
             [
              0.5555555555555556,
              "#d8576b"
             ],
             [
              0.6666666666666666,
              "#ed7953"
             ],
             [
              0.7777777777777778,
              "#fb9f3a"
             ],
             [
              0.8888888888888888,
              "#fdca26"
             ],
             [
              1,
              "#f0f921"
             ]
            ],
            "type": "histogram2d"
           }
          ],
          "histogram2dcontour": [
           {
            "colorbar": {
             "outlinewidth": 0,
             "ticks": ""
            },
            "colorscale": [
             [
              0,
              "#0d0887"
             ],
             [
              0.1111111111111111,
              "#46039f"
             ],
             [
              0.2222222222222222,
              "#7201a8"
             ],
             [
              0.3333333333333333,
              "#9c179e"
             ],
             [
              0.4444444444444444,
              "#bd3786"
             ],
             [
              0.5555555555555556,
              "#d8576b"
             ],
             [
              0.6666666666666666,
              "#ed7953"
             ],
             [
              0.7777777777777778,
              "#fb9f3a"
             ],
             [
              0.8888888888888888,
              "#fdca26"
             ],
             [
              1,
              "#f0f921"
             ]
            ],
            "type": "histogram2dcontour"
           }
          ],
          "mesh3d": [
           {
            "colorbar": {
             "outlinewidth": 0,
             "ticks": ""
            },
            "type": "mesh3d"
           }
          ],
          "parcoords": [
           {
            "line": {
             "colorbar": {
              "outlinewidth": 0,
              "ticks": ""
             }
            },
            "type": "parcoords"
           }
          ],
          "pie": [
           {
            "automargin": true,
            "type": "pie"
           }
          ],
          "scatter": [
           {
            "fillpattern": {
             "fillmode": "overlay",
             "size": 10,
             "solidity": 0.2
            },
            "type": "scatter"
           }
          ],
          "scatter3d": [
           {
            "line": {
             "colorbar": {
              "outlinewidth": 0,
              "ticks": ""
             }
            },
            "marker": {
             "colorbar": {
              "outlinewidth": 0,
              "ticks": ""
             }
            },
            "type": "scatter3d"
           }
          ],
          "scattercarpet": [
           {
            "marker": {
             "colorbar": {
              "outlinewidth": 0,
              "ticks": ""
             }
            },
            "type": "scattercarpet"
           }
          ],
          "scattergeo": [
           {
            "marker": {
             "colorbar": {
              "outlinewidth": 0,
              "ticks": ""
             }
            },
            "type": "scattergeo"
           }
          ],
          "scattergl": [
           {
            "marker": {
             "colorbar": {
              "outlinewidth": 0,
              "ticks": ""
             }
            },
            "type": "scattergl"
           }
          ],
          "scattermapbox": [
           {
            "marker": {
             "colorbar": {
              "outlinewidth": 0,
              "ticks": ""
             }
            },
            "type": "scattermapbox"
           }
          ],
          "scatterpolar": [
           {
            "marker": {
             "colorbar": {
              "outlinewidth": 0,
              "ticks": ""
             }
            },
            "type": "scatterpolar"
           }
          ],
          "scatterpolargl": [
           {
            "marker": {
             "colorbar": {
              "outlinewidth": 0,
              "ticks": ""
             }
            },
            "type": "scatterpolargl"
           }
          ],
          "scatterternary": [
           {
            "marker": {
             "colorbar": {
              "outlinewidth": 0,
              "ticks": ""
             }
            },
            "type": "scatterternary"
           }
          ],
          "surface": [
           {
            "colorbar": {
             "outlinewidth": 0,
             "ticks": ""
            },
            "colorscale": [
             [
              0,
              "#0d0887"
             ],
             [
              0.1111111111111111,
              "#46039f"
             ],
             [
              0.2222222222222222,
              "#7201a8"
             ],
             [
              0.3333333333333333,
              "#9c179e"
             ],
             [
              0.4444444444444444,
              "#bd3786"
             ],
             [
              0.5555555555555556,
              "#d8576b"
             ],
             [
              0.6666666666666666,
              "#ed7953"
             ],
             [
              0.7777777777777778,
              "#fb9f3a"
             ],
             [
              0.8888888888888888,
              "#fdca26"
             ],
             [
              1,
              "#f0f921"
             ]
            ],
            "type": "surface"
           }
          ],
          "table": [
           {
            "cells": {
             "fill": {
              "color": "#EBF0F8"
             },
             "line": {
              "color": "white"
             }
            },
            "header": {
             "fill": {
              "color": "#C8D4E3"
             },
             "line": {
              "color": "white"
             }
            },
            "type": "table"
           }
          ]
         },
         "layout": {
          "annotationdefaults": {
           "arrowcolor": "#2a3f5f",
           "arrowhead": 0,
           "arrowwidth": 1
          },
          "autotypenumbers": "strict",
          "coloraxis": {
           "colorbar": {
            "outlinewidth": 0,
            "ticks": ""
           }
          },
          "colorscale": {
           "diverging": [
            [
             0,
             "#8e0152"
            ],
            [
             0.1,
             "#c51b7d"
            ],
            [
             0.2,
             "#de77ae"
            ],
            [
             0.3,
             "#f1b6da"
            ],
            [
             0.4,
             "#fde0ef"
            ],
            [
             0.5,
             "#f7f7f7"
            ],
            [
             0.6,
             "#e6f5d0"
            ],
            [
             0.7,
             "#b8e186"
            ],
            [
             0.8,
             "#7fbc41"
            ],
            [
             0.9,
             "#4d9221"
            ],
            [
             1,
             "#276419"
            ]
           ],
           "sequential": [
            [
             0,
             "#0d0887"
            ],
            [
             0.1111111111111111,
             "#46039f"
            ],
            [
             0.2222222222222222,
             "#7201a8"
            ],
            [
             0.3333333333333333,
             "#9c179e"
            ],
            [
             0.4444444444444444,
             "#bd3786"
            ],
            [
             0.5555555555555556,
             "#d8576b"
            ],
            [
             0.6666666666666666,
             "#ed7953"
            ],
            [
             0.7777777777777778,
             "#fb9f3a"
            ],
            [
             0.8888888888888888,
             "#fdca26"
            ],
            [
             1,
             "#f0f921"
            ]
           ],
           "sequentialminus": [
            [
             0,
             "#0d0887"
            ],
            [
             0.1111111111111111,
             "#46039f"
            ],
            [
             0.2222222222222222,
             "#7201a8"
            ],
            [
             0.3333333333333333,
             "#9c179e"
            ],
            [
             0.4444444444444444,
             "#bd3786"
            ],
            [
             0.5555555555555556,
             "#d8576b"
            ],
            [
             0.6666666666666666,
             "#ed7953"
            ],
            [
             0.7777777777777778,
             "#fb9f3a"
            ],
            [
             0.8888888888888888,
             "#fdca26"
            ],
            [
             1,
             "#f0f921"
            ]
           ]
          },
          "colorway": [
           "#636efa",
           "#EF553B",
           "#00cc96",
           "#ab63fa",
           "#FFA15A",
           "#19d3f3",
           "#FF6692",
           "#B6E880",
           "#FF97FF",
           "#FECB52"
          ],
          "font": {
           "color": "#2a3f5f"
          },
          "geo": {
           "bgcolor": "white",
           "lakecolor": "white",
           "landcolor": "#E5ECF6",
           "showlakes": true,
           "showland": true,
           "subunitcolor": "white"
          },
          "hoverlabel": {
           "align": "left"
          },
          "hovermode": "closest",
          "mapbox": {
           "style": "light"
          },
          "paper_bgcolor": "white",
          "plot_bgcolor": "#E5ECF6",
          "polar": {
           "angularaxis": {
            "gridcolor": "white",
            "linecolor": "white",
            "ticks": ""
           },
           "bgcolor": "#E5ECF6",
           "radialaxis": {
            "gridcolor": "white",
            "linecolor": "white",
            "ticks": ""
           }
          },
          "scene": {
           "xaxis": {
            "backgroundcolor": "#E5ECF6",
            "gridcolor": "white",
            "gridwidth": 2,
            "linecolor": "white",
            "showbackground": true,
            "ticks": "",
            "zerolinecolor": "white"
           },
           "yaxis": {
            "backgroundcolor": "#E5ECF6",
            "gridcolor": "white",
            "gridwidth": 2,
            "linecolor": "white",
            "showbackground": true,
            "ticks": "",
            "zerolinecolor": "white"
           },
           "zaxis": {
            "backgroundcolor": "#E5ECF6",
            "gridcolor": "white",
            "gridwidth": 2,
            "linecolor": "white",
            "showbackground": true,
            "ticks": "",
            "zerolinecolor": "white"
           }
          },
          "shapedefaults": {
           "line": {
            "color": "#2a3f5f"
           }
          },
          "ternary": {
           "aaxis": {
            "gridcolor": "white",
            "linecolor": "white",
            "ticks": ""
           },
           "baxis": {
            "gridcolor": "white",
            "linecolor": "white",
            "ticks": ""
           },
           "bgcolor": "#E5ECF6",
           "caxis": {
            "gridcolor": "white",
            "linecolor": "white",
            "ticks": ""
           }
          },
          "title": {
           "x": 0.05
          },
          "xaxis": {
           "automargin": true,
           "gridcolor": "white",
           "linecolor": "white",
           "ticks": "",
           "title": {
            "standoff": 15
           },
           "zerolinecolor": "white",
           "zerolinewidth": 2
          },
          "yaxis": {
           "automargin": true,
           "gridcolor": "white",
           "linecolor": "white",
           "ticks": "",
           "title": {
            "standoff": 15
           },
           "zerolinecolor": "white",
           "zerolinewidth": 2
          }
         }
        },
        "title": {
         "text": "Количество вакансий и население по городам России"
        },
        "xaxis": {
         "title": {
          "text": "Количество"
         }
        },
        "yaxis": {
         "title": {
          "text": "Город"
         }
        }
       }
      }
     },
     "metadata": {},
     "output_type": "display_data"
    }
   ],
   "source": [
    "# Определяем топ-7 городов по количеству вакансий\n",
    "d_grouped = df.groupby(['address.city']).count().sort_values(by='id', ascending=False)[:7]\n",
    "\n",
    "# Соединяем данные о вакансиях и населении городов\n",
    "merged_df = pd.merge(d_grouped, population, left_on='address.city', right_on='Город')\n",
    "\n",
    "# Сортируем данные по количеству вакансий\n",
    "merged_df = merged_df.sort_values(by='id', ascending=True)\n",
    "\n",
    "# Масштабируем данные о населении в масштаб количества вакансий\n",
    "pop_scaled = merged_df['Население'].str.replace(' ', '').astype(int) * (merged_df['id'].max() / merged_df['Население'].str.replace(' ', '').astype(int).max())\n",
    "\n",
    "\n",
    "# Создаем график\n",
    "fig = go.Figure()\n",
    "\n",
    "# Добавляем столбчатую диаграмму количества вакансий\n",
    "fig.add_trace(go.Bar(x=merged_df['id'], y=merged_df['Город'], orientation='h', name='Количество вакансий', marker_color='#6495ED'))\n",
    "\n",
    "# Добавляем столбчатую диаграмму населения городов\n",
    "fig.add_trace(go.Bar(x=pop_scaled, y=merged_df['Город'], orientation='h', name='Население', marker_color='#FFA07A'))\n",
    "\n",
    "# Настраиваем внешний вид графика\n",
    "fig.update_xaxes(title_text='Количество')\n",
    "fig.update_yaxes(title_text='Город')\n",
    "fig.update_layout(title='Количество вакансий и население по городам России',\n",
    "                  legend=dict(title='Данные'))\n",
    "\n",
    "# Показываем график\n",
    "fig.show()\n"
   ]
  },
  {
   "attachments": {},
   "cell_type": "markdown",
   "id": "f5f160d5",
   "metadata": {},
   "source": [
    "* Разумеется, подавляющее большинство зарплат указана в рублях. Большая часть работодателей указывает выплаты после налогообложения, \"на руки\". \n",
    "\n",
    "* На график с количеством вакансий по городам добавил данные по их численности (по данным на 2021 год) в масштабе первого показателя. Видим, что вакансий работы с данными в Москве почти в 4,5 раза больше, чем Санкт-Петербурге, в 17 раз больше, чем в Новосибирске и в 22,6 раз больше, чем в Нижнем Новгороде. Причем, во все городах, кроме столицы, потребность в таких специалистах на душу населения почти в два раза ниже."
   ]
  },
  {
   "cell_type": "code",
   "execution_count": 36,
   "id": "c51305e4",
   "metadata": {},
   "outputs": [
    {
     "name": "stderr",
     "output_type": "stream",
     "text": [
      "/var/folders/p0/n38n7rk904n3fhqmfwhyv36c0000gn/T/ipykernel_24413/4270076205.py:3: UserWarning:\n",
      "\n",
      "This pattern is interpreted as a regular expression, and has match groups. To actually get the groups, use str.extract.\n",
      "\n"
     ]
    }
   ],
   "source": [
    "remote_ex = r'(удаленка|remote|удаленно|удаленн)'\n",
    " \n",
    "df['remote'] = df['description'].str.contains(remote_ex)\n",
    "df['office'] = ~df['remote']"
   ]
  },
  {
   "cell_type": "code",
   "execution_count": 37,
   "id": "e5768027",
   "metadata": {},
   "outputs": [
    {
     "data": {
      "application/vnd.plotly.v1+json": {
       "config": {
        "plotlyServerURL": "https://plot.ly"
       },
       "data": [
        {
         "hole": 0.7,
         "labels": [
          "Удаленная работа",
          "Офисная работа"
         ],
         "marker": {
          "colors": [
           "#FFA07A",
           "#6495ED"
          ],
          "line": {
           "width": 0
          }
         },
         "type": "pie",
         "values": [
          1155,
          4050
         ]
        }
       ],
       "layout": {
        "template": {
         "data": {
          "bar": [
           {
            "error_x": {
             "color": "#2a3f5f"
            },
            "error_y": {
             "color": "#2a3f5f"
            },
            "marker": {
             "line": {
              "color": "#E5ECF6",
              "width": 0.5
             },
             "pattern": {
              "fillmode": "overlay",
              "size": 10,
              "solidity": 0.2
             }
            },
            "type": "bar"
           }
          ],
          "barpolar": [
           {
            "marker": {
             "line": {
              "color": "#E5ECF6",
              "width": 0.5
             },
             "pattern": {
              "fillmode": "overlay",
              "size": 10,
              "solidity": 0.2
             }
            },
            "type": "barpolar"
           }
          ],
          "carpet": [
           {
            "aaxis": {
             "endlinecolor": "#2a3f5f",
             "gridcolor": "white",
             "linecolor": "white",
             "minorgridcolor": "white",
             "startlinecolor": "#2a3f5f"
            },
            "baxis": {
             "endlinecolor": "#2a3f5f",
             "gridcolor": "white",
             "linecolor": "white",
             "minorgridcolor": "white",
             "startlinecolor": "#2a3f5f"
            },
            "type": "carpet"
           }
          ],
          "choropleth": [
           {
            "colorbar": {
             "outlinewidth": 0,
             "ticks": ""
            },
            "type": "choropleth"
           }
          ],
          "contour": [
           {
            "colorbar": {
             "outlinewidth": 0,
             "ticks": ""
            },
            "colorscale": [
             [
              0,
              "#0d0887"
             ],
             [
              0.1111111111111111,
              "#46039f"
             ],
             [
              0.2222222222222222,
              "#7201a8"
             ],
             [
              0.3333333333333333,
              "#9c179e"
             ],
             [
              0.4444444444444444,
              "#bd3786"
             ],
             [
              0.5555555555555556,
              "#d8576b"
             ],
             [
              0.6666666666666666,
              "#ed7953"
             ],
             [
              0.7777777777777778,
              "#fb9f3a"
             ],
             [
              0.8888888888888888,
              "#fdca26"
             ],
             [
              1,
              "#f0f921"
             ]
            ],
            "type": "contour"
           }
          ],
          "contourcarpet": [
           {
            "colorbar": {
             "outlinewidth": 0,
             "ticks": ""
            },
            "type": "contourcarpet"
           }
          ],
          "heatmap": [
           {
            "colorbar": {
             "outlinewidth": 0,
             "ticks": ""
            },
            "colorscale": [
             [
              0,
              "#0d0887"
             ],
             [
              0.1111111111111111,
              "#46039f"
             ],
             [
              0.2222222222222222,
              "#7201a8"
             ],
             [
              0.3333333333333333,
              "#9c179e"
             ],
             [
              0.4444444444444444,
              "#bd3786"
             ],
             [
              0.5555555555555556,
              "#d8576b"
             ],
             [
              0.6666666666666666,
              "#ed7953"
             ],
             [
              0.7777777777777778,
              "#fb9f3a"
             ],
             [
              0.8888888888888888,
              "#fdca26"
             ],
             [
              1,
              "#f0f921"
             ]
            ],
            "type": "heatmap"
           }
          ],
          "heatmapgl": [
           {
            "colorbar": {
             "outlinewidth": 0,
             "ticks": ""
            },
            "colorscale": [
             [
              0,
              "#0d0887"
             ],
             [
              0.1111111111111111,
              "#46039f"
             ],
             [
              0.2222222222222222,
              "#7201a8"
             ],
             [
              0.3333333333333333,
              "#9c179e"
             ],
             [
              0.4444444444444444,
              "#bd3786"
             ],
             [
              0.5555555555555556,
              "#d8576b"
             ],
             [
              0.6666666666666666,
              "#ed7953"
             ],
             [
              0.7777777777777778,
              "#fb9f3a"
             ],
             [
              0.8888888888888888,
              "#fdca26"
             ],
             [
              1,
              "#f0f921"
             ]
            ],
            "type": "heatmapgl"
           }
          ],
          "histogram": [
           {
            "marker": {
             "pattern": {
              "fillmode": "overlay",
              "size": 10,
              "solidity": 0.2
             }
            },
            "type": "histogram"
           }
          ],
          "histogram2d": [
           {
            "colorbar": {
             "outlinewidth": 0,
             "ticks": ""
            },
            "colorscale": [
             [
              0,
              "#0d0887"
             ],
             [
              0.1111111111111111,
              "#46039f"
             ],
             [
              0.2222222222222222,
              "#7201a8"
             ],
             [
              0.3333333333333333,
              "#9c179e"
             ],
             [
              0.4444444444444444,
              "#bd3786"
             ],
             [
              0.5555555555555556,
              "#d8576b"
             ],
             [
              0.6666666666666666,
              "#ed7953"
             ],
             [
              0.7777777777777778,
              "#fb9f3a"
             ],
             [
              0.8888888888888888,
              "#fdca26"
             ],
             [
              1,
              "#f0f921"
             ]
            ],
            "type": "histogram2d"
           }
          ],
          "histogram2dcontour": [
           {
            "colorbar": {
             "outlinewidth": 0,
             "ticks": ""
            },
            "colorscale": [
             [
              0,
              "#0d0887"
             ],
             [
              0.1111111111111111,
              "#46039f"
             ],
             [
              0.2222222222222222,
              "#7201a8"
             ],
             [
              0.3333333333333333,
              "#9c179e"
             ],
             [
              0.4444444444444444,
              "#bd3786"
             ],
             [
              0.5555555555555556,
              "#d8576b"
             ],
             [
              0.6666666666666666,
              "#ed7953"
             ],
             [
              0.7777777777777778,
              "#fb9f3a"
             ],
             [
              0.8888888888888888,
              "#fdca26"
             ],
             [
              1,
              "#f0f921"
             ]
            ],
            "type": "histogram2dcontour"
           }
          ],
          "mesh3d": [
           {
            "colorbar": {
             "outlinewidth": 0,
             "ticks": ""
            },
            "type": "mesh3d"
           }
          ],
          "parcoords": [
           {
            "line": {
             "colorbar": {
              "outlinewidth": 0,
              "ticks": ""
             }
            },
            "type": "parcoords"
           }
          ],
          "pie": [
           {
            "automargin": true,
            "type": "pie"
           }
          ],
          "scatter": [
           {
            "fillpattern": {
             "fillmode": "overlay",
             "size": 10,
             "solidity": 0.2
            },
            "type": "scatter"
           }
          ],
          "scatter3d": [
           {
            "line": {
             "colorbar": {
              "outlinewidth": 0,
              "ticks": ""
             }
            },
            "marker": {
             "colorbar": {
              "outlinewidth": 0,
              "ticks": ""
             }
            },
            "type": "scatter3d"
           }
          ],
          "scattercarpet": [
           {
            "marker": {
             "colorbar": {
              "outlinewidth": 0,
              "ticks": ""
             }
            },
            "type": "scattercarpet"
           }
          ],
          "scattergeo": [
           {
            "marker": {
             "colorbar": {
              "outlinewidth": 0,
              "ticks": ""
             }
            },
            "type": "scattergeo"
           }
          ],
          "scattergl": [
           {
            "marker": {
             "colorbar": {
              "outlinewidth": 0,
              "ticks": ""
             }
            },
            "type": "scattergl"
           }
          ],
          "scattermapbox": [
           {
            "marker": {
             "colorbar": {
              "outlinewidth": 0,
              "ticks": ""
             }
            },
            "type": "scattermapbox"
           }
          ],
          "scatterpolar": [
           {
            "marker": {
             "colorbar": {
              "outlinewidth": 0,
              "ticks": ""
             }
            },
            "type": "scatterpolar"
           }
          ],
          "scatterpolargl": [
           {
            "marker": {
             "colorbar": {
              "outlinewidth": 0,
              "ticks": ""
             }
            },
            "type": "scatterpolargl"
           }
          ],
          "scatterternary": [
           {
            "marker": {
             "colorbar": {
              "outlinewidth": 0,
              "ticks": ""
             }
            },
            "type": "scatterternary"
           }
          ],
          "surface": [
           {
            "colorbar": {
             "outlinewidth": 0,
             "ticks": ""
            },
            "colorscale": [
             [
              0,
              "#0d0887"
             ],
             [
              0.1111111111111111,
              "#46039f"
             ],
             [
              0.2222222222222222,
              "#7201a8"
             ],
             [
              0.3333333333333333,
              "#9c179e"
             ],
             [
              0.4444444444444444,
              "#bd3786"
             ],
             [
              0.5555555555555556,
              "#d8576b"
             ],
             [
              0.6666666666666666,
              "#ed7953"
             ],
             [
              0.7777777777777778,
              "#fb9f3a"
             ],
             [
              0.8888888888888888,
              "#fdca26"
             ],
             [
              1,
              "#f0f921"
             ]
            ],
            "type": "surface"
           }
          ],
          "table": [
           {
            "cells": {
             "fill": {
              "color": "#EBF0F8"
             },
             "line": {
              "color": "white"
             }
            },
            "header": {
             "fill": {
              "color": "#C8D4E3"
             },
             "line": {
              "color": "white"
             }
            },
            "type": "table"
           }
          ]
         },
         "layout": {
          "annotationdefaults": {
           "arrowcolor": "#2a3f5f",
           "arrowhead": 0,
           "arrowwidth": 1
          },
          "autotypenumbers": "strict",
          "coloraxis": {
           "colorbar": {
            "outlinewidth": 0,
            "ticks": ""
           }
          },
          "colorscale": {
           "diverging": [
            [
             0,
             "#8e0152"
            ],
            [
             0.1,
             "#c51b7d"
            ],
            [
             0.2,
             "#de77ae"
            ],
            [
             0.3,
             "#f1b6da"
            ],
            [
             0.4,
             "#fde0ef"
            ],
            [
             0.5,
             "#f7f7f7"
            ],
            [
             0.6,
             "#e6f5d0"
            ],
            [
             0.7,
             "#b8e186"
            ],
            [
             0.8,
             "#7fbc41"
            ],
            [
             0.9,
             "#4d9221"
            ],
            [
             1,
             "#276419"
            ]
           ],
           "sequential": [
            [
             0,
             "#0d0887"
            ],
            [
             0.1111111111111111,
             "#46039f"
            ],
            [
             0.2222222222222222,
             "#7201a8"
            ],
            [
             0.3333333333333333,
             "#9c179e"
            ],
            [
             0.4444444444444444,
             "#bd3786"
            ],
            [
             0.5555555555555556,
             "#d8576b"
            ],
            [
             0.6666666666666666,
             "#ed7953"
            ],
            [
             0.7777777777777778,
             "#fb9f3a"
            ],
            [
             0.8888888888888888,
             "#fdca26"
            ],
            [
             1,
             "#f0f921"
            ]
           ],
           "sequentialminus": [
            [
             0,
             "#0d0887"
            ],
            [
             0.1111111111111111,
             "#46039f"
            ],
            [
             0.2222222222222222,
             "#7201a8"
            ],
            [
             0.3333333333333333,
             "#9c179e"
            ],
            [
             0.4444444444444444,
             "#bd3786"
            ],
            [
             0.5555555555555556,
             "#d8576b"
            ],
            [
             0.6666666666666666,
             "#ed7953"
            ],
            [
             0.7777777777777778,
             "#fb9f3a"
            ],
            [
             0.8888888888888888,
             "#fdca26"
            ],
            [
             1,
             "#f0f921"
            ]
           ]
          },
          "colorway": [
           "#636efa",
           "#EF553B",
           "#00cc96",
           "#ab63fa",
           "#FFA15A",
           "#19d3f3",
           "#FF6692",
           "#B6E880",
           "#FF97FF",
           "#FECB52"
          ],
          "font": {
           "color": "#2a3f5f"
          },
          "geo": {
           "bgcolor": "white",
           "lakecolor": "white",
           "landcolor": "#E5ECF6",
           "showlakes": true,
           "showland": true,
           "subunitcolor": "white"
          },
          "hoverlabel": {
           "align": "left"
          },
          "hovermode": "closest",
          "mapbox": {
           "style": "light"
          },
          "paper_bgcolor": "white",
          "plot_bgcolor": "#E5ECF6",
          "polar": {
           "angularaxis": {
            "gridcolor": "white",
            "linecolor": "white",
            "ticks": ""
           },
           "bgcolor": "#E5ECF6",
           "radialaxis": {
            "gridcolor": "white",
            "linecolor": "white",
            "ticks": ""
           }
          },
          "scene": {
           "xaxis": {
            "backgroundcolor": "#E5ECF6",
            "gridcolor": "white",
            "gridwidth": 2,
            "linecolor": "white",
            "showbackground": true,
            "ticks": "",
            "zerolinecolor": "white"
           },
           "yaxis": {
            "backgroundcolor": "#E5ECF6",
            "gridcolor": "white",
            "gridwidth": 2,
            "linecolor": "white",
            "showbackground": true,
            "ticks": "",
            "zerolinecolor": "white"
           },
           "zaxis": {
            "backgroundcolor": "#E5ECF6",
            "gridcolor": "white",
            "gridwidth": 2,
            "linecolor": "white",
            "showbackground": true,
            "ticks": "",
            "zerolinecolor": "white"
           }
          },
          "shapedefaults": {
           "line": {
            "color": "#2a3f5f"
           }
          },
          "ternary": {
           "aaxis": {
            "gridcolor": "white",
            "linecolor": "white",
            "ticks": ""
           },
           "baxis": {
            "gridcolor": "white",
            "linecolor": "white",
            "ticks": ""
           },
           "bgcolor": "#E5ECF6",
           "caxis": {
            "gridcolor": "white",
            "linecolor": "white",
            "ticks": ""
           }
          },
          "title": {
           "x": 0.05
          },
          "xaxis": {
           "automargin": true,
           "gridcolor": "white",
           "linecolor": "white",
           "ticks": "",
           "title": {
            "standoff": 15
           },
           "zerolinecolor": "white",
           "zerolinewidth": 2
          },
          "yaxis": {
           "automargin": true,
           "gridcolor": "white",
           "linecolor": "white",
           "ticks": "",
           "title": {
            "standoff": 15
           },
           "zerolinecolor": "white",
           "zerolinewidth": 2
          }
         }
        },
        "title": {
         "text": "Распределение вакансий по типу работы"
        }
       }
      }
     },
     "metadata": {},
     "output_type": "display_data"
    }
   ],
   "source": [
    "remote_counts = df['remote'].value_counts()\n",
    "office_counts = df['office'].value_counts()\n",
    "\n",
    "labels = ['Удаленная работа', 'Офисная работа']\n",
    "\n",
    "fig = go.Figure(data=[\n",
    "    go.Pie(labels=labels, values=[remote_counts[True], office_counts[True]], \n",
    "           hole=.7, marker=dict(colors=['#FFA07A', '#6495ED'], line=dict(width=0)))])\n",
    "fig.update_layout(title='Распределение вакансий по типу работы')\n",
    "fig.show()\n"
   ]
  },
  {
   "cell_type": "markdown",
   "id": "41e5e721",
   "metadata": {},
   "source": []
  },
  {
   "cell_type": "code",
   "execution_count": 38,
   "id": "8b2fc0de",
   "metadata": {},
   "outputs": [
    {
     "name": "stderr",
     "output_type": "stream",
     "text": [
      "/var/folders/p0/n38n7rk904n3fhqmfwhyv36c0000gn/T/ipykernel_24413/774551158.py:10: UserWarning:\n",
      "\n",
      "This pattern is interpreted as a regular expression, and has match groups. To actually get the groups, use str.extract.\n",
      "\n",
      "/var/folders/p0/n38n7rk904n3fhqmfwhyv36c0000gn/T/ipykernel_24413/774551158.py:10: UserWarning:\n",
      "\n",
      "This pattern is interpreted as a regular expression, and has match groups. To actually get the groups, use str.extract.\n",
      "\n",
      "/var/folders/p0/n38n7rk904n3fhqmfwhyv36c0000gn/T/ipykernel_24413/774551158.py:10: UserWarning:\n",
      "\n",
      "This pattern is interpreted as a regular expression, and has match groups. To actually get the groups, use str.extract.\n",
      "\n",
      "/var/folders/p0/n38n7rk904n3fhqmfwhyv36c0000gn/T/ipykernel_24413/774551158.py:10: UserWarning:\n",
      "\n",
      "This pattern is interpreted as a regular expression, and has match groups. To actually get the groups, use str.extract.\n",
      "\n"
     ]
    },
    {
     "name": "stdout",
     "output_type": "stream",
     "text": [
      "Итого нашлось строк с грейдами 322 из 5205 в датасете (6 %)\n",
      "Нашлось вакансий junior: 121\n",
      "Нашлось вакансий middle: 81\n",
      "Нашлось вакансий senior: 98\n",
      "Нашлось вакансий lead: 22\n"
     ]
    }
   ],
   "source": [
    "# Попробуем в собранных вакансиях выделить грейды\n",
    "levels_dict = {\n",
    "    'junior': r'(junior|джун|начинающ|стаж[её]р)',\n",
    "    'middle': r'(middle|\\Wмидл|миддл)',\n",
    "    'senior': r'(senior|синьор|сеньор|\\Wстарш)',\n",
    "    'lead': r'(\\Wlead\\W|\\Whead\\W|\\Wлид\\W)',\n",
    "}\n",
    "\n",
    "for grade in levels_dict.keys():\n",
    "    df[grade] = df['description'].str.contains(levels_dict[grade])\n",
    "    \n",
    "total_vacancies = len(df)\n",
    "total_with_grades = df[[*levels_dict.keys()]].sum().sum()\n",
    "percent_grades = round(total_with_grades*100/total_vacancies)    \n",
    "print(f\"Итого нашлось строк с грейдами {total_with_grades} из {total_vacancies} в датасете ({percent_grades} %)\")\n",
    "for grade in levels_dict.keys():\n",
    "    print(f\"Нашлось вакансий {grade}: {df[grade].sum()}\")\n"
   ]
  },
  {
   "attachments": {},
   "cell_type": "markdown",
   "id": "e1c9fe36",
   "metadata": {},
   "source": [
    "Из всего числа имеющихся примеров датасета грейды удалось выделить лишь у 6%. Делаем вывод, что в дальнейшей работе эта сторона вакансий нерепрезентативна, использовать не будем."
   ]
  },
  {
   "cell_type": "code",
   "execution_count": 83,
   "id": "fbc2cad5",
   "metadata": {},
   "outputs": [
    {
     "data": {
      "application/vnd.plotly.v1+json": {
       "config": {
        "plotlyServerURL": "https://plot.ly"
       },
       "data": [
        {
         "marker": {
          "color": "#6495ED"
         },
         "type": "bar",
         "x": [
          "junior",
          "middle",
          "senior",
          "lead"
         ],
         "y": [
          121,
          81,
          98,
          22
         ]
        }
       ],
       "layout": {
        "template": {
         "data": {
          "bar": [
           {
            "error_x": {
             "color": "#2a3f5f"
            },
            "error_y": {
             "color": "#2a3f5f"
            },
            "marker": {
             "line": {
              "color": "#E5ECF6",
              "width": 0.5
             },
             "pattern": {
              "fillmode": "overlay",
              "size": 10,
              "solidity": 0.2
             }
            },
            "type": "bar"
           }
          ],
          "barpolar": [
           {
            "marker": {
             "line": {
              "color": "#E5ECF6",
              "width": 0.5
             },
             "pattern": {
              "fillmode": "overlay",
              "size": 10,
              "solidity": 0.2
             }
            },
            "type": "barpolar"
           }
          ],
          "carpet": [
           {
            "aaxis": {
             "endlinecolor": "#2a3f5f",
             "gridcolor": "white",
             "linecolor": "white",
             "minorgridcolor": "white",
             "startlinecolor": "#2a3f5f"
            },
            "baxis": {
             "endlinecolor": "#2a3f5f",
             "gridcolor": "white",
             "linecolor": "white",
             "minorgridcolor": "white",
             "startlinecolor": "#2a3f5f"
            },
            "type": "carpet"
           }
          ],
          "choropleth": [
           {
            "colorbar": {
             "outlinewidth": 0,
             "ticks": ""
            },
            "type": "choropleth"
           }
          ],
          "contour": [
           {
            "colorbar": {
             "outlinewidth": 0,
             "ticks": ""
            },
            "colorscale": [
             [
              0,
              "#0d0887"
             ],
             [
              0.1111111111111111,
              "#46039f"
             ],
             [
              0.2222222222222222,
              "#7201a8"
             ],
             [
              0.3333333333333333,
              "#9c179e"
             ],
             [
              0.4444444444444444,
              "#bd3786"
             ],
             [
              0.5555555555555556,
              "#d8576b"
             ],
             [
              0.6666666666666666,
              "#ed7953"
             ],
             [
              0.7777777777777778,
              "#fb9f3a"
             ],
             [
              0.8888888888888888,
              "#fdca26"
             ],
             [
              1,
              "#f0f921"
             ]
            ],
            "type": "contour"
           }
          ],
          "contourcarpet": [
           {
            "colorbar": {
             "outlinewidth": 0,
             "ticks": ""
            },
            "type": "contourcarpet"
           }
          ],
          "heatmap": [
           {
            "colorbar": {
             "outlinewidth": 0,
             "ticks": ""
            },
            "colorscale": [
             [
              0,
              "#0d0887"
             ],
             [
              0.1111111111111111,
              "#46039f"
             ],
             [
              0.2222222222222222,
              "#7201a8"
             ],
             [
              0.3333333333333333,
              "#9c179e"
             ],
             [
              0.4444444444444444,
              "#bd3786"
             ],
             [
              0.5555555555555556,
              "#d8576b"
             ],
             [
              0.6666666666666666,
              "#ed7953"
             ],
             [
              0.7777777777777778,
              "#fb9f3a"
             ],
             [
              0.8888888888888888,
              "#fdca26"
             ],
             [
              1,
              "#f0f921"
             ]
            ],
            "type": "heatmap"
           }
          ],
          "heatmapgl": [
           {
            "colorbar": {
             "outlinewidth": 0,
             "ticks": ""
            },
            "colorscale": [
             [
              0,
              "#0d0887"
             ],
             [
              0.1111111111111111,
              "#46039f"
             ],
             [
              0.2222222222222222,
              "#7201a8"
             ],
             [
              0.3333333333333333,
              "#9c179e"
             ],
             [
              0.4444444444444444,
              "#bd3786"
             ],
             [
              0.5555555555555556,
              "#d8576b"
             ],
             [
              0.6666666666666666,
              "#ed7953"
             ],
             [
              0.7777777777777778,
              "#fb9f3a"
             ],
             [
              0.8888888888888888,
              "#fdca26"
             ],
             [
              1,
              "#f0f921"
             ]
            ],
            "type": "heatmapgl"
           }
          ],
          "histogram": [
           {
            "marker": {
             "pattern": {
              "fillmode": "overlay",
              "size": 10,
              "solidity": 0.2
             }
            },
            "type": "histogram"
           }
          ],
          "histogram2d": [
           {
            "colorbar": {
             "outlinewidth": 0,
             "ticks": ""
            },
            "colorscale": [
             [
              0,
              "#0d0887"
             ],
             [
              0.1111111111111111,
              "#46039f"
             ],
             [
              0.2222222222222222,
              "#7201a8"
             ],
             [
              0.3333333333333333,
              "#9c179e"
             ],
             [
              0.4444444444444444,
              "#bd3786"
             ],
             [
              0.5555555555555556,
              "#d8576b"
             ],
             [
              0.6666666666666666,
              "#ed7953"
             ],
             [
              0.7777777777777778,
              "#fb9f3a"
             ],
             [
              0.8888888888888888,
              "#fdca26"
             ],
             [
              1,
              "#f0f921"
             ]
            ],
            "type": "histogram2d"
           }
          ],
          "histogram2dcontour": [
           {
            "colorbar": {
             "outlinewidth": 0,
             "ticks": ""
            },
            "colorscale": [
             [
              0,
              "#0d0887"
             ],
             [
              0.1111111111111111,
              "#46039f"
             ],
             [
              0.2222222222222222,
              "#7201a8"
             ],
             [
              0.3333333333333333,
              "#9c179e"
             ],
             [
              0.4444444444444444,
              "#bd3786"
             ],
             [
              0.5555555555555556,
              "#d8576b"
             ],
             [
              0.6666666666666666,
              "#ed7953"
             ],
             [
              0.7777777777777778,
              "#fb9f3a"
             ],
             [
              0.8888888888888888,
              "#fdca26"
             ],
             [
              1,
              "#f0f921"
             ]
            ],
            "type": "histogram2dcontour"
           }
          ],
          "mesh3d": [
           {
            "colorbar": {
             "outlinewidth": 0,
             "ticks": ""
            },
            "type": "mesh3d"
           }
          ],
          "parcoords": [
           {
            "line": {
             "colorbar": {
              "outlinewidth": 0,
              "ticks": ""
             }
            },
            "type": "parcoords"
           }
          ],
          "pie": [
           {
            "automargin": true,
            "type": "pie"
           }
          ],
          "scatter": [
           {
            "fillpattern": {
             "fillmode": "overlay",
             "size": 10,
             "solidity": 0.2
            },
            "type": "scatter"
           }
          ],
          "scatter3d": [
           {
            "line": {
             "colorbar": {
              "outlinewidth": 0,
              "ticks": ""
             }
            },
            "marker": {
             "colorbar": {
              "outlinewidth": 0,
              "ticks": ""
             }
            },
            "type": "scatter3d"
           }
          ],
          "scattercarpet": [
           {
            "marker": {
             "colorbar": {
              "outlinewidth": 0,
              "ticks": ""
             }
            },
            "type": "scattercarpet"
           }
          ],
          "scattergeo": [
           {
            "marker": {
             "colorbar": {
              "outlinewidth": 0,
              "ticks": ""
             }
            },
            "type": "scattergeo"
           }
          ],
          "scattergl": [
           {
            "marker": {
             "colorbar": {
              "outlinewidth": 0,
              "ticks": ""
             }
            },
            "type": "scattergl"
           }
          ],
          "scattermapbox": [
           {
            "marker": {
             "colorbar": {
              "outlinewidth": 0,
              "ticks": ""
             }
            },
            "type": "scattermapbox"
           }
          ],
          "scatterpolar": [
           {
            "marker": {
             "colorbar": {
              "outlinewidth": 0,
              "ticks": ""
             }
            },
            "type": "scatterpolar"
           }
          ],
          "scatterpolargl": [
           {
            "marker": {
             "colorbar": {
              "outlinewidth": 0,
              "ticks": ""
             }
            },
            "type": "scatterpolargl"
           }
          ],
          "scatterternary": [
           {
            "marker": {
             "colorbar": {
              "outlinewidth": 0,
              "ticks": ""
             }
            },
            "type": "scatterternary"
           }
          ],
          "surface": [
           {
            "colorbar": {
             "outlinewidth": 0,
             "ticks": ""
            },
            "colorscale": [
             [
              0,
              "#0d0887"
             ],
             [
              0.1111111111111111,
              "#46039f"
             ],
             [
              0.2222222222222222,
              "#7201a8"
             ],
             [
              0.3333333333333333,
              "#9c179e"
             ],
             [
              0.4444444444444444,
              "#bd3786"
             ],
             [
              0.5555555555555556,
              "#d8576b"
             ],
             [
              0.6666666666666666,
              "#ed7953"
             ],
             [
              0.7777777777777778,
              "#fb9f3a"
             ],
             [
              0.8888888888888888,
              "#fdca26"
             ],
             [
              1,
              "#f0f921"
             ]
            ],
            "type": "surface"
           }
          ],
          "table": [
           {
            "cells": {
             "fill": {
              "color": "#EBF0F8"
             },
             "line": {
              "color": "white"
             }
            },
            "header": {
             "fill": {
              "color": "#C8D4E3"
             },
             "line": {
              "color": "white"
             }
            },
            "type": "table"
           }
          ]
         },
         "layout": {
          "annotationdefaults": {
           "arrowcolor": "#2a3f5f",
           "arrowhead": 0,
           "arrowwidth": 1
          },
          "autotypenumbers": "strict",
          "coloraxis": {
           "colorbar": {
            "outlinewidth": 0,
            "ticks": ""
           }
          },
          "colorscale": {
           "diverging": [
            [
             0,
             "#8e0152"
            ],
            [
             0.1,
             "#c51b7d"
            ],
            [
             0.2,
             "#de77ae"
            ],
            [
             0.3,
             "#f1b6da"
            ],
            [
             0.4,
             "#fde0ef"
            ],
            [
             0.5,
             "#f7f7f7"
            ],
            [
             0.6,
             "#e6f5d0"
            ],
            [
             0.7,
             "#b8e186"
            ],
            [
             0.8,
             "#7fbc41"
            ],
            [
             0.9,
             "#4d9221"
            ],
            [
             1,
             "#276419"
            ]
           ],
           "sequential": [
            [
             0,
             "#0d0887"
            ],
            [
             0.1111111111111111,
             "#46039f"
            ],
            [
             0.2222222222222222,
             "#7201a8"
            ],
            [
             0.3333333333333333,
             "#9c179e"
            ],
            [
             0.4444444444444444,
             "#bd3786"
            ],
            [
             0.5555555555555556,
             "#d8576b"
            ],
            [
             0.6666666666666666,
             "#ed7953"
            ],
            [
             0.7777777777777778,
             "#fb9f3a"
            ],
            [
             0.8888888888888888,
             "#fdca26"
            ],
            [
             1,
             "#f0f921"
            ]
           ],
           "sequentialminus": [
            [
             0,
             "#0d0887"
            ],
            [
             0.1111111111111111,
             "#46039f"
            ],
            [
             0.2222222222222222,
             "#7201a8"
            ],
            [
             0.3333333333333333,
             "#9c179e"
            ],
            [
             0.4444444444444444,
             "#bd3786"
            ],
            [
             0.5555555555555556,
             "#d8576b"
            ],
            [
             0.6666666666666666,
             "#ed7953"
            ],
            [
             0.7777777777777778,
             "#fb9f3a"
            ],
            [
             0.8888888888888888,
             "#fdca26"
            ],
            [
             1,
             "#f0f921"
            ]
           ]
          },
          "colorway": [
           "#636efa",
           "#EF553B",
           "#00cc96",
           "#ab63fa",
           "#FFA15A",
           "#19d3f3",
           "#FF6692",
           "#B6E880",
           "#FF97FF",
           "#FECB52"
          ],
          "font": {
           "color": "#2a3f5f"
          },
          "geo": {
           "bgcolor": "white",
           "lakecolor": "white",
           "landcolor": "#E5ECF6",
           "showlakes": true,
           "showland": true,
           "subunitcolor": "white"
          },
          "hoverlabel": {
           "align": "left"
          },
          "hovermode": "closest",
          "mapbox": {
           "style": "light"
          },
          "paper_bgcolor": "white",
          "plot_bgcolor": "#E5ECF6",
          "polar": {
           "angularaxis": {
            "gridcolor": "white",
            "linecolor": "white",
            "ticks": ""
           },
           "bgcolor": "#E5ECF6",
           "radialaxis": {
            "gridcolor": "white",
            "linecolor": "white",
            "ticks": ""
           }
          },
          "scene": {
           "xaxis": {
            "backgroundcolor": "#E5ECF6",
            "gridcolor": "white",
            "gridwidth": 2,
            "linecolor": "white",
            "showbackground": true,
            "ticks": "",
            "zerolinecolor": "white"
           },
           "yaxis": {
            "backgroundcolor": "#E5ECF6",
            "gridcolor": "white",
            "gridwidth": 2,
            "linecolor": "white",
            "showbackground": true,
            "ticks": "",
            "zerolinecolor": "white"
           },
           "zaxis": {
            "backgroundcolor": "#E5ECF6",
            "gridcolor": "white",
            "gridwidth": 2,
            "linecolor": "white",
            "showbackground": true,
            "ticks": "",
            "zerolinecolor": "white"
           }
          },
          "shapedefaults": {
           "line": {
            "color": "#2a3f5f"
           }
          },
          "ternary": {
           "aaxis": {
            "gridcolor": "white",
            "linecolor": "white",
            "ticks": ""
           },
           "baxis": {
            "gridcolor": "white",
            "linecolor": "white",
            "ticks": ""
           },
           "bgcolor": "#E5ECF6",
           "caxis": {
            "gridcolor": "white",
            "linecolor": "white",
            "ticks": ""
           }
          },
          "title": {
           "x": 0.05
          },
          "xaxis": {
           "automargin": true,
           "gridcolor": "white",
           "linecolor": "white",
           "ticks": "",
           "title": {
            "standoff": 15
           },
           "zerolinecolor": "white",
           "zerolinewidth": 2
          },
          "yaxis": {
           "automargin": true,
           "gridcolor": "white",
           "linecolor": "white",
           "ticks": "",
           "title": {
            "standoff": 15
           },
           "zerolinecolor": "white",
           "zerolinewidth": 2
          }
         }
        },
        "title": {
         "text": "Количество вакансий по грейдам"
        },
        "xaxis": {
         "title": {
          "text": "Грейды"
         }
        },
        "yaxis": {
         "title": {
          "text": "Количество вакансий"
         }
        }
       }
      }
     },
     "metadata": {},
     "output_type": "display_data"
    }
   ],
   "source": [
    "fig = go.Figure(data=[go.Bar(x=list(levels_dict.keys()), y=df[[*levels_dict.keys()]].sum().values, marker_color='#6495ED')])\n",
    "fig.update_xaxes(title_text='Грейды')\n",
    "fig.update_yaxes(title_text='Количество вакансий')\n",
    "fig.update_layout(title='Количество вакансий по грейдам')\n",
    "\n",
    "fig.show()"
   ]
  },
  {
   "attachments": {},
   "cell_type": "markdown",
   "id": "00bc23e0",
   "metadata": {},
   "source": [
    "По имеющимся данным (разговоры на профильных каналах) можно сказать, что на рынке острая нехватка опытных специалистов. Наш график показывает, что на рынке дефицит начинающих аналитиков, но тут, скорее, речь о том, что компании \"режут косты\" -- требования в вакансиях джунов часто удивляют.\n",
    "\n"
   ]
  },
  {
   "cell_type": "code",
   "execution_count": 40,
   "id": "dbf37061",
   "metadata": {},
   "outputs": [
    {
     "name": "stdout",
     "output_type": "stream",
     "text": [
      "Медианная зарплата для вакансий junior: 50000 RUR\n",
      "Количество вакансий с зарплатой для junior: 25\n",
      "Медианная зарплата для вакансий middle: 200000 RUR\n",
      "Количество вакансий с зарплатой для middle: 8\n",
      "Медианная зарплата для вакансий senior: 140000 RUR\n",
      "Количество вакансий с зарплатой для senior: 23\n",
      "Медианная зарплата для вакансий lead: 70650 RUR\n",
      "Количество вакансий с зарплатой для lead: 6\n"
     ]
    }
   ],
   "source": [
    "currency_coef = df['salary.currency'].map({'EUR': 89.5, 'USD': 81.6, 'RUR': 1})\n",
    "df['salary_median'] = ((df['salary.from'] + df['salary.to'])/2) * currency_coef\n",
    "df['salary_net'] = np.where(df['salary.gross'], df['salary_median']*0.87, df['salary_median'])\n",
    "\n",
    "median_salary = df.groupby(['junior', 'middle', 'senior', 'lead'])['salary_net'].median()\n",
    "\n",
    "for grade in levels_dict.keys():\n",
    "    mask = df[grade]\n",
    "    vacancies_with_salary = df[mask & ~df['salary.from'].isna()]\n",
    "    median_salary = np.median(vacancies_with_salary[['salary.from', 'salary.to']].stack())\n",
    "    print(f\"Медианная зарплата для вакансий {grade}: {median_salary:.0f} RUR\")\n",
    "    print(f\"Количество вакансий с зарплатой для {grade}: {len(vacancies_with_salary)}\")\n",
    "\n",
    "\n"
   ]
  },
  {
   "attachments": {},
   "cell_type": "markdown",
   "id": "cff7f093",
   "metadata": {},
   "source": [
    "Эти данные говорят о том, что выборка по грейдам нерепрезентативна и не отражает положение на рынке труда."
   ]
  },
  {
   "cell_type": "code",
   "execution_count": 92,
   "id": "c1d3c70d",
   "metadata": {},
   "outputs": [
    {
     "data": {
      "application/vnd.plotly.v1+json": {
       "config": {
        "plotlyServerURL": "https://plot.ly"
       },
       "data": [
        {
         "alignmentgroup": "True",
         "hovertemplate": "index=%{x}<br>employer.name=%{y}<extra></extra>",
         "legendgroup": "",
         "marker": {
          "color": "#636efa",
          "pattern": {
           "shape": ""
          }
         },
         "name": "",
         "offsetgroup": "",
         "orientation": "v",
         "showlegend": false,
         "textposition": "auto",
         "type": "bar",
         "x": [
          "СБЕР",
          "Тинькофф",
          "МТС",
          "билайн",
          "VK",
          "Иннотех, Группа компаний",
          "Газпром нефть",
          "Яндекс",
          "Банк ВТБ (ПАО)",
          "РОСБАНК",
          "Aston",
          "Группа Самолет",
          "Спортмастер",
          "IBS",
          "Abi",
          "МАГНИТ, Розничная сеть",
          "Ростелеком",
          "Совкомбанк",
          "Tele2",
          "Самокат (ООО Умное пространство)",
          "Лаборатория Касперского",
          "МегаФон",
          "Axenix (ранее Accenture)",
          "Райффайзен Банк",
          "Okko"
         ],
         "xaxis": "x",
         "y": [
          217,
          92,
          59,
          54,
          53,
          53,
          42,
          41,
          35,
          33,
          31,
          29,
          28,
          27,
          24,
          23,
          21,
          20,
          19,
          19,
          19,
          18,
          18,
          18,
          17
         ],
         "yaxis": "y"
        }
       ],
       "layout": {
        "barmode": "relative",
        "legend": {
         "tracegroupgap": 0
        },
        "margin": {
         "t": 60
        },
        "template": {
         "data": {
          "bar": [
           {
            "error_x": {
             "color": "#2a3f5f"
            },
            "error_y": {
             "color": "#2a3f5f"
            },
            "marker": {
             "line": {
              "color": "#E5ECF6",
              "width": 0.5
             },
             "pattern": {
              "fillmode": "overlay",
              "size": 10,
              "solidity": 0.2
             }
            },
            "type": "bar"
           }
          ],
          "barpolar": [
           {
            "marker": {
             "line": {
              "color": "#E5ECF6",
              "width": 0.5
             },
             "pattern": {
              "fillmode": "overlay",
              "size": 10,
              "solidity": 0.2
             }
            },
            "type": "barpolar"
           }
          ],
          "carpet": [
           {
            "aaxis": {
             "endlinecolor": "#2a3f5f",
             "gridcolor": "white",
             "linecolor": "white",
             "minorgridcolor": "white",
             "startlinecolor": "#2a3f5f"
            },
            "baxis": {
             "endlinecolor": "#2a3f5f",
             "gridcolor": "white",
             "linecolor": "white",
             "minorgridcolor": "white",
             "startlinecolor": "#2a3f5f"
            },
            "type": "carpet"
           }
          ],
          "choropleth": [
           {
            "colorbar": {
             "outlinewidth": 0,
             "ticks": ""
            },
            "type": "choropleth"
           }
          ],
          "contour": [
           {
            "colorbar": {
             "outlinewidth": 0,
             "ticks": ""
            },
            "colorscale": [
             [
              0,
              "#0d0887"
             ],
             [
              0.1111111111111111,
              "#46039f"
             ],
             [
              0.2222222222222222,
              "#7201a8"
             ],
             [
              0.3333333333333333,
              "#9c179e"
             ],
             [
              0.4444444444444444,
              "#bd3786"
             ],
             [
              0.5555555555555556,
              "#d8576b"
             ],
             [
              0.6666666666666666,
              "#ed7953"
             ],
             [
              0.7777777777777778,
              "#fb9f3a"
             ],
             [
              0.8888888888888888,
              "#fdca26"
             ],
             [
              1,
              "#f0f921"
             ]
            ],
            "type": "contour"
           }
          ],
          "contourcarpet": [
           {
            "colorbar": {
             "outlinewidth": 0,
             "ticks": ""
            },
            "type": "contourcarpet"
           }
          ],
          "heatmap": [
           {
            "colorbar": {
             "outlinewidth": 0,
             "ticks": ""
            },
            "colorscale": [
             [
              0,
              "#0d0887"
             ],
             [
              0.1111111111111111,
              "#46039f"
             ],
             [
              0.2222222222222222,
              "#7201a8"
             ],
             [
              0.3333333333333333,
              "#9c179e"
             ],
             [
              0.4444444444444444,
              "#bd3786"
             ],
             [
              0.5555555555555556,
              "#d8576b"
             ],
             [
              0.6666666666666666,
              "#ed7953"
             ],
             [
              0.7777777777777778,
              "#fb9f3a"
             ],
             [
              0.8888888888888888,
              "#fdca26"
             ],
             [
              1,
              "#f0f921"
             ]
            ],
            "type": "heatmap"
           }
          ],
          "heatmapgl": [
           {
            "colorbar": {
             "outlinewidth": 0,
             "ticks": ""
            },
            "colorscale": [
             [
              0,
              "#0d0887"
             ],
             [
              0.1111111111111111,
              "#46039f"
             ],
             [
              0.2222222222222222,
              "#7201a8"
             ],
             [
              0.3333333333333333,
              "#9c179e"
             ],
             [
              0.4444444444444444,
              "#bd3786"
             ],
             [
              0.5555555555555556,
              "#d8576b"
             ],
             [
              0.6666666666666666,
              "#ed7953"
             ],
             [
              0.7777777777777778,
              "#fb9f3a"
             ],
             [
              0.8888888888888888,
              "#fdca26"
             ],
             [
              1,
              "#f0f921"
             ]
            ],
            "type": "heatmapgl"
           }
          ],
          "histogram": [
           {
            "marker": {
             "pattern": {
              "fillmode": "overlay",
              "size": 10,
              "solidity": 0.2
             }
            },
            "type": "histogram"
           }
          ],
          "histogram2d": [
           {
            "colorbar": {
             "outlinewidth": 0,
             "ticks": ""
            },
            "colorscale": [
             [
              0,
              "#0d0887"
             ],
             [
              0.1111111111111111,
              "#46039f"
             ],
             [
              0.2222222222222222,
              "#7201a8"
             ],
             [
              0.3333333333333333,
              "#9c179e"
             ],
             [
              0.4444444444444444,
              "#bd3786"
             ],
             [
              0.5555555555555556,
              "#d8576b"
             ],
             [
              0.6666666666666666,
              "#ed7953"
             ],
             [
              0.7777777777777778,
              "#fb9f3a"
             ],
             [
              0.8888888888888888,
              "#fdca26"
             ],
             [
              1,
              "#f0f921"
             ]
            ],
            "type": "histogram2d"
           }
          ],
          "histogram2dcontour": [
           {
            "colorbar": {
             "outlinewidth": 0,
             "ticks": ""
            },
            "colorscale": [
             [
              0,
              "#0d0887"
             ],
             [
              0.1111111111111111,
              "#46039f"
             ],
             [
              0.2222222222222222,
              "#7201a8"
             ],
             [
              0.3333333333333333,
              "#9c179e"
             ],
             [
              0.4444444444444444,
              "#bd3786"
             ],
             [
              0.5555555555555556,
              "#d8576b"
             ],
             [
              0.6666666666666666,
              "#ed7953"
             ],
             [
              0.7777777777777778,
              "#fb9f3a"
             ],
             [
              0.8888888888888888,
              "#fdca26"
             ],
             [
              1,
              "#f0f921"
             ]
            ],
            "type": "histogram2dcontour"
           }
          ],
          "mesh3d": [
           {
            "colorbar": {
             "outlinewidth": 0,
             "ticks": ""
            },
            "type": "mesh3d"
           }
          ],
          "parcoords": [
           {
            "line": {
             "colorbar": {
              "outlinewidth": 0,
              "ticks": ""
             }
            },
            "type": "parcoords"
           }
          ],
          "pie": [
           {
            "automargin": true,
            "type": "pie"
           }
          ],
          "scatter": [
           {
            "fillpattern": {
             "fillmode": "overlay",
             "size": 10,
             "solidity": 0.2
            },
            "type": "scatter"
           }
          ],
          "scatter3d": [
           {
            "line": {
             "colorbar": {
              "outlinewidth": 0,
              "ticks": ""
             }
            },
            "marker": {
             "colorbar": {
              "outlinewidth": 0,
              "ticks": ""
             }
            },
            "type": "scatter3d"
           }
          ],
          "scattercarpet": [
           {
            "marker": {
             "colorbar": {
              "outlinewidth": 0,
              "ticks": ""
             }
            },
            "type": "scattercarpet"
           }
          ],
          "scattergeo": [
           {
            "marker": {
             "colorbar": {
              "outlinewidth": 0,
              "ticks": ""
             }
            },
            "type": "scattergeo"
           }
          ],
          "scattergl": [
           {
            "marker": {
             "colorbar": {
              "outlinewidth": 0,
              "ticks": ""
             }
            },
            "type": "scattergl"
           }
          ],
          "scattermapbox": [
           {
            "marker": {
             "colorbar": {
              "outlinewidth": 0,
              "ticks": ""
             }
            },
            "type": "scattermapbox"
           }
          ],
          "scatterpolar": [
           {
            "marker": {
             "colorbar": {
              "outlinewidth": 0,
              "ticks": ""
             }
            },
            "type": "scatterpolar"
           }
          ],
          "scatterpolargl": [
           {
            "marker": {
             "colorbar": {
              "outlinewidth": 0,
              "ticks": ""
             }
            },
            "type": "scatterpolargl"
           }
          ],
          "scatterternary": [
           {
            "marker": {
             "colorbar": {
              "outlinewidth": 0,
              "ticks": ""
             }
            },
            "type": "scatterternary"
           }
          ],
          "surface": [
           {
            "colorbar": {
             "outlinewidth": 0,
             "ticks": ""
            },
            "colorscale": [
             [
              0,
              "#0d0887"
             ],
             [
              0.1111111111111111,
              "#46039f"
             ],
             [
              0.2222222222222222,
              "#7201a8"
             ],
             [
              0.3333333333333333,
              "#9c179e"
             ],
             [
              0.4444444444444444,
              "#bd3786"
             ],
             [
              0.5555555555555556,
              "#d8576b"
             ],
             [
              0.6666666666666666,
              "#ed7953"
             ],
             [
              0.7777777777777778,
              "#fb9f3a"
             ],
             [
              0.8888888888888888,
              "#fdca26"
             ],
             [
              1,
              "#f0f921"
             ]
            ],
            "type": "surface"
           }
          ],
          "table": [
           {
            "cells": {
             "fill": {
              "color": "#EBF0F8"
             },
             "line": {
              "color": "white"
             }
            },
            "header": {
             "fill": {
              "color": "#C8D4E3"
             },
             "line": {
              "color": "white"
             }
            },
            "type": "table"
           }
          ]
         },
         "layout": {
          "annotationdefaults": {
           "arrowcolor": "#2a3f5f",
           "arrowhead": 0,
           "arrowwidth": 1
          },
          "autotypenumbers": "strict",
          "coloraxis": {
           "colorbar": {
            "outlinewidth": 0,
            "ticks": ""
           }
          },
          "colorscale": {
           "diverging": [
            [
             0,
             "#8e0152"
            ],
            [
             0.1,
             "#c51b7d"
            ],
            [
             0.2,
             "#de77ae"
            ],
            [
             0.3,
             "#f1b6da"
            ],
            [
             0.4,
             "#fde0ef"
            ],
            [
             0.5,
             "#f7f7f7"
            ],
            [
             0.6,
             "#e6f5d0"
            ],
            [
             0.7,
             "#b8e186"
            ],
            [
             0.8,
             "#7fbc41"
            ],
            [
             0.9,
             "#4d9221"
            ],
            [
             1,
             "#276419"
            ]
           ],
           "sequential": [
            [
             0,
             "#0d0887"
            ],
            [
             0.1111111111111111,
             "#46039f"
            ],
            [
             0.2222222222222222,
             "#7201a8"
            ],
            [
             0.3333333333333333,
             "#9c179e"
            ],
            [
             0.4444444444444444,
             "#bd3786"
            ],
            [
             0.5555555555555556,
             "#d8576b"
            ],
            [
             0.6666666666666666,
             "#ed7953"
            ],
            [
             0.7777777777777778,
             "#fb9f3a"
            ],
            [
             0.8888888888888888,
             "#fdca26"
            ],
            [
             1,
             "#f0f921"
            ]
           ],
           "sequentialminus": [
            [
             0,
             "#0d0887"
            ],
            [
             0.1111111111111111,
             "#46039f"
            ],
            [
             0.2222222222222222,
             "#7201a8"
            ],
            [
             0.3333333333333333,
             "#9c179e"
            ],
            [
             0.4444444444444444,
             "#bd3786"
            ],
            [
             0.5555555555555556,
             "#d8576b"
            ],
            [
             0.6666666666666666,
             "#ed7953"
            ],
            [
             0.7777777777777778,
             "#fb9f3a"
            ],
            [
             0.8888888888888888,
             "#fdca26"
            ],
            [
             1,
             "#f0f921"
            ]
           ]
          },
          "colorway": [
           "#636efa",
           "#EF553B",
           "#00cc96",
           "#ab63fa",
           "#FFA15A",
           "#19d3f3",
           "#FF6692",
           "#B6E880",
           "#FF97FF",
           "#FECB52"
          ],
          "font": {
           "color": "#2a3f5f"
          },
          "geo": {
           "bgcolor": "white",
           "lakecolor": "white",
           "landcolor": "#E5ECF6",
           "showlakes": true,
           "showland": true,
           "subunitcolor": "white"
          },
          "hoverlabel": {
           "align": "left"
          },
          "hovermode": "closest",
          "mapbox": {
           "style": "light"
          },
          "paper_bgcolor": "white",
          "plot_bgcolor": "#E5ECF6",
          "polar": {
           "angularaxis": {
            "gridcolor": "white",
            "linecolor": "white",
            "ticks": ""
           },
           "bgcolor": "#E5ECF6",
           "radialaxis": {
            "gridcolor": "white",
            "linecolor": "white",
            "ticks": ""
           }
          },
          "scene": {
           "xaxis": {
            "backgroundcolor": "#E5ECF6",
            "gridcolor": "white",
            "gridwidth": 2,
            "linecolor": "white",
            "showbackground": true,
            "ticks": "",
            "zerolinecolor": "white"
           },
           "yaxis": {
            "backgroundcolor": "#E5ECF6",
            "gridcolor": "white",
            "gridwidth": 2,
            "linecolor": "white",
            "showbackground": true,
            "ticks": "",
            "zerolinecolor": "white"
           },
           "zaxis": {
            "backgroundcolor": "#E5ECF6",
            "gridcolor": "white",
            "gridwidth": 2,
            "linecolor": "white",
            "showbackground": true,
            "ticks": "",
            "zerolinecolor": "white"
           }
          },
          "shapedefaults": {
           "line": {
            "color": "#2a3f5f"
           }
          },
          "ternary": {
           "aaxis": {
            "gridcolor": "white",
            "linecolor": "white",
            "ticks": ""
           },
           "baxis": {
            "gridcolor": "white",
            "linecolor": "white",
            "ticks": ""
           },
           "bgcolor": "#E5ECF6",
           "caxis": {
            "gridcolor": "white",
            "linecolor": "white",
            "ticks": ""
           }
          },
          "title": {
           "x": 0.05
          },
          "xaxis": {
           "automargin": true,
           "gridcolor": "white",
           "linecolor": "white",
           "ticks": "",
           "title": {
            "standoff": 15
           },
           "zerolinecolor": "white",
           "zerolinewidth": 2
          },
          "yaxis": {
           "automargin": true,
           "gridcolor": "white",
           "linecolor": "white",
           "ticks": "",
           "title": {
            "standoff": 15
           },
           "zerolinecolor": "white",
           "zerolinewidth": 2
          }
         }
        },
        "title": {
         "text": "Топ 25 работодателей"
        },
        "xaxis": {
         "anchor": "y",
         "domain": [
          0,
          1
         ],
         "title": {
          "text": "Работодатель"
         }
        },
        "yaxis": {
         "anchor": "x",
         "domain": [
          0,
          1
         ],
         "title": {
          "text": "Вакансий"
         }
        }
       }
      }
     },
     "metadata": {},
     "output_type": "display_data"
    }
   ],
   "source": [
    "# Создание столбца цветов\n",
    "color_list = ['#6495ED'] * 25\n",
    "df_top_employers = df['employer.name'].value_counts().nlargest(25).reset_index()\n",
    "df_top_employers['color'] = color_list\n",
    "\n",
    "# Вывод графика\n",
    "fig = px.bar(df_top_employers, x='index', y='employer.name')\n",
    "\n",
    "# Задание заголовка\n",
    "fig.update_layout(title='Топ 25 работодателей')\n",
    "\n",
    "# Задание меток осей\n",
    "fig.update_xaxes(title='Работодатель')\n",
    "fig.update_yaxes(title='Вакансий')\n",
    "\n",
    "# Вывод графика\n",
    "fig.show()\n"
   ]
  },
  {
   "cell_type": "code",
   "execution_count": 41,
   "id": "f325c220",
   "metadata": {},
   "outputs": [
    {
     "data": {
      "text/html": [
       "<div>\n",
       "<style scoped>\n",
       "    .dataframe tbody tr th:only-of-type {\n",
       "        vertical-align: middle;\n",
       "    }\n",
       "\n",
       "    .dataframe tbody tr th {\n",
       "        vertical-align: top;\n",
       "    }\n",
       "\n",
       "    .dataframe thead th {\n",
       "        text-align: right;\n",
       "    }\n",
       "</style>\n",
       "<table border=\"1\" class=\"dataframe\">\n",
       "  <thead>\n",
       "    <tr style=\"text-align: right;\">\n",
       "      <th></th>\n",
       "      <th>id</th>\n",
       "      <th>name</th>\n",
       "      <th>snippet.requirement</th>\n",
       "      <th>snippet.responsibility</th>\n",
       "      <th>description</th>\n",
       "      <th>experience.name</th>\n",
       "      <th>published_at</th>\n",
       "      <th>created_at</th>\n",
       "      <th>alternate_url</th>\n",
       "      <th>working_days</th>\n",
       "      <th>working_time_intervals</th>\n",
       "      <th>working_time_modes</th>\n",
       "      <th>accept_temporary</th>\n",
       "      <th>employment.name</th>\n",
       "      <th>professional_roles_name</th>\n",
       "      <th>accept_incomplete_resumes</th>\n",
       "      <th>department.name</th>\n",
       "      <th>area.name</th>\n",
       "      <th>salary.from</th>\n",
       "      <th>salary.to</th>\n",
       "      <th>salary.currency</th>\n",
       "      <th>salary.gross</th>\n",
       "      <th>type.name</th>\n",
       "      <th>employer.name</th>\n",
       "      <th>employer.alternate_url</th>\n",
       "      <th>employer.vacancies_url</th>\n",
       "      <th>address.city</th>\n",
       "      <th>address.street</th>\n",
       "      <th>address.building</th>\n",
       "      <th>address.lat</th>\n",
       "      <th>address.lng</th>\n",
       "      <th>address.raw</th>\n",
       "      <th>address.metro.station_name</th>\n",
       "      <th>address.metro.line_name</th>\n",
       "      <th>address.metro.station_id</th>\n",
       "      <th>address.metro.line_id</th>\n",
       "      <th>address.metro.lat</th>\n",
       "      <th>address.metro.lng</th>\n",
       "      <th>remote</th>\n",
       "      <th>office</th>\n",
       "      <th>junior</th>\n",
       "      <th>middle</th>\n",
       "      <th>senior</th>\n",
       "      <th>lead</th>\n",
       "      <th>salary_median</th>\n",
       "      <th>salary_net</th>\n",
       "    </tr>\n",
       "  </thead>\n",
       "  <tbody>\n",
       "    <tr>\n",
       "      <th>727</th>\n",
       "      <td>78841306</td>\n",
       "      <td>Sales Operations Analyst</td>\n",
       "      <td>1-3+ years in Sales Operations Management in I...</td>\n",
       "      <td>Help to drive discipline, hygiene and accuracy...</td>\n",
       "      <td>&lt;p&gt;&lt;strong&gt;Hey!&lt;/strong&gt;&lt;/p&gt; &lt;p&gt;We are Social ...</td>\n",
       "      <td>От 1 года до 3 лет</td>\n",
       "      <td>2023-04-15T14:27:32+0300</td>\n",
       "      <td>2023-04-15T14:27:32+0300</td>\n",
       "      <td>https://hh.ru/vacancy/78841306</td>\n",
       "      <td>[]</td>\n",
       "      <td>[]</td>\n",
       "      <td>[]</td>\n",
       "      <td>False</td>\n",
       "      <td>Полная занятость</td>\n",
       "      <td>Другое</td>\n",
       "      <td>False</td>\n",
       "      <td>NaN</td>\n",
       "      <td>Москва</td>\n",
       "      <td>1200.0</td>\n",
       "      <td>NaN</td>\n",
       "      <td>USD</td>\n",
       "      <td>True</td>\n",
       "      <td>Открытая</td>\n",
       "      <td>SL KG</td>\n",
       "      <td>https://hh.ru/employer/9472269</td>\n",
       "      <td>https://api.hh.ru/vacancies?employer_id=9472269</td>\n",
       "      <td>NaN</td>\n",
       "      <td>NaN</td>\n",
       "      <td>NaN</td>\n",
       "      <td>NaN</td>\n",
       "      <td>NaN</td>\n",
       "      <td>NaN</td>\n",
       "      <td>NaN</td>\n",
       "      <td>NaN</td>\n",
       "      <td>NaN</td>\n",
       "      <td>NaN</td>\n",
       "      <td>NaN</td>\n",
       "      <td>NaN</td>\n",
       "      <td>False</td>\n",
       "      <td>True</td>\n",
       "      <td>False</td>\n",
       "      <td>False</td>\n",
       "      <td>False</td>\n",
       "      <td>True</td>\n",
       "      <td>NaN</td>\n",
       "      <td>NaN</td>\n",
       "    </tr>\n",
       "    <tr>\n",
       "      <th>730</th>\n",
       "      <td>79118242</td>\n",
       "      <td>Product Researcher / Finance Analyst</td>\n",
       "      <td>Love to learn new skills and passionate about ...</td>\n",
       "      <td>Product research for an Amazon business. Analy...</td>\n",
       "      <td>&lt;p&gt;We are an online e-commerce of cosmetics, w...</td>\n",
       "      <td>От 1 года до 3 лет</td>\n",
       "      <td>2023-04-10T16:28:35+0300</td>\n",
       "      <td>2023-04-10T16:28:35+0300</td>\n",
       "      <td>https://hh.ru/vacancy/79118242</td>\n",
       "      <td>[]</td>\n",
       "      <td>[]</td>\n",
       "      <td>[]</td>\n",
       "      <td>False</td>\n",
       "      <td>Полная занятость</td>\n",
       "      <td>Экономист</td>\n",
       "      <td>False</td>\n",
       "      <td>NaN</td>\n",
       "      <td>Санкт-Петербург</td>\n",
       "      <td>1000.0</td>\n",
       "      <td>1300.0</td>\n",
       "      <td>USD</td>\n",
       "      <td>True</td>\n",
       "      <td>Открытая</td>\n",
       "      <td>Udalenno</td>\n",
       "      <td>https://hh.ru/employer/5441909</td>\n",
       "      <td>https://api.hh.ru/vacancies?employer_id=5441909</td>\n",
       "      <td>NaN</td>\n",
       "      <td>NaN</td>\n",
       "      <td>NaN</td>\n",
       "      <td>NaN</td>\n",
       "      <td>NaN</td>\n",
       "      <td>NaN</td>\n",
       "      <td>NaN</td>\n",
       "      <td>NaN</td>\n",
       "      <td>NaN</td>\n",
       "      <td>NaN</td>\n",
       "      <td>NaN</td>\n",
       "      <td>NaN</td>\n",
       "      <td>True</td>\n",
       "      <td>False</td>\n",
       "      <td>False</td>\n",
       "      <td>False</td>\n",
       "      <td>False</td>\n",
       "      <td>True</td>\n",
       "      <td>93840.0</td>\n",
       "      <td>81640.8</td>\n",
       "    </tr>\n",
       "    <tr>\n",
       "      <th>820</th>\n",
       "      <td>78673012</td>\n",
       "      <td>Product Researcher / Finance Analyst</td>\n",
       "      <td>Love to learn new skills and passionate about ...</td>\n",
       "      <td>Product research for an Amazon business. Analy...</td>\n",
       "      <td>&lt;p&gt;We are an online e-commerce of cosmetics, w...</td>\n",
       "      <td>От 1 года до 3 лет</td>\n",
       "      <td>2023-03-29T13:47:54+0300</td>\n",
       "      <td>2023-03-29T13:47:54+0300</td>\n",
       "      <td>https://hh.ru/vacancy/78673012</td>\n",
       "      <td>[]</td>\n",
       "      <td>[]</td>\n",
       "      <td>[]</td>\n",
       "      <td>False</td>\n",
       "      <td>Полная занятость</td>\n",
       "      <td>Экономист</td>\n",
       "      <td>False</td>\n",
       "      <td>NaN</td>\n",
       "      <td>Москва</td>\n",
       "      <td>1000.0</td>\n",
       "      <td>1300.0</td>\n",
       "      <td>USD</td>\n",
       "      <td>True</td>\n",
       "      <td>Открытая</td>\n",
       "      <td>Udalenno</td>\n",
       "      <td>https://hh.ru/employer/5441909</td>\n",
       "      <td>https://api.hh.ru/vacancies?employer_id=5441909</td>\n",
       "      <td>NaN</td>\n",
       "      <td>NaN</td>\n",
       "      <td>NaN</td>\n",
       "      <td>NaN</td>\n",
       "      <td>NaN</td>\n",
       "      <td>NaN</td>\n",
       "      <td>NaN</td>\n",
       "      <td>NaN</td>\n",
       "      <td>NaN</td>\n",
       "      <td>NaN</td>\n",
       "      <td>NaN</td>\n",
       "      <td>NaN</td>\n",
       "      <td>True</td>\n",
       "      <td>False</td>\n",
       "      <td>False</td>\n",
       "      <td>False</td>\n",
       "      <td>False</td>\n",
       "      <td>True</td>\n",
       "      <td>93840.0</td>\n",
       "      <td>81640.8</td>\n",
       "    </tr>\n",
       "    <tr>\n",
       "      <th>885</th>\n",
       "      <td>79171712</td>\n",
       "      <td>Senior Business Analyst</td>\n",
       "      <td>2+ years of experience as a Senior Business &lt;h...</td>\n",
       "      <td>Prepare specifications describing a technical ...</td>\n",
       "      <td>&lt;p&gt;The main duties:&lt;/p&gt; &lt;ul&gt; &lt;li&gt;Identify and ...</td>\n",
       "      <td>Более 6 лет</td>\n",
       "      <td>2023-04-11T16:33:47+0300</td>\n",
       "      <td>2023-04-11T16:33:47+0300</td>\n",
       "      <td>https://hh.ru/vacancy/79171712</td>\n",
       "      <td>[]</td>\n",
       "      <td>[]</td>\n",
       "      <td>[]</td>\n",
       "      <td>False</td>\n",
       "      <td>Полная занятость</td>\n",
       "      <td>Аналитик</td>\n",
       "      <td>False</td>\n",
       "      <td>NaN</td>\n",
       "      <td>Москва</td>\n",
       "      <td>200000.0</td>\n",
       "      <td>350000.0</td>\n",
       "      <td>RUR</td>\n",
       "      <td>False</td>\n",
       "      <td>Открытая</td>\n",
       "      <td>Шеф Маркет</td>\n",
       "      <td>https://hh.ru/employer/988480</td>\n",
       "      <td>https://api.hh.ru/vacancies?employer_id=988480</td>\n",
       "      <td>NaN</td>\n",
       "      <td>NaN</td>\n",
       "      <td>NaN</td>\n",
       "      <td>NaN</td>\n",
       "      <td>NaN</td>\n",
       "      <td>NaN</td>\n",
       "      <td>NaN</td>\n",
       "      <td>NaN</td>\n",
       "      <td>NaN</td>\n",
       "      <td>NaN</td>\n",
       "      <td>NaN</td>\n",
       "      <td>NaN</td>\n",
       "      <td>False</td>\n",
       "      <td>True</td>\n",
       "      <td>False</td>\n",
       "      <td>False</td>\n",
       "      <td>False</td>\n",
       "      <td>True</td>\n",
       "      <td>275000.0</td>\n",
       "      <td>275000.0</td>\n",
       "    </tr>\n",
       "    <tr>\n",
       "      <th>1519</th>\n",
       "      <td>78446701</td>\n",
       "      <td>Senior/Team Lead Data Scientist</td>\n",
       "      <td>3+ года опыта в роли &lt;highlighttext&gt;Data&lt;/high...</td>\n",
       "      <td>Заниматься исследованием и имплементацией разл...</td>\n",
       "      <td>&lt;p&gt;Для основного продукта &lt;strong&gt;Wallcraft&lt;/s...</td>\n",
       "      <td>От 3 до 6 лет</td>\n",
       "      <td>2023-03-23T12:00:23+0300</td>\n",
       "      <td>2023-03-23T12:00:23+0300</td>\n",
       "      <td>https://hh.ru/vacancy/78446701</td>\n",
       "      <td>[]</td>\n",
       "      <td>[]</td>\n",
       "      <td>[]</td>\n",
       "      <td>False</td>\n",
       "      <td>Полная занятость</td>\n",
       "      <td>Системный аналитик</td>\n",
       "      <td>False</td>\n",
       "      <td>NaN</td>\n",
       "      <td>Пенза</td>\n",
       "      <td>NaN</td>\n",
       "      <td>250000.0</td>\n",
       "      <td>RUR</td>\n",
       "      <td>False</td>\n",
       "      <td>Открытая</td>\n",
       "      <td>Волкрафт</td>\n",
       "      <td>https://hh.ru/employer/896866</td>\n",
       "      <td>https://api.hh.ru/vacancies?employer_id=896866</td>\n",
       "      <td>Penza</td>\n",
       "      <td>Revolyutsionnaya Street</td>\n",
       "      <td>71</td>\n",
       "      <td>53.192868</td>\n",
       "      <td>45.006782</td>\n",
       "      <td>Penza, Revolyutsionnaya Street, 71</td>\n",
       "      <td>NaN</td>\n",
       "      <td>NaN</td>\n",
       "      <td>NaN</td>\n",
       "      <td>NaN</td>\n",
       "      <td>NaN</td>\n",
       "      <td>NaN</td>\n",
       "      <td>True</td>\n",
       "      <td>False</td>\n",
       "      <td>False</td>\n",
       "      <td>False</td>\n",
       "      <td>False</td>\n",
       "      <td>True</td>\n",
       "      <td>NaN</td>\n",
       "      <td>NaN</td>\n",
       "    </tr>\n",
       "    <tr>\n",
       "      <th>1585</th>\n",
       "      <td>78466689</td>\n",
       "      <td>Senior/Team Lead Data Scientist</td>\n",
       "      <td>3+ года опыта в роли &lt;highlighttext&gt;Data&lt;/high...</td>\n",
       "      <td>Заниматься исследованием и имплементацией разл...</td>\n",
       "      <td>&lt;p&gt;Для основного продукта &lt;strong&gt;Wallcraft&lt;/s...</td>\n",
       "      <td>От 3 до 6 лет</td>\n",
       "      <td>2023-03-23T16:24:39+0300</td>\n",
       "      <td>2023-03-23T16:24:39+0300</td>\n",
       "      <td>https://hh.ru/vacancy/78466689</td>\n",
       "      <td>[]</td>\n",
       "      <td>[]</td>\n",
       "      <td>[]</td>\n",
       "      <td>False</td>\n",
       "      <td>Полная занятость</td>\n",
       "      <td>Системный аналитик</td>\n",
       "      <td>False</td>\n",
       "      <td>NaN</td>\n",
       "      <td>Санкт-Петербург</td>\n",
       "      <td>NaN</td>\n",
       "      <td>250000.0</td>\n",
       "      <td>RUR</td>\n",
       "      <td>False</td>\n",
       "      <td>Открытая</td>\n",
       "      <td>Волкрафт</td>\n",
       "      <td>https://hh.ru/employer/896866</td>\n",
       "      <td>https://api.hh.ru/vacancies?employer_id=896866</td>\n",
       "      <td>Penza</td>\n",
       "      <td>Revolyutsionnaya Street</td>\n",
       "      <td>71</td>\n",
       "      <td>53.192868</td>\n",
       "      <td>45.006782</td>\n",
       "      <td>Penza, Revolyutsionnaya Street, 71</td>\n",
       "      <td>NaN</td>\n",
       "      <td>NaN</td>\n",
       "      <td>NaN</td>\n",
       "      <td>NaN</td>\n",
       "      <td>NaN</td>\n",
       "      <td>NaN</td>\n",
       "      <td>False</td>\n",
       "      <td>True</td>\n",
       "      <td>False</td>\n",
       "      <td>False</td>\n",
       "      <td>False</td>\n",
       "      <td>True</td>\n",
       "      <td>NaN</td>\n",
       "      <td>NaN</td>\n",
       "    </tr>\n",
       "    <tr>\n",
       "      <th>3680</th>\n",
       "      <td>78385839</td>\n",
       "      <td>Middle+ Системный аналитик</td>\n",
       "      <td>Имеете опыт работы на позиции системного &lt;high...</td>\n",
       "      <td>2 middle СА. 1 senior СА. 1 team lead команды ...</td>\n",
       "      <td>&lt;p&gt;&lt;strong&gt;Умскул&lt;/strong&gt; — это крупнейшая он...</td>\n",
       "      <td>От 1 года до 3 лет</td>\n",
       "      <td>2023-04-15T09:01:36+0300</td>\n",
       "      <td>2023-04-15T09:01:36+0300</td>\n",
       "      <td>https://hh.ru/vacancy/78385839</td>\n",
       "      <td>[]</td>\n",
       "      <td>[]</td>\n",
       "      <td>[]</td>\n",
       "      <td>False</td>\n",
       "      <td>Полная занятость</td>\n",
       "      <td>Системный аналитик</td>\n",
       "      <td>False</td>\n",
       "      <td>NaN</td>\n",
       "      <td>Москва</td>\n",
       "      <td>140000.0</td>\n",
       "      <td>180000.0</td>\n",
       "      <td>RUR</td>\n",
       "      <td>False</td>\n",
       "      <td>Открытая</td>\n",
       "      <td>Remokate</td>\n",
       "      <td>https://hh.ru/employer/5539742</td>\n",
       "      <td>https://api.hh.ru/vacancies?employer_id=5539742</td>\n",
       "      <td>NaN</td>\n",
       "      <td>NaN</td>\n",
       "      <td>NaN</td>\n",
       "      <td>NaN</td>\n",
       "      <td>NaN</td>\n",
       "      <td>NaN</td>\n",
       "      <td>NaN</td>\n",
       "      <td>NaN</td>\n",
       "      <td>NaN</td>\n",
       "      <td>NaN</td>\n",
       "      <td>NaN</td>\n",
       "      <td>NaN</td>\n",
       "      <td>False</td>\n",
       "      <td>True</td>\n",
       "      <td>False</td>\n",
       "      <td>True</td>\n",
       "      <td>True</td>\n",
       "      <td>True</td>\n",
       "      <td>160000.0</td>\n",
       "      <td>160000.0</td>\n",
       "    </tr>\n",
       "    <tr>\n",
       "      <th>4919</th>\n",
       "      <td>79187758</td>\n",
       "      <td>Аналитик / менеджер по управлению запасами</td>\n",
       "      <td>Опыт работы от 3-х лет в поставках/планировани...</td>\n",
       "      <td>Анализ процессов планирования и пополнения маг...</td>\n",
       "      <td>&lt;p&gt;&lt;em&gt;&lt;strong&gt;Надежное Российское предприятие...</td>\n",
       "      <td>От 3 до 6 лет</td>\n",
       "      <td>2023-04-12T09:09:18+0300</td>\n",
       "      <td>2023-04-12T09:09:18+0300</td>\n",
       "      <td>https://hh.ru/vacancy/79187758</td>\n",
       "      <td>[]</td>\n",
       "      <td>[]</td>\n",
       "      <td>[]</td>\n",
       "      <td>False</td>\n",
       "      <td>Полная занятость</td>\n",
       "      <td>Другое</td>\n",
       "      <td>False</td>\n",
       "      <td>NaN</td>\n",
       "      <td>Москва</td>\n",
       "      <td>150000.0</td>\n",
       "      <td>NaN</td>\n",
       "      <td>RUR</td>\n",
       "      <td>True</td>\n",
       "      <td>Открытая</td>\n",
       "      <td>ОЧАКОВО</td>\n",
       "      <td>https://hh.ru/employer/871</td>\n",
       "      <td>https://api.hh.ru/vacancies?employer_id=871</td>\n",
       "      <td>Москва</td>\n",
       "      <td>Рябиновая улица</td>\n",
       "      <td>44</td>\n",
       "      <td>55.674545</td>\n",
       "      <td>37.435395</td>\n",
       "      <td>Москва, Рябиновая улица, 44</td>\n",
       "      <td>Кунцевская</td>\n",
       "      <td>Арбатско-Покровская</td>\n",
       "      <td>3.69</td>\n",
       "      <td>3</td>\n",
       "      <td>55.730673</td>\n",
       "      <td>37.446522</td>\n",
       "      <td>False</td>\n",
       "      <td>True</td>\n",
       "      <td>False</td>\n",
       "      <td>False</td>\n",
       "      <td>False</td>\n",
       "      <td>True</td>\n",
       "      <td>NaN</td>\n",
       "      <td>NaN</td>\n",
       "    </tr>\n",
       "  </tbody>\n",
       "</table>\n",
       "</div>"
      ],
      "text/plain": [
       "            id                                        name  \\\n",
       "727   78841306                    Sales Operations Analyst   \n",
       "730   79118242        Product Researcher / Finance Analyst   \n",
       "820   78673012        Product Researcher / Finance Analyst   \n",
       "885   79171712                     Senior Business Analyst   \n",
       "1519  78446701             Senior/Team Lead Data Scientist   \n",
       "1585  78466689             Senior/Team Lead Data Scientist   \n",
       "3680  78385839                  Middle+ Системный аналитик   \n",
       "4919  79187758  Аналитик / менеджер по управлению запасами   \n",
       "\n",
       "                                    snippet.requirement  \\\n",
       "727   1-3+ years in Sales Operations Management in I...   \n",
       "730   Love to learn new skills and passionate about ...   \n",
       "820   Love to learn new skills and passionate about ...   \n",
       "885   2+ years of experience as a Senior Business <h...   \n",
       "1519  3+ года опыта в роли <highlighttext>Data</high...   \n",
       "1585  3+ года опыта в роли <highlighttext>Data</high...   \n",
       "3680  Имеете опыт работы на позиции системного <high...   \n",
       "4919  Опыт работы от 3-х лет в поставках/планировани...   \n",
       "\n",
       "                                 snippet.responsibility  \\\n",
       "727   Help to drive discipline, hygiene and accuracy...   \n",
       "730   Product research for an Amazon business. Analy...   \n",
       "820   Product research for an Amazon business. Analy...   \n",
       "885   Prepare specifications describing a technical ...   \n",
       "1519  Заниматься исследованием и имплементацией разл...   \n",
       "1585  Заниматься исследованием и имплементацией разл...   \n",
       "3680  2 middle СА. 1 senior СА. 1 team lead команды ...   \n",
       "4919  Анализ процессов планирования и пополнения маг...   \n",
       "\n",
       "                                            description     experience.name  \\\n",
       "727   <p><strong>Hey!</strong></p> <p>We are Social ...  От 1 года до 3 лет   \n",
       "730   <p>We are an online e-commerce of cosmetics, w...  От 1 года до 3 лет   \n",
       "820   <p>We are an online e-commerce of cosmetics, w...  От 1 года до 3 лет   \n",
       "885   <p>The main duties:</p> <ul> <li>Identify and ...         Более 6 лет   \n",
       "1519  <p>Для основного продукта <strong>Wallcraft</s...       От 3 до 6 лет   \n",
       "1585  <p>Для основного продукта <strong>Wallcraft</s...       От 3 до 6 лет   \n",
       "3680  <p><strong>Умскул</strong> — это крупнейшая он...  От 1 года до 3 лет   \n",
       "4919  <p><em><strong>Надежное Российское предприятие...       От 3 до 6 лет   \n",
       "\n",
       "                  published_at                created_at  \\\n",
       "727   2023-04-15T14:27:32+0300  2023-04-15T14:27:32+0300   \n",
       "730   2023-04-10T16:28:35+0300  2023-04-10T16:28:35+0300   \n",
       "820   2023-03-29T13:47:54+0300  2023-03-29T13:47:54+0300   \n",
       "885   2023-04-11T16:33:47+0300  2023-04-11T16:33:47+0300   \n",
       "1519  2023-03-23T12:00:23+0300  2023-03-23T12:00:23+0300   \n",
       "1585  2023-03-23T16:24:39+0300  2023-03-23T16:24:39+0300   \n",
       "3680  2023-04-15T09:01:36+0300  2023-04-15T09:01:36+0300   \n",
       "4919  2023-04-12T09:09:18+0300  2023-04-12T09:09:18+0300   \n",
       "\n",
       "                       alternate_url working_days working_time_intervals  \\\n",
       "727   https://hh.ru/vacancy/78841306           []                     []   \n",
       "730   https://hh.ru/vacancy/79118242           []                     []   \n",
       "820   https://hh.ru/vacancy/78673012           []                     []   \n",
       "885   https://hh.ru/vacancy/79171712           []                     []   \n",
       "1519  https://hh.ru/vacancy/78446701           []                     []   \n",
       "1585  https://hh.ru/vacancy/78466689           []                     []   \n",
       "3680  https://hh.ru/vacancy/78385839           []                     []   \n",
       "4919  https://hh.ru/vacancy/79187758           []                     []   \n",
       "\n",
       "     working_time_modes  accept_temporary   employment.name  \\\n",
       "727                  []             False  Полная занятость   \n",
       "730                  []             False  Полная занятость   \n",
       "820                  []             False  Полная занятость   \n",
       "885                  []             False  Полная занятость   \n",
       "1519                 []             False  Полная занятость   \n",
       "1585                 []             False  Полная занятость   \n",
       "3680                 []             False  Полная занятость   \n",
       "4919                 []             False  Полная занятость   \n",
       "\n",
       "     professional_roles_name  accept_incomplete_resumes department.name  \\\n",
       "727                   Другое                      False             NaN   \n",
       "730                Экономист                      False             NaN   \n",
       "820                Экономист                      False             NaN   \n",
       "885                 Аналитик                      False             NaN   \n",
       "1519      Системный аналитик                      False             NaN   \n",
       "1585      Системный аналитик                      False             NaN   \n",
       "3680      Системный аналитик                      False             NaN   \n",
       "4919                  Другое                      False             NaN   \n",
       "\n",
       "            area.name  salary.from  salary.to salary.currency salary.gross  \\\n",
       "727            Москва       1200.0        NaN             USD         True   \n",
       "730   Санкт-Петербург       1000.0     1300.0             USD         True   \n",
       "820            Москва       1000.0     1300.0             USD         True   \n",
       "885            Москва     200000.0   350000.0             RUR        False   \n",
       "1519            Пенза          NaN   250000.0             RUR        False   \n",
       "1585  Санкт-Петербург          NaN   250000.0             RUR        False   \n",
       "3680           Москва     140000.0   180000.0             RUR        False   \n",
       "4919           Москва     150000.0        NaN             RUR         True   \n",
       "\n",
       "     type.name employer.name          employer.alternate_url  \\\n",
       "727   Открытая         SL KG  https://hh.ru/employer/9472269   \n",
       "730   Открытая      Udalenno  https://hh.ru/employer/5441909   \n",
       "820   Открытая      Udalenno  https://hh.ru/employer/5441909   \n",
       "885   Открытая    Шеф Маркет   https://hh.ru/employer/988480   \n",
       "1519  Открытая      Волкрафт   https://hh.ru/employer/896866   \n",
       "1585  Открытая      Волкрафт   https://hh.ru/employer/896866   \n",
       "3680  Открытая      Remokate  https://hh.ru/employer/5539742   \n",
       "4919  Открытая       ОЧАКОВО      https://hh.ru/employer/871   \n",
       "\n",
       "                               employer.vacancies_url address.city  \\\n",
       "727   https://api.hh.ru/vacancies?employer_id=9472269          NaN   \n",
       "730   https://api.hh.ru/vacancies?employer_id=5441909          NaN   \n",
       "820   https://api.hh.ru/vacancies?employer_id=5441909          NaN   \n",
       "885    https://api.hh.ru/vacancies?employer_id=988480          NaN   \n",
       "1519   https://api.hh.ru/vacancies?employer_id=896866        Penza   \n",
       "1585   https://api.hh.ru/vacancies?employer_id=896866        Penza   \n",
       "3680  https://api.hh.ru/vacancies?employer_id=5539742          NaN   \n",
       "4919      https://api.hh.ru/vacancies?employer_id=871       Москва   \n",
       "\n",
       "               address.street address.building  address.lat  address.lng  \\\n",
       "727                       NaN              NaN          NaN          NaN   \n",
       "730                       NaN              NaN          NaN          NaN   \n",
       "820                       NaN              NaN          NaN          NaN   \n",
       "885                       NaN              NaN          NaN          NaN   \n",
       "1519  Revolyutsionnaya Street               71    53.192868    45.006782   \n",
       "1585  Revolyutsionnaya Street               71    53.192868    45.006782   \n",
       "3680                      NaN              NaN          NaN          NaN   \n",
       "4919          Рябиновая улица               44    55.674545    37.435395   \n",
       "\n",
       "                             address.raw address.metro.station_name  \\\n",
       "727                                  NaN                        NaN   \n",
       "730                                  NaN                        NaN   \n",
       "820                                  NaN                        NaN   \n",
       "885                                  NaN                        NaN   \n",
       "1519  Penza, Revolyutsionnaya Street, 71                        NaN   \n",
       "1585  Penza, Revolyutsionnaya Street, 71                        NaN   \n",
       "3680                                 NaN                        NaN   \n",
       "4919         Москва, Рябиновая улица, 44                 Кунцевская   \n",
       "\n",
       "     address.metro.line_name address.metro.station_id address.metro.line_id  \\\n",
       "727                      NaN                      NaN                   NaN   \n",
       "730                      NaN                      NaN                   NaN   \n",
       "820                      NaN                      NaN                   NaN   \n",
       "885                      NaN                      NaN                   NaN   \n",
       "1519                     NaN                      NaN                   NaN   \n",
       "1585                     NaN                      NaN                   NaN   \n",
       "3680                     NaN                      NaN                   NaN   \n",
       "4919     Арбатско-Покровская                     3.69                     3   \n",
       "\n",
       "      address.metro.lat  address.metro.lng  remote  office  junior  middle  \\\n",
       "727                 NaN                NaN   False    True   False   False   \n",
       "730                 NaN                NaN    True   False   False   False   \n",
       "820                 NaN                NaN    True   False   False   False   \n",
       "885                 NaN                NaN   False    True   False   False   \n",
       "1519                NaN                NaN    True   False   False   False   \n",
       "1585                NaN                NaN   False    True   False   False   \n",
       "3680                NaN                NaN   False    True   False    True   \n",
       "4919          55.730673          37.446522   False    True   False   False   \n",
       "\n",
       "      senior  lead  salary_median  salary_net  \n",
       "727    False  True            NaN         NaN  \n",
       "730    False  True        93840.0     81640.8  \n",
       "820    False  True        93840.0     81640.8  \n",
       "885    False  True       275000.0    275000.0  \n",
       "1519   False  True            NaN         NaN  \n",
       "1585   False  True            NaN         NaN  \n",
       "3680    True  True       160000.0    160000.0  \n",
       "4919   False  True            NaN         NaN  "
      ]
     },
     "execution_count": 41,
     "metadata": {},
     "output_type": "execute_result"
    }
   ],
   "source": [
    "df.loc[(df['lead'] == True) & (df['salary.from'].notnull() | df['salary.to'].notnull())]"
   ]
  },
  {
   "cell_type": "code",
   "execution_count": 42,
   "id": "6b5cd72c",
   "metadata": {},
   "outputs": [
    {
     "data": {
      "text/html": [
       "<div>\n",
       "<style scoped>\n",
       "    .dataframe tbody tr th:only-of-type {\n",
       "        vertical-align: middle;\n",
       "    }\n",
       "\n",
       "    .dataframe tbody tr th {\n",
       "        vertical-align: top;\n",
       "    }\n",
       "\n",
       "    .dataframe thead th {\n",
       "        text-align: right;\n",
       "    }\n",
       "</style>\n",
       "<table border=\"1\" class=\"dataframe\">\n",
       "  <thead>\n",
       "    <tr style=\"text-align: right;\">\n",
       "      <th></th>\n",
       "      <th>id</th>\n",
       "      <th>name</th>\n",
       "      <th>snippet.requirement</th>\n",
       "      <th>snippet.responsibility</th>\n",
       "      <th>description</th>\n",
       "      <th>experience.name</th>\n",
       "      <th>published_at</th>\n",
       "      <th>created_at</th>\n",
       "      <th>alternate_url</th>\n",
       "      <th>working_days</th>\n",
       "      <th>working_time_intervals</th>\n",
       "      <th>working_time_modes</th>\n",
       "      <th>accept_temporary</th>\n",
       "      <th>employment.name</th>\n",
       "      <th>professional_roles_name</th>\n",
       "      <th>accept_incomplete_resumes</th>\n",
       "      <th>department.name</th>\n",
       "      <th>area.name</th>\n",
       "      <th>salary.from</th>\n",
       "      <th>salary.to</th>\n",
       "      <th>salary.currency</th>\n",
       "      <th>salary.gross</th>\n",
       "      <th>type.name</th>\n",
       "      <th>employer.name</th>\n",
       "      <th>employer.alternate_url</th>\n",
       "      <th>employer.vacancies_url</th>\n",
       "      <th>address.city</th>\n",
       "      <th>address.street</th>\n",
       "      <th>address.building</th>\n",
       "      <th>address.lat</th>\n",
       "      <th>address.lng</th>\n",
       "      <th>address.raw</th>\n",
       "      <th>address.metro.station_name</th>\n",
       "      <th>address.metro.line_name</th>\n",
       "      <th>address.metro.station_id</th>\n",
       "      <th>address.metro.line_id</th>\n",
       "      <th>address.metro.lat</th>\n",
       "      <th>address.metro.lng</th>\n",
       "      <th>remote</th>\n",
       "      <th>office</th>\n",
       "      <th>junior</th>\n",
       "      <th>middle</th>\n",
       "      <th>senior</th>\n",
       "      <th>lead</th>\n",
       "      <th>salary_median</th>\n",
       "      <th>salary_net</th>\n",
       "    </tr>\n",
       "  </thead>\n",
       "  <tbody>\n",
       "    <tr>\n",
       "      <th>730</th>\n",
       "      <td>79118242</td>\n",
       "      <td>Product Researcher / Finance Analyst</td>\n",
       "      <td>Love to learn new skills and passionate about ...</td>\n",
       "      <td>Product research for an Amazon business. Analy...</td>\n",
       "      <td>&lt;p&gt;We are an online e-commerce of cosmetics, w...</td>\n",
       "      <td>От 1 года до 3 лет</td>\n",
       "      <td>2023-04-10T16:28:35+0300</td>\n",
       "      <td>2023-04-10T16:28:35+0300</td>\n",
       "      <td>https://hh.ru/vacancy/79118242</td>\n",
       "      <td>[]</td>\n",
       "      <td>[]</td>\n",
       "      <td>[]</td>\n",
       "      <td>False</td>\n",
       "      <td>Полная занятость</td>\n",
       "      <td>Экономист</td>\n",
       "      <td>False</td>\n",
       "      <td>NaN</td>\n",
       "      <td>Санкт-Петербург</td>\n",
       "      <td>1000.0</td>\n",
       "      <td>1300.0</td>\n",
       "      <td>USD</td>\n",
       "      <td>True</td>\n",
       "      <td>Открытая</td>\n",
       "      <td>Udalenno</td>\n",
       "      <td>https://hh.ru/employer/5441909</td>\n",
       "      <td>https://api.hh.ru/vacancies?employer_id=5441909</td>\n",
       "      <td>NaN</td>\n",
       "      <td>NaN</td>\n",
       "      <td>NaN</td>\n",
       "      <td>NaN</td>\n",
       "      <td>NaN</td>\n",
       "      <td>NaN</td>\n",
       "      <td>NaN</td>\n",
       "      <td>NaN</td>\n",
       "      <td>NaN</td>\n",
       "      <td>NaN</td>\n",
       "      <td>NaN</td>\n",
       "      <td>NaN</td>\n",
       "      <td>True</td>\n",
       "      <td>False</td>\n",
       "      <td>False</td>\n",
       "      <td>False</td>\n",
       "      <td>False</td>\n",
       "      <td>True</td>\n",
       "      <td>93840.0</td>\n",
       "      <td>81640.8</td>\n",
       "    </tr>\n",
       "    <tr>\n",
       "      <th>820</th>\n",
       "      <td>78673012</td>\n",
       "      <td>Product Researcher / Finance Analyst</td>\n",
       "      <td>Love to learn new skills and passionate about ...</td>\n",
       "      <td>Product research for an Amazon business. Analy...</td>\n",
       "      <td>&lt;p&gt;We are an online e-commerce of cosmetics, w...</td>\n",
       "      <td>От 1 года до 3 лет</td>\n",
       "      <td>2023-03-29T13:47:54+0300</td>\n",
       "      <td>2023-03-29T13:47:54+0300</td>\n",
       "      <td>https://hh.ru/vacancy/78673012</td>\n",
       "      <td>[]</td>\n",
       "      <td>[]</td>\n",
       "      <td>[]</td>\n",
       "      <td>False</td>\n",
       "      <td>Полная занятость</td>\n",
       "      <td>Экономист</td>\n",
       "      <td>False</td>\n",
       "      <td>NaN</td>\n",
       "      <td>Москва</td>\n",
       "      <td>1000.0</td>\n",
       "      <td>1300.0</td>\n",
       "      <td>USD</td>\n",
       "      <td>True</td>\n",
       "      <td>Открытая</td>\n",
       "      <td>Udalenno</td>\n",
       "      <td>https://hh.ru/employer/5441909</td>\n",
       "      <td>https://api.hh.ru/vacancies?employer_id=5441909</td>\n",
       "      <td>NaN</td>\n",
       "      <td>NaN</td>\n",
       "      <td>NaN</td>\n",
       "      <td>NaN</td>\n",
       "      <td>NaN</td>\n",
       "      <td>NaN</td>\n",
       "      <td>NaN</td>\n",
       "      <td>NaN</td>\n",
       "      <td>NaN</td>\n",
       "      <td>NaN</td>\n",
       "      <td>NaN</td>\n",
       "      <td>NaN</td>\n",
       "      <td>True</td>\n",
       "      <td>False</td>\n",
       "      <td>False</td>\n",
       "      <td>False</td>\n",
       "      <td>False</td>\n",
       "      <td>True</td>\n",
       "      <td>93840.0</td>\n",
       "      <td>81640.8</td>\n",
       "    </tr>\n",
       "    <tr>\n",
       "      <th>727</th>\n",
       "      <td>78841306</td>\n",
       "      <td>Sales Operations Analyst</td>\n",
       "      <td>1-3+ years in Sales Operations Management in I...</td>\n",
       "      <td>Help to drive discipline, hygiene and accuracy...</td>\n",
       "      <td>&lt;p&gt;&lt;strong&gt;Hey!&lt;/strong&gt;&lt;/p&gt; &lt;p&gt;We are Social ...</td>\n",
       "      <td>От 1 года до 3 лет</td>\n",
       "      <td>2023-04-15T14:27:32+0300</td>\n",
       "      <td>2023-04-15T14:27:32+0300</td>\n",
       "      <td>https://hh.ru/vacancy/78841306</td>\n",
       "      <td>[]</td>\n",
       "      <td>[]</td>\n",
       "      <td>[]</td>\n",
       "      <td>False</td>\n",
       "      <td>Полная занятость</td>\n",
       "      <td>Другое</td>\n",
       "      <td>False</td>\n",
       "      <td>NaN</td>\n",
       "      <td>Москва</td>\n",
       "      <td>1200.0</td>\n",
       "      <td>NaN</td>\n",
       "      <td>USD</td>\n",
       "      <td>True</td>\n",
       "      <td>Открытая</td>\n",
       "      <td>SL KG</td>\n",
       "      <td>https://hh.ru/employer/9472269</td>\n",
       "      <td>https://api.hh.ru/vacancies?employer_id=9472269</td>\n",
       "      <td>NaN</td>\n",
       "      <td>NaN</td>\n",
       "      <td>NaN</td>\n",
       "      <td>NaN</td>\n",
       "      <td>NaN</td>\n",
       "      <td>NaN</td>\n",
       "      <td>NaN</td>\n",
       "      <td>NaN</td>\n",
       "      <td>NaN</td>\n",
       "      <td>NaN</td>\n",
       "      <td>NaN</td>\n",
       "      <td>NaN</td>\n",
       "      <td>False</td>\n",
       "      <td>True</td>\n",
       "      <td>False</td>\n",
       "      <td>False</td>\n",
       "      <td>False</td>\n",
       "      <td>True</td>\n",
       "      <td>NaN</td>\n",
       "      <td>NaN</td>\n",
       "    </tr>\n",
       "    <tr>\n",
       "      <th>3680</th>\n",
       "      <td>78385839</td>\n",
       "      <td>Middle+ Системный аналитик</td>\n",
       "      <td>Имеете опыт работы на позиции системного &lt;high...</td>\n",
       "      <td>2 middle СА. 1 senior СА. 1 team lead команды ...</td>\n",
       "      <td>&lt;p&gt;&lt;strong&gt;Умскул&lt;/strong&gt; — это крупнейшая он...</td>\n",
       "      <td>От 1 года до 3 лет</td>\n",
       "      <td>2023-04-15T09:01:36+0300</td>\n",
       "      <td>2023-04-15T09:01:36+0300</td>\n",
       "      <td>https://hh.ru/vacancy/78385839</td>\n",
       "      <td>[]</td>\n",
       "      <td>[]</td>\n",
       "      <td>[]</td>\n",
       "      <td>False</td>\n",
       "      <td>Полная занятость</td>\n",
       "      <td>Системный аналитик</td>\n",
       "      <td>False</td>\n",
       "      <td>NaN</td>\n",
       "      <td>Москва</td>\n",
       "      <td>140000.0</td>\n",
       "      <td>180000.0</td>\n",
       "      <td>RUR</td>\n",
       "      <td>False</td>\n",
       "      <td>Открытая</td>\n",
       "      <td>Remokate</td>\n",
       "      <td>https://hh.ru/employer/5539742</td>\n",
       "      <td>https://api.hh.ru/vacancies?employer_id=5539742</td>\n",
       "      <td>NaN</td>\n",
       "      <td>NaN</td>\n",
       "      <td>NaN</td>\n",
       "      <td>NaN</td>\n",
       "      <td>NaN</td>\n",
       "      <td>NaN</td>\n",
       "      <td>NaN</td>\n",
       "      <td>NaN</td>\n",
       "      <td>NaN</td>\n",
       "      <td>NaN</td>\n",
       "      <td>NaN</td>\n",
       "      <td>NaN</td>\n",
       "      <td>False</td>\n",
       "      <td>True</td>\n",
       "      <td>False</td>\n",
       "      <td>True</td>\n",
       "      <td>True</td>\n",
       "      <td>True</td>\n",
       "      <td>160000.0</td>\n",
       "      <td>160000.0</td>\n",
       "    </tr>\n",
       "    <tr>\n",
       "      <th>4919</th>\n",
       "      <td>79187758</td>\n",
       "      <td>Аналитик / менеджер по управлению запасами</td>\n",
       "      <td>Опыт работы от 3-х лет в поставках/планировани...</td>\n",
       "      <td>Анализ процессов планирования и пополнения маг...</td>\n",
       "      <td>&lt;p&gt;&lt;em&gt;&lt;strong&gt;Надежное Российское предприятие...</td>\n",
       "      <td>От 3 до 6 лет</td>\n",
       "      <td>2023-04-12T09:09:18+0300</td>\n",
       "      <td>2023-04-12T09:09:18+0300</td>\n",
       "      <td>https://hh.ru/vacancy/79187758</td>\n",
       "      <td>[]</td>\n",
       "      <td>[]</td>\n",
       "      <td>[]</td>\n",
       "      <td>False</td>\n",
       "      <td>Полная занятость</td>\n",
       "      <td>Другое</td>\n",
       "      <td>False</td>\n",
       "      <td>NaN</td>\n",
       "      <td>Москва</td>\n",
       "      <td>150000.0</td>\n",
       "      <td>NaN</td>\n",
       "      <td>RUR</td>\n",
       "      <td>True</td>\n",
       "      <td>Открытая</td>\n",
       "      <td>ОЧАКОВО</td>\n",
       "      <td>https://hh.ru/employer/871</td>\n",
       "      <td>https://api.hh.ru/vacancies?employer_id=871</td>\n",
       "      <td>Москва</td>\n",
       "      <td>Рябиновая улица</td>\n",
       "      <td>44</td>\n",
       "      <td>55.674545</td>\n",
       "      <td>37.435395</td>\n",
       "      <td>Москва, Рябиновая улица, 44</td>\n",
       "      <td>Кунцевская</td>\n",
       "      <td>Арбатско-Покровская</td>\n",
       "      <td>3.69</td>\n",
       "      <td>3</td>\n",
       "      <td>55.730673</td>\n",
       "      <td>37.446522</td>\n",
       "      <td>False</td>\n",
       "      <td>True</td>\n",
       "      <td>False</td>\n",
       "      <td>False</td>\n",
       "      <td>False</td>\n",
       "      <td>True</td>\n",
       "      <td>NaN</td>\n",
       "      <td>NaN</td>\n",
       "    </tr>\n",
       "    <tr>\n",
       "      <th>...</th>\n",
       "      <td>...</td>\n",
       "      <td>...</td>\n",
       "      <td>...</td>\n",
       "      <td>...</td>\n",
       "      <td>...</td>\n",
       "      <td>...</td>\n",
       "      <td>...</td>\n",
       "      <td>...</td>\n",
       "      <td>...</td>\n",
       "      <td>...</td>\n",
       "      <td>...</td>\n",
       "      <td>...</td>\n",
       "      <td>...</td>\n",
       "      <td>...</td>\n",
       "      <td>...</td>\n",
       "      <td>...</td>\n",
       "      <td>...</td>\n",
       "      <td>...</td>\n",
       "      <td>...</td>\n",
       "      <td>...</td>\n",
       "      <td>...</td>\n",
       "      <td>...</td>\n",
       "      <td>...</td>\n",
       "      <td>...</td>\n",
       "      <td>...</td>\n",
       "      <td>...</td>\n",
       "      <td>...</td>\n",
       "      <td>...</td>\n",
       "      <td>...</td>\n",
       "      <td>...</td>\n",
       "      <td>...</td>\n",
       "      <td>...</td>\n",
       "      <td>...</td>\n",
       "      <td>...</td>\n",
       "      <td>...</td>\n",
       "      <td>...</td>\n",
       "      <td>...</td>\n",
       "      <td>...</td>\n",
       "      <td>...</td>\n",
       "      <td>...</td>\n",
       "      <td>...</td>\n",
       "      <td>...</td>\n",
       "      <td>...</td>\n",
       "      <td>...</td>\n",
       "      <td>...</td>\n",
       "      <td>...</td>\n",
       "    </tr>\n",
       "    <tr>\n",
       "      <th>5200</th>\n",
       "      <td>78300415</td>\n",
       "      <td>Системный аналитик DWH</td>\n",
       "      <td>Опыт в выявлении, сборе и формализации требова...</td>\n",
       "      <td>Анализ алгоритмов реализации PnL отчетности в ...</td>\n",
       "      <td>&lt;p&gt;&lt;strong&gt;IBS строит долгосрочные партнерства...</td>\n",
       "      <td>От 3 до 6 лет</td>\n",
       "      <td>2023-03-20T17:11:03+0300</td>\n",
       "      <td>2023-03-20T17:11:03+0300</td>\n",
       "      <td>https://hh.ru/vacancy/78300415</td>\n",
       "      <td>[]</td>\n",
       "      <td>[]</td>\n",
       "      <td>[]</td>\n",
       "      <td>False</td>\n",
       "      <td>Полная занятость</td>\n",
       "      <td>Системный аналитик</td>\n",
       "      <td>False</td>\n",
       "      <td>NaN</td>\n",
       "      <td>Нижний Новгород</td>\n",
       "      <td>NaN</td>\n",
       "      <td>NaN</td>\n",
       "      <td>NaN</td>\n",
       "      <td>NaN</td>\n",
       "      <td>Открытая</td>\n",
       "      <td>IBS</td>\n",
       "      <td>https://hh.ru/employer/139</td>\n",
       "      <td>https://api.hh.ru/vacancies?employer_id=139</td>\n",
       "      <td>NaN</td>\n",
       "      <td>NaN</td>\n",
       "      <td>NaN</td>\n",
       "      <td>NaN</td>\n",
       "      <td>NaN</td>\n",
       "      <td>NaN</td>\n",
       "      <td>NaN</td>\n",
       "      <td>NaN</td>\n",
       "      <td>NaN</td>\n",
       "      <td>NaN</td>\n",
       "      <td>NaN</td>\n",
       "      <td>NaN</td>\n",
       "      <td>True</td>\n",
       "      <td>False</td>\n",
       "      <td>False</td>\n",
       "      <td>False</td>\n",
       "      <td>False</td>\n",
       "      <td>False</td>\n",
       "      <td>NaN</td>\n",
       "      <td>NaN</td>\n",
       "    </tr>\n",
       "    <tr>\n",
       "      <th>5201</th>\n",
       "      <td>78298565</td>\n",
       "      <td>Аналитик DWH</td>\n",
       "      <td>Опыт в выявлении, сборе и формализации требова...</td>\n",
       "      <td>Анализ алгоритмов реализации PnL отчетности в ...</td>\n",
       "      <td>&lt;p&gt;&lt;strong&gt;IBS строит долгосрочные партнерства...</td>\n",
       "      <td>От 3 до 6 лет</td>\n",
       "      <td>2023-03-20T16:46:50+0300</td>\n",
       "      <td>2023-03-20T16:46:50+0300</td>\n",
       "      <td>https://hh.ru/vacancy/78298565</td>\n",
       "      <td>[]</td>\n",
       "      <td>[]</td>\n",
       "      <td>[]</td>\n",
       "      <td>False</td>\n",
       "      <td>Полная занятость</td>\n",
       "      <td>Системный аналитик</td>\n",
       "      <td>False</td>\n",
       "      <td>NaN</td>\n",
       "      <td>Москва</td>\n",
       "      <td>NaN</td>\n",
       "      <td>NaN</td>\n",
       "      <td>NaN</td>\n",
       "      <td>NaN</td>\n",
       "      <td>Открытая</td>\n",
       "      <td>IBS</td>\n",
       "      <td>https://hh.ru/employer/139</td>\n",
       "      <td>https://api.hh.ru/vacancies?employer_id=139</td>\n",
       "      <td>NaN</td>\n",
       "      <td>NaN</td>\n",
       "      <td>NaN</td>\n",
       "      <td>NaN</td>\n",
       "      <td>NaN</td>\n",
       "      <td>NaN</td>\n",
       "      <td>NaN</td>\n",
       "      <td>NaN</td>\n",
       "      <td>NaN</td>\n",
       "      <td>NaN</td>\n",
       "      <td>NaN</td>\n",
       "      <td>NaN</td>\n",
       "      <td>True</td>\n",
       "      <td>False</td>\n",
       "      <td>False</td>\n",
       "      <td>False</td>\n",
       "      <td>False</td>\n",
       "      <td>False</td>\n",
       "      <td>NaN</td>\n",
       "      <td>NaN</td>\n",
       "    </tr>\n",
       "    <tr>\n",
       "      <th>5202</th>\n",
       "      <td>78312389</td>\n",
       "      <td>Системный аналитик DWH</td>\n",
       "      <td>Опыт в выявлении, сборе и формализации требова...</td>\n",
       "      <td>Анализ алгоритмов реализации PnL отчетности в ...</td>\n",
       "      <td>&lt;p&gt;&lt;strong&gt;IBS строит долгосрочные партнерства...</td>\n",
       "      <td>От 3 до 6 лет</td>\n",
       "      <td>2023-03-20T21:23:22+0300</td>\n",
       "      <td>2023-03-20T21:23:22+0300</td>\n",
       "      <td>https://hh.ru/vacancy/78312389</td>\n",
       "      <td>[]</td>\n",
       "      <td>[]</td>\n",
       "      <td>[]</td>\n",
       "      <td>False</td>\n",
       "      <td>Полная занятость</td>\n",
       "      <td>Системный аналитик</td>\n",
       "      <td>False</td>\n",
       "      <td>NaN</td>\n",
       "      <td>Воронеж</td>\n",
       "      <td>NaN</td>\n",
       "      <td>NaN</td>\n",
       "      <td>NaN</td>\n",
       "      <td>NaN</td>\n",
       "      <td>Открытая</td>\n",
       "      <td>IBS</td>\n",
       "      <td>https://hh.ru/employer/139</td>\n",
       "      <td>https://api.hh.ru/vacancies?employer_id=139</td>\n",
       "      <td>NaN</td>\n",
       "      <td>NaN</td>\n",
       "      <td>NaN</td>\n",
       "      <td>NaN</td>\n",
       "      <td>NaN</td>\n",
       "      <td>NaN</td>\n",
       "      <td>NaN</td>\n",
       "      <td>NaN</td>\n",
       "      <td>NaN</td>\n",
       "      <td>NaN</td>\n",
       "      <td>NaN</td>\n",
       "      <td>NaN</td>\n",
       "      <td>True</td>\n",
       "      <td>False</td>\n",
       "      <td>False</td>\n",
       "      <td>False</td>\n",
       "      <td>False</td>\n",
       "      <td>False</td>\n",
       "      <td>NaN</td>\n",
       "      <td>NaN</td>\n",
       "    </tr>\n",
       "    <tr>\n",
       "      <th>5203</th>\n",
       "      <td>78312390</td>\n",
       "      <td>Системный аналитик DWH</td>\n",
       "      <td>Опыт в выявлении, сборе и формализации требова...</td>\n",
       "      <td>Анализ алгоритмов реализации PnL отчетности в ...</td>\n",
       "      <td>&lt;p&gt;&lt;strong&gt;IBS строит долгосрочные партнерства...</td>\n",
       "      <td>От 3 до 6 лет</td>\n",
       "      <td>2023-03-20T21:23:22+0300</td>\n",
       "      <td>2023-03-20T21:23:22+0300</td>\n",
       "      <td>https://hh.ru/vacancy/78312390</td>\n",
       "      <td>[]</td>\n",
       "      <td>[]</td>\n",
       "      <td>[]</td>\n",
       "      <td>False</td>\n",
       "      <td>Полная занятость</td>\n",
       "      <td>Системный аналитик</td>\n",
       "      <td>False</td>\n",
       "      <td>NaN</td>\n",
       "      <td>Краснодар</td>\n",
       "      <td>NaN</td>\n",
       "      <td>NaN</td>\n",
       "      <td>NaN</td>\n",
       "      <td>NaN</td>\n",
       "      <td>Открытая</td>\n",
       "      <td>IBS</td>\n",
       "      <td>https://hh.ru/employer/139</td>\n",
       "      <td>https://api.hh.ru/vacancies?employer_id=139</td>\n",
       "      <td>NaN</td>\n",
       "      <td>NaN</td>\n",
       "      <td>NaN</td>\n",
       "      <td>NaN</td>\n",
       "      <td>NaN</td>\n",
       "      <td>NaN</td>\n",
       "      <td>NaN</td>\n",
       "      <td>NaN</td>\n",
       "      <td>NaN</td>\n",
       "      <td>NaN</td>\n",
       "      <td>NaN</td>\n",
       "      <td>NaN</td>\n",
       "      <td>True</td>\n",
       "      <td>False</td>\n",
       "      <td>False</td>\n",
       "      <td>False</td>\n",
       "      <td>False</td>\n",
       "      <td>False</td>\n",
       "      <td>NaN</td>\n",
       "      <td>NaN</td>\n",
       "    </tr>\n",
       "    <tr>\n",
       "      <th>5204</th>\n",
       "      <td>78527633</td>\n",
       "      <td>Аналитик систем целевого маркетинга</td>\n",
       "      <td>Уверенное знание Python (опыт от 2 лет). Знани...</td>\n",
       "      <td>Внутренняя разработка и автоматизация процессо...</td>\n",
       "      <td>&lt;p&gt;&lt;strong&gt;Ваши будущие задачи&lt;/strong&gt;&lt;/p&gt; &lt;u...</td>\n",
       "      <td>От 1 года до 3 лет</td>\n",
       "      <td>2023-03-24T18:40:56+0300</td>\n",
       "      <td>2023-03-24T18:40:56+0300</td>\n",
       "      <td>https://hh.ru/vacancy/78527633</td>\n",
       "      <td>[]</td>\n",
       "      <td>[]</td>\n",
       "      <td>[]</td>\n",
       "      <td>False</td>\n",
       "      <td>Полная занятость</td>\n",
       "      <td>Аналитик</td>\n",
       "      <td>False</td>\n",
       "      <td>NaN</td>\n",
       "      <td>Москва</td>\n",
       "      <td>NaN</td>\n",
       "      <td>NaN</td>\n",
       "      <td>NaN</td>\n",
       "      <td>NaN</td>\n",
       "      <td>Открытая</td>\n",
       "      <td>Tele2</td>\n",
       "      <td>https://hh.ru/employer/4219</td>\n",
       "      <td>https://api.hh.ru/vacancies?employer_id=4219</td>\n",
       "      <td>NaN</td>\n",
       "      <td>NaN</td>\n",
       "      <td>NaN</td>\n",
       "      <td>NaN</td>\n",
       "      <td>NaN</td>\n",
       "      <td>NaN</td>\n",
       "      <td>NaN</td>\n",
       "      <td>NaN</td>\n",
       "      <td>NaN</td>\n",
       "      <td>NaN</td>\n",
       "      <td>NaN</td>\n",
       "      <td>NaN</td>\n",
       "      <td>False</td>\n",
       "      <td>True</td>\n",
       "      <td>False</td>\n",
       "      <td>False</td>\n",
       "      <td>False</td>\n",
       "      <td>False</td>\n",
       "      <td>NaN</td>\n",
       "      <td>NaN</td>\n",
       "    </tr>\n",
       "  </tbody>\n",
       "</table>\n",
       "<p>3539 rows × 46 columns</p>\n",
       "</div>"
      ],
      "text/plain": [
       "            id                                        name  \\\n",
       "730   79118242        Product Researcher / Finance Analyst   \n",
       "820   78673012        Product Researcher / Finance Analyst   \n",
       "727   78841306                    Sales Operations Analyst   \n",
       "3680  78385839                  Middle+ Системный аналитик   \n",
       "4919  79187758  Аналитик / менеджер по управлению запасами   \n",
       "...        ...                                         ...   \n",
       "5200  78300415                      Системный аналитик DWH   \n",
       "5201  78298565                                Аналитик DWH   \n",
       "5202  78312389                      Системный аналитик DWH   \n",
       "5203  78312390                      Системный аналитик DWH   \n",
       "5204  78527633         Аналитик систем целевого маркетинга   \n",
       "\n",
       "                                    snippet.requirement  \\\n",
       "730   Love to learn new skills and passionate about ...   \n",
       "820   Love to learn new skills and passionate about ...   \n",
       "727   1-3+ years in Sales Operations Management in I...   \n",
       "3680  Имеете опыт работы на позиции системного <high...   \n",
       "4919  Опыт работы от 3-х лет в поставках/планировани...   \n",
       "...                                                 ...   \n",
       "5200  Опыт в выявлении, сборе и формализации требова...   \n",
       "5201  Опыт в выявлении, сборе и формализации требова...   \n",
       "5202  Опыт в выявлении, сборе и формализации требова...   \n",
       "5203  Опыт в выявлении, сборе и формализации требова...   \n",
       "5204  Уверенное знание Python (опыт от 2 лет). Знани...   \n",
       "\n",
       "                                 snippet.responsibility  \\\n",
       "730   Product research for an Amazon business. Analy...   \n",
       "820   Product research for an Amazon business. Analy...   \n",
       "727   Help to drive discipline, hygiene and accuracy...   \n",
       "3680  2 middle СА. 1 senior СА. 1 team lead команды ...   \n",
       "4919  Анализ процессов планирования и пополнения маг...   \n",
       "...                                                 ...   \n",
       "5200  Анализ алгоритмов реализации PnL отчетности в ...   \n",
       "5201  Анализ алгоритмов реализации PnL отчетности в ...   \n",
       "5202  Анализ алгоритмов реализации PnL отчетности в ...   \n",
       "5203  Анализ алгоритмов реализации PnL отчетности в ...   \n",
       "5204  Внутренняя разработка и автоматизация процессо...   \n",
       "\n",
       "                                            description     experience.name  \\\n",
       "730   <p>We are an online e-commerce of cosmetics, w...  От 1 года до 3 лет   \n",
       "820   <p>We are an online e-commerce of cosmetics, w...  От 1 года до 3 лет   \n",
       "727   <p><strong>Hey!</strong></p> <p>We are Social ...  От 1 года до 3 лет   \n",
       "3680  <p><strong>Умскул</strong> — это крупнейшая он...  От 1 года до 3 лет   \n",
       "4919  <p><em><strong>Надежное Российское предприятие...       От 3 до 6 лет   \n",
       "...                                                 ...                 ...   \n",
       "5200  <p><strong>IBS строит долгосрочные партнерства...       От 3 до 6 лет   \n",
       "5201  <p><strong>IBS строит долгосрочные партнерства...       От 3 до 6 лет   \n",
       "5202  <p><strong>IBS строит долгосрочные партнерства...       От 3 до 6 лет   \n",
       "5203  <p><strong>IBS строит долгосрочные партнерства...       От 3 до 6 лет   \n",
       "5204  <p><strong>Ваши будущие задачи</strong></p> <u...  От 1 года до 3 лет   \n",
       "\n",
       "                  published_at                created_at  \\\n",
       "730   2023-04-10T16:28:35+0300  2023-04-10T16:28:35+0300   \n",
       "820   2023-03-29T13:47:54+0300  2023-03-29T13:47:54+0300   \n",
       "727   2023-04-15T14:27:32+0300  2023-04-15T14:27:32+0300   \n",
       "3680  2023-04-15T09:01:36+0300  2023-04-15T09:01:36+0300   \n",
       "4919  2023-04-12T09:09:18+0300  2023-04-12T09:09:18+0300   \n",
       "...                        ...                       ...   \n",
       "5200  2023-03-20T17:11:03+0300  2023-03-20T17:11:03+0300   \n",
       "5201  2023-03-20T16:46:50+0300  2023-03-20T16:46:50+0300   \n",
       "5202  2023-03-20T21:23:22+0300  2023-03-20T21:23:22+0300   \n",
       "5203  2023-03-20T21:23:22+0300  2023-03-20T21:23:22+0300   \n",
       "5204  2023-03-24T18:40:56+0300  2023-03-24T18:40:56+0300   \n",
       "\n",
       "                       alternate_url working_days working_time_intervals  \\\n",
       "730   https://hh.ru/vacancy/79118242           []                     []   \n",
       "820   https://hh.ru/vacancy/78673012           []                     []   \n",
       "727   https://hh.ru/vacancy/78841306           []                     []   \n",
       "3680  https://hh.ru/vacancy/78385839           []                     []   \n",
       "4919  https://hh.ru/vacancy/79187758           []                     []   \n",
       "...                              ...          ...                    ...   \n",
       "5200  https://hh.ru/vacancy/78300415           []                     []   \n",
       "5201  https://hh.ru/vacancy/78298565           []                     []   \n",
       "5202  https://hh.ru/vacancy/78312389           []                     []   \n",
       "5203  https://hh.ru/vacancy/78312390           []                     []   \n",
       "5204  https://hh.ru/vacancy/78527633           []                     []   \n",
       "\n",
       "     working_time_modes  accept_temporary   employment.name  \\\n",
       "730                  []             False  Полная занятость   \n",
       "820                  []             False  Полная занятость   \n",
       "727                  []             False  Полная занятость   \n",
       "3680                 []             False  Полная занятость   \n",
       "4919                 []             False  Полная занятость   \n",
       "...                 ...               ...               ...   \n",
       "5200                 []             False  Полная занятость   \n",
       "5201                 []             False  Полная занятость   \n",
       "5202                 []             False  Полная занятость   \n",
       "5203                 []             False  Полная занятость   \n",
       "5204                 []             False  Полная занятость   \n",
       "\n",
       "     professional_roles_name  accept_incomplete_resumes department.name  \\\n",
       "730                Экономист                      False             NaN   \n",
       "820                Экономист                      False             NaN   \n",
       "727                   Другое                      False             NaN   \n",
       "3680      Системный аналитик                      False             NaN   \n",
       "4919                  Другое                      False             NaN   \n",
       "...                      ...                        ...             ...   \n",
       "5200      Системный аналитик                      False             NaN   \n",
       "5201      Системный аналитик                      False             NaN   \n",
       "5202      Системный аналитик                      False             NaN   \n",
       "5203      Системный аналитик                      False             NaN   \n",
       "5204                Аналитик                      False             NaN   \n",
       "\n",
       "            area.name  salary.from  salary.to salary.currency salary.gross  \\\n",
       "730   Санкт-Петербург       1000.0     1300.0             USD         True   \n",
       "820            Москва       1000.0     1300.0             USD         True   \n",
       "727            Москва       1200.0        NaN             USD         True   \n",
       "3680           Москва     140000.0   180000.0             RUR        False   \n",
       "4919           Москва     150000.0        NaN             RUR         True   \n",
       "...               ...          ...        ...             ...          ...   \n",
       "5200  Нижний Новгород          NaN        NaN             NaN          NaN   \n",
       "5201           Москва          NaN        NaN             NaN          NaN   \n",
       "5202          Воронеж          NaN        NaN             NaN          NaN   \n",
       "5203        Краснодар          NaN        NaN             NaN          NaN   \n",
       "5204           Москва          NaN        NaN             NaN          NaN   \n",
       "\n",
       "     type.name employer.name          employer.alternate_url  \\\n",
       "730   Открытая      Udalenno  https://hh.ru/employer/5441909   \n",
       "820   Открытая      Udalenno  https://hh.ru/employer/5441909   \n",
       "727   Открытая         SL KG  https://hh.ru/employer/9472269   \n",
       "3680  Открытая      Remokate  https://hh.ru/employer/5539742   \n",
       "4919  Открытая       ОЧАКОВО      https://hh.ru/employer/871   \n",
       "...        ...           ...                             ...   \n",
       "5200  Открытая           IBS      https://hh.ru/employer/139   \n",
       "5201  Открытая           IBS      https://hh.ru/employer/139   \n",
       "5202  Открытая           IBS      https://hh.ru/employer/139   \n",
       "5203  Открытая           IBS      https://hh.ru/employer/139   \n",
       "5204  Открытая         Tele2     https://hh.ru/employer/4219   \n",
       "\n",
       "                               employer.vacancies_url address.city  \\\n",
       "730   https://api.hh.ru/vacancies?employer_id=5441909          NaN   \n",
       "820   https://api.hh.ru/vacancies?employer_id=5441909          NaN   \n",
       "727   https://api.hh.ru/vacancies?employer_id=9472269          NaN   \n",
       "3680  https://api.hh.ru/vacancies?employer_id=5539742          NaN   \n",
       "4919      https://api.hh.ru/vacancies?employer_id=871       Москва   \n",
       "...                                               ...          ...   \n",
       "5200      https://api.hh.ru/vacancies?employer_id=139          NaN   \n",
       "5201      https://api.hh.ru/vacancies?employer_id=139          NaN   \n",
       "5202      https://api.hh.ru/vacancies?employer_id=139          NaN   \n",
       "5203      https://api.hh.ru/vacancies?employer_id=139          NaN   \n",
       "5204     https://api.hh.ru/vacancies?employer_id=4219          NaN   \n",
       "\n",
       "       address.street address.building  address.lat  address.lng  \\\n",
       "730               NaN              NaN          NaN          NaN   \n",
       "820               NaN              NaN          NaN          NaN   \n",
       "727               NaN              NaN          NaN          NaN   \n",
       "3680              NaN              NaN          NaN          NaN   \n",
       "4919  Рябиновая улица               44    55.674545    37.435395   \n",
       "...               ...              ...          ...          ...   \n",
       "5200              NaN              NaN          NaN          NaN   \n",
       "5201              NaN              NaN          NaN          NaN   \n",
       "5202              NaN              NaN          NaN          NaN   \n",
       "5203              NaN              NaN          NaN          NaN   \n",
       "5204              NaN              NaN          NaN          NaN   \n",
       "\n",
       "                      address.raw address.metro.station_name  \\\n",
       "730                           NaN                        NaN   \n",
       "820                           NaN                        NaN   \n",
       "727                           NaN                        NaN   \n",
       "3680                          NaN                        NaN   \n",
       "4919  Москва, Рябиновая улица, 44                 Кунцевская   \n",
       "...                           ...                        ...   \n",
       "5200                          NaN                        NaN   \n",
       "5201                          NaN                        NaN   \n",
       "5202                          NaN                        NaN   \n",
       "5203                          NaN                        NaN   \n",
       "5204                          NaN                        NaN   \n",
       "\n",
       "     address.metro.line_name address.metro.station_id address.metro.line_id  \\\n",
       "730                      NaN                      NaN                   NaN   \n",
       "820                      NaN                      NaN                   NaN   \n",
       "727                      NaN                      NaN                   NaN   \n",
       "3680                     NaN                      NaN                   NaN   \n",
       "4919     Арбатско-Покровская                     3.69                     3   \n",
       "...                      ...                      ...                   ...   \n",
       "5200                     NaN                      NaN                   NaN   \n",
       "5201                     NaN                      NaN                   NaN   \n",
       "5202                     NaN                      NaN                   NaN   \n",
       "5203                     NaN                      NaN                   NaN   \n",
       "5204                     NaN                      NaN                   NaN   \n",
       "\n",
       "      address.metro.lat  address.metro.lng  remote  office  junior  middle  \\\n",
       "730                 NaN                NaN    True   False   False   False   \n",
       "820                 NaN                NaN    True   False   False   False   \n",
       "727                 NaN                NaN   False    True   False   False   \n",
       "3680                NaN                NaN   False    True   False    True   \n",
       "4919          55.730673          37.446522   False    True   False   False   \n",
       "...                 ...                ...     ...     ...     ...     ...   \n",
       "5200                NaN                NaN    True   False   False   False   \n",
       "5201                NaN                NaN    True   False   False   False   \n",
       "5202                NaN                NaN    True   False   False   False   \n",
       "5203                NaN                NaN    True   False   False   False   \n",
       "5204                NaN                NaN   False    True   False   False   \n",
       "\n",
       "      senior   lead  salary_median  salary_net  \n",
       "730    False   True        93840.0     81640.8  \n",
       "820    False   True        93840.0     81640.8  \n",
       "727    False   True            NaN         NaN  \n",
       "3680    True   True       160000.0    160000.0  \n",
       "4919   False   True            NaN         NaN  \n",
       "...      ...    ...            ...         ...  \n",
       "5200   False  False            NaN         NaN  \n",
       "5201   False  False            NaN         NaN  \n",
       "5202   False  False            NaN         NaN  \n",
       "5203   False  False            NaN         NaN  \n",
       "5204   False  False            NaN         NaN  \n",
       "\n",
       "[3539 rows x 46 columns]"
      ]
     },
     "execution_count": 42,
     "metadata": {},
     "output_type": "execute_result"
    }
   ],
   "source": [
    "df.loc[df['lead'] == True & df['salary.from'].notnull() | df['salary.to'].notnull()].sort_values(['salary.from', 'salary.to'])\n"
   ]
  },
  {
   "cell_type": "code",
   "execution_count": 44,
   "id": "38a9c6bc",
   "metadata": {},
   "outputs": [
    {
     "data": {
      "text/plain": [
       "array(['От 3 до 6 лет', 'От 1 года до 3 лет', 'Нет опыта', 'Более 6 лет'],\n",
       "      dtype=object)"
      ]
     },
     "execution_count": 44,
     "metadata": {},
     "output_type": "execute_result"
    }
   ],
   "source": [
    "df['experience.name'].unique()"
   ]
  },
  {
   "cell_type": "code",
   "execution_count": 45,
   "id": "a6dcf947",
   "metadata": {},
   "outputs": [
    {
     "data": {
      "text/plain": [
       "array([True, False, nan, None], dtype=object)"
      ]
     },
     "execution_count": 45,
     "metadata": {},
     "output_type": "execute_result"
    }
   ],
   "source": [
    "df['salary.gross'].unique()"
   ]
  },
  {
   "attachments": {},
   "cell_type": "markdown",
   "id": "6faa2340",
   "metadata": {},
   "source": [
    "Тематическое моделирование — это метод машинного обучения, который используется для выявления тем в больших коллекциях текстовых документов. Он позволяет автоматически выявлять скрытые темы в текстах и определять, какие слова и фразы связаны с каждой темой. Тематическое моделирование используется в различных областях, включая обработку естественного языка, информационный поиск, маркетинг и анализ социальных сетей. Оно может помочь упростить анализ больших объемов текстовых данных, позволяя выявить ключевые темы и понять, как они связаны между собой.\n",
    "\n",
    "Существует несколько методов/подходов тематического моделирования:\n",
    "\n",
    "1. Latent Semantic Analysis (LSA) - один из первых методов тематического моделирования, основанный на матричной факторизации. LSA позволяет находить семантические связи между словами и документами, но не учитывает возможность существования нескольких тем в одном документе.\n",
    "\n",
    "2. Latent Dirichlet Allocation (LDA) - один из наиболее распространенных методов тематического моделирования. LDA моделирует каждый документ как смесь нескольких тем и позволяет найти распределение тем в корпусе текстов.\n",
    "\n",
    "3. Hierarchical Dirichlet Process (HDP) - расширение LDA, которое позволяет автоматически определять число тем в корпусе текстов.\n",
    "\n",
    "4. Non-negative Matrix Factorization (NMF) - метод тематического моделирования, основанный на разложении матрицы на неотрицательные компоненты. NMF позволяет находить латентные темы в текстовом корпусе и используется, например, в анализе тематических сообществ в социальных сетях.\n",
    "\n",
    "5. Probabilistic Latent Semantic Analysis (PLSA) - метод, который моделирует каждый документ как смесь нескольких тем, но не учитывает возможность существования нескольких тем в одном слове.\n",
    "\n",
    "6. Correlated Topic Model (CTM) - модель, которая учитывает корреляцию между темами.\n",
    "\n",
    "7. Structural Topic Model (STM) - модель, которая позволяет учитывать дополнительные факторы, такие как авторство, дата создания и т.д., чтобы выделить темы, которые связаны с конкретными метаданными."
   ]
  },
  {
   "cell_type": "code",
   "execution_count": 46,
   "id": "b98da3a0",
   "metadata": {},
   "outputs": [],
   "source": [
    "# Уберем из описания вакансий html-теги\n",
    "# Определяем функцию для удаления HTML-тегов\n",
    "def remove_html_tags(text):\n",
    "    soup = BeautifulSoup(text, 'html.parser')\n",
    "    return soup.get_text()\n",
    "\n",
    "# Применяем функцию к столбцу 'description'\n",
    "df['description'] = df['description'].apply(remove_html_tags)"
   ]
  },
  {
   "cell_type": "code",
   "execution_count": 47,
   "id": "a91795f0",
   "metadata": {},
   "outputs": [
    {
     "name": "stderr",
     "output_type": "stream",
     "text": [
      "[nltk_data] Downloading package stopwords to\n",
      "[nltk_data]     /Users/dariavyatkina/nltk_data...\n",
      "[nltk_data]   Package stopwords is already up-to-date!\n"
     ]
    }
   ],
   "source": [
    "# Предобработаем описания вакансий, токинезируем текст, удалим из него лишние слова\n",
    "# и векторизируем их \n",
    "\n",
    "import nltk\n",
    "from nltk.corpus import stopwords\n",
    "import pymorphy2\n",
    "import re\n",
    "\n",
    "# Загрузка стоп-слов\n",
    "nltk.download('stopwords')\n",
    "stopwords_ru = set(nltk_stopwords.words(\"russian\"))\n",
    "stopwords_en = set(nltk_stopwords.words(\"english\"))\n",
    "stopwords = stopwords_ru | stopwords_en\n",
    "\n",
    "# Инициализация лемматизатора\n",
    "morph = pymorphy2.MorphAnalyzer()\n",
    "\n",
    "def preprocess_text(text):\n",
    "    # Приведение к нижнему регистру\n",
    "    text = text.lower()\n",
    "    \n",
    "    # Удаление символов пунктуации\n",
    "    text = re.sub(r'[^\\w\\s]', '', text)\n",
    "    \n",
    "    # Токенизация текста\n",
    "    tokens = nltk.word_tokenize(text)\n",
    "    \n",
    "    # Удаление стоп-слов\n",
    "    tokens = [token for token in tokens if token not in stop_words]\n",
    "    \n",
    "    # Лемматизация токенов\n",
    "    lemmatized_tokens = [morph.parse(token)[0].normal_form for token in tokens]\n",
    "    \n",
    "    # Сборка предобработанного текста\n",
    "    preprocessed_text = ' '.join(lemmatized_tokens)\n",
    "    \n",
    "    return preprocessed_text\n",
    "\n",
    "# Применение предобработки к столбцу 'description'\n",
    "df['description_preprocessed'] = df['description'].apply(preprocess_text)\n",
    "\n",
    "# Векторизация текста\n",
    "from sklearn.feature_extraction.text import TfidfVectorizer\n",
    "\n",
    "vectorizer = TfidfVectorizer()\n",
    "X = vectorizer.fit_transform(df['description_preprocessed'])\n"
   ]
  },
  {
   "attachments": {},
   "cell_type": "markdown",
   "id": "1d924361",
   "metadata": {},
   "source": [
    "Стеммирование — это обрезание окончания слова, оставление только основы (например, “красного яблока” превратится в “красн яблок”). А лемматизация — замена слова его начальной формой (например, “мы бежим” превратится в “я бежать”). "
   ]
  },
  {
   "cell_type": "code",
   "execution_count": 57,
   "id": "608e8602",
   "metadata": {},
   "outputs": [
    {
     "name": "stderr",
     "output_type": "stream",
     "text": [
      "/Users/dariavyatkina/opt/anaconda3/envs/hh_project/lib/python3.9/site-packages/sklearn/cluster/_kmeans.py:870: FutureWarning:\n",
      "\n",
      "The default value of `n_init` will change from 10 to 'auto' in 1.4. Set the value of `n_init` explicitly to suppress the warning\n",
      "\n"
     ]
    },
    {
     "name": "stdout",
     "output_type": "stream",
     "text": [
      "Оптимальное число кластеров (метод KMeans): 10\n",
      "Число вакансий в каждом кластере (метод KMeans):\n",
      "Кластер 0: 91 вакансий\n",
      "Кластер 1: 351 вакансий\n",
      "Кластер 2: 575 вакансий\n",
      "Кластер 3: 786 вакансий\n",
      "Кластер 4: 1180 вакансий\n",
      "Кластер 5: 548 вакансий\n",
      "Кластер 6: 123 вакансий\n",
      "Кластер 7: 88 вакансий\n",
      "Кластер 8: 762 вакансий\n",
      "Кластер 9: 701 вакансий\n",
      "Количество выбросов (метод DBSCAN): 5070\n",
      "Число вакансий в каждом кластере (метод DBSCAN):\n",
      "Кластер -1: 20 вакансий\n",
      "Кластер 0: 7 вакансий\n",
      "Кластер 1: 17 вакансий\n",
      "Кластер 3: 68 вакансий\n",
      "Кластер 7: 7 вакансий\n",
      "Кластер 8: 16 вакансий\n"
     ]
    }
   ],
   "source": [
    "from sklearn.cluster import KMeans, DBSCAN\n",
    "import numpy as np\n",
    "\n",
    "# Поиск оптимального числа кластеров методом локтя\n",
    "inertia = []\n",
    "for n_clusters in range(2, 11):\n",
    "    kmeans = KMeans(n_clusters=n_clusters, random_state=42)\n",
    "    kmeans.fit(X)\n",
    "    inertia.append(kmeans.inertia_)\n",
    "    \n",
    "optimal_n_clusters = np.argmin(inertia) + 2\n",
    "print('Оптимальное число кластеров (метод KMeans):', optimal_n_clusters)\n",
    "\n",
    "# Кластеризация методом KMeans\n",
    "kmeans = KMeans(n_clusters=optimal_n_clusters, random_state=42)\n",
    "kmeans_labels = kmeans.fit_predict(X)\n",
    "kmeans_clusters, kmeans_counts = np.unique(kmeans_labels, return_counts=True)\n",
    "\n",
    "# Количество выбросов в методе DBSCAN\n",
    "dbscan = DBSCAN(eps=0.5, min_samples=7)\n",
    "dbscan_labels = dbscan.fit_predict(X)\n",
    "n_outliers = np.sum(dbscan_labels == -1)\n",
    "\n",
    "# Кластеризация методом DBSCAN\n",
    "dbscan_labels[dbscan_labels != -1] = kmeans_labels[dbscan_labels != -1]  # заменяем метки KMeans на метки DBSCAN\n",
    "dbscan_clusters, dbscan_counts = np.unique(dbscan_labels, return_counts=True)\n",
    "dbscan_counts = dbscan_counts[dbscan_clusters != -1]  # удаляем количество выбросов из списка\n",
    "\n",
    "# Вывод результатов\n",
    "print('Число вакансий в каждом кластере (метод KMeans):')\n",
    "for cluster, count in zip(kmeans_clusters, kmeans_counts):\n",
    "    print(f'Кластер {cluster}: {count} вакансий')\n",
    "\n",
    "print(f'Количество выбросов (метод DBSCAN): {n_outliers}')\n",
    "print('Число вакансий в каждом кластере (метод DBSCAN):')\n",
    "for cluster, count in zip(dbscan_clusters, dbscan_counts):\n",
    "    print(f'Кластер {cluster}: {count} вакансий')\n"
   ]
  },
  {
   "attachments": {},
   "cell_type": "markdown",
   "id": "bee108eb",
   "metadata": {},
   "source": [
    "Видим, что кластеризация DBSCAN работает неподходящим для нас образом. Проставим маркировку кластеров, полученную методом Кmeans.\n"
   ]
  },
  {
   "cell_type": "code",
   "execution_count": 62,
   "metadata": {},
   "outputs": [
    {
     "name": "stderr",
     "output_type": "stream",
     "text": [
      "/Users/dariavyatkina/opt/anaconda3/envs/hh_project/lib/python3.9/site-packages/sklearn/cluster/_kmeans.py:870: FutureWarning:\n",
      "\n",
      "The default value of `n_init` will change from 10 to 'auto' in 1.4. Set the value of `n_init` explicitly to suppress the warning\n",
      "\n"
     ]
    }
   ],
   "source": [
    "kmeans = KMeans(n_clusters=10, random_state=42)\n",
    "df['role_clusters'] = kmeans.fit_predict(X)"
   ]
  },
  {
   "cell_type": "code",
   "execution_count": 63,
   "id": "4b19cc6d",
   "metadata": {},
   "outputs": [
    {
     "data": {
      "text/plain": [
       "4    1180\n",
       "3     786\n",
       "8     762\n",
       "9     701\n",
       "2     575\n",
       "5     548\n",
       "1     351\n",
       "6     123\n",
       "0      91\n",
       "7      88\n",
       "Name: role_clusters, dtype: int64"
      ]
     },
     "execution_count": 63,
     "metadata": {},
     "output_type": "execute_result"
    }
   ],
   "source": [
    "df['role_clusters'].value_counts()"
   ]
  },
  {
   "cell_type": "code",
   "execution_count": 67,
   "id": "9838efe5",
   "metadata": {},
   "outputs": [
    {
     "data": {
      "text/html": [
       "<div>\n",
       "<style scoped>\n",
       "    .dataframe tbody tr th:only-of-type {\n",
       "        vertical-align: middle;\n",
       "    }\n",
       "\n",
       "    .dataframe tbody tr th {\n",
       "        vertical-align: top;\n",
       "    }\n",
       "\n",
       "    .dataframe thead th {\n",
       "        text-align: right;\n",
       "    }\n",
       "</style>\n",
       "<table border=\"1\" class=\"dataframe\">\n",
       "  <thead>\n",
       "    <tr style=\"text-align: right;\">\n",
       "      <th></th>\n",
       "      <th>id</th>\n",
       "      <th>name</th>\n",
       "      <th>snippet.requirement</th>\n",
       "      <th>snippet.responsibility</th>\n",
       "      <th>description</th>\n",
       "      <th>experience.name</th>\n",
       "      <th>published_at</th>\n",
       "      <th>created_at</th>\n",
       "      <th>alternate_url</th>\n",
       "      <th>working_days</th>\n",
       "      <th>working_time_intervals</th>\n",
       "      <th>working_time_modes</th>\n",
       "      <th>accept_temporary</th>\n",
       "      <th>employment.name</th>\n",
       "      <th>professional_roles_name</th>\n",
       "      <th>accept_incomplete_resumes</th>\n",
       "      <th>department.name</th>\n",
       "      <th>area.name</th>\n",
       "      <th>salary.from</th>\n",
       "      <th>salary.to</th>\n",
       "      <th>salary.currency</th>\n",
       "      <th>salary.gross</th>\n",
       "      <th>type.name</th>\n",
       "      <th>employer.name</th>\n",
       "      <th>employer.alternate_url</th>\n",
       "      <th>employer.vacancies_url</th>\n",
       "      <th>address.city</th>\n",
       "      <th>address.street</th>\n",
       "      <th>address.building</th>\n",
       "      <th>address.lat</th>\n",
       "      <th>address.lng</th>\n",
       "      <th>address.raw</th>\n",
       "      <th>address.metro.station_name</th>\n",
       "      <th>address.metro.line_name</th>\n",
       "      <th>address.metro.station_id</th>\n",
       "      <th>address.metro.line_id</th>\n",
       "      <th>address.metro.lat</th>\n",
       "      <th>address.metro.lng</th>\n",
       "      <th>remote</th>\n",
       "      <th>office</th>\n",
       "      <th>junior</th>\n",
       "      <th>middle</th>\n",
       "      <th>senior</th>\n",
       "      <th>lead</th>\n",
       "      <th>salary_median</th>\n",
       "      <th>salary_net</th>\n",
       "      <th>description_preprocessed</th>\n",
       "      <th>role_clusters</th>\n",
       "    </tr>\n",
       "  </thead>\n",
       "  <tbody>\n",
       "    <tr>\n",
       "      <th>87</th>\n",
       "      <td>79143960</td>\n",
       "      <td>Data Engineer (Informatica PC)</td>\n",
       "      <td>В своей деятельности мы сочетаем обширные знан...</td>\n",
       "      <td>Возможность использовать передовые технологии ...</td>\n",
       "      <td>Компания Axenix (ранее Accenture) продолжает р...</td>\n",
       "      <td>От 3 до 6 лет</td>\n",
       "      <td>2023-04-11T10:31:48+0300</td>\n",
       "      <td>2023-04-11T10:31:48+0300</td>\n",
       "      <td>https://hh.ru/vacancy/79143960</td>\n",
       "      <td>[]</td>\n",
       "      <td>[]</td>\n",
       "      <td>[]</td>\n",
       "      <td>False</td>\n",
       "      <td>Полная занятость</td>\n",
       "      <td>Программист, разработчик</td>\n",
       "      <td>False</td>\n",
       "      <td>NaN</td>\n",
       "      <td>Москва</td>\n",
       "      <td>NaN</td>\n",
       "      <td>NaN</td>\n",
       "      <td>NaN</td>\n",
       "      <td>NaN</td>\n",
       "      <td>Открытая</td>\n",
       "      <td>Axenix (ранее Accenture)</td>\n",
       "      <td>https://hh.ru/employer/4080</td>\n",
       "      <td>https://api.hh.ru/vacancies?employer_id=4080</td>\n",
       "      <td>NaN</td>\n",
       "      <td>NaN</td>\n",
       "      <td>NaN</td>\n",
       "      <td>NaN</td>\n",
       "      <td>NaN</td>\n",
       "      <td>NaN</td>\n",
       "      <td>NaN</td>\n",
       "      <td>NaN</td>\n",
       "      <td>NaN</td>\n",
       "      <td>NaN</td>\n",
       "      <td>NaN</td>\n",
       "      <td>NaN</td>\n",
       "      <td>True</td>\n",
       "      <td>False</td>\n",
       "      <td>False</td>\n",
       "      <td>False</td>\n",
       "      <td>False</td>\n",
       "      <td>False</td>\n",
       "      <td>NaN</td>\n",
       "      <td>NaN</td>\n",
       "      <td>компания axenix ранее accenture продолжать раб...</td>\n",
       "      <td>0</td>\n",
       "    </tr>\n",
       "    <tr>\n",
       "      <th>90</th>\n",
       "      <td>79218689</td>\n",
       "      <td>Data Engineer (pySpark)</td>\n",
       "      <td>В своей деятельности мы сочетаем обширные знан...</td>\n",
       "      <td>Оптимизация времени выполнения джобов на pySpa...</td>\n",
       "      <td>Компания Axenix (ранее Accenture) продолжает р...</td>\n",
       "      <td>От 3 до 6 лет</td>\n",
       "      <td>2023-04-12T15:44:28+0300</td>\n",
       "      <td>2023-04-12T15:44:28+0300</td>\n",
       "      <td>https://hh.ru/vacancy/79218689</td>\n",
       "      <td>[]</td>\n",
       "      <td>[]</td>\n",
       "      <td>[]</td>\n",
       "      <td>False</td>\n",
       "      <td>Полная занятость</td>\n",
       "      <td>Программист, разработчик</td>\n",
       "      <td>False</td>\n",
       "      <td>NaN</td>\n",
       "      <td>Москва</td>\n",
       "      <td>NaN</td>\n",
       "      <td>NaN</td>\n",
       "      <td>NaN</td>\n",
       "      <td>NaN</td>\n",
       "      <td>Открытая</td>\n",
       "      <td>Axenix (ранее Accenture)</td>\n",
       "      <td>https://hh.ru/employer/4080</td>\n",
       "      <td>https://api.hh.ru/vacancies?employer_id=4080</td>\n",
       "      <td>Москва</td>\n",
       "      <td>Павелецкая пл.</td>\n",
       "      <td>2, строение 2</td>\n",
       "      <td>55.730228</td>\n",
       "      <td>37.635772</td>\n",
       "      <td>Москва, Павелецкая пл., 2, строение 2</td>\n",
       "      <td>Павелецкая</td>\n",
       "      <td>Кольцевая</td>\n",
       "      <td>5.102</td>\n",
       "      <td>5</td>\n",
       "      <td>55.731414</td>\n",
       "      <td>37.636294</td>\n",
       "      <td>True</td>\n",
       "      <td>False</td>\n",
       "      <td>False</td>\n",
       "      <td>False</td>\n",
       "      <td>False</td>\n",
       "      <td>False</td>\n",
       "      <td>NaN</td>\n",
       "      <td>NaN</td>\n",
       "      <td>компания axenix ранее accenture продолжать раб...</td>\n",
       "      <td>0</td>\n",
       "    </tr>\n",
       "    <tr>\n",
       "      <th>92</th>\n",
       "      <td>77774985</td>\n",
       "      <td>Data Engineer (удаленно)</td>\n",
       "      <td>Опыт работы в роли &lt;highlighttext&gt;Инженера&lt;/hi...</td>\n",
       "      <td>Создание витрин данных. Осуществление обработк...</td>\n",
       "      <td>Приглашаем Data Engineer-а присоединиться к на...</td>\n",
       "      <td>От 3 до 6 лет</td>\n",
       "      <td>2023-04-13T13:16:13+0300</td>\n",
       "      <td>2023-04-13T13:16:13+0300</td>\n",
       "      <td>https://hh.ru/vacancy/77774985</td>\n",
       "      <td>[]</td>\n",
       "      <td>[]</td>\n",
       "      <td>[]</td>\n",
       "      <td>False</td>\n",
       "      <td>Полная занятость</td>\n",
       "      <td>Программист, разработчик</td>\n",
       "      <td>False</td>\n",
       "      <td>«РОСБАНК»</td>\n",
       "      <td>Москва</td>\n",
       "      <td>NaN</td>\n",
       "      <td>NaN</td>\n",
       "      <td>NaN</td>\n",
       "      <td>NaN</td>\n",
       "      <td>Открытая</td>\n",
       "      <td>РОСБАНК</td>\n",
       "      <td>https://hh.ru/employer/599</td>\n",
       "      <td>https://api.hh.ru/vacancies?employer_id=599</td>\n",
       "      <td>NaN</td>\n",
       "      <td>NaN</td>\n",
       "      <td>NaN</td>\n",
       "      <td>NaN</td>\n",
       "      <td>NaN</td>\n",
       "      <td>NaN</td>\n",
       "      <td>NaN</td>\n",
       "      <td>NaN</td>\n",
       "      <td>NaN</td>\n",
       "      <td>NaN</td>\n",
       "      <td>NaN</td>\n",
       "      <td>NaN</td>\n",
       "      <td>False</td>\n",
       "      <td>True</td>\n",
       "      <td>False</td>\n",
       "      <td>False</td>\n",
       "      <td>False</td>\n",
       "      <td>False</td>\n",
       "      <td>NaN</td>\n",
       "      <td>NaN</td>\n",
       "      <td>приглашать data engineer присоединиться наш ко...</td>\n",
       "      <td>0</td>\n",
       "    </tr>\n",
       "    <tr>\n",
       "      <th>93</th>\n",
       "      <td>78984043</td>\n",
       "      <td>Data Engineer (PySpark)</td>\n",
       "      <td>None</td>\n",
       "      <td>В рамках пилотного проекта создание пробных ве...</td>\n",
       "      <td>Команда Axenix (ex-Accenture) продолжает работ...</td>\n",
       "      <td>От 3 до 6 лет</td>\n",
       "      <td>2023-04-06T11:11:47+0300</td>\n",
       "      <td>2023-04-06T11:11:47+0300</td>\n",
       "      <td>https://hh.ru/vacancy/78984043</td>\n",
       "      <td>[]</td>\n",
       "      <td>[]</td>\n",
       "      <td>[]</td>\n",
       "      <td>False</td>\n",
       "      <td>Полная занятость</td>\n",
       "      <td>Программист, разработчик</td>\n",
       "      <td>False</td>\n",
       "      <td>NaN</td>\n",
       "      <td>Тверь</td>\n",
       "      <td>NaN</td>\n",
       "      <td>NaN</td>\n",
       "      <td>NaN</td>\n",
       "      <td>NaN</td>\n",
       "      <td>Открытая</td>\n",
       "      <td>Axenix (ранее Accenture)</td>\n",
       "      <td>https://hh.ru/employer/4080</td>\n",
       "      <td>https://api.hh.ru/vacancies?employer_id=4080</td>\n",
       "      <td>NaN</td>\n",
       "      <td>NaN</td>\n",
       "      <td>NaN</td>\n",
       "      <td>NaN</td>\n",
       "      <td>NaN</td>\n",
       "      <td>NaN</td>\n",
       "      <td>NaN</td>\n",
       "      <td>NaN</td>\n",
       "      <td>NaN</td>\n",
       "      <td>NaN</td>\n",
       "      <td>NaN</td>\n",
       "      <td>NaN</td>\n",
       "      <td>False</td>\n",
       "      <td>True</td>\n",
       "      <td>False</td>\n",
       "      <td>False</td>\n",
       "      <td>False</td>\n",
       "      <td>False</td>\n",
       "      <td>NaN</td>\n",
       "      <td>NaN</td>\n",
       "      <td>команда axenix exaccenture продолжать работа р...</td>\n",
       "      <td>0</td>\n",
       "    </tr>\n",
       "    <tr>\n",
       "      <th>101</th>\n",
       "      <td>78984042</td>\n",
       "      <td>Data Engineer (PySpark)</td>\n",
       "      <td>None</td>\n",
       "      <td>В рамках пилотного проекта создание пробных ве...</td>\n",
       "      <td>Команда Axenix (ex-Accenture) продолжает работ...</td>\n",
       "      <td>От 3 до 6 лет</td>\n",
       "      <td>2023-04-06T11:11:47+0300</td>\n",
       "      <td>2023-04-06T11:11:47+0300</td>\n",
       "      <td>https://hh.ru/vacancy/78984042</td>\n",
       "      <td>[]</td>\n",
       "      <td>[]</td>\n",
       "      <td>[]</td>\n",
       "      <td>False</td>\n",
       "      <td>Полная занятость</td>\n",
       "      <td>Программист, разработчик</td>\n",
       "      <td>False</td>\n",
       "      <td>NaN</td>\n",
       "      <td>Ростов-на-Дону</td>\n",
       "      <td>NaN</td>\n",
       "      <td>NaN</td>\n",
       "      <td>NaN</td>\n",
       "      <td>NaN</td>\n",
       "      <td>Открытая</td>\n",
       "      <td>Axenix (ранее Accenture)</td>\n",
       "      <td>https://hh.ru/employer/4080</td>\n",
       "      <td>https://api.hh.ru/vacancies?employer_id=4080</td>\n",
       "      <td>NaN</td>\n",
       "      <td>NaN</td>\n",
       "      <td>NaN</td>\n",
       "      <td>NaN</td>\n",
       "      <td>NaN</td>\n",
       "      <td>NaN</td>\n",
       "      <td>NaN</td>\n",
       "      <td>NaN</td>\n",
       "      <td>NaN</td>\n",
       "      <td>NaN</td>\n",
       "      <td>NaN</td>\n",
       "      <td>NaN</td>\n",
       "      <td>False</td>\n",
       "      <td>True</td>\n",
       "      <td>False</td>\n",
       "      <td>False</td>\n",
       "      <td>False</td>\n",
       "      <td>False</td>\n",
       "      <td>NaN</td>\n",
       "      <td>NaN</td>\n",
       "      <td>команда axenix exaccenture продолжать работа р...</td>\n",
       "      <td>0</td>\n",
       "    </tr>\n",
       "    <tr>\n",
       "      <th>...</th>\n",
       "      <td>...</td>\n",
       "      <td>...</td>\n",
       "      <td>...</td>\n",
       "      <td>...</td>\n",
       "      <td>...</td>\n",
       "      <td>...</td>\n",
       "      <td>...</td>\n",
       "      <td>...</td>\n",
       "      <td>...</td>\n",
       "      <td>...</td>\n",
       "      <td>...</td>\n",
       "      <td>...</td>\n",
       "      <td>...</td>\n",
       "      <td>...</td>\n",
       "      <td>...</td>\n",
       "      <td>...</td>\n",
       "      <td>...</td>\n",
       "      <td>...</td>\n",
       "      <td>...</td>\n",
       "      <td>...</td>\n",
       "      <td>...</td>\n",
       "      <td>...</td>\n",
       "      <td>...</td>\n",
       "      <td>...</td>\n",
       "      <td>...</td>\n",
       "      <td>...</td>\n",
       "      <td>...</td>\n",
       "      <td>...</td>\n",
       "      <td>...</td>\n",
       "      <td>...</td>\n",
       "      <td>...</td>\n",
       "      <td>...</td>\n",
       "      <td>...</td>\n",
       "      <td>...</td>\n",
       "      <td>...</td>\n",
       "      <td>...</td>\n",
       "      <td>...</td>\n",
       "      <td>...</td>\n",
       "      <td>...</td>\n",
       "      <td>...</td>\n",
       "      <td>...</td>\n",
       "      <td>...</td>\n",
       "      <td>...</td>\n",
       "      <td>...</td>\n",
       "      <td>...</td>\n",
       "      <td>...</td>\n",
       "      <td>...</td>\n",
       "      <td>...</td>\n",
       "    </tr>\n",
       "    <tr>\n",
       "      <th>4889</th>\n",
       "      <td>79229148</td>\n",
       "      <td>Системный аналитик</td>\n",
       "      <td>Опыт в системном анализе от 2 лет. Навыки разр...</td>\n",
       "      <td>...нотации BPMN (для движков Activiti/Camunda)...</td>\n",
       "      <td>В Росбанке возможен полностью дистанционный фо...</td>\n",
       "      <td>От 1 года до 3 лет</td>\n",
       "      <td>2023-04-12T20:37:37+0300</td>\n",
       "      <td>2023-04-12T20:37:37+0300</td>\n",
       "      <td>https://hh.ru/vacancy/79229148</td>\n",
       "      <td>[]</td>\n",
       "      <td>[]</td>\n",
       "      <td>[]</td>\n",
       "      <td>False</td>\n",
       "      <td>Полная занятость</td>\n",
       "      <td>Системный аналитик</td>\n",
       "      <td>False</td>\n",
       "      <td>«РОСБАНК»</td>\n",
       "      <td>Москва</td>\n",
       "      <td>NaN</td>\n",
       "      <td>NaN</td>\n",
       "      <td>NaN</td>\n",
       "      <td>NaN</td>\n",
       "      <td>Открытая</td>\n",
       "      <td>РОСБАНК</td>\n",
       "      <td>https://hh.ru/employer/599</td>\n",
       "      <td>https://api.hh.ru/vacancies?employer_id=599</td>\n",
       "      <td>NaN</td>\n",
       "      <td>NaN</td>\n",
       "      <td>NaN</td>\n",
       "      <td>NaN</td>\n",
       "      <td>NaN</td>\n",
       "      <td>NaN</td>\n",
       "      <td>NaN</td>\n",
       "      <td>NaN</td>\n",
       "      <td>NaN</td>\n",
       "      <td>NaN</td>\n",
       "      <td>NaN</td>\n",
       "      <td>NaN</td>\n",
       "      <td>False</td>\n",
       "      <td>True</td>\n",
       "      <td>False</td>\n",
       "      <td>False</td>\n",
       "      <td>False</td>\n",
       "      <td>False</td>\n",
       "      <td>NaN</td>\n",
       "      <td>NaN</td>\n",
       "      <td>росбанк возможный полностью дистанционный форм...</td>\n",
       "      <td>0</td>\n",
       "    </tr>\n",
       "    <tr>\n",
       "      <th>4956</th>\n",
       "      <td>77793532</td>\n",
       "      <td>Проектный менеджер управления процессами/Аналитик</td>\n",
       "      <td>Опыт работы с СУБД GreenPlum/Postgre/Oracle/MS...</td>\n",
       "      <td>Развитие направления Capacity management. Разр...</td>\n",
       "      <td>Росбанк – частный универсальный банк, работающ...</td>\n",
       "      <td>От 3 до 6 лет</td>\n",
       "      <td>2023-04-10T18:48:02+0300</td>\n",
       "      <td>2023-04-10T18:48:02+0300</td>\n",
       "      <td>https://hh.ru/vacancy/77793532</td>\n",
       "      <td>[]</td>\n",
       "      <td>[]</td>\n",
       "      <td>[]</td>\n",
       "      <td>False</td>\n",
       "      <td>Полная занятость</td>\n",
       "      <td>Руководитель проектов</td>\n",
       "      <td>False</td>\n",
       "      <td>«РОСБАНК»</td>\n",
       "      <td>Москва</td>\n",
       "      <td>NaN</td>\n",
       "      <td>NaN</td>\n",
       "      <td>NaN</td>\n",
       "      <td>NaN</td>\n",
       "      <td>Открытая</td>\n",
       "      <td>РОСБАНК</td>\n",
       "      <td>https://hh.ru/employer/599</td>\n",
       "      <td>https://api.hh.ru/vacancies?employer_id=599</td>\n",
       "      <td>NaN</td>\n",
       "      <td>NaN</td>\n",
       "      <td>NaN</td>\n",
       "      <td>NaN</td>\n",
       "      <td>NaN</td>\n",
       "      <td>NaN</td>\n",
       "      <td>NaN</td>\n",
       "      <td>NaN</td>\n",
       "      <td>NaN</td>\n",
       "      <td>NaN</td>\n",
       "      <td>NaN</td>\n",
       "      <td>NaN</td>\n",
       "      <td>False</td>\n",
       "      <td>True</td>\n",
       "      <td>False</td>\n",
       "      <td>False</td>\n",
       "      <td>False</td>\n",
       "      <td>False</td>\n",
       "      <td>NaN</td>\n",
       "      <td>NaN</td>\n",
       "      <td>росбанк частный универсальный банк работать ро...</td>\n",
       "      <td>0</td>\n",
       "    </tr>\n",
       "    <tr>\n",
       "      <th>4969</th>\n",
       "      <td>77480338</td>\n",
       "      <td>Начальник отдела аналитики и отчетности сегмен...</td>\n",
       "      <td>Опыт работы с MS SQL/PostgreSQL/Greenplum/Hado...</td>\n",
       "      <td>...и другим метрикам. Оценка CRM-кампаний, уча...</td>\n",
       "      <td>Росбанк – частный универсальный банк, работающ...</td>\n",
       "      <td>От 3 до 6 лет</td>\n",
       "      <td>2023-04-10T18:48:02+0300</td>\n",
       "      <td>2023-04-10T18:48:02+0300</td>\n",
       "      <td>https://hh.ru/vacancy/77480338</td>\n",
       "      <td>[]</td>\n",
       "      <td>[]</td>\n",
       "      <td>[]</td>\n",
       "      <td>False</td>\n",
       "      <td>Полная занятость</td>\n",
       "      <td>Руководитель отдела аналитики</td>\n",
       "      <td>False</td>\n",
       "      <td>«РОСБАНК»</td>\n",
       "      <td>Москва</td>\n",
       "      <td>NaN</td>\n",
       "      <td>NaN</td>\n",
       "      <td>NaN</td>\n",
       "      <td>NaN</td>\n",
       "      <td>Открытая</td>\n",
       "      <td>РОСБАНК</td>\n",
       "      <td>https://hh.ru/employer/599</td>\n",
       "      <td>https://api.hh.ru/vacancies?employer_id=599</td>\n",
       "      <td>NaN</td>\n",
       "      <td>NaN</td>\n",
       "      <td>NaN</td>\n",
       "      <td>NaN</td>\n",
       "      <td>NaN</td>\n",
       "      <td>NaN</td>\n",
       "      <td>NaN</td>\n",
       "      <td>NaN</td>\n",
       "      <td>NaN</td>\n",
       "      <td>NaN</td>\n",
       "      <td>NaN</td>\n",
       "      <td>NaN</td>\n",
       "      <td>True</td>\n",
       "      <td>False</td>\n",
       "      <td>False</td>\n",
       "      <td>False</td>\n",
       "      <td>False</td>\n",
       "      <td>False</td>\n",
       "      <td>NaN</td>\n",
       "      <td>NaN</td>\n",
       "      <td>росбанк частный универсальный банк работать ро...</td>\n",
       "      <td>0</td>\n",
       "    </tr>\n",
       "    <tr>\n",
       "      <th>4979</th>\n",
       "      <td>78119740</td>\n",
       "      <td>Аналитик SQL (кредитные продукты)</td>\n",
       "      <td>Продвинутый пользователь MS Excel, приветствую...</td>\n",
       "      <td>Аналитика продаж кредитных продуктов (кредитны...</td>\n",
       "      <td>Приглашаем АНАЛИТИКА SQL присоединиться к кома...</td>\n",
       "      <td>От 1 года до 3 лет</td>\n",
       "      <td>2023-04-10T09:36:58+0300</td>\n",
       "      <td>2023-04-10T09:36:58+0300</td>\n",
       "      <td>https://hh.ru/vacancy/78119740</td>\n",
       "      <td>[]</td>\n",
       "      <td>[]</td>\n",
       "      <td>[]</td>\n",
       "      <td>False</td>\n",
       "      <td>Полная занятость</td>\n",
       "      <td>Продуктовый аналитик</td>\n",
       "      <td>False</td>\n",
       "      <td>«РОСБАНК»</td>\n",
       "      <td>Москва</td>\n",
       "      <td>NaN</td>\n",
       "      <td>NaN</td>\n",
       "      <td>NaN</td>\n",
       "      <td>NaN</td>\n",
       "      <td>Открытая</td>\n",
       "      <td>РОСБАНК</td>\n",
       "      <td>https://hh.ru/employer/599</td>\n",
       "      <td>https://api.hh.ru/vacancies?employer_id=599</td>\n",
       "      <td>NaN</td>\n",
       "      <td>NaN</td>\n",
       "      <td>NaN</td>\n",
       "      <td>NaN</td>\n",
       "      <td>NaN</td>\n",
       "      <td>NaN</td>\n",
       "      <td>NaN</td>\n",
       "      <td>NaN</td>\n",
       "      <td>NaN</td>\n",
       "      <td>NaN</td>\n",
       "      <td>NaN</td>\n",
       "      <td>NaN</td>\n",
       "      <td>False</td>\n",
       "      <td>True</td>\n",
       "      <td>False</td>\n",
       "      <td>False</td>\n",
       "      <td>False</td>\n",
       "      <td>False</td>\n",
       "      <td>NaN</td>\n",
       "      <td>NaN</td>\n",
       "      <td>приглашать аналитика sql присоединиться команд...</td>\n",
       "      <td>0</td>\n",
       "    </tr>\n",
       "    <tr>\n",
       "      <th>5006</th>\n",
       "      <td>79037464</td>\n",
       "      <td>Специалист по Data Science</td>\n",
       "      <td>Техническое/экономическое образование. Пониман...</td>\n",
       "      <td>Участие в сборе и обработке данных. Подбор вли...</td>\n",
       "      <td>Хочешь всё и сразу: хорошую зарплату уже на ст...</td>\n",
       "      <td>От 1 года до 3 лет</td>\n",
       "      <td>2023-04-07T12:20:58+0300</td>\n",
       "      <td>2023-04-07T12:20:58+0300</td>\n",
       "      <td>https://hh.ru/vacancy/79037464</td>\n",
       "      <td>[]</td>\n",
       "      <td>[]</td>\n",
       "      <td>[]</td>\n",
       "      <td>False</td>\n",
       "      <td>Полная занятость</td>\n",
       "      <td>Аналитик</td>\n",
       "      <td>False</td>\n",
       "      <td>NaN</td>\n",
       "      <td>Казань</td>\n",
       "      <td>NaN</td>\n",
       "      <td>NaN</td>\n",
       "      <td>NaN</td>\n",
       "      <td>NaN</td>\n",
       "      <td>Открытая</td>\n",
       "      <td>Совкомбанк</td>\n",
       "      <td>https://hh.ru/employer/7944</td>\n",
       "      <td>https://api.hh.ru/vacancies?employer_id=7944</td>\n",
       "      <td>Казань</td>\n",
       "      <td>Петербургская улица</td>\n",
       "      <td>50к1</td>\n",
       "      <td>55.782066</td>\n",
       "      <td>49.131261</td>\n",
       "      <td>Казань, Петербургская улица, 50к1</td>\n",
       "      <td>Суконная слобода</td>\n",
       "      <td>Центральная</td>\n",
       "      <td>49.274</td>\n",
       "      <td>49</td>\n",
       "      <td>55.777094</td>\n",
       "      <td>49.142275</td>\n",
       "      <td>False</td>\n",
       "      <td>True</td>\n",
       "      <td>False</td>\n",
       "      <td>False</td>\n",
       "      <td>False</td>\n",
       "      <td>False</td>\n",
       "      <td>NaN</td>\n",
       "      <td>NaN</td>\n",
       "      <td>хотеть всё сразу хороший зарплата старт стабил...</td>\n",
       "      <td>0</td>\n",
       "    </tr>\n",
       "  </tbody>\n",
       "</table>\n",
       "<p>91 rows × 48 columns</p>\n",
       "</div>"
      ],
      "text/plain": [
       "            id                                               name  \\\n",
       "87    79143960                     Data Engineer (Informatica PC)   \n",
       "90    79218689                            Data Engineer (pySpark)   \n",
       "92    77774985                           Data Engineer (удаленно)   \n",
       "93    78984043                            Data Engineer (PySpark)   \n",
       "101   78984042                            Data Engineer (PySpark)   \n",
       "...        ...                                                ...   \n",
       "4889  79229148                                 Системный аналитик   \n",
       "4956  77793532  Проектный менеджер управления процессами/Аналитик   \n",
       "4969  77480338  Начальник отдела аналитики и отчетности сегмен...   \n",
       "4979  78119740                  Аналитик SQL (кредитные продукты)   \n",
       "5006  79037464                         Специалист по Data Science   \n",
       "\n",
       "                                    snippet.requirement  \\\n",
       "87    В своей деятельности мы сочетаем обширные знан...   \n",
       "90    В своей деятельности мы сочетаем обширные знан...   \n",
       "92    Опыт работы в роли <highlighttext>Инженера</hi...   \n",
       "93                                                 None   \n",
       "101                                                None   \n",
       "...                                                 ...   \n",
       "4889  Опыт в системном анализе от 2 лет. Навыки разр...   \n",
       "4956  Опыт работы с СУБД GreenPlum/Postgre/Oracle/MS...   \n",
       "4969  Опыт работы с MS SQL/PostgreSQL/Greenplum/Hado...   \n",
       "4979  Продвинутый пользователь MS Excel, приветствую...   \n",
       "5006  Техническое/экономическое образование. Пониман...   \n",
       "\n",
       "                                 snippet.responsibility  \\\n",
       "87    Возможность использовать передовые технологии ...   \n",
       "90    Оптимизация времени выполнения джобов на pySpa...   \n",
       "92    Создание витрин данных. Осуществление обработк...   \n",
       "93    В рамках пилотного проекта создание пробных ве...   \n",
       "101   В рамках пилотного проекта создание пробных ве...   \n",
       "...                                                 ...   \n",
       "4889  ...нотации BPMN (для движков Activiti/Camunda)...   \n",
       "4956  Развитие направления Capacity management. Разр...   \n",
       "4969  ...и другим метрикам. Оценка CRM-кампаний, уча...   \n",
       "4979  Аналитика продаж кредитных продуктов (кредитны...   \n",
       "5006  Участие в сборе и обработке данных. Подбор вли...   \n",
       "\n",
       "                                            description     experience.name  \\\n",
       "87    Компания Axenix (ранее Accenture) продолжает р...       От 3 до 6 лет   \n",
       "90    Компания Axenix (ранее Accenture) продолжает р...       От 3 до 6 лет   \n",
       "92    Приглашаем Data Engineer-а присоединиться к на...       От 3 до 6 лет   \n",
       "93    Команда Axenix (ex-Accenture) продолжает работ...       От 3 до 6 лет   \n",
       "101   Команда Axenix (ex-Accenture) продолжает работ...       От 3 до 6 лет   \n",
       "...                                                 ...                 ...   \n",
       "4889  В Росбанке возможен полностью дистанционный фо...  От 1 года до 3 лет   \n",
       "4956  Росбанк – частный универсальный банк, работающ...       От 3 до 6 лет   \n",
       "4969  Росбанк – частный универсальный банк, работающ...       От 3 до 6 лет   \n",
       "4979  Приглашаем АНАЛИТИКА SQL присоединиться к кома...  От 1 года до 3 лет   \n",
       "5006  Хочешь всё и сразу: хорошую зарплату уже на ст...  От 1 года до 3 лет   \n",
       "\n",
       "                  published_at                created_at  \\\n",
       "87    2023-04-11T10:31:48+0300  2023-04-11T10:31:48+0300   \n",
       "90    2023-04-12T15:44:28+0300  2023-04-12T15:44:28+0300   \n",
       "92    2023-04-13T13:16:13+0300  2023-04-13T13:16:13+0300   \n",
       "93    2023-04-06T11:11:47+0300  2023-04-06T11:11:47+0300   \n",
       "101   2023-04-06T11:11:47+0300  2023-04-06T11:11:47+0300   \n",
       "...                        ...                       ...   \n",
       "4889  2023-04-12T20:37:37+0300  2023-04-12T20:37:37+0300   \n",
       "4956  2023-04-10T18:48:02+0300  2023-04-10T18:48:02+0300   \n",
       "4969  2023-04-10T18:48:02+0300  2023-04-10T18:48:02+0300   \n",
       "4979  2023-04-10T09:36:58+0300  2023-04-10T09:36:58+0300   \n",
       "5006  2023-04-07T12:20:58+0300  2023-04-07T12:20:58+0300   \n",
       "\n",
       "                       alternate_url working_days working_time_intervals  \\\n",
       "87    https://hh.ru/vacancy/79143960           []                     []   \n",
       "90    https://hh.ru/vacancy/79218689           []                     []   \n",
       "92    https://hh.ru/vacancy/77774985           []                     []   \n",
       "93    https://hh.ru/vacancy/78984043           []                     []   \n",
       "101   https://hh.ru/vacancy/78984042           []                     []   \n",
       "...                              ...          ...                    ...   \n",
       "4889  https://hh.ru/vacancy/79229148           []                     []   \n",
       "4956  https://hh.ru/vacancy/77793532           []                     []   \n",
       "4969  https://hh.ru/vacancy/77480338           []                     []   \n",
       "4979  https://hh.ru/vacancy/78119740           []                     []   \n",
       "5006  https://hh.ru/vacancy/79037464           []                     []   \n",
       "\n",
       "     working_time_modes  accept_temporary   employment.name  \\\n",
       "87                   []             False  Полная занятость   \n",
       "90                   []             False  Полная занятость   \n",
       "92                   []             False  Полная занятость   \n",
       "93                   []             False  Полная занятость   \n",
       "101                  []             False  Полная занятость   \n",
       "...                 ...               ...               ...   \n",
       "4889                 []             False  Полная занятость   \n",
       "4956                 []             False  Полная занятость   \n",
       "4969                 []             False  Полная занятость   \n",
       "4979                 []             False  Полная занятость   \n",
       "5006                 []             False  Полная занятость   \n",
       "\n",
       "            professional_roles_name  accept_incomplete_resumes  \\\n",
       "87         Программист, разработчик                      False   \n",
       "90         Программист, разработчик                      False   \n",
       "92         Программист, разработчик                      False   \n",
       "93         Программист, разработчик                      False   \n",
       "101        Программист, разработчик                      False   \n",
       "...                             ...                        ...   \n",
       "4889             Системный аналитик                      False   \n",
       "4956          Руководитель проектов                      False   \n",
       "4969  Руководитель отдела аналитики                      False   \n",
       "4979           Продуктовый аналитик                      False   \n",
       "5006                       Аналитик                      False   \n",
       "\n",
       "     department.name       area.name  salary.from  salary.to salary.currency  \\\n",
       "87               NaN          Москва          NaN        NaN             NaN   \n",
       "90               NaN          Москва          NaN        NaN             NaN   \n",
       "92         «РОСБАНК»          Москва          NaN        NaN             NaN   \n",
       "93               NaN           Тверь          NaN        NaN             NaN   \n",
       "101              NaN  Ростов-на-Дону          NaN        NaN             NaN   \n",
       "...              ...             ...          ...        ...             ...   \n",
       "4889       «РОСБАНК»          Москва          NaN        NaN             NaN   \n",
       "4956       «РОСБАНК»          Москва          NaN        NaN             NaN   \n",
       "4969       «РОСБАНК»          Москва          NaN        NaN             NaN   \n",
       "4979       «РОСБАНК»          Москва          NaN        NaN             NaN   \n",
       "5006             NaN          Казань          NaN        NaN             NaN   \n",
       "\n",
       "     salary.gross type.name             employer.name  \\\n",
       "87            NaN  Открытая  Axenix (ранее Accenture)   \n",
       "90            NaN  Открытая  Axenix (ранее Accenture)   \n",
       "92            NaN  Открытая                   РОСБАНК   \n",
       "93            NaN  Открытая  Axenix (ранее Accenture)   \n",
       "101           NaN  Открытая  Axenix (ранее Accenture)   \n",
       "...           ...       ...                       ...   \n",
       "4889          NaN  Открытая                   РОСБАНК   \n",
       "4956          NaN  Открытая                   РОСБАНК   \n",
       "4969          NaN  Открытая                   РОСБАНК   \n",
       "4979          NaN  Открытая                   РОСБАНК   \n",
       "5006          NaN  Открытая                Совкомбанк   \n",
       "\n",
       "           employer.alternate_url  \\\n",
       "87    https://hh.ru/employer/4080   \n",
       "90    https://hh.ru/employer/4080   \n",
       "92     https://hh.ru/employer/599   \n",
       "93    https://hh.ru/employer/4080   \n",
       "101   https://hh.ru/employer/4080   \n",
       "...                           ...   \n",
       "4889   https://hh.ru/employer/599   \n",
       "4956   https://hh.ru/employer/599   \n",
       "4969   https://hh.ru/employer/599   \n",
       "4979   https://hh.ru/employer/599   \n",
       "5006  https://hh.ru/employer/7944   \n",
       "\n",
       "                            employer.vacancies_url address.city  \\\n",
       "87    https://api.hh.ru/vacancies?employer_id=4080          NaN   \n",
       "90    https://api.hh.ru/vacancies?employer_id=4080       Москва   \n",
       "92     https://api.hh.ru/vacancies?employer_id=599          NaN   \n",
       "93    https://api.hh.ru/vacancies?employer_id=4080          NaN   \n",
       "101   https://api.hh.ru/vacancies?employer_id=4080          NaN   \n",
       "...                                            ...          ...   \n",
       "4889   https://api.hh.ru/vacancies?employer_id=599          NaN   \n",
       "4956   https://api.hh.ru/vacancies?employer_id=599          NaN   \n",
       "4969   https://api.hh.ru/vacancies?employer_id=599          NaN   \n",
       "4979   https://api.hh.ru/vacancies?employer_id=599          NaN   \n",
       "5006  https://api.hh.ru/vacancies?employer_id=7944       Казань   \n",
       "\n",
       "           address.street address.building  address.lat  address.lng  \\\n",
       "87                    NaN              NaN          NaN          NaN   \n",
       "90         Павелецкая пл.    2, строение 2    55.730228    37.635772   \n",
       "92                    NaN              NaN          NaN          NaN   \n",
       "93                    NaN              NaN          NaN          NaN   \n",
       "101                   NaN              NaN          NaN          NaN   \n",
       "...                   ...              ...          ...          ...   \n",
       "4889                  NaN              NaN          NaN          NaN   \n",
       "4956                  NaN              NaN          NaN          NaN   \n",
       "4969                  NaN              NaN          NaN          NaN   \n",
       "4979                  NaN              NaN          NaN          NaN   \n",
       "5006  Петербургская улица             50к1    55.782066    49.131261   \n",
       "\n",
       "                                address.raw address.metro.station_name  \\\n",
       "87                                      NaN                        NaN   \n",
       "90    Москва, Павелецкая пл., 2, строение 2                 Павелецкая   \n",
       "92                                      NaN                        NaN   \n",
       "93                                      NaN                        NaN   \n",
       "101                                     NaN                        NaN   \n",
       "...                                     ...                        ...   \n",
       "4889                                    NaN                        NaN   \n",
       "4956                                    NaN                        NaN   \n",
       "4969                                    NaN                        NaN   \n",
       "4979                                    NaN                        NaN   \n",
       "5006      Казань, Петербургская улица, 50к1           Суконная слобода   \n",
       "\n",
       "     address.metro.line_name address.metro.station_id address.metro.line_id  \\\n",
       "87                       NaN                      NaN                   NaN   \n",
       "90                 Кольцевая                    5.102                     5   \n",
       "92                       NaN                      NaN                   NaN   \n",
       "93                       NaN                      NaN                   NaN   \n",
       "101                      NaN                      NaN                   NaN   \n",
       "...                      ...                      ...                   ...   \n",
       "4889                     NaN                      NaN                   NaN   \n",
       "4956                     NaN                      NaN                   NaN   \n",
       "4969                     NaN                      NaN                   NaN   \n",
       "4979                     NaN                      NaN                   NaN   \n",
       "5006             Центральная                   49.274                    49   \n",
       "\n",
       "      address.metro.lat  address.metro.lng  remote  office  junior  middle  \\\n",
       "87                  NaN                NaN    True   False   False   False   \n",
       "90            55.731414          37.636294    True   False   False   False   \n",
       "92                  NaN                NaN   False    True   False   False   \n",
       "93                  NaN                NaN   False    True   False   False   \n",
       "101                 NaN                NaN   False    True   False   False   \n",
       "...                 ...                ...     ...     ...     ...     ...   \n",
       "4889                NaN                NaN   False    True   False   False   \n",
       "4956                NaN                NaN   False    True   False   False   \n",
       "4969                NaN                NaN    True   False   False   False   \n",
       "4979                NaN                NaN   False    True   False   False   \n",
       "5006          55.777094          49.142275   False    True   False   False   \n",
       "\n",
       "      senior   lead  salary_median  salary_net  \\\n",
       "87     False  False            NaN         NaN   \n",
       "90     False  False            NaN         NaN   \n",
       "92     False  False            NaN         NaN   \n",
       "93     False  False            NaN         NaN   \n",
       "101    False  False            NaN         NaN   \n",
       "...      ...    ...            ...         ...   \n",
       "4889   False  False            NaN         NaN   \n",
       "4956   False  False            NaN         NaN   \n",
       "4969   False  False            NaN         NaN   \n",
       "4979   False  False            NaN         NaN   \n",
       "5006   False  False            NaN         NaN   \n",
       "\n",
       "                               description_preprocessed  role_clusters  \n",
       "87    компания axenix ранее accenture продолжать раб...              0  \n",
       "90    компания axenix ранее accenture продолжать раб...              0  \n",
       "92    приглашать data engineer присоединиться наш ко...              0  \n",
       "93    команда axenix exaccenture продолжать работа р...              0  \n",
       "101   команда axenix exaccenture продолжать работа р...              0  \n",
       "...                                                 ...            ...  \n",
       "4889  росбанк возможный полностью дистанционный форм...              0  \n",
       "4956  росбанк частный универсальный банк работать ро...              0  \n",
       "4969  росбанк частный универсальный банк работать ро...              0  \n",
       "4979  приглашать аналитика sql присоединиться команд...              0  \n",
       "5006  хотеть всё сразу хороший зарплата старт стабил...              0  \n",
       "\n",
       "[91 rows x 48 columns]"
      ]
     },
     "execution_count": 67,
     "metadata": {},
     "output_type": "execute_result"
    }
   ],
   "source": [
    "[df.loc[df['role_clusters'] == 0]"
   ]
  },
  {
   "cell_type": "code",
   "execution_count": 70,
   "id": "f85ee0f3",
   "metadata": {},
   "outputs": [
    {
     "data": {
      "text/plain": [
       "РОСБАНК                     31\n",
       "Aston                       29\n",
       "Совкомбанк                  17\n",
       "Axenix (ранее Accenture)    14\n",
       "Name: employer.name, dtype: int64"
      ]
     },
     "execution_count": 70,
     "metadata": {},
     "output_type": "execute_result"
    }
   ],
   "source": [
    "df.loc[df['role_clusters'] == 0, 'employer.name'].value_counts()\n"
   ]
  },
  {
   "cell_type": "code",
   "execution_count": 72,
   "id": "16f6360d",
   "metadata": {},
   "outputs": [
    {
     "data": {
      "text/plain": [
       "СБЕР                                217\n",
       "Тинькофф                             92\n",
       "МТС                                  59\n",
       "билайн                               54\n",
       "VK                                   53\n",
       "Иннотех, Группа компаний             53\n",
       "Газпром нефть                        42\n",
       "Яндекс                               41\n",
       "Банк ВТБ (ПАО)                       35\n",
       "РОСБАНК                              33\n",
       "Aston                                31\n",
       "Группа Самолет                       29\n",
       "Спортмастер                          28\n",
       "IBS                                  27\n",
       "Abi                                  24\n",
       "МАГНИТ, Розничная сеть               23\n",
       "Ростелеком                           21\n",
       "Совкомбанк                           20\n",
       "Tele2                                19\n",
       "Самокат (ООО Умное пространство)     19\n",
       "Лаборатория Касперского              19\n",
       "МегаФон                              18\n",
       "Axenix (ранее Accenture)             18\n",
       "Райффайзен Банк                      18\n",
       "Okko                                 17\n",
       "Name: employer.name, dtype: int64"
      ]
     },
     "execution_count": 72,
     "metadata": {},
     "output_type": "execute_result"
    }
   ],
   "source": [
    "df['employer.name'].value_counts().head(25)"
   ]
  },
  {
   "attachments": {},
   "cell_type": "markdown",
   "id": "89f6db9a",
   "metadata": {},
   "source": [
    "Очевидно, что кластеризация прошла в том числе по названию компаний и их кастоимзированному способу описания (часто в вакансиях пишут информацию о компании и чем они хороши). Например, 33 вакансии РОСБАНК попали в нулевой кластер. Но это ведь не значит, что они ищут лишь спечиалистов одного плана. Это нам не подходит.\n"
   ]
  },
  {
   "cell_type": "code",
   "execution_count": 129,
   "id": "1d832ec2",
   "metadata": {},
   "outputs": [
    {
     "name": "stdout",
     "output_type": "stream",
     "text": [
      "spark              166\n",
      "excel              164\n",
      "numpy              141\n",
      "postgresql         140\n",
      "тренинги           134\n",
      "hive               134\n",
      "python             130\n",
      "airflow            129\n",
      "сводные таблицы    122\n",
      "sql                118\n",
      "ответственность    111\n",
      "внимательность     109\n",
      "clickhouse         106\n",
      "pandas             105\n",
      "kafka               97\n",
      "Name: Keys, dtype: int64\n"
     ]
    }
   ],
   "source": [
    "# определим \n",
    "def top_keys(df):\n",
    "    # Collect keys from dataframe\n",
    "    keys_df = df['description'].to_list()\n",
    "    \n",
    "    # Create a list of keys for all vacancies\n",
    "    lst_keys = []\n",
    "    for keys_elem in keys_df:\n",
    "        for el in keys_elem[1:-1].split(', '):\n",
    "            if el != '':\n",
    "                lst_keys.append(re.sub('\\'', '', el.lower()))\n",
    "\n",
    "    # Unique keys and their counter\n",
    "    set_keys = set(lst_keys)\n",
    "    # Dict: {Key: Count}\n",
    "    dct_keys = {el:lst_keys.count(el) for el in set_keys}\n",
    "    # Sorted dict\n",
    "    srt_keys = dict(sorted(dct_keys.items(), key=lambda x: x[1], reverse=True))\n",
    "    # Return pandas series\n",
    "    return pd.Series(srt_keys, name='Keys')\n",
    "\n",
    "ds_keys = top_keys(df)\n",
    "\n",
    "print(ds_keys[:30])"
   ]
  },
  {
   "cell_type": "code",
   "execution_count": 132,
   "id": "73a826e2",
   "metadata": {},
   "outputs": [
    {
     "name": "stdout",
     "output_type": "stream",
     "text": [
      "spark                 166\n",
      "excel                 164\n",
      "numpy                 141\n",
      "postgresql            140\n",
      "тренинги              134\n",
      "hive                  134\n",
      "python                130\n",
      "airflow               129\n",
      "сводные таблицы       122\n",
      "sql                   118\n",
      "ответственность       111\n",
      "внимательность        109\n",
      "clickhouse            106\n",
      "pandas                105\n",
      "kafka                  97\n",
      "tableau                95\n",
      "анализ                 91\n",
      "hadoop                 90\n",
      "power bi               89\n",
      "oracle                 84\n",
      "конференции            80\n",
      "confluence             77\n",
      "uml                    76\n",
      "greenplum              68\n",
      "bpmn                   67\n",
      "jira                   66\n",
      "коммуникабельность     65\n",
      "инициативность         65\n",
      "power point            63\n",
      "scipy                  63\n",
      "Name: Keys, dtype: int64\n"
     ]
    }
   ],
   "source": [
    "print(ds_keys[:30])"
   ]
  },
  {
   "cell_type": "code",
   "execution_count": 131,
   "id": "df380d69",
   "metadata": {},
   "outputs": [
    {
     "data": {
      "text/html": [
       "<div>\n",
       "<style scoped>\n",
       "    .dataframe tbody tr th:only-of-type {\n",
       "        vertical-align: middle;\n",
       "    }\n",
       "\n",
       "    .dataframe tbody tr th {\n",
       "        vertical-align: top;\n",
       "    }\n",
       "\n",
       "    .dataframe thead th {\n",
       "        text-align: right;\n",
       "    }\n",
       "</style>\n",
       "<table border=\"1\" class=\"dataframe\">\n",
       "  <thead>\n",
       "    <tr style=\"text-align: right;\">\n",
       "      <th></th>\n",
       "      <th>id</th>\n",
       "      <th>name</th>\n",
       "      <th>snippet.requirement</th>\n",
       "      <th>snippet.responsibility</th>\n",
       "      <th>description</th>\n",
       "      <th>experience.name</th>\n",
       "      <th>published_at</th>\n",
       "      <th>created_at</th>\n",
       "      <th>alternate_url</th>\n",
       "      <th>working_days</th>\n",
       "      <th>working_time_intervals</th>\n",
       "      <th>working_time_modes</th>\n",
       "      <th>accept_temporary</th>\n",
       "      <th>employment.name</th>\n",
       "      <th>professional_roles_name</th>\n",
       "      <th>accept_incomplete_resumes</th>\n",
       "      <th>department.name</th>\n",
       "      <th>area.name</th>\n",
       "      <th>salary.from</th>\n",
       "      <th>salary.to</th>\n",
       "      <th>salary.currency</th>\n",
       "      <th>salary.gross</th>\n",
       "      <th>type.name</th>\n",
       "      <th>employer.name</th>\n",
       "      <th>employer.alternate_url</th>\n",
       "      <th>employer.vacancies_url</th>\n",
       "      <th>address.city</th>\n",
       "      <th>address.street</th>\n",
       "      <th>address.building</th>\n",
       "      <th>address.lat</th>\n",
       "      <th>address.lng</th>\n",
       "      <th>address.raw</th>\n",
       "      <th>address.metro.station_name</th>\n",
       "      <th>address.metro.line_name</th>\n",
       "      <th>address.metro.station_id</th>\n",
       "      <th>address.metro.line_id</th>\n",
       "      <th>address.metro.lat</th>\n",
       "      <th>address.metro.lng</th>\n",
       "      <th>remote</th>\n",
       "      <th>office</th>\n",
       "      <th>junior</th>\n",
       "      <th>middle</th>\n",
       "      <th>senior</th>\n",
       "      <th>lead</th>\n",
       "      <th>salary_median</th>\n",
       "      <th>salary_net</th>\n",
       "      <th>description_preprocessed</th>\n",
       "      <th>role_clusters</th>\n",
       "    </tr>\n",
       "  </thead>\n",
       "  <tbody>\n",
       "    <tr>\n",
       "      <th>73</th>\n",
       "      <td>79255243</td>\n",
       "      <td>Data Engineer (\"Платформа экспериментов\")</td>\n",
       "      <td>Уверенное знание Clickhouse, Postgres, HDFS. З...</td>\n",
       "      <td>Внедрение ETL-процессов на Airflow. Участие в ...</td>\n",
       "      <td>A/B эксперименты – ключевой инструмент для при...</td>\n",
       "      <td>От 3 до 6 лет</td>\n",
       "      <td>2023-04-13T12:50:37+0300</td>\n",
       "      <td>2023-04-13T12:50:37+0300</td>\n",
       "      <td>https://hh.ru/vacancy/79255243</td>\n",
       "      <td>[]</td>\n",
       "      <td>[]</td>\n",
       "      <td>[]</td>\n",
       "      <td>False</td>\n",
       "      <td>Полная занятость</td>\n",
       "      <td>Программист, разработчик</td>\n",
       "      <td>False</td>\n",
       "      <td>NaN</td>\n",
       "      <td>Москва</td>\n",
       "      <td>NaN</td>\n",
       "      <td>NaN</td>\n",
       "      <td>NaN</td>\n",
       "      <td>NaN</td>\n",
       "      <td>Открытая</td>\n",
       "      <td>Okko</td>\n",
       "      <td>https://hh.ru/employer/1375441</td>\n",
       "      <td>https://api.hh.ru/vacancies?employer_id=1375441</td>\n",
       "      <td>Москва</td>\n",
       "      <td>Рочдельская улица</td>\n",
       "      <td>15с13</td>\n",
       "      <td>55.755991</td>\n",
       "      <td>37.565120</td>\n",
       "      <td>Москва, Рочдельская улица, 15с13</td>\n",
       "      <td>Баррикадная</td>\n",
       "      <td>Таганско-Краснопресненская</td>\n",
       "      <td>7.16</td>\n",
       "      <td>7</td>\n",
       "      <td>55.760793</td>\n",
       "      <td>37.581242</td>\n",
       "      <td>False</td>\n",
       "      <td>True</td>\n",
       "      <td>False</td>\n",
       "      <td>False</td>\n",
       "      <td>False</td>\n",
       "      <td>False</td>\n",
       "      <td>NaN</td>\n",
       "      <td>NaN</td>\n",
       "      <td>ab эксперимент ключевой инструмент принятие ре...</td>\n",
       "      <td>1</td>\n",
       "    </tr>\n",
       "    <tr>\n",
       "      <th>83</th>\n",
       "      <td>79255076</td>\n",
       "      <td>Data Engineer (\"Платформа экспериментов\")</td>\n",
       "      <td>Уверенное знание Clickhouse, Postgres, HDFS. З...</td>\n",
       "      <td>Внедрение ETL-процессов на Airflow. Участие в ...</td>\n",
       "      <td>A/B эксперименты – ключевой инструмент для при...</td>\n",
       "      <td>От 3 до 6 лет</td>\n",
       "      <td>2023-04-13T12:48:01+0300</td>\n",
       "      <td>2023-04-13T12:48:01+0300</td>\n",
       "      <td>https://hh.ru/vacancy/79255076</td>\n",
       "      <td>[]</td>\n",
       "      <td>[]</td>\n",
       "      <td>[]</td>\n",
       "      <td>False</td>\n",
       "      <td>Полная занятость</td>\n",
       "      <td>Программист, разработчик</td>\n",
       "      <td>False</td>\n",
       "      <td>NaN</td>\n",
       "      <td>Санкт-Петербург</td>\n",
       "      <td>NaN</td>\n",
       "      <td>NaN</td>\n",
       "      <td>NaN</td>\n",
       "      <td>NaN</td>\n",
       "      <td>Открытая</td>\n",
       "      <td>Okko</td>\n",
       "      <td>https://hh.ru/employer/1375441</td>\n",
       "      <td>https://api.hh.ru/vacancies?employer_id=1375441</td>\n",
       "      <td>Санкт-Петербург</td>\n",
       "      <td>улица Савушкина</td>\n",
       "      <td>126Б</td>\n",
       "      <td>59.985926</td>\n",
       "      <td>30.202743</td>\n",
       "      <td>Санкт-Петербург, улица Савушкина, 126Б</td>\n",
       "      <td>Беговая</td>\n",
       "      <td>Невско-Василеостровская</td>\n",
       "      <td>16.604</td>\n",
       "      <td>16</td>\n",
       "      <td>59.987230</td>\n",
       "      <td>30.202470</td>\n",
       "      <td>False</td>\n",
       "      <td>True</td>\n",
       "      <td>False</td>\n",
       "      <td>False</td>\n",
       "      <td>False</td>\n",
       "      <td>False</td>\n",
       "      <td>NaN</td>\n",
       "      <td>NaN</td>\n",
       "      <td>ab эксперимент ключевой инструмент принятие ре...</td>\n",
       "      <td>1</td>\n",
       "    </tr>\n",
       "    <tr>\n",
       "      <th>85</th>\n",
       "      <td>77330018</td>\n",
       "      <td>Data DevOps Engineer</td>\n",
       "      <td>Опыт работы с Apache Spark. Опыт работы с Apac...</td>\n",
       "      <td>Участие в разработке распределенного вычислите...</td>\n",
       "      <td>Компания BAUM - с 2010 года специализируется н...</td>\n",
       "      <td>От 3 до 6 лет</td>\n",
       "      <td>2023-04-14T13:52:42+0300</td>\n",
       "      <td>2023-04-14T13:52:42+0300</td>\n",
       "      <td>https://hh.ru/vacancy/77330018</td>\n",
       "      <td>[]</td>\n",
       "      <td>[]</td>\n",
       "      <td>[]</td>\n",
       "      <td>False</td>\n",
       "      <td>Полная занятость</td>\n",
       "      <td>DevOps-инженер</td>\n",
       "      <td>False</td>\n",
       "      <td>NaN</td>\n",
       "      <td>Москва</td>\n",
       "      <td>NaN</td>\n",
       "      <td>NaN</td>\n",
       "      <td>NaN</td>\n",
       "      <td>NaN</td>\n",
       "      <td>Открытая</td>\n",
       "      <td>BAUM STORAGE</td>\n",
       "      <td>https://hh.ru/employer/5465724</td>\n",
       "      <td>https://api.hh.ru/vacancies?employer_id=5465724</td>\n",
       "      <td>Москва</td>\n",
       "      <td>Арбатско-Покровская линия</td>\n",
       "      <td>метро Бауманская</td>\n",
       "      <td>55.772411</td>\n",
       "      <td>37.679044</td>\n",
       "      <td>Москва, Арбатско-Покровская линия, метро Баума...</td>\n",
       "      <td>Бауманская</td>\n",
       "      <td>Арбатско-Покровская</td>\n",
       "      <td>3.17</td>\n",
       "      <td>3</td>\n",
       "      <td>55.772405</td>\n",
       "      <td>37.679040</td>\n",
       "      <td>False</td>\n",
       "      <td>True</td>\n",
       "      <td>False</td>\n",
       "      <td>False</td>\n",
       "      <td>False</td>\n",
       "      <td>False</td>\n",
       "      <td>NaN</td>\n",
       "      <td>NaN</td>\n",
       "      <td>компания baum 2010 год специализироваться сист...</td>\n",
       "      <td>9</td>\n",
       "    </tr>\n",
       "    <tr>\n",
       "      <th>127</th>\n",
       "      <td>69146997</td>\n",
       "      <td>Big Data Engineer</td>\n",
       "      <td>Хорошее знание java/scala. Опыт работы и поним...</td>\n",
       "      <td>Развивать платформу хранения и обработки больш...</td>\n",
       "      <td>VK Видео — самая масштабная видеоплатформа в р...</td>\n",
       "      <td>От 3 до 6 лет</td>\n",
       "      <td>2023-04-15T09:35:11+0300</td>\n",
       "      <td>2023-04-15T09:35:11+0300</td>\n",
       "      <td>https://hh.ru/vacancy/69146997</td>\n",
       "      <td>[]</td>\n",
       "      <td>[]</td>\n",
       "      <td>[]</td>\n",
       "      <td>False</td>\n",
       "      <td>Полная занятость</td>\n",
       "      <td>Программист, разработчик</td>\n",
       "      <td>False</td>\n",
       "      <td>VK</td>\n",
       "      <td>Санкт-Петербург</td>\n",
       "      <td>NaN</td>\n",
       "      <td>NaN</td>\n",
       "      <td>NaN</td>\n",
       "      <td>NaN</td>\n",
       "      <td>Открытая</td>\n",
       "      <td>VK</td>\n",
       "      <td>https://hh.ru/employer/15478</td>\n",
       "      <td>https://api.hh.ru/vacancies?employer_id=15478</td>\n",
       "      <td>Санкт-Петербург</td>\n",
       "      <td>Херсонская улица</td>\n",
       "      <td>12-14</td>\n",
       "      <td>59.928532</td>\n",
       "      <td>30.381050</td>\n",
       "      <td>Санкт-Петербург, Херсонская улица, 12-14</td>\n",
       "      <td>NaN</td>\n",
       "      <td>NaN</td>\n",
       "      <td>NaN</td>\n",
       "      <td>NaN</td>\n",
       "      <td>NaN</td>\n",
       "      <td>NaN</td>\n",
       "      <td>False</td>\n",
       "      <td>True</td>\n",
       "      <td>False</td>\n",
       "      <td>False</td>\n",
       "      <td>False</td>\n",
       "      <td>False</td>\n",
       "      <td>NaN</td>\n",
       "      <td>NaN</td>\n",
       "      <td>vk видео самый масштабный видеоплатформа рунет...</td>\n",
       "      <td>8</td>\n",
       "    </tr>\n",
       "    <tr>\n",
       "      <th>183</th>\n",
       "      <td>79177561</td>\n",
       "      <td>Senior Data Engineer</td>\n",
       "      <td>Имеешь опыт работы с linux(в том числе админис...</td>\n",
       "      <td>Разрабатывать, оптимизировать и стандартизиров...</td>\n",
       "      <td>Мы в Space307 разрабатываем международную торг...</td>\n",
       "      <td>От 3 до 6 лет</td>\n",
       "      <td>2023-04-11T19:19:35+0300</td>\n",
       "      <td>2023-04-11T19:19:35+0300</td>\n",
       "      <td>https://hh.ru/vacancy/79177561</td>\n",
       "      <td>[]</td>\n",
       "      <td>[]</td>\n",
       "      <td>[]</td>\n",
       "      <td>False</td>\n",
       "      <td>Полная занятость</td>\n",
       "      <td>BI-аналитик, аналитик данных</td>\n",
       "      <td>False</td>\n",
       "      <td>NaN</td>\n",
       "      <td>Санкт-Петербург</td>\n",
       "      <td>NaN</td>\n",
       "      <td>NaN</td>\n",
       "      <td>NaN</td>\n",
       "      <td>NaN</td>\n",
       "      <td>Открытая</td>\n",
       "      <td>Space307</td>\n",
       "      <td>https://hh.ru/employer/2913350</td>\n",
       "      <td>https://api.hh.ru/vacancies?employer_id=2913350</td>\n",
       "      <td>Санкт-Петербург</td>\n",
       "      <td>улица Кропоткина</td>\n",
       "      <td>1</td>\n",
       "      <td>59.959251</td>\n",
       "      <td>30.311583</td>\n",
       "      <td>Санкт-Петербург, улица Кропоткина, 1</td>\n",
       "      <td>Горьковская</td>\n",
       "      <td>Московско-Петроградская</td>\n",
       "      <td>15.216</td>\n",
       "      <td>15</td>\n",
       "      <td>59.956112</td>\n",
       "      <td>30.318890</td>\n",
       "      <td>False</td>\n",
       "      <td>True</td>\n",
       "      <td>False</td>\n",
       "      <td>False</td>\n",
       "      <td>False</td>\n",
       "      <td>False</td>\n",
       "      <td>NaN</td>\n",
       "      <td>NaN</td>\n",
       "      <td>space307 разрабатывать международный торговый ...</td>\n",
       "      <td>5</td>\n",
       "    </tr>\n",
       "    <tr>\n",
       "      <th>238</th>\n",
       "      <td>75566561</td>\n",
       "      <td>Data engineer</td>\n",
       "      <td>Знание основных понятий и концепций из области...</td>\n",
       "      <td>Сбор статистических данных из внутренних и вне...</td>\n",
       "      <td>Мы – команда, которая собирает, готовит и анал...</td>\n",
       "      <td>От 3 до 6 лет</td>\n",
       "      <td>2023-04-04T12:48:11+0300</td>\n",
       "      <td>2023-04-04T12:48:11+0300</td>\n",
       "      <td>https://hh.ru/vacancy/75566561</td>\n",
       "      <td>[]</td>\n",
       "      <td>[]</td>\n",
       "      <td>[]</td>\n",
       "      <td>False</td>\n",
       "      <td>Полная занятость</td>\n",
       "      <td>Программист, разработчик</td>\n",
       "      <td>False</td>\n",
       "      <td>NaN</td>\n",
       "      <td>Санкт-Петербург</td>\n",
       "      <td>NaN</td>\n",
       "      <td>NaN</td>\n",
       "      <td>NaN</td>\n",
       "      <td>NaN</td>\n",
       "      <td>Открытая</td>\n",
       "      <td>RU-CENTER Group</td>\n",
       "      <td>https://hh.ru/employer/567049</td>\n",
       "      <td>https://api.hh.ru/vacancies?employer_id=567049</td>\n",
       "      <td>NaN</td>\n",
       "      <td>NaN</td>\n",
       "      <td>NaN</td>\n",
       "      <td>NaN</td>\n",
       "      <td>NaN</td>\n",
       "      <td>NaN</td>\n",
       "      <td>NaN</td>\n",
       "      <td>NaN</td>\n",
       "      <td>NaN</td>\n",
       "      <td>NaN</td>\n",
       "      <td>NaN</td>\n",
       "      <td>NaN</td>\n",
       "      <td>False</td>\n",
       "      <td>True</td>\n",
       "      <td>False</td>\n",
       "      <td>False</td>\n",
       "      <td>False</td>\n",
       "      <td>False</td>\n",
       "      <td>NaN</td>\n",
       "      <td>NaN</td>\n",
       "      <td>команда который собирать готовить анализироват...</td>\n",
       "      <td>9</td>\n",
       "    </tr>\n",
       "    <tr>\n",
       "      <th>246</th>\n",
       "      <td>75566599</td>\n",
       "      <td>Data engineer</td>\n",
       "      <td>Знание основных понятий и концепций из области...</td>\n",
       "      <td>Сбор статистических данных из внутренних и вне...</td>\n",
       "      <td>Мы – команда, которая собирает, готовит и анал...</td>\n",
       "      <td>От 3 до 6 лет</td>\n",
       "      <td>2023-04-04T12:48:15+0300</td>\n",
       "      <td>2023-04-04T12:48:15+0300</td>\n",
       "      <td>https://hh.ru/vacancy/75566599</td>\n",
       "      <td>[]</td>\n",
       "      <td>[]</td>\n",
       "      <td>[]</td>\n",
       "      <td>False</td>\n",
       "      <td>Полная занятость</td>\n",
       "      <td>Программист, разработчик</td>\n",
       "      <td>False</td>\n",
       "      <td>NaN</td>\n",
       "      <td>Москва</td>\n",
       "      <td>NaN</td>\n",
       "      <td>NaN</td>\n",
       "      <td>NaN</td>\n",
       "      <td>NaN</td>\n",
       "      <td>Открытая</td>\n",
       "      <td>RU-CENTER Group</td>\n",
       "      <td>https://hh.ru/employer/567049</td>\n",
       "      <td>https://api.hh.ru/vacancies?employer_id=567049</td>\n",
       "      <td>NaN</td>\n",
       "      <td>NaN</td>\n",
       "      <td>NaN</td>\n",
       "      <td>NaN</td>\n",
       "      <td>NaN</td>\n",
       "      <td>NaN</td>\n",
       "      <td>NaN</td>\n",
       "      <td>NaN</td>\n",
       "      <td>NaN</td>\n",
       "      <td>NaN</td>\n",
       "      <td>NaN</td>\n",
       "      <td>NaN</td>\n",
       "      <td>False</td>\n",
       "      <td>True</td>\n",
       "      <td>False</td>\n",
       "      <td>False</td>\n",
       "      <td>False</td>\n",
       "      <td>False</td>\n",
       "      <td>NaN</td>\n",
       "      <td>NaN</td>\n",
       "      <td>команда который собирать готовить анализироват...</td>\n",
       "      <td>9</td>\n",
       "    </tr>\n",
       "    <tr>\n",
       "      <th>247</th>\n",
       "      <td>76693962</td>\n",
       "      <td>Data Engineer</td>\n",
       "      <td>Опыт проектирования и разработки архитектуры Б...</td>\n",
       "      <td>Сбор, обработка и парсинг \"сырых\" данных. Подд...</td>\n",
       "      <td>Чем вы будете заниматься:   Сбор, обработка и ...</td>\n",
       "      <td>От 3 до 6 лет</td>\n",
       "      <td>2023-04-03T07:14:11+0300</td>\n",
       "      <td>2023-04-03T07:14:11+0300</td>\n",
       "      <td>https://hh.ru/vacancy/76693962</td>\n",
       "      <td>[]</td>\n",
       "      <td>[]</td>\n",
       "      <td>[]</td>\n",
       "      <td>False</td>\n",
       "      <td>Полная занятость</td>\n",
       "      <td>Архитектор</td>\n",
       "      <td>False</td>\n",
       "      <td>NaN</td>\n",
       "      <td>Москва</td>\n",
       "      <td>NaN</td>\n",
       "      <td>NaN</td>\n",
       "      <td>NaN</td>\n",
       "      <td>NaN</td>\n",
       "      <td>Открытая</td>\n",
       "      <td>АЛРОСА Информационные технологии</td>\n",
       "      <td>https://hh.ru/employer/4418001</td>\n",
       "      <td>https://api.hh.ru/vacancies?employer_id=4418001</td>\n",
       "      <td>Москва</td>\n",
       "      <td>Озерковская набережная</td>\n",
       "      <td>30</td>\n",
       "      <td>55.738014</td>\n",
       "      <td>37.637991</td>\n",
       "      <td>Москва, Озерковская набережная, 30</td>\n",
       "      <td>Новокузнецкая</td>\n",
       "      <td>Замоскворецкая</td>\n",
       "      <td>2.89</td>\n",
       "      <td>2</td>\n",
       "      <td>55.742391</td>\n",
       "      <td>37.629280</td>\n",
       "      <td>False</td>\n",
       "      <td>True</td>\n",
       "      <td>False</td>\n",
       "      <td>False</td>\n",
       "      <td>False</td>\n",
       "      <td>False</td>\n",
       "      <td>NaN</td>\n",
       "      <td>NaN</td>\n",
       "      <td>быть заниматься сбор обработка парсинга сырой ...</td>\n",
       "      <td>9</td>\n",
       "    </tr>\n",
       "    <tr>\n",
       "      <th>268</th>\n",
       "      <td>78856764</td>\n",
       "      <td>Data Engineer</td>\n",
       "      <td>...внедрения инструментов &lt;highlighttext&gt;Data&lt;...</td>\n",
       "      <td>Создание внутреннего фреймворка для унификации...</td>\n",
       "      <td>Департамент информационных технологий города М...</td>\n",
       "      <td>От 1 года до 3 лет</td>\n",
       "      <td>2023-04-04T15:32:37+0300</td>\n",
       "      <td>2023-04-04T15:32:37+0300</td>\n",
       "      <td>https://hh.ru/vacancy/78856764</td>\n",
       "      <td>[]</td>\n",
       "      <td>[]</td>\n",
       "      <td>[]</td>\n",
       "      <td>False</td>\n",
       "      <td>Полная занятость</td>\n",
       "      <td>Программист, разработчик</td>\n",
       "      <td>False</td>\n",
       "      <td>NaN</td>\n",
       "      <td>Москва</td>\n",
       "      <td>NaN</td>\n",
       "      <td>NaN</td>\n",
       "      <td>NaN</td>\n",
       "      <td>NaN</td>\n",
       "      <td>Открытая</td>\n",
       "      <td>ГКУ Инфогород</td>\n",
       "      <td>https://hh.ru/employer/2427329</td>\n",
       "      <td>https://api.hh.ru/vacancies?employer_id=2427329</td>\n",
       "      <td>NaN</td>\n",
       "      <td>NaN</td>\n",
       "      <td>NaN</td>\n",
       "      <td>NaN</td>\n",
       "      <td>NaN</td>\n",
       "      <td>NaN</td>\n",
       "      <td>NaN</td>\n",
       "      <td>NaN</td>\n",
       "      <td>NaN</td>\n",
       "      <td>NaN</td>\n",
       "      <td>NaN</td>\n",
       "      <td>NaN</td>\n",
       "      <td>False</td>\n",
       "      <td>True</td>\n",
       "      <td>False</td>\n",
       "      <td>False</td>\n",
       "      <td>False</td>\n",
       "      <td>False</td>\n",
       "      <td>NaN</td>\n",
       "      <td>NaN</td>\n",
       "      <td>департамент информационный технология город мо...</td>\n",
       "      <td>9</td>\n",
       "    </tr>\n",
       "    <tr>\n",
       "      <th>272</th>\n",
       "      <td>76703124</td>\n",
       "      <td>Data Engineer</td>\n",
       "      <td>Опыт проектирования и разработки архитектуры Б...</td>\n",
       "      <td>Сбор, обработка и парсинг \"сырых\" данных. Подд...</td>\n",
       "      <td>Чем вы будете заниматься:   Сбор, обработка и ...</td>\n",
       "      <td>От 3 до 6 лет</td>\n",
       "      <td>2023-04-03T09:48:51+0300</td>\n",
       "      <td>2023-04-03T09:48:51+0300</td>\n",
       "      <td>https://hh.ru/vacancy/76703124</td>\n",
       "      <td>[]</td>\n",
       "      <td>[]</td>\n",
       "      <td>[]</td>\n",
       "      <td>False</td>\n",
       "      <td>Полная занятость</td>\n",
       "      <td>Архитектор</td>\n",
       "      <td>False</td>\n",
       "      <td>NaN</td>\n",
       "      <td>Новосибирск</td>\n",
       "      <td>NaN</td>\n",
       "      <td>NaN</td>\n",
       "      <td>NaN</td>\n",
       "      <td>NaN</td>\n",
       "      <td>Открытая</td>\n",
       "      <td>АЛРОСА Информационные технологии</td>\n",
       "      <td>https://hh.ru/employer/4418001</td>\n",
       "      <td>https://api.hh.ru/vacancies?employer_id=4418001</td>\n",
       "      <td>Москва</td>\n",
       "      <td>Озерковская набережная</td>\n",
       "      <td>30</td>\n",
       "      <td>55.738014</td>\n",
       "      <td>37.637991</td>\n",
       "      <td>Москва, Озерковская набережная, 30</td>\n",
       "      <td>Новокузнецкая</td>\n",
       "      <td>Замоскворецкая</td>\n",
       "      <td>2.89</td>\n",
       "      <td>2</td>\n",
       "      <td>55.742391</td>\n",
       "      <td>37.629280</td>\n",
       "      <td>False</td>\n",
       "      <td>True</td>\n",
       "      <td>False</td>\n",
       "      <td>False</td>\n",
       "      <td>False</td>\n",
       "      <td>False</td>\n",
       "      <td>NaN</td>\n",
       "      <td>NaN</td>\n",
       "      <td>быть заниматься сбор обработка парсинга сырой ...</td>\n",
       "      <td>9</td>\n",
       "    </tr>\n",
       "    <tr>\n",
       "      <th>448</th>\n",
       "      <td>69027915</td>\n",
       "      <td>Big Data Platform Engineer</td>\n",
       "      <td>Хорошее знание java/scala. Опыт работы и поним...</td>\n",
       "      <td>Развивать платформу хранения и обработки больш...</td>\n",
       "      <td>Наша платформа работы с данными построена как ...</td>\n",
       "      <td>От 3 до 6 лет</td>\n",
       "      <td>2023-04-15T09:35:11+0300</td>\n",
       "      <td>2023-04-15T09:35:11+0300</td>\n",
       "      <td>https://hh.ru/vacancy/69027915</td>\n",
       "      <td>[]</td>\n",
       "      <td>[]</td>\n",
       "      <td>[]</td>\n",
       "      <td>False</td>\n",
       "      <td>Полная занятость</td>\n",
       "      <td>Программист, разработчик</td>\n",
       "      <td>False</td>\n",
       "      <td>VK, Одноклассники</td>\n",
       "      <td>Санкт-Петербург</td>\n",
       "      <td>NaN</td>\n",
       "      <td>NaN</td>\n",
       "      <td>NaN</td>\n",
       "      <td>NaN</td>\n",
       "      <td>Открытая</td>\n",
       "      <td>VK</td>\n",
       "      <td>https://hh.ru/employer/15478</td>\n",
       "      <td>https://api.hh.ru/vacancies?employer_id=15478</td>\n",
       "      <td>Санкт-Петербург</td>\n",
       "      <td>Херсонская улица</td>\n",
       "      <td>12-14</td>\n",
       "      <td>59.928532</td>\n",
       "      <td>30.381050</td>\n",
       "      <td>Санкт-Петербург, Херсонская улица, 12-14</td>\n",
       "      <td>NaN</td>\n",
       "      <td>NaN</td>\n",
       "      <td>NaN</td>\n",
       "      <td>NaN</td>\n",
       "      <td>NaN</td>\n",
       "      <td>NaN</td>\n",
       "      <td>False</td>\n",
       "      <td>True</td>\n",
       "      <td>False</td>\n",
       "      <td>False</td>\n",
       "      <td>False</td>\n",
       "      <td>False</td>\n",
       "      <td>NaN</td>\n",
       "      <td>NaN</td>\n",
       "      <td>наш платформа работа данные построить проверит...</td>\n",
       "      <td>9</td>\n",
       "    </tr>\n",
       "    <tr>\n",
       "      <th>450</th>\n",
       "      <td>69027863</td>\n",
       "      <td>Big Data Platform Engineer</td>\n",
       "      <td>Хорошее знание java/scala. Опыт работы и поним...</td>\n",
       "      <td>Развивать платформу хранения и обработки больш...</td>\n",
       "      <td>Наша платформа работы с данными построена как ...</td>\n",
       "      <td>От 3 до 6 лет</td>\n",
       "      <td>2023-04-15T09:35:10+0300</td>\n",
       "      <td>2023-04-15T09:35:10+0300</td>\n",
       "      <td>https://hh.ru/vacancy/69027863</td>\n",
       "      <td>[]</td>\n",
       "      <td>[]</td>\n",
       "      <td>[]</td>\n",
       "      <td>False</td>\n",
       "      <td>Полная занятость</td>\n",
       "      <td>Программист, разработчик</td>\n",
       "      <td>False</td>\n",
       "      <td>VK, Одноклассники</td>\n",
       "      <td>Москва</td>\n",
       "      <td>NaN</td>\n",
       "      <td>NaN</td>\n",
       "      <td>NaN</td>\n",
       "      <td>NaN</td>\n",
       "      <td>Открытая</td>\n",
       "      <td>VK</td>\n",
       "      <td>https://hh.ru/employer/15478</td>\n",
       "      <td>https://api.hh.ru/vacancies?employer_id=15478</td>\n",
       "      <td>Москва</td>\n",
       "      <td>Ленинградский проспект</td>\n",
       "      <td>39с79</td>\n",
       "      <td>55.796931</td>\n",
       "      <td>37.537847</td>\n",
       "      <td>Москва, Ленинградский проспект, 39с79</td>\n",
       "      <td>Аэропорт</td>\n",
       "      <td>Замоскворецкая</td>\n",
       "      <td>2.12</td>\n",
       "      <td>2</td>\n",
       "      <td>55.800441</td>\n",
       "      <td>37.530477</td>\n",
       "      <td>False</td>\n",
       "      <td>True</td>\n",
       "      <td>False</td>\n",
       "      <td>False</td>\n",
       "      <td>False</td>\n",
       "      <td>False</td>\n",
       "      <td>NaN</td>\n",
       "      <td>NaN</td>\n",
       "      <td>наш платформа работа данные построить проверит...</td>\n",
       "      <td>9</td>\n",
       "    </tr>\n",
       "    <tr>\n",
       "      <th>538</th>\n",
       "      <td>78691431</td>\n",
       "      <td>BigData / DWH разработчик</td>\n",
       "      <td>Понимание архитектур MPP систем. Опыт работы с...</td>\n",
       "      <td>Проектирование и разработка потоков данных на ...</td>\n",
       "      <td>В команде ETL X5 Технологии открыта позиция DW...</td>\n",
       "      <td>От 3 до 6 лет</td>\n",
       "      <td>2023-03-29T18:13:32+0300</td>\n",
       "      <td>2023-03-29T18:13:32+0300</td>\n",
       "      <td>https://hh.ru/vacancy/78691431</td>\n",
       "      <td>[]</td>\n",
       "      <td>[]</td>\n",
       "      <td>[]</td>\n",
       "      <td>False</td>\n",
       "      <td>Полная занятость</td>\n",
       "      <td>Программист, разработчик</td>\n",
       "      <td>False</td>\n",
       "      <td>NaN</td>\n",
       "      <td>Москва</td>\n",
       "      <td>NaN</td>\n",
       "      <td>NaN</td>\n",
       "      <td>NaN</td>\n",
       "      <td>NaN</td>\n",
       "      <td>Открытая</td>\n",
       "      <td>X5 Tech</td>\n",
       "      <td>https://hh.ru/employer/9352463</td>\n",
       "      <td>https://api.hh.ru/vacancies?employer_id=9352463</td>\n",
       "      <td>Москва</td>\n",
       "      <td>улица Тимура Фрунзе</td>\n",
       "      <td>11с13</td>\n",
       "      <td>55.734719</td>\n",
       "      <td>37.588341</td>\n",
       "      <td>Москва, улица Тимура Фрунзе, 11с13</td>\n",
       "      <td>Парк культуры</td>\n",
       "      <td>Кольцевая</td>\n",
       "      <td>5.104</td>\n",
       "      <td>5</td>\n",
       "      <td>55.735221</td>\n",
       "      <td>37.593095</td>\n",
       "      <td>True</td>\n",
       "      <td>False</td>\n",
       "      <td>False</td>\n",
       "      <td>False</td>\n",
       "      <td>False</td>\n",
       "      <td>False</td>\n",
       "      <td>NaN</td>\n",
       "      <td>NaN</td>\n",
       "      <td>команда etl x5 технология открыть позиция dwh ...</td>\n",
       "      <td>9</td>\n",
       "    </tr>\n",
       "    <tr>\n",
       "      <th>802</th>\n",
       "      <td>78758907</td>\n",
       "      <td>Data Scientist middle/senior</td>\n",
       "      <td>Знание Python (Scala/Java могут оказаться плюс...</td>\n",
       "      <td>Строить модели машинного обучения, улучшать ка...</td>\n",
       "      <td>X5 Group - лидер офлайн- и онлайн-рынка продук...</td>\n",
       "      <td>От 3 до 6 лет</td>\n",
       "      <td>2023-03-31T11:11:39+0300</td>\n",
       "      <td>2023-03-31T11:11:39+0300</td>\n",
       "      <td>https://hh.ru/vacancy/78758907</td>\n",
       "      <td>[]</td>\n",
       "      <td>[]</td>\n",
       "      <td>[]</td>\n",
       "      <td>False</td>\n",
       "      <td>Полная занятость</td>\n",
       "      <td>Дата-сайентист</td>\n",
       "      <td>False</td>\n",
       "      <td>NaN</td>\n",
       "      <td>Москва</td>\n",
       "      <td>NaN</td>\n",
       "      <td>NaN</td>\n",
       "      <td>NaN</td>\n",
       "      <td>NaN</td>\n",
       "      <td>Открытая</td>\n",
       "      <td>X5 Tech</td>\n",
       "      <td>https://hh.ru/employer/9352463</td>\n",
       "      <td>https://api.hh.ru/vacancies?employer_id=9352463</td>\n",
       "      <td>NaN</td>\n",
       "      <td>NaN</td>\n",
       "      <td>NaN</td>\n",
       "      <td>NaN</td>\n",
       "      <td>NaN</td>\n",
       "      <td>NaN</td>\n",
       "      <td>NaN</td>\n",
       "      <td>NaN</td>\n",
       "      <td>NaN</td>\n",
       "      <td>NaN</td>\n",
       "      <td>NaN</td>\n",
       "      <td>NaN</td>\n",
       "      <td>False</td>\n",
       "      <td>True</td>\n",
       "      <td>False</td>\n",
       "      <td>True</td>\n",
       "      <td>False</td>\n",
       "      <td>False</td>\n",
       "      <td>NaN</td>\n",
       "      <td>NaN</td>\n",
       "      <td>x5 group лидер офлайн онлайнрынок продукт пита...</td>\n",
       "      <td>1</td>\n",
       "    </tr>\n",
       "    <tr>\n",
       "      <th>1220</th>\n",
       "      <td>79034595</td>\n",
       "      <td>Аналитик ETL</td>\n",
       "      <td>Опыт работы с хранилищами, детальным слоем вит...</td>\n",
       "      <td>...модели данных &lt;highlighttext&gt;Data&lt;/highligh...</td>\n",
       "      <td>Наша команда работает в Корпоративной аналитич...</td>\n",
       "      <td>От 1 года до 3 лет</td>\n",
       "      <td>2023-04-07T11:43:02+0300</td>\n",
       "      <td>2023-04-07T11:43:02+0300</td>\n",
       "      <td>https://hh.ru/vacancy/79034595</td>\n",
       "      <td>[]</td>\n",
       "      <td>[]</td>\n",
       "      <td>[]</td>\n",
       "      <td>False</td>\n",
       "      <td>Полная занятость</td>\n",
       "      <td>Аналитик</td>\n",
       "      <td>False</td>\n",
       "      <td>Сбер для экспертов</td>\n",
       "      <td>Москва</td>\n",
       "      <td>NaN</td>\n",
       "      <td>NaN</td>\n",
       "      <td>NaN</td>\n",
       "      <td>NaN</td>\n",
       "      <td>Открытая</td>\n",
       "      <td>СБЕР</td>\n",
       "      <td>https://hh.ru/employer/3529</td>\n",
       "      <td>https://api.hh.ru/vacancies?employer_id=3529</td>\n",
       "      <td>Москва</td>\n",
       "      <td>Кутузовский проспект</td>\n",
       "      <td>32к1</td>\n",
       "      <td>55.741404</td>\n",
       "      <td>37.531559</td>\n",
       "      <td>Москва, Кутузовский проспект, 32к1</td>\n",
       "      <td>Кутузовская</td>\n",
       "      <td>Филевская</td>\n",
       "      <td>4.73</td>\n",
       "      <td>4</td>\n",
       "      <td>55.740544</td>\n",
       "      <td>37.534100</td>\n",
       "      <td>False</td>\n",
       "      <td>True</td>\n",
       "      <td>False</td>\n",
       "      <td>False</td>\n",
       "      <td>False</td>\n",
       "      <td>False</td>\n",
       "      <td>NaN</td>\n",
       "      <td>NaN</td>\n",
       "      <td>наш команда работать корпоративный аналитическ...</td>\n",
       "      <td>9</td>\n",
       "    </tr>\n",
       "    <tr>\n",
       "      <th>1247</th>\n",
       "      <td>78625975</td>\n",
       "      <td>Senior Data Scientist</td>\n",
       "      <td>Высшее образование в областях: математика, физ...</td>\n",
       "      <td>Полный цикл обучения ML моделей, включая подго...</td>\n",
       "      <td>RUTUBE - Крупнейший российский видеохостинг, г...</td>\n",
       "      <td>От 3 до 6 лет</td>\n",
       "      <td>2023-04-05T10:00:04+0300</td>\n",
       "      <td>2023-04-05T10:00:04+0300</td>\n",
       "      <td>https://hh.ru/vacancy/78625975</td>\n",
       "      <td>[]</td>\n",
       "      <td>[]</td>\n",
       "      <td>[]</td>\n",
       "      <td>False</td>\n",
       "      <td>Полная занятость</td>\n",
       "      <td>Другое</td>\n",
       "      <td>False</td>\n",
       "      <td>NaN</td>\n",
       "      <td>Москва</td>\n",
       "      <td>NaN</td>\n",
       "      <td>NaN</td>\n",
       "      <td>NaN</td>\n",
       "      <td>NaN</td>\n",
       "      <td>Открытая</td>\n",
       "      <td>Rutube</td>\n",
       "      <td>https://hh.ru/employer/1440683</td>\n",
       "      <td>https://api.hh.ru/vacancies?employer_id=1440683</td>\n",
       "      <td>Москва</td>\n",
       "      <td>Ленинградский проспект</td>\n",
       "      <td>72к4</td>\n",
       "      <td>55.805250</td>\n",
       "      <td>37.519863</td>\n",
       "      <td>Москва, Ленинградский проспект, 72к4</td>\n",
       "      <td>Аэропорт</td>\n",
       "      <td>Замоскворецкая</td>\n",
       "      <td>2.12</td>\n",
       "      <td>2</td>\n",
       "      <td>55.800441</td>\n",
       "      <td>37.530477</td>\n",
       "      <td>False</td>\n",
       "      <td>True</td>\n",
       "      <td>False</td>\n",
       "      <td>False</td>\n",
       "      <td>False</td>\n",
       "      <td>False</td>\n",
       "      <td>NaN</td>\n",
       "      <td>NaN</td>\n",
       "      <td>rutube крупный российский видеохостинг собрать...</td>\n",
       "      <td>1</td>\n",
       "    </tr>\n",
       "    <tr>\n",
       "      <th>1481</th>\n",
       "      <td>78056289</td>\n",
       "      <td>Data Scientist CV</td>\n",
       "      <td>Собирать данные и настраивать разметку новых д...</td>\n",
       "      <td>Создавать новые модели.</td>\n",
       "      <td>Sber AI - это RnD-подразделение, в котором мы ...</td>\n",
       "      <td>От 3 до 6 лет</td>\n",
       "      <td>2023-04-12T15:48:06+0300</td>\n",
       "      <td>2023-04-12T15:48:06+0300</td>\n",
       "      <td>https://hh.ru/vacancy/78056289</td>\n",
       "      <td>[]</td>\n",
       "      <td>[]</td>\n",
       "      <td>[]</td>\n",
       "      <td>False</td>\n",
       "      <td>Полная занятость</td>\n",
       "      <td>Аналитик</td>\n",
       "      <td>False</td>\n",
       "      <td>Сбер. IT</td>\n",
       "      <td>Москва</td>\n",
       "      <td>NaN</td>\n",
       "      <td>NaN</td>\n",
       "      <td>NaN</td>\n",
       "      <td>NaN</td>\n",
       "      <td>Открытая</td>\n",
       "      <td>СБЕР</td>\n",
       "      <td>https://hh.ru/employer/3529</td>\n",
       "      <td>https://api.hh.ru/vacancies?employer_id=3529</td>\n",
       "      <td>NaN</td>\n",
       "      <td>NaN</td>\n",
       "      <td>NaN</td>\n",
       "      <td>NaN</td>\n",
       "      <td>NaN</td>\n",
       "      <td>NaN</td>\n",
       "      <td>NaN</td>\n",
       "      <td>NaN</td>\n",
       "      <td>NaN</td>\n",
       "      <td>NaN</td>\n",
       "      <td>NaN</td>\n",
       "      <td>NaN</td>\n",
       "      <td>False</td>\n",
       "      <td>True</td>\n",
       "      <td>False</td>\n",
       "      <td>False</td>\n",
       "      <td>False</td>\n",
       "      <td>False</td>\n",
       "      <td>NaN</td>\n",
       "      <td>NaN</td>\n",
       "      <td>sber ai это rndподразделение который создавать...</td>\n",
       "      <td>1</td>\n",
       "    </tr>\n",
       "    <tr>\n",
       "      <th>1493</th>\n",
       "      <td>78331454</td>\n",
       "      <td>Data Scientist (middle)</td>\n",
       "      <td>Высшее техническое образование в области ИТ, п...</td>\n",
       "      <td>Проведение разведочного анализа данных. Создан...</td>\n",
       "      <td>НОЦ \"Технологии искусственного интеллекта\" МГТ...</td>\n",
       "      <td>От 3 до 6 лет</td>\n",
       "      <td>2023-04-14T09:41:30+0300</td>\n",
       "      <td>2023-04-14T09:41:30+0300</td>\n",
       "      <td>https://hh.ru/vacancy/78331454</td>\n",
       "      <td>[]</td>\n",
       "      <td>[]</td>\n",
       "      <td>[]</td>\n",
       "      <td>False</td>\n",
       "      <td>Полная занятость</td>\n",
       "      <td>Дата-сайентист</td>\n",
       "      <td>False</td>\n",
       "      <td>NaN</td>\n",
       "      <td>Москва</td>\n",
       "      <td>NaN</td>\n",
       "      <td>NaN</td>\n",
       "      <td>NaN</td>\n",
       "      <td>NaN</td>\n",
       "      <td>Открытая</td>\n",
       "      <td>Композиты России</td>\n",
       "      <td>https://hh.ru/employer/1175907</td>\n",
       "      <td>https://api.hh.ru/vacancies?employer_id=1175907</td>\n",
       "      <td>Москва</td>\n",
       "      <td>Арбатско-Покровская линия</td>\n",
       "      <td>None</td>\n",
       "      <td>55.772406</td>\n",
       "      <td>37.679035</td>\n",
       "      <td>Москва, Арбатско-Покровская линия</td>\n",
       "      <td>Бауманская</td>\n",
       "      <td>Арбатско-Покровская</td>\n",
       "      <td>3.17</td>\n",
       "      <td>3</td>\n",
       "      <td>55.772405</td>\n",
       "      <td>37.679040</td>\n",
       "      <td>False</td>\n",
       "      <td>True</td>\n",
       "      <td>False</td>\n",
       "      <td>True</td>\n",
       "      <td>False</td>\n",
       "      <td>False</td>\n",
       "      <td>NaN</td>\n",
       "      <td>NaN</td>\n",
       "      <td>ноц технология искусственный интеллект мгту ба...</td>\n",
       "      <td>1</td>\n",
       "    </tr>\n",
       "    <tr>\n",
       "      <th>5042</th>\n",
       "      <td>79312517</td>\n",
       "      <td>DevOps Big Data platform</td>\n",
       "      <td>Знание экосистемы Hadoop,apache kafka. Знание ...</td>\n",
       "      <td>Принимать участие в развитии корпоративной пла...</td>\n",
       "      <td>Чем ты будешь заниматься:  Принимать участие в...</td>\n",
       "      <td>От 3 до 6 лет</td>\n",
       "      <td>2023-04-14T15:01:05+0300</td>\n",
       "      <td>2023-04-14T15:01:05+0300</td>\n",
       "      <td>https://hh.ru/vacancy/79312517</td>\n",
       "      <td>[]</td>\n",
       "      <td>[]</td>\n",
       "      <td>[]</td>\n",
       "      <td>False</td>\n",
       "      <td>Полная занятость</td>\n",
       "      <td>Программист, разработчик</td>\n",
       "      <td>False</td>\n",
       "      <td>NaN</td>\n",
       "      <td>Москва</td>\n",
       "      <td>NaN</td>\n",
       "      <td>NaN</td>\n",
       "      <td>NaN</td>\n",
       "      <td>NaN</td>\n",
       "      <td>Открытая</td>\n",
       "      <td>Национальная система платежных карт</td>\n",
       "      <td>https://hh.ru/employer/1654251</td>\n",
       "      <td>https://api.hh.ru/vacancies?employer_id=1654251</td>\n",
       "      <td>Москва</td>\n",
       "      <td>Большая Татарская улица</td>\n",
       "      <td>11а</td>\n",
       "      <td>55.741115</td>\n",
       "      <td>37.633841</td>\n",
       "      <td>Москва, Большая Татарская улица, 11а</td>\n",
       "      <td>Новокузнецкая</td>\n",
       "      <td>Замоскворецкая</td>\n",
       "      <td>2.89</td>\n",
       "      <td>2</td>\n",
       "      <td>55.742391</td>\n",
       "      <td>37.629280</td>\n",
       "      <td>False</td>\n",
       "      <td>True</td>\n",
       "      <td>False</td>\n",
       "      <td>False</td>\n",
       "      <td>False</td>\n",
       "      <td>False</td>\n",
       "      <td>NaN</td>\n",
       "      <td>NaN</td>\n",
       "      <td>быть заниматься принимать участие развитие кор...</td>\n",
       "      <td>8</td>\n",
       "    </tr>\n",
       "    <tr>\n",
       "      <th>5087</th>\n",
       "      <td>77495681</td>\n",
       "      <td>DataOps engineer</td>\n",
       "      <td>Опыт развертывания и эксплуатации Hadoop/Kafka...</td>\n",
       "      <td>Развивать и сопровождать кластера Hadoop, Kafk...</td>\n",
       "      <td>Одноклассники — это крупнейшая развлекательная...</td>\n",
       "      <td>От 3 до 6 лет</td>\n",
       "      <td>2023-03-28T11:38:56+0300</td>\n",
       "      <td>2023-03-28T11:38:56+0300</td>\n",
       "      <td>https://hh.ru/vacancy/77495681</td>\n",
       "      <td>[]</td>\n",
       "      <td>[]</td>\n",
       "      <td>[]</td>\n",
       "      <td>False</td>\n",
       "      <td>Полная занятость</td>\n",
       "      <td>DevOps-инженер</td>\n",
       "      <td>False</td>\n",
       "      <td>VK, Одноклассники</td>\n",
       "      <td>Москва</td>\n",
       "      <td>NaN</td>\n",
       "      <td>NaN</td>\n",
       "      <td>NaN</td>\n",
       "      <td>NaN</td>\n",
       "      <td>Открытая</td>\n",
       "      <td>VK</td>\n",
       "      <td>https://hh.ru/employer/15478</td>\n",
       "      <td>https://api.hh.ru/vacancies?employer_id=15478</td>\n",
       "      <td>NaN</td>\n",
       "      <td>NaN</td>\n",
       "      <td>NaN</td>\n",
       "      <td>NaN</td>\n",
       "      <td>NaN</td>\n",
       "      <td>NaN</td>\n",
       "      <td>NaN</td>\n",
       "      <td>NaN</td>\n",
       "      <td>NaN</td>\n",
       "      <td>NaN</td>\n",
       "      <td>NaN</td>\n",
       "      <td>NaN</td>\n",
       "      <td>True</td>\n",
       "      <td>False</td>\n",
       "      <td>False</td>\n",
       "      <td>False</td>\n",
       "      <td>False</td>\n",
       "      <td>False</td>\n",
       "      <td>NaN</td>\n",
       "      <td>NaN</td>\n",
       "      <td>одноклассник это крупный развлекательный социа...</td>\n",
       "      <td>9</td>\n",
       "    </tr>\n",
       "    <tr>\n",
       "      <th>5088</th>\n",
       "      <td>77495682</td>\n",
       "      <td>DataOps engineer</td>\n",
       "      <td>Опыт развертывания и эксплуатации Hadoop/Kafka...</td>\n",
       "      <td>Развивать и сопровождать кластера Hadoop, Kafk...</td>\n",
       "      <td>Одноклассники — это крупнейшая развлекательная...</td>\n",
       "      <td>От 3 до 6 лет</td>\n",
       "      <td>2023-03-27T16:16:35+0300</td>\n",
       "      <td>2023-03-27T16:16:35+0300</td>\n",
       "      <td>https://hh.ru/vacancy/77495682</td>\n",
       "      <td>[]</td>\n",
       "      <td>[]</td>\n",
       "      <td>[]</td>\n",
       "      <td>False</td>\n",
       "      <td>Полная занятость</td>\n",
       "      <td>DevOps-инженер</td>\n",
       "      <td>False</td>\n",
       "      <td>VK, Одноклассники</td>\n",
       "      <td>Санкт-Петербург</td>\n",
       "      <td>NaN</td>\n",
       "      <td>NaN</td>\n",
       "      <td>NaN</td>\n",
       "      <td>NaN</td>\n",
       "      <td>Открытая</td>\n",
       "      <td>VK</td>\n",
       "      <td>https://hh.ru/employer/15478</td>\n",
       "      <td>https://api.hh.ru/vacancies?employer_id=15478</td>\n",
       "      <td>NaN</td>\n",
       "      <td>NaN</td>\n",
       "      <td>NaN</td>\n",
       "      <td>NaN</td>\n",
       "      <td>NaN</td>\n",
       "      <td>NaN</td>\n",
       "      <td>NaN</td>\n",
       "      <td>NaN</td>\n",
       "      <td>NaN</td>\n",
       "      <td>NaN</td>\n",
       "      <td>NaN</td>\n",
       "      <td>NaN</td>\n",
       "      <td>True</td>\n",
       "      <td>False</td>\n",
       "      <td>False</td>\n",
       "      <td>False</td>\n",
       "      <td>False</td>\n",
       "      <td>False</td>\n",
       "      <td>NaN</td>\n",
       "      <td>NaN</td>\n",
       "      <td>одноклассник это крупный развлекательный социа...</td>\n",
       "      <td>9</td>\n",
       "    </tr>\n",
       "  </tbody>\n",
       "</table>\n",
       "</div>"
      ],
      "text/plain": [
       "            id                                       name  \\\n",
       "73    79255243  Data Engineer (\"Платформа экспериментов\")   \n",
       "83    79255076  Data Engineer (\"Платформа экспериментов\")   \n",
       "85    77330018                       Data DevOps Engineer   \n",
       "127   69146997                          Big Data Engineer   \n",
       "183   79177561                       Senior Data Engineer   \n",
       "238   75566561                              Data engineer   \n",
       "246   75566599                              Data engineer   \n",
       "247   76693962                              Data Engineer   \n",
       "268   78856764                              Data Engineer   \n",
       "272   76703124                              Data Engineer   \n",
       "448   69027915                 Big Data Platform Engineer   \n",
       "450   69027863                 Big Data Platform Engineer   \n",
       "538   78691431                  BigData / DWH разработчик   \n",
       "802   78758907               Data Scientist middle/senior   \n",
       "1220  79034595                               Аналитик ETL   \n",
       "1247  78625975                      Senior Data Scientist   \n",
       "1481  78056289                          Data Scientist CV   \n",
       "1493  78331454                    Data Scientist (middle)   \n",
       "5042  79312517                   DevOps Big Data platform   \n",
       "5087  77495681                           DataOps engineer   \n",
       "5088  77495682                           DataOps engineer   \n",
       "\n",
       "                                    snippet.requirement  \\\n",
       "73    Уверенное знание Clickhouse, Postgres, HDFS. З...   \n",
       "83    Уверенное знание Clickhouse, Postgres, HDFS. З...   \n",
       "85    Опыт работы с Apache Spark. Опыт работы с Apac...   \n",
       "127   Хорошее знание java/scala. Опыт работы и поним...   \n",
       "183   Имеешь опыт работы с linux(в том числе админис...   \n",
       "238   Знание основных понятий и концепций из области...   \n",
       "246   Знание основных понятий и концепций из области...   \n",
       "247   Опыт проектирования и разработки архитектуры Б...   \n",
       "268   ...внедрения инструментов <highlighttext>Data<...   \n",
       "272   Опыт проектирования и разработки архитектуры Б...   \n",
       "448   Хорошее знание java/scala. Опыт работы и поним...   \n",
       "450   Хорошее знание java/scala. Опыт работы и поним...   \n",
       "538   Понимание архитектур MPP систем. Опыт работы с...   \n",
       "802   Знание Python (Scala/Java могут оказаться плюс...   \n",
       "1220  Опыт работы с хранилищами, детальным слоем вит...   \n",
       "1247  Высшее образование в областях: математика, физ...   \n",
       "1481  Собирать данные и настраивать разметку новых д...   \n",
       "1493  Высшее техническое образование в области ИТ, п...   \n",
       "5042  Знание экосистемы Hadoop,apache kafka. Знание ...   \n",
       "5087  Опыт развертывания и эксплуатации Hadoop/Kafka...   \n",
       "5088  Опыт развертывания и эксплуатации Hadoop/Kafka...   \n",
       "\n",
       "                                 snippet.responsibility  \\\n",
       "73    Внедрение ETL-процессов на Airflow. Участие в ...   \n",
       "83    Внедрение ETL-процессов на Airflow. Участие в ...   \n",
       "85    Участие в разработке распределенного вычислите...   \n",
       "127   Развивать платформу хранения и обработки больш...   \n",
       "183   Разрабатывать, оптимизировать и стандартизиров...   \n",
       "238   Сбор статистических данных из внутренних и вне...   \n",
       "246   Сбор статистических данных из внутренних и вне...   \n",
       "247   Сбор, обработка и парсинг \"сырых\" данных. Подд...   \n",
       "268   Создание внутреннего фреймворка для унификации...   \n",
       "272   Сбор, обработка и парсинг \"сырых\" данных. Подд...   \n",
       "448   Развивать платформу хранения и обработки больш...   \n",
       "450   Развивать платформу хранения и обработки больш...   \n",
       "538   Проектирование и разработка потоков данных на ...   \n",
       "802   Строить модели машинного обучения, улучшать ка...   \n",
       "1220  ...модели данных <highlighttext>Data</highligh...   \n",
       "1247  Полный цикл обучения ML моделей, включая подго...   \n",
       "1481                            Создавать новые модели.   \n",
       "1493  Проведение разведочного анализа данных. Создан...   \n",
       "5042  Принимать участие в развитии корпоративной пла...   \n",
       "5087  Развивать и сопровождать кластера Hadoop, Kafk...   \n",
       "5088  Развивать и сопровождать кластера Hadoop, Kafk...   \n",
       "\n",
       "                                            description     experience.name  \\\n",
       "73    A/B эксперименты – ключевой инструмент для при...       От 3 до 6 лет   \n",
       "83    A/B эксперименты – ключевой инструмент для при...       От 3 до 6 лет   \n",
       "85    Компания BAUM - с 2010 года специализируется н...       От 3 до 6 лет   \n",
       "127   VK Видео — самая масштабная видеоплатформа в р...       От 3 до 6 лет   \n",
       "183   Мы в Space307 разрабатываем международную торг...       От 3 до 6 лет   \n",
       "238   Мы – команда, которая собирает, готовит и анал...       От 3 до 6 лет   \n",
       "246   Мы – команда, которая собирает, готовит и анал...       От 3 до 6 лет   \n",
       "247   Чем вы будете заниматься:   Сбор, обработка и ...       От 3 до 6 лет   \n",
       "268   Департамент информационных технологий города М...  От 1 года до 3 лет   \n",
       "272   Чем вы будете заниматься:   Сбор, обработка и ...       От 3 до 6 лет   \n",
       "448   Наша платформа работы с данными построена как ...       От 3 до 6 лет   \n",
       "450   Наша платформа работы с данными построена как ...       От 3 до 6 лет   \n",
       "538   В команде ETL X5 Технологии открыта позиция DW...       От 3 до 6 лет   \n",
       "802   X5 Group - лидер офлайн- и онлайн-рынка продук...       От 3 до 6 лет   \n",
       "1220  Наша команда работает в Корпоративной аналитич...  От 1 года до 3 лет   \n",
       "1247  RUTUBE - Крупнейший российский видеохостинг, г...       От 3 до 6 лет   \n",
       "1481  Sber AI - это RnD-подразделение, в котором мы ...       От 3 до 6 лет   \n",
       "1493  НОЦ \"Технологии искусственного интеллекта\" МГТ...       От 3 до 6 лет   \n",
       "5042  Чем ты будешь заниматься:  Принимать участие в...       От 3 до 6 лет   \n",
       "5087  Одноклассники — это крупнейшая развлекательная...       От 3 до 6 лет   \n",
       "5088  Одноклассники — это крупнейшая развлекательная...       От 3 до 6 лет   \n",
       "\n",
       "                  published_at                created_at  \\\n",
       "73    2023-04-13T12:50:37+0300  2023-04-13T12:50:37+0300   \n",
       "83    2023-04-13T12:48:01+0300  2023-04-13T12:48:01+0300   \n",
       "85    2023-04-14T13:52:42+0300  2023-04-14T13:52:42+0300   \n",
       "127   2023-04-15T09:35:11+0300  2023-04-15T09:35:11+0300   \n",
       "183   2023-04-11T19:19:35+0300  2023-04-11T19:19:35+0300   \n",
       "238   2023-04-04T12:48:11+0300  2023-04-04T12:48:11+0300   \n",
       "246   2023-04-04T12:48:15+0300  2023-04-04T12:48:15+0300   \n",
       "247   2023-04-03T07:14:11+0300  2023-04-03T07:14:11+0300   \n",
       "268   2023-04-04T15:32:37+0300  2023-04-04T15:32:37+0300   \n",
       "272   2023-04-03T09:48:51+0300  2023-04-03T09:48:51+0300   \n",
       "448   2023-04-15T09:35:11+0300  2023-04-15T09:35:11+0300   \n",
       "450   2023-04-15T09:35:10+0300  2023-04-15T09:35:10+0300   \n",
       "538   2023-03-29T18:13:32+0300  2023-03-29T18:13:32+0300   \n",
       "802   2023-03-31T11:11:39+0300  2023-03-31T11:11:39+0300   \n",
       "1220  2023-04-07T11:43:02+0300  2023-04-07T11:43:02+0300   \n",
       "1247  2023-04-05T10:00:04+0300  2023-04-05T10:00:04+0300   \n",
       "1481  2023-04-12T15:48:06+0300  2023-04-12T15:48:06+0300   \n",
       "1493  2023-04-14T09:41:30+0300  2023-04-14T09:41:30+0300   \n",
       "5042  2023-04-14T15:01:05+0300  2023-04-14T15:01:05+0300   \n",
       "5087  2023-03-28T11:38:56+0300  2023-03-28T11:38:56+0300   \n",
       "5088  2023-03-27T16:16:35+0300  2023-03-27T16:16:35+0300   \n",
       "\n",
       "                       alternate_url working_days working_time_intervals  \\\n",
       "73    https://hh.ru/vacancy/79255243           []                     []   \n",
       "83    https://hh.ru/vacancy/79255076           []                     []   \n",
       "85    https://hh.ru/vacancy/77330018           []                     []   \n",
       "127   https://hh.ru/vacancy/69146997           []                     []   \n",
       "183   https://hh.ru/vacancy/79177561           []                     []   \n",
       "238   https://hh.ru/vacancy/75566561           []                     []   \n",
       "246   https://hh.ru/vacancy/75566599           []                     []   \n",
       "247   https://hh.ru/vacancy/76693962           []                     []   \n",
       "268   https://hh.ru/vacancy/78856764           []                     []   \n",
       "272   https://hh.ru/vacancy/76703124           []                     []   \n",
       "448   https://hh.ru/vacancy/69027915           []                     []   \n",
       "450   https://hh.ru/vacancy/69027863           []                     []   \n",
       "538   https://hh.ru/vacancy/78691431           []                     []   \n",
       "802   https://hh.ru/vacancy/78758907           []                     []   \n",
       "1220  https://hh.ru/vacancy/79034595           []                     []   \n",
       "1247  https://hh.ru/vacancy/78625975           []                     []   \n",
       "1481  https://hh.ru/vacancy/78056289           []                     []   \n",
       "1493  https://hh.ru/vacancy/78331454           []                     []   \n",
       "5042  https://hh.ru/vacancy/79312517           []                     []   \n",
       "5087  https://hh.ru/vacancy/77495681           []                     []   \n",
       "5088  https://hh.ru/vacancy/77495682           []                     []   \n",
       "\n",
       "     working_time_modes  accept_temporary   employment.name  \\\n",
       "73                   []             False  Полная занятость   \n",
       "83                   []             False  Полная занятость   \n",
       "85                   []             False  Полная занятость   \n",
       "127                  []             False  Полная занятость   \n",
       "183                  []             False  Полная занятость   \n",
       "238                  []             False  Полная занятость   \n",
       "246                  []             False  Полная занятость   \n",
       "247                  []             False  Полная занятость   \n",
       "268                  []             False  Полная занятость   \n",
       "272                  []             False  Полная занятость   \n",
       "448                  []             False  Полная занятость   \n",
       "450                  []             False  Полная занятость   \n",
       "538                  []             False  Полная занятость   \n",
       "802                  []             False  Полная занятость   \n",
       "1220                 []             False  Полная занятость   \n",
       "1247                 []             False  Полная занятость   \n",
       "1481                 []             False  Полная занятость   \n",
       "1493                 []             False  Полная занятость   \n",
       "5042                 []             False  Полная занятость   \n",
       "5087                 []             False  Полная занятость   \n",
       "5088                 []             False  Полная занятость   \n",
       "\n",
       "           professional_roles_name  accept_incomplete_resumes  \\\n",
       "73        Программист, разработчик                      False   \n",
       "83        Программист, разработчик                      False   \n",
       "85                  DevOps-инженер                      False   \n",
       "127       Программист, разработчик                      False   \n",
       "183   BI-аналитик, аналитик данных                      False   \n",
       "238       Программист, разработчик                      False   \n",
       "246       Программист, разработчик                      False   \n",
       "247                     Архитектор                      False   \n",
       "268       Программист, разработчик                      False   \n",
       "272                     Архитектор                      False   \n",
       "448       Программист, разработчик                      False   \n",
       "450       Программист, разработчик                      False   \n",
       "538       Программист, разработчик                      False   \n",
       "802                 Дата-сайентист                      False   \n",
       "1220                      Аналитик                      False   \n",
       "1247                        Другое                      False   \n",
       "1481                      Аналитик                      False   \n",
       "1493                Дата-сайентист                      False   \n",
       "5042      Программист, разработчик                      False   \n",
       "5087                DevOps-инженер                      False   \n",
       "5088                DevOps-инженер                      False   \n",
       "\n",
       "         department.name        area.name  salary.from  salary.to  \\\n",
       "73                   NaN           Москва          NaN        NaN   \n",
       "83                   NaN  Санкт-Петербург          NaN        NaN   \n",
       "85                   NaN           Москва          NaN        NaN   \n",
       "127                   VK  Санкт-Петербург          NaN        NaN   \n",
       "183                  NaN  Санкт-Петербург          NaN        NaN   \n",
       "238                  NaN  Санкт-Петербург          NaN        NaN   \n",
       "246                  NaN           Москва          NaN        NaN   \n",
       "247                  NaN           Москва          NaN        NaN   \n",
       "268                  NaN           Москва          NaN        NaN   \n",
       "272                  NaN      Новосибирск          NaN        NaN   \n",
       "448    VK, Одноклассники  Санкт-Петербург          NaN        NaN   \n",
       "450    VK, Одноклассники           Москва          NaN        NaN   \n",
       "538                  NaN           Москва          NaN        NaN   \n",
       "802                  NaN           Москва          NaN        NaN   \n",
       "1220  Сбер для экспертов           Москва          NaN        NaN   \n",
       "1247                 NaN           Москва          NaN        NaN   \n",
       "1481            Сбер. IT           Москва          NaN        NaN   \n",
       "1493                 NaN           Москва          NaN        NaN   \n",
       "5042                 NaN           Москва          NaN        NaN   \n",
       "5087   VK, Одноклассники           Москва          NaN        NaN   \n",
       "5088   VK, Одноклассники  Санкт-Петербург          NaN        NaN   \n",
       "\n",
       "     salary.currency salary.gross type.name  \\\n",
       "73               NaN          NaN  Открытая   \n",
       "83               NaN          NaN  Открытая   \n",
       "85               NaN          NaN  Открытая   \n",
       "127              NaN          NaN  Открытая   \n",
       "183              NaN          NaN  Открытая   \n",
       "238              NaN          NaN  Открытая   \n",
       "246              NaN          NaN  Открытая   \n",
       "247              NaN          NaN  Открытая   \n",
       "268              NaN          NaN  Открытая   \n",
       "272              NaN          NaN  Открытая   \n",
       "448              NaN          NaN  Открытая   \n",
       "450              NaN          NaN  Открытая   \n",
       "538              NaN          NaN  Открытая   \n",
       "802              NaN          NaN  Открытая   \n",
       "1220             NaN          NaN  Открытая   \n",
       "1247             NaN          NaN  Открытая   \n",
       "1481             NaN          NaN  Открытая   \n",
       "1493             NaN          NaN  Открытая   \n",
       "5042             NaN          NaN  Открытая   \n",
       "5087             NaN          NaN  Открытая   \n",
       "5088             NaN          NaN  Открытая   \n",
       "\n",
       "                            employer.name          employer.alternate_url  \\\n",
       "73                                   Okko  https://hh.ru/employer/1375441   \n",
       "83                                   Okko  https://hh.ru/employer/1375441   \n",
       "85                           BAUM STORAGE  https://hh.ru/employer/5465724   \n",
       "127                                    VK    https://hh.ru/employer/15478   \n",
       "183                              Space307  https://hh.ru/employer/2913350   \n",
       "238                       RU-CENTER Group   https://hh.ru/employer/567049   \n",
       "246                       RU-CENTER Group   https://hh.ru/employer/567049   \n",
       "247      АЛРОСА Информационные технологии  https://hh.ru/employer/4418001   \n",
       "268                         ГКУ Инфогород  https://hh.ru/employer/2427329   \n",
       "272      АЛРОСА Информационные технологии  https://hh.ru/employer/4418001   \n",
       "448                                    VK    https://hh.ru/employer/15478   \n",
       "450                                    VK    https://hh.ru/employer/15478   \n",
       "538                               X5 Tech  https://hh.ru/employer/9352463   \n",
       "802                               X5 Tech  https://hh.ru/employer/9352463   \n",
       "1220                                 СБЕР     https://hh.ru/employer/3529   \n",
       "1247                               Rutube  https://hh.ru/employer/1440683   \n",
       "1481                                 СБЕР     https://hh.ru/employer/3529   \n",
       "1493                     Композиты России  https://hh.ru/employer/1175907   \n",
       "5042  Национальная система платежных карт  https://hh.ru/employer/1654251   \n",
       "5087                                   VK    https://hh.ru/employer/15478   \n",
       "5088                                   VK    https://hh.ru/employer/15478   \n",
       "\n",
       "                               employer.vacancies_url     address.city  \\\n",
       "73    https://api.hh.ru/vacancies?employer_id=1375441           Москва   \n",
       "83    https://api.hh.ru/vacancies?employer_id=1375441  Санкт-Петербург   \n",
       "85    https://api.hh.ru/vacancies?employer_id=5465724           Москва   \n",
       "127     https://api.hh.ru/vacancies?employer_id=15478  Санкт-Петербург   \n",
       "183   https://api.hh.ru/vacancies?employer_id=2913350  Санкт-Петербург   \n",
       "238    https://api.hh.ru/vacancies?employer_id=567049              NaN   \n",
       "246    https://api.hh.ru/vacancies?employer_id=567049              NaN   \n",
       "247   https://api.hh.ru/vacancies?employer_id=4418001           Москва   \n",
       "268   https://api.hh.ru/vacancies?employer_id=2427329              NaN   \n",
       "272   https://api.hh.ru/vacancies?employer_id=4418001           Москва   \n",
       "448     https://api.hh.ru/vacancies?employer_id=15478  Санкт-Петербург   \n",
       "450     https://api.hh.ru/vacancies?employer_id=15478           Москва   \n",
       "538   https://api.hh.ru/vacancies?employer_id=9352463           Москва   \n",
       "802   https://api.hh.ru/vacancies?employer_id=9352463              NaN   \n",
       "1220     https://api.hh.ru/vacancies?employer_id=3529           Москва   \n",
       "1247  https://api.hh.ru/vacancies?employer_id=1440683           Москва   \n",
       "1481     https://api.hh.ru/vacancies?employer_id=3529              NaN   \n",
       "1493  https://api.hh.ru/vacancies?employer_id=1175907           Москва   \n",
       "5042  https://api.hh.ru/vacancies?employer_id=1654251           Москва   \n",
       "5087    https://api.hh.ru/vacancies?employer_id=15478              NaN   \n",
       "5088    https://api.hh.ru/vacancies?employer_id=15478              NaN   \n",
       "\n",
       "                 address.street  address.building  address.lat  address.lng  \\\n",
       "73            Рочдельская улица             15с13    55.755991    37.565120   \n",
       "83              улица Савушкина              126Б    59.985926    30.202743   \n",
       "85    Арбатско-Покровская линия  метро Бауманская    55.772411    37.679044   \n",
       "127            Херсонская улица             12-14    59.928532    30.381050   \n",
       "183            улица Кропоткина                 1    59.959251    30.311583   \n",
       "238                         NaN               NaN          NaN          NaN   \n",
       "246                         NaN               NaN          NaN          NaN   \n",
       "247      Озерковская набережная                30    55.738014    37.637991   \n",
       "268                         NaN               NaN          NaN          NaN   \n",
       "272      Озерковская набережная                30    55.738014    37.637991   \n",
       "448            Херсонская улица             12-14    59.928532    30.381050   \n",
       "450      Ленинградский проспект             39с79    55.796931    37.537847   \n",
       "538         улица Тимура Фрунзе             11с13    55.734719    37.588341   \n",
       "802                         NaN               NaN          NaN          NaN   \n",
       "1220       Кутузовский проспект              32к1    55.741404    37.531559   \n",
       "1247     Ленинградский проспект              72к4    55.805250    37.519863   \n",
       "1481                        NaN               NaN          NaN          NaN   \n",
       "1493  Арбатско-Покровская линия              None    55.772406    37.679035   \n",
       "5042    Большая Татарская улица               11а    55.741115    37.633841   \n",
       "5087                        NaN               NaN          NaN          NaN   \n",
       "5088                        NaN               NaN          NaN          NaN   \n",
       "\n",
       "                                            address.raw  \\\n",
       "73                     Москва, Рочдельская улица, 15с13   \n",
       "83               Санкт-Петербург, улица Савушкина, 126Б   \n",
       "85    Москва, Арбатско-Покровская линия, метро Баума...   \n",
       "127            Санкт-Петербург, Херсонская улица, 12-14   \n",
       "183                Санкт-Петербург, улица Кропоткина, 1   \n",
       "238                                                 NaN   \n",
       "246                                                 NaN   \n",
       "247                  Москва, Озерковская набережная, 30   \n",
       "268                                                 NaN   \n",
       "272                  Москва, Озерковская набережная, 30   \n",
       "448            Санкт-Петербург, Херсонская улица, 12-14   \n",
       "450               Москва, Ленинградский проспект, 39с79   \n",
       "538                  Москва, улица Тимура Фрунзе, 11с13   \n",
       "802                                                 NaN   \n",
       "1220                 Москва, Кутузовский проспект, 32к1   \n",
       "1247               Москва, Ленинградский проспект, 72к4   \n",
       "1481                                                NaN   \n",
       "1493                  Москва, Арбатско-Покровская линия   \n",
       "5042               Москва, Большая Татарская улица, 11а   \n",
       "5087                                                NaN   \n",
       "5088                                                NaN   \n",
       "\n",
       "     address.metro.station_name     address.metro.line_name  \\\n",
       "73                  Баррикадная  Таганско-Краснопресненская   \n",
       "83                      Беговая     Невско-Василеостровская   \n",
       "85                   Бауманская         Арбатско-Покровская   \n",
       "127                         NaN                         NaN   \n",
       "183                 Горьковская     Московско-Петроградская   \n",
       "238                         NaN                         NaN   \n",
       "246                         NaN                         NaN   \n",
       "247               Новокузнецкая              Замоскворецкая   \n",
       "268                         NaN                         NaN   \n",
       "272               Новокузнецкая              Замоскворецкая   \n",
       "448                         NaN                         NaN   \n",
       "450                    Аэропорт              Замоскворецкая   \n",
       "538               Парк культуры                   Кольцевая   \n",
       "802                         NaN                         NaN   \n",
       "1220                Кутузовская                   Филевская   \n",
       "1247                   Аэропорт              Замоскворецкая   \n",
       "1481                        NaN                         NaN   \n",
       "1493                 Бауманская         Арбатско-Покровская   \n",
       "5042              Новокузнецкая              Замоскворецкая   \n",
       "5087                        NaN                         NaN   \n",
       "5088                        NaN                         NaN   \n",
       "\n",
       "     address.metro.station_id address.metro.line_id  address.metro.lat  \\\n",
       "73                       7.16                     7          55.760793   \n",
       "83                     16.604                    16          59.987230   \n",
       "85                       3.17                     3          55.772405   \n",
       "127                       NaN                   NaN                NaN   \n",
       "183                    15.216                    15          59.956112   \n",
       "238                       NaN                   NaN                NaN   \n",
       "246                       NaN                   NaN                NaN   \n",
       "247                      2.89                     2          55.742391   \n",
       "268                       NaN                   NaN                NaN   \n",
       "272                      2.89                     2          55.742391   \n",
       "448                       NaN                   NaN                NaN   \n",
       "450                      2.12                     2          55.800441   \n",
       "538                     5.104                     5          55.735221   \n",
       "802                       NaN                   NaN                NaN   \n",
       "1220                     4.73                     4          55.740544   \n",
       "1247                     2.12                     2          55.800441   \n",
       "1481                      NaN                   NaN                NaN   \n",
       "1493                     3.17                     3          55.772405   \n",
       "5042                     2.89                     2          55.742391   \n",
       "5087                      NaN                   NaN                NaN   \n",
       "5088                      NaN                   NaN                NaN   \n",
       "\n",
       "      address.metro.lng  remote  office  junior  middle  senior   lead  \\\n",
       "73            37.581242   False    True   False   False   False  False   \n",
       "83            30.202470   False    True   False   False   False  False   \n",
       "85            37.679040   False    True   False   False   False  False   \n",
       "127                 NaN   False    True   False   False   False  False   \n",
       "183           30.318890   False    True   False   False   False  False   \n",
       "238                 NaN   False    True   False   False   False  False   \n",
       "246                 NaN   False    True   False   False   False  False   \n",
       "247           37.629280   False    True   False   False   False  False   \n",
       "268                 NaN   False    True   False   False   False  False   \n",
       "272           37.629280   False    True   False   False   False  False   \n",
       "448                 NaN   False    True   False   False   False  False   \n",
       "450           37.530477   False    True   False   False   False  False   \n",
       "538           37.593095    True   False   False   False   False  False   \n",
       "802                 NaN   False    True   False    True   False  False   \n",
       "1220          37.534100   False    True   False   False   False  False   \n",
       "1247          37.530477   False    True   False   False   False  False   \n",
       "1481                NaN   False    True   False   False   False  False   \n",
       "1493          37.679040   False    True   False    True   False  False   \n",
       "5042          37.629280   False    True   False   False   False  False   \n",
       "5087                NaN    True   False   False   False   False  False   \n",
       "5088                NaN    True   False   False   False   False  False   \n",
       "\n",
       "      salary_median  salary_net  \\\n",
       "73              NaN         NaN   \n",
       "83              NaN         NaN   \n",
       "85              NaN         NaN   \n",
       "127             NaN         NaN   \n",
       "183             NaN         NaN   \n",
       "238             NaN         NaN   \n",
       "246             NaN         NaN   \n",
       "247             NaN         NaN   \n",
       "268             NaN         NaN   \n",
       "272             NaN         NaN   \n",
       "448             NaN         NaN   \n",
       "450             NaN         NaN   \n",
       "538             NaN         NaN   \n",
       "802             NaN         NaN   \n",
       "1220            NaN         NaN   \n",
       "1247            NaN         NaN   \n",
       "1481            NaN         NaN   \n",
       "1493            NaN         NaN   \n",
       "5042            NaN         NaN   \n",
       "5087            NaN         NaN   \n",
       "5088            NaN         NaN   \n",
       "\n",
       "                               description_preprocessed  role_clusters  \n",
       "73    ab эксперимент ключевой инструмент принятие ре...              1  \n",
       "83    ab эксперимент ключевой инструмент принятие ре...              1  \n",
       "85    компания baum 2010 год специализироваться сист...              9  \n",
       "127   vk видео самый масштабный видеоплатформа рунет...              8  \n",
       "183   space307 разрабатывать международный торговый ...              5  \n",
       "238   команда который собирать готовить анализироват...              9  \n",
       "246   команда который собирать готовить анализироват...              9  \n",
       "247   быть заниматься сбор обработка парсинга сырой ...              9  \n",
       "268   департамент информационный технология город мо...              9  \n",
       "272   быть заниматься сбор обработка парсинга сырой ...              9  \n",
       "448   наш платформа работа данные построить проверит...              9  \n",
       "450   наш платформа работа данные построить проверит...              9  \n",
       "538   команда etl x5 технология открыть позиция dwh ...              9  \n",
       "802   x5 group лидер офлайн онлайнрынок продукт пита...              1  \n",
       "1220  наш команда работать корпоративный аналитическ...              9  \n",
       "1247  rutube крупный российский видеохостинг собрать...              1  \n",
       "1481  sber ai это rndподразделение который создавать...              1  \n",
       "1493  ноц технология искусственный интеллект мгту ба...              1  \n",
       "5042  быть заниматься принимать участие развитие кор...              8  \n",
       "5087  одноклассник это крупный развлекательный социа...              9  \n",
       "5088  одноклассник это крупный развлекательный социа...              9  "
      ]
     },
     "execution_count": 131,
     "metadata": {},
     "output_type": "execute_result"
    }
   ],
   "source": [
    "df.loc[\n",
    "    df[\"description\"].str.contains(\"kafka\")]"
   ]
  },
  {
   "cell_type": "code",
   "execution_count": 97,
   "id": "8a57769f",
   "metadata": {},
   "outputs": [
    {
     "name": "stdout",
     "output_type": "stream",
     "text": [
      "[('работа', 20587), ('опыт', 13738), ('данные', 13118), ('компания', 7899), ('знание', 7624), ('анализ', 7110), ('разработка', 7106), ('команда', 7070), ('требование', 5691), ('система', 5494), ('задача', 5204), ('наш', 5029), ('проект', 5000), ('работать', 4373), ('возможность', 4307), ('год', 4289), ('корпоративный', 4042), ('продукт', 3927), ('развитие', 3828), ('процесс', 3808), ('умение', 3718), ('решение', 3705), ('аналитический', 3621), ('офис', 3598), ('который', 3560), ('аналитик', 3416), ('обучение', 3393), ('условие', 3295), ('участие', 3176), ('уровень', 3154), ('sql', 2989), ('новый', 2951), ('подготовка', 2947), ('навык', 2937), ('высокий', 2934), ('технический', 2750), ('сотрудник', 2749), ('день', 2716), ('результат', 2652), ('модель', 2619), ('график', 2563), ('понимание', 2550), ('бизнес', 2495), ('обязанность', 2338), ('отчётность', 2336), ('клиент', 2330), ('профессиональный', 2316), ('рынок', 2301), ('пользователь', 2296), ('отчёт', 2293), ('предлагать', 2225), ('and', 2198), ('образование', 2196), ('аналитика', 2193), ('рф', 2188), ('дмс', 2184), ('продажа', 2176), ('формирование', 2169), ('база', 2152), ('data', 2148), ('excel', 2133), ('рабочий', 2117), ('заработный', 2103), ('плата', 2098), ('информация', 2086), ('свой', 2078), ('рост', 2056), ('бизнеспроцесс', 2002), ('сбор', 1946), ('программа', 1935), ('тк', 1924), ('крупный', 1899), ('заказчик', 1885), ('управление', 1855), ('инструмент', 1845), ('поддержка', 1801), ('python', 1799), ('сервис', 1786), ('оформление', 1782), ('заниматься', 1782), ('качество', 1770), ('область', 1767), ('больший', 1761), ('построение', 1755), ('искать', 1751), ('основа', 1739), ('финансовый', 1733), ('хороший', 1718), ('запрос', 1692), ('документация', 1672), ('создание', 1668), ('bi', 1619), ('это', 1618), ('другой', 1600), ('проведение', 1600), ('обработка', 1584), ('внутренний', 1565), ('россия', 1536), ('взаимодействие', 1535), ('скидка', 1521)]\n"
     ]
    }
   ],
   "source": [
    "# Выведем топ-50 слов, встречающихся в описаниях\n",
    "import nltk\n",
    "from nltk.tokenize import word_tokenize\n",
    "from nltk.probability import FreqDist\n",
    "\n",
    "# объединяем все описания в одну строку\n",
    "text = ' '.join(df['description_preprocessed'].astype(str).tolist())\n",
    "\n",
    "# токенизируем текст на слова\n",
    "tokens = word_tokenize(text)\n",
    "\n",
    "# создаем частотный словарь\n",
    "freq_dist = FreqDist(tokens)\n",
    "\n",
    "# выводим топ-50 слов\n",
    "top_words = freq_dist.most_common(100)\n",
    "print(top_words)\n"
   ]
  },
  {
   "attachments": {},
   "cell_type": "markdown",
   "id": "774b67ca",
   "metadata": {},
   "source": [
    "Зарплаты указаны в 20% вакансий. Попробуем предсказать зарплаты методом машиннного обучения. Для этого нам необходимо заполнить пропущенные значения вакансий, перевести все зарплаты в рубли и вычесть налог там, где вознаграждение указано гросс "
   ]
  },
  {
   "cell_type": "code",
   "execution_count": null,
   "metadata": {},
   "outputs": [],
   "source": [
    "df.head(3)"
   ]
  },
  {
   "cell_type": "code",
   "execution_count": null,
   "id": "134a7d49",
   "metadata": {},
   "outputs": [],
   "source": [
    "# среднее значение столбцов salary.from и salary.to\n",
    "mean_salary = (df['salary.from'] + df['salary.to']) / 2\n",
    "\n",
    "# умножаем на курс валют (по данным ЦБ РФ\n",
    "# https://www.cbr.ru/currency_base/daily/)\n",
    "# и находим медианную зарплату\n",
    "\n",
    "currency_coef = df['salary.currency'].map({'EUR': 89.5, 'USD': 81.6, 'RUR': 1})\n",
    "mean_salary = mean_salary * currency_coef\n",
    "\n",
    "# вычетаем подоходный налог, если значение в столбце salary.gross равно True\n",
    "mean_salary = np.where(df['salary.gross'], mean_salary * 0.87, mean_salary)\n",
    "\n",
    "# преобразуем numpy массив обратно в объект pandas DataFrame\n",
    "mean_salary = pd.DataFrame(mean_salary, columns=['salary.temp'])\n",
    "\n",
    "# заполняем пропущенные значения медианой\n",
    "median_salary = mean_salary.median()\n",
    "mean_salary = mean_salary.fillna(median_salary)\n",
    "\n",
    "# создаем столбец salary.net\n",
    "df['salary.net'] = mean_salary"
   ]
  },
  {
   "cell_type": "code",
   "execution_count": null,
   "id": "d1c63835",
   "metadata": {},
   "outputs": [],
   "source": [
    "df.head()"
   ]
  },
  {
   "cell_type": "code",
   "execution_count": null,
   "metadata": {},
   "outputs": [],
   "source": []
  },
  {
   "attachments": {},
   "cell_type": "markdown",
   "id": "ead0e83e",
   "metadata": {},
   "source": []
  },
  {
   "cell_type": "code",
   "execution_count": null,
   "id": "b9735028",
   "metadata": {},
   "outputs": [],
   "source": [
    "\n"
   ]
  },
  {
   "cell_type": "code",
   "execution_count": null,
   "id": "4302823a",
   "metadata": {},
   "outputs": [],
   "source": [
    "d_grouped"
   ]
  },
  {
   "cell_type": "code",
   "execution_count": null,
   "id": "4fb95a51",
   "metadata": {},
   "outputs": [],
   "source": [
    "# def get_description_from_api(vacancy_id):\n",
    "#     \"\"\"\n",
    "#     Получает описание вакансии по её id через API hh.ru.\n",
    "    \n",
    "#     :param vacancy_id: id вакансии.\n",
    "#     :return: Описание вакансии.\n",
    "#     \"\"\"\n",
    "#     # Задаем параметры запроса.\n",
    "#     params = {\n",
    "#         'host': 'https://api.hh.ru',\n",
    "#         'user_agent': 'api-test-agent/1.0',\n",
    "#         'headers': {\n",
    "#             'User-Agent': 'api-test-agent/1.0'\n",
    "#         }\n",
    "#     }\n",
    "    \n",
    "#     # Формируем URL запроса.\n",
    "#     url = f\"{params['host']}/vacancies/{vacancy_id}\"\n",
    "    \n",
    "#     # Отправляем запрос к API.\n",
    "#     response = requests.get(url, headers=params['headers'])\n",
    "    \n",
    "#     # Обрабатываем результат запроса.\n",
    "#     if response.status_code == 200:\n",
    "#         vacancy_data = response.json()\n",
    "#         description = vacancy_data['description']\n",
    "#         return description\n",
    "#     else:\n",
    "#         return None\n",
    "\n",
    "\n",
    "# def add_description_to_dataframe(df):\n",
    "#     \"\"\"\n",
    "#     Добавляет описание вакансии в датафрейм.\n",
    "    \n",
    "#     :param df: Датафрейм с вакансиями.\n",
    "#     :return: Датафрейм с добавленными описаниями вакансий.\n",
    "#     \"\"\"\n",
    "#     # Создаем новый столбец для описаний вакансий.\n",
    "#     df['description'] = None\n",
    "    \n",
    "#     # Проходим по всем вакансиям в датафрейме.\n",
    "#     for index, row in df.iterrows():\n",
    "#         # Получаем id вакансии.\n",
    "#         vacancy_id = row['id']\n",
    "        \n",
    "#         # Получаем описание вакансии.\n",
    "#         description = get_description_from_api(vacancy_id)\n",
    "        \n",
    "#         # Записываем описание вакансии в датафрейм.\n",
    "#         df.at[index, 'description'] = description\n",
    "    \n",
    "#     return df"
   ]
  },
  {
   "cell_type": "code",
   "execution_count": null,
   "id": "2a8d601b",
   "metadata": {},
   "outputs": [],
   "source": [
    "# # Получаем описания для каждой вакансии датафрейма, записываем результат\n",
    "\n",
    "# def get_description(vacancy_id):\n",
    "#     url = f'https://api.hh.ru/vacancies/{vacancy_id}'\n",
    "#     headers = {'User-Agent': 'Mozilla/5.0'}\n",
    "#     description = \"\"\n",
    "#     while True:\n",
    "#         try:\n",
    "#             response = requests.get(url, headers=headers)\n",
    "#             if response.ok:\n",
    "#                 data = response.json()\n",
    "#                 description = data['description']\n",
    "#             break\n",
    "#         except requests.exceptions.RequestException:\n",
    "#             print(f\"Ошибка получения описания вакансии {vacancy_id}. Повтор запроса через 5 секунд.\")\n",
    "#             time.sleep(5)\n",
    "#             continue\n",
    "#     return description\n",
    "\n",
    "# # Применяем функцию для каждой вакансии в датафрейме и записываем результат в новый столбец\n",
    "# df['description'] = df['id'].apply(get_description)\n"
   ]
  },
  {
   "cell_type": "code",
   "execution_count": null,
   "id": "a75d032f",
   "metadata": {},
   "outputs": [],
   "source": [
    "# # Проверяем, что все значения в столбце id являются строками\n",
    "# print(df['id'].apply(type).value_counts())\n",
    "\n",
    "# # Преобразуем все значения в столбце id в строковый тип\n",
    "# df['id'] = df['id'].astype(str)\n",
    "\n",
    "# Выбираем только уникальные идентификаторы вакансий\n",
    "unique_ids = df['id'].unique()\n",
    "print(len(unique_ids))\n",
    "\n",
    "# Проверяем, что количество уникальных идентификаторов вакансий совпадает с общим количеством вакансий в датафрейме\n",
    "print(len(unique_ids) == len(df))\n"
   ]
  },
  {
   "cell_type": "code",
   "execution_count": null,
   "id": "1193e105",
   "metadata": {},
   "outputs": [],
   "source": [
    "# # Выбираем первые 10 вакансий и выводим их описание\n",
    "# for index, row in df.head(10).iterrows():\n",
    "#     print(get_description(row['id']))\n"
   ]
  },
  {
   "cell_type": "code",
   "execution_count": null,
   "metadata": {},
   "outputs": [],
   "source": [
    "# get_description(79110745)"
   ]
  },
  {
   "cell_type": "code",
   "execution_count": null,
   "id": "ae5c2f72",
   "metadata": {},
   "outputs": [],
   "source": [
    "# def get_description(vacancy_id):\n",
    "#     url = f'https://api.hh.ru/vacancies/{vacancy_id}'\n",
    "#     headers = {'User-Agent': 'Mozilla/5.0'}\n",
    "#     description = \"\"\n",
    "#     while True:\n",
    "#         try:\n",
    "#             response = requests.get(url, headers=headers)\n",
    "#             if response.ok:\n",
    "#                 data = response.json()\n",
    "#                 description = data['description']\n",
    "#                 break\n",
    "#         except requests.exceptions.RequestException:\n",
    "#             print(f\"Ошибка получения описания вакансии {vacancy_id}. Повтор запроса через 5 секунд.\")\n",
    "#             time.sleep(5)\n",
    "#             continue\n",
    "#     return description\n"
   ]
  },
  {
   "cell_type": "code",
   "execution_count": null,
   "id": "356a2777",
   "metadata": {},
   "outputs": [],
   "source": [
    "# df.description.unique()"
   ]
  },
  {
   "cell_type": "code",
   "execution_count": null,
   "id": "6540a936",
   "metadata": {},
   "outputs": [],
   "source": [
    "df['type.name'].unique()"
   ]
  },
  {
   "cell_type": "code",
   "execution_count": null,
   "id": "368f6cfb",
   "metadata": {},
   "outputs": [],
   "source": [
    "df.loc[df['type.name'] == 'Рекламная']"
   ]
  },
  {
   "cell_type": "code",
   "execution_count": null,
   "id": "154fb731",
   "metadata": {},
   "outputs": [],
   "source": [
    "df.info()"
   ]
  },
  {
   "cell_type": "code",
   "execution_count": null,
   "id": "fcf7bebe",
   "metadata": {},
   "outputs": [],
   "source": [
    "# # Напишем функцию, которая переведет все столбцы датасета в numeric\n",
    "# # Если это столбец с датой, переводим в формат datetime\n",
    "\n",
    "# def convert_columns(df):\n",
    "#     for col in df.columns:\n",
    "#         if 'date' in col.lower():\n",
    "#             try:\n",
    "#                 df[col] = pd.to_datetime(df[col])\n",
    "#             except:\n",
    "#                 pass\n",
    "#         else:\n",
    "#             try:\n",
    "#                 df[col] = df[col].astype(float)\n",
    "#             except:\n",
    "#                 pass\n",
    "#     return df"
   ]
  },
  {
   "cell_type": "code",
   "execution_count": null,
   "id": "97a00ad6",
   "metadata": {},
   "outputs": [],
   "source": [
    "# df = convert_columns(df)"
   ]
  },
  {
   "cell_type": "code",
   "execution_count": null,
   "id": "b0213600",
   "metadata": {},
   "outputs": [],
   "source": [
    "# Уберем теги из описаний вакансий при помощи ранее созданной функции\n",
    "\n",
    "df[['description']] = df[['description']].applymap(remove_tags)"
   ]
  },
  {
   "cell_type": "code",
   "execution_count": null,
   "id": "62b3c93b",
   "metadata": {},
   "outputs": [],
   "source": [
    "numeric_cols = df.select_dtypes(include=[np.number]).columns.tolist()\n",
    "categorical_cols = df.select_dtypes(include=['object']).columns.tolist()\n",
    "print(f'Количество цифровых признаков -- {len(numeric_cols)}')\n",
    "print(f'Цифровые признаки: {numeric_cols}')\n",
    "print(f'Количество строковых признаков -- {len(categorical_cols)}')\n",
    "print(f'Строковые признаки: {categorical_cols}')"
   ]
  },
  {
   "cell_type": "code",
   "execution_count": null,
   "id": "bd4f2596",
   "metadata": {},
   "outputs": [],
   "source": [
    "fig, ax = plt.subplots(figsize=(10, 8))\n",
    "colours = ['#993366', '#FFFF00']\n",
    "sns.heatmap(df.isnull(), cmap=sns.color_palette(colours), ax=ax)\n",
    "# Decorations\n",
    "plt.title('Матрица пропущенных значений набора данных', fontsize=12)\n",
    "plt.xticks(fontsize=10)\n",
    "plt.yticks(fontsize=10)\n",
    "plt.show()\n"
   ]
  },
  {
   "cell_type": "code",
   "execution_count": null,
   "id": "645c378d",
   "metadata": {},
   "outputs": [],
   "source": [
    "df.describe()\n"
   ]
  },
  {
   "attachments": {},
   "cell_type": "markdown",
   "id": "03c67687",
   "metadata": {},
   "source": [
    "Кластеризация текстовых данных - это сложная задача машинного обучения, но можно использовать различные методы для ее решения. Вот несколько подходов:\n",
    "\n",
    "1.Кластеризация на основе слов: вы можете использовать методы машинного обучения, такие как K-средних или DBSCAN, чтобы кластеризовать описания вакансий на основе слов в тексте. В этом случае вам нужно будет создать матрицу признаков, используя методы векторизации, такие как TF-IDF или Word2Vec, чтобы преобразовать текст в числовые значения. Затем можно использовать эти числа в качестве входных данных для алгоритма кластеризации.\n",
    "\n",
    "2.Кластеризация на основе тем: другой подход - использовать тематическое моделирование для кластеризации описаний вакансий на основе тем, которые встречаются в тексте. Например, можно использовать методы LDA (Latent Dirichlet Allocation) или NMF (Non-Negative Matrix Factorization), чтобы найти темы, связанные с определенными профессиональными навыками или областями. Затем можно кластеризовать описания вакансий на основе этих тем.\n",
    "\n",
    "3.Кластеризация на основе эмбеддингов: еще один подход - использовать предварительно обученные модели эмбеддингов (например, Word2Vec или GloVe), чтобы преобразовать текст в числовые векторы, представляющие значения слов. Затем можно использовать алгоритмы кластеризации, такие как DBSCAN или AgglomerativeClustering, чтобы кластеризовать описания вакансий на основе этих эмбеддингов.\n",
    "\n",
    "Какой из этих подходов выбрать зависит от вашей задачи и доступных ресурсов. В любом случае, для успешной кластеризации необходимо иметь достаточно большой и разнообразный набор данных.\n",
    "\n",
    "Воспользуемся Word2Vec:"
   ]
  },
  {
   "cell_type": "code",
   "execution_count": null,
   "id": "ca20aeb8",
   "metadata": {},
   "outputs": [],
   "source": [
    "import gensim\n",
    "from gensim.models import Word2Vec"
   ]
  },
  {
   "cell_type": "code",
   "execution_count": null,
   "id": "49e825d0",
   "metadata": {},
   "outputs": [],
   "source": [
    "# Создадим список списков слов для обучения модели Word2Vec. Для этого необходимо разбить каждое предложение \n",
    "# на список отдельных слов и добавить каждый список в основной список.\n",
    "\n",
    "sentences = df[\"snippet.requirement\"].apply(lambda x: x.split() if x else [])"
   ]
  },
  {
   "cell_type": "code",
   "execution_count": null,
   "id": "afd4830b",
   "metadata": {},
   "outputs": [],
   "source": [
    "model = Word2Vec(sentences, vector_size=300, window=5, min_count=1, workers=4)\n"
   ]
  },
  {
   "cell_type": "code",
   "execution_count": null,
   "id": "39753730",
   "metadata": {},
   "outputs": [],
   "source": [
    "vectors = df['snippet.requirement'].apply(lambda x: model.wv[x.split()]).tolist()"
   ]
  },
  {
   "cell_type": "code",
   "execution_count": null,
   "id": "21b01f37",
   "metadata": {},
   "outputs": [],
   "source": [
    "df['snippet.requirement'].isna().sum()"
   ]
  },
  {
   "cell_type": "code",
   "execution_count": null,
   "id": "6c120973",
   "metadata": {},
   "outputs": [],
   "source": [
    "df.shape"
   ]
  },
  {
   "cell_type": "code",
   "execution_count": null,
   "id": "6c4732f9",
   "metadata": {},
   "outputs": [],
   "source": [
    "df = df.dropna(subset=['snippet.requirement'])"
   ]
  },
  {
   "cell_type": "code",
   "execution_count": null,
   "id": "926fd3c9",
   "metadata": {},
   "outputs": [],
   "source": [
    "df.shape"
   ]
  },
  {
   "cell_type": "code",
   "execution_count": null,
   "id": "04a3bd9a",
   "metadata": {},
   "outputs": [],
   "source": [
    "import numpy as np\n",
    "vectors = np.array(df['snippet.requirement'].apply(lambda x: model.wv[x.split()]).tolist())\n"
   ]
  },
  {
   "attachments": {},
   "cell_type": "markdown",
   "id": "92db1af2",
   "metadata": {},
   "source": [
    "Для кластеризации векторов описаний вакансий можно использовать алгоритм кластеризации KMeans, который является одним из наиболее распространенных методов машинного обучения для кластеризации данных."
   ]
  },
  {
   "cell_type": "code",
   "execution_count": null,
   "id": "5084f744",
   "metadata": {},
   "outputs": [],
   "source": [
    "from sklearn.cluster import KMeans\n",
    "\n",
    "# Выберем количество кластеров\n",
    "num_clusters = 10\n",
    "\n",
    "# Инициализируем kmeans\n",
    "kmeans = KMeans(n_clusters=num_clusters, init='k-means++', max_iter=100)\n",
    "\n",
    "# Обучаем kmeans на наших векторах\n",
    "X = vectors\n",
    "kmeans.fit(X)\n",
    "\n",
    "# Получаем метки кластеров для наших векторов\n",
    "cluster_labels = kmeans.labels_\n"
   ]
  },
  {
   "cell_type": "code",
   "execution_count": null,
   "id": "4e8fad8a",
   "metadata": {},
   "outputs": [],
   "source": [
    "# Ошибка выше происходит из-за того, что массив содержит векторы разной длины\n",
    "# Определим максимальную длину вектора среди всех векторов в списке:\n",
    "max_len = max(len(v) for v in vectors)\n",
    "\n",
    "# Добавим недостающие элементы в конец каждого вектора, заполнив их нулями:\n",
    "for i, v in enumerate(vectors):\n",
    "    vectors[i] = np.pad(v, (0, max_len - len(v)), 'constant')"
   ]
  }
 ],
 "metadata": {
  "kernelspec": {
   "display_name": "Python 3 (ipykernel)",
   "language": "python",
   "name": "python3"
  },
  "language_info": {
   "codemirror_mode": {
    "name": "ipython",
    "version": 3
   },
   "file_extension": ".py",
   "mimetype": "text/x-python",
   "name": "python",
   "nbconvert_exporter": "python",
   "pygments_lexer": "ipython3",
   "version": "3.9.16"
  }
 },
 "nbformat": 4,
 "nbformat_minor": 5
}
